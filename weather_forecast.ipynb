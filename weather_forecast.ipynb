{
 "cells": [
  {
   "cell_type": "markdown",
   "metadata": {},
   "source": [
    "## Đồ Án Cuối Kỳ Nhập Môn Khoa Học Dữ Liệu"
   ]
  },
  {
   "cell_type": "markdown",
   "metadata": {},
   "source": [
    "### Chủ đề: Dự đoán độ ẩm tương đối từ những thông số thời tiết khác như nhiệt độ, điểm sương, áp suất không khí, ..."
   ]
  },
  {
   "cell_type": "markdown",
   "metadata": {},
   "source": [
    "### Thông tin nhóm 11:\n",
    "1. Nguyễn Văn Hậu - 18120359\n",
    "2. Nguyễn Tấn Thìn - 18120085"
   ]
  },
  {
   "cell_type": "markdown",
   "metadata": {},
   "source": [
    "### Nội dung file notebook:\n",
    "1. Thu thập dữ liệu\n",
    "2. Khám phá dữ liệu (để đưa ra câu hỏi)\n",
    "3. Tách tập, tiền xử lý và khám phá dữ liệu\n",
    "4. Tiền xử lý và mô hình hóa dữ liệu"
   ]
  },
  {
   "cell_type": "markdown",
   "metadata": {},
   "source": [
    "## 1. Thu thập dữ liệu"
   ]
  },
  {
   "cell_type": "markdown",
   "metadata": {},
   "source": [
    "#### Tổng quan về Visual Crossing Weather API\n",
    "- Website: `https://www.visualcrossing.com/weather-api`\n",
    "- Documents: `https://www.visualcrossing.com/resources/documentation/weather-api/weather-api-documentation/#timeline`\n",
    "- API cung cấp dữ liệu thời tiết gồm nhiệt độ, áp suất, ... trong quá khứ giữa 2 khoảng thời gian cho trước tại một địa điểm xác định và có thể có thêm thông tin dự báo thời tiết (nhưng ta sẽ không lấy thông tin này)\n",
    "- Cần tạo một tài khoản để được cung cấp API key\n",
    "- Mỗi API key miễn phí bị giới hạn chỉ được thu thập **tối đa 1000** kết quả trả về trong một ngày"
   ]
  },
  {
   "cell_type": "markdown",
   "metadata": {},
   "source": [
    "#### Cú pháp API\n",
    "`https://weather.visualcrossing.com/VisualCrossingWebServices/rest/services/timeline/[Location]/[Date1]/[Date2]?key=Your_API_Key`\n",
    "với:\n",
    "- `Location` là địa điểm cần lấy thông tin thời tiết\n",
    "- `Date1` là thời gian bắt đầu\n",
    "- `Date2` là thời gian kết thúc\n",
    "- `Your_API_Key` là api key cung cấp cho mỗi tài khoản đăng kí"
   ]
  },
  {
   "cell_type": "markdown",
   "metadata": {},
   "source": [
    "#### Cách thu thập data\n",
    "- Chúng ta tiến hành thu thập dữ liệu thời tiết trong quá khứ theo từng ngày trong thời gian từ năm 2017 đến năm 2020, cụ thể là từ **1/1/2017** đến **31/12/2020**\n",
    "- Vì giới hạn mỗi API key chỉ được thu thập **tối đa 1000** kết quả một ngày nên ta sẽ dùng 2 API key, mỗi API key tương ứng thu thập dữ liệu năm 2017-2018 và năm 2019-2020"
   ]
  },
  {
   "cell_type": "markdown",
   "metadata": {},
   "source": [
    "### Import các thư viện"
   ]
  },
  {
   "cell_type": "code",
   "execution_count": 1,
   "metadata": {},
   "outputs": [],
   "source": [
    "%matplotlib inline\n",
    "import requests\n",
    "import json\n",
    "import datetime as dt\n",
    "\n",
    "import numpy as np\n",
    "import pandas as pd\n",
    "import matplotlib.pyplot as plt\n",
    "import seaborn as sns\n",
    "\n",
    "from sklearn.model_selection import train_test_split\n",
    "from sklearn.preprocessing import OneHotEncoder, StandardScaler\n",
    "from sklearn.impute import SimpleImputer\n",
    "from sklearn.base import BaseEstimator, TransformerMixin\n",
    "from sklearn.pipeline import Pipeline, make_pipeline\n",
    "from sklearn.compose import ColumnTransformer, make_column_transformer\n",
    "from sklearn.preprocessing import FunctionTransformer\n",
    "from sklearn.neural_network import MLPClassifier\n",
    "from sklearn.neural_network import MLPRegressor\n",
    "from sklearn import set_config\n",
    "set_config(display='diagram') # Để trực quan hóa pipeline"
   ]
  },
  {
   "cell_type": "markdown",
   "metadata": {},
   "source": [
    "### Chuẩn bị các hàm cần thiết"
   ]
  },
  {
   "cell_type": "markdown",
   "metadata": {},
   "source": [
    "Hàm thu thập data giữa 2 ngày"
   ]
  },
  {
   "cell_type": "code",
   "execution_count": 2,
   "metadata": {},
   "outputs": [],
   "source": [
    "def collect_data(start_date, end_date, api_key):\n",
    "    url = f'https://weather.visualcrossing.com/VisualCrossingWebServices/rest/services/timeline/Ho%20Chi%20Minh/{start_date}/{end_date}?unitGroup=metric&key={api_key}&include=obs'\n",
    "    weather_data = []\n",
    "    success = False\n",
    "    while success == False:\n",
    "        print(f\"GET: {url}\")\n",
    "        r = requests.get(url)\n",
    "        if r.ok == True:\n",
    "            # lấy kết quả json\n",
    "            pydata = json.loads(r.text)\n",
    "            weather_data.extend(pydata[\"days\"])\n",
    "            print(\"Successful! Remaining cost:\", pydata['remainingCost'])\n",
    "            print()\n",
    "\n",
    "            success = True\n",
    "        else:\n",
    "            print(\"Fail! Try again. Remaining cost:\", pydata['remainingCost'])\n",
    "            time.sleep(5)\n",
    "        \n",
    "    return weather_data"
   ]
  },
  {
   "cell_type": "markdown",
   "metadata": {},
   "source": [
    "Hàm thu thập toàn bộ data"
   ]
  },
  {
   "cell_type": "code",
   "execution_count": 3,
   "metadata": {},
   "outputs": [],
   "source": [
    "def collect_all_data(start_year, end_year, api_key):\n",
    "    years = list(range(start_year, end_year + 1))\n",
    "    print('List years:', years)\n",
    "    month_days = [\n",
    "        ((1, 1), (3, 31)), \n",
    "        ((4, 1), (6, 30)),\n",
    "        ((7, 1), (9, 30)),\n",
    "        ((10, 1), (12, 31))\n",
    "    ]\n",
    "    all_weather_data = []\n",
    "    \n",
    "    for year in years:\n",
    "        for month_day in month_days:\n",
    "            start_date = f'{year}-{month_day[0][0]}-{month_day[0][1]}'\n",
    "            end_date = f'{year}-{month_day[1][0]}-{month_day[1][1]}'\n",
    "            print(f'({start_date} -> {end_date})', end='\\n')\n",
    "#             print(url)\n",
    "            weather_data = collect_data(start_date, end_date, api_key)\n",
    "            all_weather_data.extend(weather_data)\n",
    "        print()\n",
    "        \n",
    "    return all_weather_data"
   ]
  },
  {
   "cell_type": "markdown",
   "metadata": {},
   "source": [
    "### Tiến hành thu thập data"
   ]
  },
  {
   "cell_type": "code",
   "execution_count": 4,
   "metadata": {},
   "outputs": [
    {
     "name": "stdout",
     "output_type": "stream",
     "text": [
      "List years: [2017, 2018]\n",
      "(2017-1-1 -> 2017-3-31)\n",
      "GET: https://weather.visualcrossing.com/VisualCrossingWebServices/rest/services/timeline/Ho%20Chi%20Minh/2017-1-1/2017-3-31?unitGroup=metric&key=A29UZSNHSG8P8EPR6A4CM2UC6&include=obs\n",
      "Successful! Remaining cost: 910\n",
      "\n",
      "(2017-4-1 -> 2017-6-30)\n",
      "GET: https://weather.visualcrossing.com/VisualCrossingWebServices/rest/services/timeline/Ho%20Chi%20Minh/2017-4-1/2017-6-30?unitGroup=metric&key=A29UZSNHSG8P8EPR6A4CM2UC6&include=obs\n",
      "Successful! Remaining cost: 819\n",
      "\n",
      "(2017-7-1 -> 2017-9-30)\n",
      "GET: https://weather.visualcrossing.com/VisualCrossingWebServices/rest/services/timeline/Ho%20Chi%20Minh/2017-7-1/2017-9-30?unitGroup=metric&key=A29UZSNHSG8P8EPR6A4CM2UC6&include=obs\n",
      "Successful! Remaining cost: 727\n",
      "\n",
      "(2017-10-1 -> 2017-12-31)\n",
      "GET: https://weather.visualcrossing.com/VisualCrossingWebServices/rest/services/timeline/Ho%20Chi%20Minh/2017-10-1/2017-12-31?unitGroup=metric&key=A29UZSNHSG8P8EPR6A4CM2UC6&include=obs\n",
      "Successful! Remaining cost: 635\n",
      "\n",
      "\n",
      "(2018-1-1 -> 2018-3-31)\n",
      "GET: https://weather.visualcrossing.com/VisualCrossingWebServices/rest/services/timeline/Ho%20Chi%20Minh/2018-1-1/2018-3-31?unitGroup=metric&key=A29UZSNHSG8P8EPR6A4CM2UC6&include=obs\n",
      "Successful! Remaining cost: 545\n",
      "\n",
      "(2018-4-1 -> 2018-6-30)\n",
      "GET: https://weather.visualcrossing.com/VisualCrossingWebServices/rest/services/timeline/Ho%20Chi%20Minh/2018-4-1/2018-6-30?unitGroup=metric&key=A29UZSNHSG8P8EPR6A4CM2UC6&include=obs\n",
      "Successful! Remaining cost: 454\n",
      "\n",
      "(2018-7-1 -> 2018-9-30)\n",
      "GET: https://weather.visualcrossing.com/VisualCrossingWebServices/rest/services/timeline/Ho%20Chi%20Minh/2018-7-1/2018-9-30?unitGroup=metric&key=A29UZSNHSG8P8EPR6A4CM2UC6&include=obs\n",
      "Successful! Remaining cost: 362\n",
      "\n",
      "(2018-10-1 -> 2018-12-31)\n",
      "GET: https://weather.visualcrossing.com/VisualCrossingWebServices/rest/services/timeline/Ho%20Chi%20Minh/2018-10-1/2018-12-31?unitGroup=metric&key=A29UZSNHSG8P8EPR6A4CM2UC6&include=obs\n",
      "Successful! Remaining cost: 362\n",
      "\n",
      "\n",
      "List years: [2019, 2020]\n",
      "(2019-1-1 -> 2019-3-31)\n",
      "GET: https://weather.visualcrossing.com/VisualCrossingWebServices/rest/services/timeline/Ho%20Chi%20Minh/2019-1-1/2019-3-31?unitGroup=metric&key=YXRHHRS6QX82D58S867TW6YBF&include=obs\n",
      "Successful! Remaining cost: 910\n",
      "\n",
      "(2019-4-1 -> 2019-6-30)\n",
      "GET: https://weather.visualcrossing.com/VisualCrossingWebServices/rest/services/timeline/Ho%20Chi%20Minh/2019-4-1/2019-6-30?unitGroup=metric&key=YXRHHRS6QX82D58S867TW6YBF&include=obs\n",
      "Successful! Remaining cost: 819\n",
      "\n",
      "(2019-7-1 -> 2019-9-30)\n",
      "GET: https://weather.visualcrossing.com/VisualCrossingWebServices/rest/services/timeline/Ho%20Chi%20Minh/2019-7-1/2019-9-30?unitGroup=metric&key=YXRHHRS6QX82D58S867TW6YBF&include=obs\n",
      "Successful! Remaining cost: 727\n",
      "\n",
      "(2019-10-1 -> 2019-12-31)\n",
      "GET: https://weather.visualcrossing.com/VisualCrossingWebServices/rest/services/timeline/Ho%20Chi%20Minh/2019-10-1/2019-12-31?unitGroup=metric&key=YXRHHRS6QX82D58S867TW6YBF&include=obs\n",
      "Successful! Remaining cost: 635\n",
      "\n",
      "\n",
      "(2020-1-1 -> 2020-3-31)\n",
      "GET: https://weather.visualcrossing.com/VisualCrossingWebServices/rest/services/timeline/Ho%20Chi%20Minh/2020-1-1/2020-3-31?unitGroup=metric&key=YXRHHRS6QX82D58S867TW6YBF&include=obs\n",
      "Successful! Remaining cost: 544\n",
      "\n",
      "(2020-4-1 -> 2020-6-30)\n",
      "GET: https://weather.visualcrossing.com/VisualCrossingWebServices/rest/services/timeline/Ho%20Chi%20Minh/2020-4-1/2020-6-30?unitGroup=metric&key=YXRHHRS6QX82D58S867TW6YBF&include=obs\n",
      "Successful! Remaining cost: 453\n",
      "\n",
      "(2020-7-1 -> 2020-9-30)\n",
      "GET: https://weather.visualcrossing.com/VisualCrossingWebServices/rest/services/timeline/Ho%20Chi%20Minh/2020-7-1/2020-9-30?unitGroup=metric&key=YXRHHRS6QX82D58S867TW6YBF&include=obs\n",
      "Successful! Remaining cost: 361\n",
      "\n",
      "(2020-10-1 -> 2020-12-31)\n",
      "GET: https://weather.visualcrossing.com/VisualCrossingWebServices/rest/services/timeline/Ho%20Chi%20Minh/2020-10-1/2020-12-31?unitGroup=metric&key=YXRHHRS6QX82D58S867TW6YBF&include=obs\n",
      "Successful! Remaining cost: 269\n",
      "\n",
      "\n"
     ]
    }
   ],
   "source": [
    "api_key1 = 'A29UZSNHSG8P8EPR6A4CM2UC6'\n",
    "api_key2 = 'YXRHHRS6QX82D58S867TW6YBF'\n",
    "all_weather_data = []\n",
    "\n",
    "# Thu thập lần 1\n",
    "start_year = 2017\n",
    "end_year = 2018\n",
    "weather_data = collect_all_data(start_year, end_year, api_key1)\n",
    "all_weather_data.extend(weather_data)\n",
    "\n",
    "# Thu thập lần 2\n",
    "start_year = 2019\n",
    "end_year = 2020\n",
    "weather_data = collect_all_data(start_year, end_year, api_key2)\n",
    "all_weather_data.extend(weather_data)\n",
    "\n",
    "# print('Number of data:', len(all_weather_data))"
   ]
  },
  {
   "cell_type": "markdown",
   "metadata": {},
   "source": [
    "### Lưu data xuống file csv"
   ]
  },
  {
   "cell_type": "markdown",
   "metadata": {},
   "source": [
    "Tạo dataframe và lưu dữ liệu xuống file `historical_weather_data.csv`"
   ]
  },
  {
   "cell_type": "code",
   "execution_count": 5,
   "metadata": {},
   "outputs": [
    {
     "data": {
      "text/html": [
       "<div>\n",
       "<style scoped>\n",
       "    .dataframe tbody tr th:only-of-type {\n",
       "        vertical-align: middle;\n",
       "    }\n",
       "\n",
       "    .dataframe tbody tr th {\n",
       "        vertical-align: top;\n",
       "    }\n",
       "\n",
       "    .dataframe thead th {\n",
       "        text-align: right;\n",
       "    }\n",
       "</style>\n",
       "<table border=\"1\" class=\"dataframe\">\n",
       "  <thead>\n",
       "    <tr style=\"text-align: right;\">\n",
       "      <th></th>\n",
       "      <th>Datetime</th>\n",
       "      <th>DatetimeEpoch</th>\n",
       "      <th>Tempmax</th>\n",
       "      <th>Tempmin</th>\n",
       "      <th>Temp</th>\n",
       "      <th>Feelslikemax</th>\n",
       "      <th>Feelslikemin</th>\n",
       "      <th>Feelslike</th>\n",
       "      <th>Dew</th>\n",
       "      <th>Humidity</th>\n",
       "      <th>...</th>\n",
       "      <th>Sunset</th>\n",
       "      <th>SunsetEpoch</th>\n",
       "      <th>Moonphase</th>\n",
       "      <th>Conditions</th>\n",
       "      <th>Icon</th>\n",
       "      <th>Stations</th>\n",
       "      <th>Source</th>\n",
       "      <th>Normal</th>\n",
       "      <th>Events</th>\n",
       "      <th>Hours</th>\n",
       "    </tr>\n",
       "  </thead>\n",
       "  <tbody>\n",
       "    <tr>\n",
       "      <th>0</th>\n",
       "      <td>2017-01-01</td>\n",
       "      <td>1483203600</td>\n",
       "      <td>34.0</td>\n",
       "      <td>23.0</td>\n",
       "      <td>27.9</td>\n",
       "      <td>0.0</td>\n",
       "      <td>0.0</td>\n",
       "      <td>NaN</td>\n",
       "      <td>22.2</td>\n",
       "      <td>74.98</td>\n",
       "      <td>...</td>\n",
       "      <td>17:41:54</td>\n",
       "      <td>1483267314</td>\n",
       "      <td>0.05</td>\n",
       "      <td>Rain, Partially cloudy</td>\n",
       "      <td>cloudy</td>\n",
       "      <td>[48894099999, 48900099999, VVTS]</td>\n",
       "      <td>obs</td>\n",
       "      <td>None</td>\n",
       "      <td>None</td>\n",
       "      <td>None</td>\n",
       "    </tr>\n",
       "    <tr>\n",
       "      <th>1</th>\n",
       "      <td>2017-01-02</td>\n",
       "      <td>1483290000</td>\n",
       "      <td>33.0</td>\n",
       "      <td>23.0</td>\n",
       "      <td>28.4</td>\n",
       "      <td>35.7</td>\n",
       "      <td>23.0</td>\n",
       "      <td>29.4</td>\n",
       "      <td>21.3</td>\n",
       "      <td>67.16</td>\n",
       "      <td>...</td>\n",
       "      <td>17:42:27</td>\n",
       "      <td>1483353747</td>\n",
       "      <td>0.09</td>\n",
       "      <td>Partially cloudy</td>\n",
       "      <td>partly-cloudy-day</td>\n",
       "      <td>[48894099999, 48900099999, VVTS]</td>\n",
       "      <td>obs</td>\n",
       "      <td>None</td>\n",
       "      <td>None</td>\n",
       "      <td>None</td>\n",
       "    </tr>\n",
       "    <tr>\n",
       "      <th>2</th>\n",
       "      <td>2017-01-03</td>\n",
       "      <td>1483376400</td>\n",
       "      <td>33.8</td>\n",
       "      <td>24.1</td>\n",
       "      <td>28.2</td>\n",
       "      <td>36.1</td>\n",
       "      <td>23.0</td>\n",
       "      <td>30.1</td>\n",
       "      <td>21.7</td>\n",
       "      <td>69.77</td>\n",
       "      <td>...</td>\n",
       "      <td>17:43:00</td>\n",
       "      <td>1483440180</td>\n",
       "      <td>0.13</td>\n",
       "      <td>Partially cloudy</td>\n",
       "      <td>partly-cloudy-day</td>\n",
       "      <td>[48894099999, 48900099999, VVTS]</td>\n",
       "      <td>obs</td>\n",
       "      <td>None</td>\n",
       "      <td>None</td>\n",
       "      <td>None</td>\n",
       "    </tr>\n",
       "    <tr>\n",
       "      <th>3</th>\n",
       "      <td>2017-01-04</td>\n",
       "      <td>1483462800</td>\n",
       "      <td>32.8</td>\n",
       "      <td>24.0</td>\n",
       "      <td>27.8</td>\n",
       "      <td>35.7</td>\n",
       "      <td>24.1</td>\n",
       "      <td>29.8</td>\n",
       "      <td>21.6</td>\n",
       "      <td>70.70</td>\n",
       "      <td>...</td>\n",
       "      <td>17:43:33</td>\n",
       "      <td>1483526613</td>\n",
       "      <td>0.18</td>\n",
       "      <td>Partially cloudy</td>\n",
       "      <td>partly-cloudy-day</td>\n",
       "      <td>[48894099999, 48900099999, VVTS]</td>\n",
       "      <td>obs</td>\n",
       "      <td>None</td>\n",
       "      <td>None</td>\n",
       "      <td>None</td>\n",
       "    </tr>\n",
       "    <tr>\n",
       "      <th>4</th>\n",
       "      <td>2017-01-05</td>\n",
       "      <td>1483549200</td>\n",
       "      <td>32.0</td>\n",
       "      <td>25.0</td>\n",
       "      <td>28.5</td>\n",
       "      <td>35.2</td>\n",
       "      <td>24.0</td>\n",
       "      <td>29.5</td>\n",
       "      <td>22.3</td>\n",
       "      <td>71.11</td>\n",
       "      <td>...</td>\n",
       "      <td>17:44:05</td>\n",
       "      <td>1483613045</td>\n",
       "      <td>0.23</td>\n",
       "      <td>Partially cloudy</td>\n",
       "      <td>partly-cloudy-day</td>\n",
       "      <td>[48894099999, 48900099999, VVTS]</td>\n",
       "      <td>obs</td>\n",
       "      <td>None</td>\n",
       "      <td>None</td>\n",
       "      <td>None</td>\n",
       "    </tr>\n",
       "  </tbody>\n",
       "</table>\n",
       "<p>5 rows × 36 columns</p>\n",
       "</div>"
      ],
      "text/plain": [
       "     Datetime  DatetimeEpoch  Tempmax  Tempmin  Temp  Feelslikemax  \\\n",
       "0  2017-01-01     1483203600     34.0     23.0  27.9           0.0   \n",
       "1  2017-01-02     1483290000     33.0     23.0  28.4          35.7   \n",
       "2  2017-01-03     1483376400     33.8     24.1  28.2          36.1   \n",
       "3  2017-01-04     1483462800     32.8     24.0  27.8          35.7   \n",
       "4  2017-01-05     1483549200     32.0     25.0  28.5          35.2   \n",
       "\n",
       "   Feelslikemin  Feelslike   Dew  Humidity  ...    Sunset SunsetEpoch  \\\n",
       "0           0.0        NaN  22.2     74.98  ...  17:41:54  1483267314   \n",
       "1          23.0       29.4  21.3     67.16  ...  17:42:27  1483353747   \n",
       "2          23.0       30.1  21.7     69.77  ...  17:43:00  1483440180   \n",
       "3          24.1       29.8  21.6     70.70  ...  17:43:33  1483526613   \n",
       "4          24.0       29.5  22.3     71.11  ...  17:44:05  1483613045   \n",
       "\n",
       "   Moonphase              Conditions               Icon  \\\n",
       "0       0.05  Rain, Partially cloudy             cloudy   \n",
       "1       0.09        Partially cloudy  partly-cloudy-day   \n",
       "2       0.13        Partially cloudy  partly-cloudy-day   \n",
       "3       0.18        Partially cloudy  partly-cloudy-day   \n",
       "4       0.23        Partially cloudy  partly-cloudy-day   \n",
       "\n",
       "                           Stations  Source  Normal  Events  Hours  \n",
       "0  [48894099999, 48900099999, VVTS]     obs    None    None   None  \n",
       "1  [48894099999, 48900099999, VVTS]     obs    None    None   None  \n",
       "2  [48894099999, 48900099999, VVTS]     obs    None    None   None  \n",
       "3  [48894099999, 48900099999, VVTS]     obs    None    None   None  \n",
       "4  [48894099999, 48900099999, VVTS]     obs    None    None   None  \n",
       "\n",
       "[5 rows x 36 columns]"
      ]
     },
     "execution_count": 5,
     "metadata": {},
     "output_type": "execute_result"
    }
   ],
   "source": [
    "data_df = pd.DataFrame(all_weather_data)\n",
    "data_df.rename(lambda name: name[0].upper() + name[1:], axis='columns', inplace=True)\n",
    "data_df.to_csv('historical_weather_data.csv', index=False)\n",
    "data_df.head()"
   ]
  },
  {
   "cell_type": "markdown",
   "metadata": {},
   "source": [
    "## 2. Khám phá dữ liệu (để đưa ra câu hỏi)"
   ]
  },
  {
   "cell_type": "markdown",
   "metadata": {},
   "source": [
    "Dữ liệu thời tiết thu thập được ở bước trước là dữ liệu tại vị trí quận 1 của Thành phố Hồ Chí Minh.  "
   ]
  },
  {
   "cell_type": "markdown",
   "metadata": {},
   "source": [
    "Load dữ liệu từ file `historical_weather_data.csv`"
   ]
  },
  {
   "cell_type": "code",
   "execution_count": 6,
   "metadata": {},
   "outputs": [
    {
     "data": {
      "text/html": [
       "<div>\n",
       "<style scoped>\n",
       "    .dataframe tbody tr th:only-of-type {\n",
       "        vertical-align: middle;\n",
       "    }\n",
       "\n",
       "    .dataframe tbody tr th {\n",
       "        vertical-align: top;\n",
       "    }\n",
       "\n",
       "    .dataframe thead th {\n",
       "        text-align: right;\n",
       "    }\n",
       "</style>\n",
       "<table border=\"1\" class=\"dataframe\">\n",
       "  <thead>\n",
       "    <tr style=\"text-align: right;\">\n",
       "      <th></th>\n",
       "      <th>Datetime</th>\n",
       "      <th>DatetimeEpoch</th>\n",
       "      <th>Tempmax</th>\n",
       "      <th>Tempmin</th>\n",
       "      <th>Temp</th>\n",
       "      <th>Feelslikemax</th>\n",
       "      <th>Feelslikemin</th>\n",
       "      <th>Feelslike</th>\n",
       "      <th>Dew</th>\n",
       "      <th>Humidity</th>\n",
       "      <th>...</th>\n",
       "      <th>Sunset</th>\n",
       "      <th>SunsetEpoch</th>\n",
       "      <th>Moonphase</th>\n",
       "      <th>Conditions</th>\n",
       "      <th>Icon</th>\n",
       "      <th>Stations</th>\n",
       "      <th>Source</th>\n",
       "      <th>Normal</th>\n",
       "      <th>Events</th>\n",
       "      <th>Hours</th>\n",
       "    </tr>\n",
       "  </thead>\n",
       "  <tbody>\n",
       "    <tr>\n",
       "      <th>0</th>\n",
       "      <td>2017-01-01</td>\n",
       "      <td>1483203600</td>\n",
       "      <td>34.0</td>\n",
       "      <td>23.0</td>\n",
       "      <td>27.9</td>\n",
       "      <td>0.0</td>\n",
       "      <td>0.0</td>\n",
       "      <td>NaN</td>\n",
       "      <td>22.2</td>\n",
       "      <td>74.98</td>\n",
       "      <td>...</td>\n",
       "      <td>17:41:54</td>\n",
       "      <td>1483267314</td>\n",
       "      <td>0.05</td>\n",
       "      <td>Rain, Partially cloudy</td>\n",
       "      <td>cloudy</td>\n",
       "      <td>['48894099999', '48900099999', 'VVTS']</td>\n",
       "      <td>obs</td>\n",
       "      <td>NaN</td>\n",
       "      <td>NaN</td>\n",
       "      <td>NaN</td>\n",
       "    </tr>\n",
       "    <tr>\n",
       "      <th>1</th>\n",
       "      <td>2017-01-02</td>\n",
       "      <td>1483290000</td>\n",
       "      <td>33.0</td>\n",
       "      <td>23.0</td>\n",
       "      <td>28.4</td>\n",
       "      <td>35.7</td>\n",
       "      <td>23.0</td>\n",
       "      <td>29.4</td>\n",
       "      <td>21.3</td>\n",
       "      <td>67.16</td>\n",
       "      <td>...</td>\n",
       "      <td>17:42:27</td>\n",
       "      <td>1483353747</td>\n",
       "      <td>0.09</td>\n",
       "      <td>Partially cloudy</td>\n",
       "      <td>partly-cloudy-day</td>\n",
       "      <td>['48894099999', '48900099999', 'VVTS']</td>\n",
       "      <td>obs</td>\n",
       "      <td>NaN</td>\n",
       "      <td>NaN</td>\n",
       "      <td>NaN</td>\n",
       "    </tr>\n",
       "    <tr>\n",
       "      <th>2</th>\n",
       "      <td>2017-01-03</td>\n",
       "      <td>1483376400</td>\n",
       "      <td>33.8</td>\n",
       "      <td>24.1</td>\n",
       "      <td>28.2</td>\n",
       "      <td>36.1</td>\n",
       "      <td>23.0</td>\n",
       "      <td>30.1</td>\n",
       "      <td>21.7</td>\n",
       "      <td>69.77</td>\n",
       "      <td>...</td>\n",
       "      <td>17:43:00</td>\n",
       "      <td>1483440180</td>\n",
       "      <td>0.13</td>\n",
       "      <td>Partially cloudy</td>\n",
       "      <td>partly-cloudy-day</td>\n",
       "      <td>['48894099999', '48900099999', 'VVTS']</td>\n",
       "      <td>obs</td>\n",
       "      <td>NaN</td>\n",
       "      <td>NaN</td>\n",
       "      <td>NaN</td>\n",
       "    </tr>\n",
       "    <tr>\n",
       "      <th>3</th>\n",
       "      <td>2017-01-04</td>\n",
       "      <td>1483462800</td>\n",
       "      <td>32.8</td>\n",
       "      <td>24.0</td>\n",
       "      <td>27.8</td>\n",
       "      <td>35.7</td>\n",
       "      <td>24.1</td>\n",
       "      <td>29.8</td>\n",
       "      <td>21.6</td>\n",
       "      <td>70.70</td>\n",
       "      <td>...</td>\n",
       "      <td>17:43:33</td>\n",
       "      <td>1483526613</td>\n",
       "      <td>0.18</td>\n",
       "      <td>Partially cloudy</td>\n",
       "      <td>partly-cloudy-day</td>\n",
       "      <td>['48894099999', '48900099999', 'VVTS']</td>\n",
       "      <td>obs</td>\n",
       "      <td>NaN</td>\n",
       "      <td>NaN</td>\n",
       "      <td>NaN</td>\n",
       "    </tr>\n",
       "    <tr>\n",
       "      <th>4</th>\n",
       "      <td>2017-01-05</td>\n",
       "      <td>1483549200</td>\n",
       "      <td>32.0</td>\n",
       "      <td>25.0</td>\n",
       "      <td>28.5</td>\n",
       "      <td>35.2</td>\n",
       "      <td>24.0</td>\n",
       "      <td>29.5</td>\n",
       "      <td>22.3</td>\n",
       "      <td>71.11</td>\n",
       "      <td>...</td>\n",
       "      <td>17:44:05</td>\n",
       "      <td>1483613045</td>\n",
       "      <td>0.23</td>\n",
       "      <td>Partially cloudy</td>\n",
       "      <td>partly-cloudy-day</td>\n",
       "      <td>['48894099999', '48900099999', 'VVTS']</td>\n",
       "      <td>obs</td>\n",
       "      <td>NaN</td>\n",
       "      <td>NaN</td>\n",
       "      <td>NaN</td>\n",
       "    </tr>\n",
       "  </tbody>\n",
       "</table>\n",
       "<p>5 rows × 36 columns</p>\n",
       "</div>"
      ],
      "text/plain": [
       "     Datetime  DatetimeEpoch  Tempmax  Tempmin  Temp  Feelslikemax  \\\n",
       "0  2017-01-01     1483203600     34.0     23.0  27.9           0.0   \n",
       "1  2017-01-02     1483290000     33.0     23.0  28.4          35.7   \n",
       "2  2017-01-03     1483376400     33.8     24.1  28.2          36.1   \n",
       "3  2017-01-04     1483462800     32.8     24.0  27.8          35.7   \n",
       "4  2017-01-05     1483549200     32.0     25.0  28.5          35.2   \n",
       "\n",
       "   Feelslikemin  Feelslike   Dew  Humidity  ...    Sunset  SunsetEpoch  \\\n",
       "0           0.0        NaN  22.2     74.98  ...  17:41:54   1483267314   \n",
       "1          23.0       29.4  21.3     67.16  ...  17:42:27   1483353747   \n",
       "2          23.0       30.1  21.7     69.77  ...  17:43:00   1483440180   \n",
       "3          24.1       29.8  21.6     70.70  ...  17:43:33   1483526613   \n",
       "4          24.0       29.5  22.3     71.11  ...  17:44:05   1483613045   \n",
       "\n",
       "   Moonphase              Conditions               Icon  \\\n",
       "0       0.05  Rain, Partially cloudy             cloudy   \n",
       "1       0.09        Partially cloudy  partly-cloudy-day   \n",
       "2       0.13        Partially cloudy  partly-cloudy-day   \n",
       "3       0.18        Partially cloudy  partly-cloudy-day   \n",
       "4       0.23        Partially cloudy  partly-cloudy-day   \n",
       "\n",
       "                                 Stations  Source  Normal  Events  Hours  \n",
       "0  ['48894099999', '48900099999', 'VVTS']     obs     NaN     NaN    NaN  \n",
       "1  ['48894099999', '48900099999', 'VVTS']     obs     NaN     NaN    NaN  \n",
       "2  ['48894099999', '48900099999', 'VVTS']     obs     NaN     NaN    NaN  \n",
       "3  ['48894099999', '48900099999', 'VVTS']     obs     NaN     NaN    NaN  \n",
       "4  ['48894099999', '48900099999', 'VVTS']     obs     NaN     NaN    NaN  \n",
       "\n",
       "[5 rows x 36 columns]"
      ]
     },
     "execution_count": 6,
     "metadata": {},
     "output_type": "execute_result"
    }
   ],
   "source": [
    "data_df = pd.read_csv('historical_weather_data.csv')\n",
    "data_df.head()"
   ]
  },
  {
   "cell_type": "markdown",
   "metadata": {},
   "source": [
    "### Số dòng và số cột của dữ liệu"
   ]
  },
  {
   "cell_type": "code",
   "execution_count": 7,
   "metadata": {},
   "outputs": [
    {
     "data": {
      "text/plain": [
       "(1461, 36)"
      ]
     },
     "execution_count": 7,
     "metadata": {},
     "output_type": "execute_result"
    }
   ],
   "source": [
    "data_df.shape"
   ]
  },
  {
   "cell_type": "markdown",
   "metadata": {},
   "source": [
    "### Ý nghĩa của mỗi dòng"
   ]
  },
  {
   "cell_type": "markdown",
   "metadata": {},
   "source": [
    "Mỗi dòng là thông tin thời tiết ghi nhận được của một ngày trong năm"
   ]
  },
  {
   "cell_type": "markdown",
   "metadata": {},
   "source": [
    "### Ý nghĩa của mỗi cột"
   ]
  },
  {
   "cell_type": "markdown",
   "metadata": {},
   "source": [
    "Ý nghĩa một số cột được ghi trong bảng sau:\n",
    "\n",
    "|Cột|Ý nghĩa|Đơn vị đo|\n",
    "|---|---|---|\n",
    "|**Datetime**|Ngày (yyyy-m-d) ghi nhận thông tin| |\n",
    "|**Tempmax**|Nhiệt độ cao nhất trong ngày|Celsius|\n",
    "|**Tempmin**|Nhiệt độ thấp nhất trong ngày|Celsius|\n",
    "|**Temp**|Nhiệt độ trung bình trong ngày|Celsius|\n",
    "|**Dew**|Điểm sương, là nhiệt độ mà tại đó độ ẩm tương đối của khối không khí đạt 100% |Celsius|\n",
    "|**Humidity**|Độ ẩm tương đối|%|\n",
    "|**Precip**|Lượng mưa trong ngày|mm|\n",
    "|**Precipcover**|Tỉ lệ thời gian mưa trong ngày|%|\n",
    "|**Windspeed**|Tốc độ gió trung bình|kph|\n",
    "|**Winddir**|Hướng gió đo so với hướng Bắc|Degrees|\n",
    "|**Pressure**|Áp suất không khí|millibars|\n",
    "|**Cloudcover**|Tỉ lệ mây bao phủ bầu trời|%|\n",
    "|**Visibility**|Tầm nhìn xa ban ngày|km|\n",
    "|**Conditions**|Hiện tượng thời tiết ghi nhận được như sấm sét, mưa, ...| |\n",
    "|**Icon**|Thời tiết đại diện cho ngày| |"
   ]
  },
  {
   "cell_type": "markdown",
   "metadata": {},
   "source": [
    "Chi tiết cụ thể hơn về thông tin các cột có tại `https://www.visualcrossing.com/resources/documentation/weather-data/weather-data-documentation/`"
   ]
  },
  {
   "cell_type": "markdown",
   "metadata": {},
   "source": [
    "### Kiểm tra các dòng có bị lặp không"
   ]
  },
  {
   "cell_type": "code",
   "execution_count": 8,
   "metadata": {},
   "outputs": [
    {
     "data": {
      "text/plain": [
       "0"
      ]
     },
     "execution_count": 8,
     "metadata": {},
     "output_type": "execute_result"
    }
   ],
   "source": [
    "data_df.index.duplicated().sum()"
   ]
  },
  {
   "cell_type": "markdown",
   "metadata": {},
   "source": [
    "### Đưa ra câu hỏi"
   ]
  },
  {
   "cell_type": "markdown",
   "metadata": {},
   "source": [
    "**Câu hỏi:** *Output* - độ ẩm tương đối (Humidity) được tính từ *input* - các thông số khác (nhiệt độ, điểm sương, tốc độ gió, áp suất, ...) như thế nào?  \n",
    "  \n",
    "**Ý nghĩa:** Khi độ ẩm tương đối quá cao (> 90%) thì con người sẽ tăng nguy cơ mắc các bệnh khớp, ho, hen suyễn hay đau đầu, ngoài ra độ ẩm tương đối quá cao cũng là điều kiện cho các loại vi khuẩn và nấm mốc phát triển. Ngược lại, khi độ ẩm tương đối quá thấp (< 30%), con người dễ bị các triệu chứng như chảy máu cam hay bị virus cảm lạnh rhinovirus xâm nhập. Do đó, dự đoán được độ ẩm tương đối sẽ hữu ích trong việc đưa ra một số biện pháp như sử dụng máy điều khiển độ ẩm để tăng giảm độ ẩm, ... nhằm phòng ngừa các hậu quả xấu có thể xảy ra.\n",
    "\n",
    "**Nguồn cảm hứng**: Đây là ý tưởng do nhóm tự nghĩ ra. Từ thắc mắc về ý nghĩa của độ ẩm tương đối trong thực tiễn, nhóm đã tìm hiểu về độ ẩm tương đối thông qua nhiều nguồn khác nhau trên Internet và đưa ra bộ output - input trên."
   ]
  },
  {
   "cell_type": "markdown",
   "metadata": {},
   "source": [
    "## 3. Tách tập, tiền xử lí và khám phá dữ liệu"
   ]
  },
  {
   "cell_type": "markdown",
   "metadata": {},
   "source": [
    "### Khám phá dữ liệu cột output (để tách tập)"
   ]
  },
  {
   "cell_type": "markdown",
   "metadata": {},
   "source": [
    "Kiểu dữ liệu của cột output"
   ]
  },
  {
   "cell_type": "code",
   "execution_count": 9,
   "metadata": {},
   "outputs": [
    {
     "data": {
      "text/plain": [
       "dtype('float64')"
      ]
     },
     "execution_count": 9,
     "metadata": {},
     "output_type": "execute_result"
    }
   ],
   "source": [
    "data_df['Humidity'].dtype"
   ]
  },
  {
   "cell_type": "markdown",
   "metadata": {},
   "source": [
    "Kiếm tra cột output có giá trị thiếu không"
   ]
  },
  {
   "cell_type": "code",
   "execution_count": 10,
   "metadata": {},
   "outputs": [
    {
     "data": {
      "text/plain": [
       "0"
      ]
     },
     "execution_count": 10,
     "metadata": {},
     "output_type": "execute_result"
    }
   ],
   "source": [
    "data_df['Humidity'].isna().sum()"
   ]
  },
  {
   "cell_type": "markdown",
   "metadata": {},
   "source": [
    "Phân bố của cột output"
   ]
  },
  {
   "cell_type": "code",
   "execution_count": 11,
   "metadata": {},
   "outputs": [
    {
     "data": {
      "text/plain": [
       "count    1461.000000\n",
       "mean       77.909014\n",
       "std         9.372152\n",
       "min        50.170000\n",
       "25%        71.540000\n",
       "50%        78.990000\n",
       "75%        85.070000\n",
       "max        98.190000\n",
       "Name: Humidity, dtype: float64"
      ]
     },
     "execution_count": 11,
     "metadata": {},
     "output_type": "execute_result"
    }
   ],
   "source": [
    "data_df['Humidity'].describe()"
   ]
  },
  {
   "cell_type": "code",
   "execution_count": 12,
   "metadata": {},
   "outputs": [
    {
     "name": "stderr",
     "output_type": "stream",
     "text": [
      "c:\\users\\pc\\appdata\\local\\programs\\python\\python37\\lib\\site-packages\\seaborn\\_decorators.py:43: FutureWarning: Pass the following variable as a keyword arg: x. From version 0.12, the only valid positional argument will be `data`, and passing other arguments without an explicit keyword will result in an error or misinterpretation.\n",
      "  FutureWarning\n"
     ]
    },
    {
     "data": {
      "image/png": "[encoded data removed]",
      "text/plain": [
       "<Figure size 432x288 with 1 Axes>"
      ]
     },
     "metadata": {
      "needs_background": "light"
     },
     "output_type": "display_data"
    }
   ],
   "source": [
    "sns.boxplot(data_df['Humidity']);"
   ]
  },
  {
   "cell_type": "markdown",
   "metadata": {},
   "source": [
    "Nhận xét: Giá trị độ ẩm tương tối ở cột output dao động từ 50% đến 98%, tức là tại TP HCM trong vài năm qua không có tình trạng độ ẩm xuống quá thấp nhưng đôi lúc xảy ra tình trạng độ ẩm tăng cao (> 90%). "
   ]
  },
  {
   "cell_type": "code",
   "execution_count": 13,
   "metadata": {},
   "outputs": [
    {
     "data": {
      "text/plain": [
       "112"
      ]
     },
     "execution_count": 13,
     "metadata": {},
     "output_type": "execute_result"
    }
   ],
   "source": [
    "(data_df['Humidity'] > 90).sum()"
   ]
  },
  {
   "cell_type": "markdown",
   "metadata": {},
   "source": [
    "### Tiền xử lí (tách các tập)"
   ]
  },
  {
   "cell_type": "markdown",
   "metadata": {},
   "source": [
    "Tiến hành tách tập data thu được thành 3 tập huấn luyện, validation và tập kiểm tra theo tỉ lệ 70%-15%-15%"
   ]
  },
  {
   "cell_type": "code",
   "execution_count": 14,
   "metadata": {},
   "outputs": [],
   "source": [
    "# Tách X_df và y_sr\n",
    "y_sr = data_df[\"Humidity\"]\n",
    "X_df = data_df.drop(\"Humidity\", axis = 1)"
   ]
  },
  {
   "cell_type": "code",
   "execution_count": 15,
   "metadata": {},
   "outputs": [],
   "source": [
    "# Tách tập kiểm tra\n",
    "train_valid_X_df, test_X_df, train_valid_y_sr, test_y_sr = train_test_split(X_df, y_sr, test_size = 0.15, random_state = 0)"
   ]
  },
  {
   "cell_type": "code",
   "execution_count": 16,
   "metadata": {},
   "outputs": [],
   "source": [
    "# Tách tập validation, còn lại là của tập huấn luyện\n",
    "train_X_df, val_X_df, train_y_sr, val_y_sr = train_test_split(train_valid_X_df, train_valid_y_sr, test_size = 3/17, \n",
    "                                                              random_state = 0)"
   ]
  },
  {
   "cell_type": "markdown",
   "metadata": {},
   "source": [
    "Tập kiểm tra"
   ]
  },
  {
   "cell_type": "code",
   "execution_count": 17,
   "metadata": {},
   "outputs": [
    {
     "data": {
      "text/plain": [
       "(220, 35)"
      ]
     },
     "execution_count": 17,
     "metadata": {},
     "output_type": "execute_result"
    }
   ],
   "source": [
    "test_X_df.shape"
   ]
  },
  {
   "cell_type": "markdown",
   "metadata": {},
   "source": [
    "Tập validation"
   ]
  },
  {
   "cell_type": "code",
   "execution_count": 18,
   "metadata": {},
   "outputs": [
    {
     "data": {
      "text/plain": [
       "(219, 35)"
      ]
     },
     "execution_count": 18,
     "metadata": {},
     "output_type": "execute_result"
    }
   ],
   "source": [
    "val_X_df.shape"
   ]
  },
  {
   "cell_type": "markdown",
   "metadata": {},
   "source": [
    "Tập huấn luyện"
   ]
  },
  {
   "cell_type": "code",
   "execution_count": 19,
   "metadata": {},
   "outputs": [
    {
     "data": {
      "text/plain": [
       "(1022, 35)"
      ]
     },
     "execution_count": 19,
     "metadata": {},
     "output_type": "execute_result"
    }
   ],
   "source": [
    "train_X_df.shape"
   ]
  },
  {
   "cell_type": "markdown",
   "metadata": {},
   "source": [
    "### Khám phá dữ liệu (tập huấn luyện)"
   ]
  },
  {
   "cell_type": "markdown",
   "metadata": {},
   "source": [
    "#### Kiểu dữ liệu hiện tại của mỗi cột"
   ]
  },
  {
   "cell_type": "code",
   "execution_count": 20,
   "metadata": {},
   "outputs": [
    {
     "data": {
      "text/plain": [
       "Datetime           object\n",
       "DatetimeEpoch       int64\n",
       "Tempmax           float64\n",
       "Tempmin           float64\n",
       "Temp              float64\n",
       "Feelslikemax      float64\n",
       "Feelslikemin      float64\n",
       "Feelslike         float64\n",
       "Dew               float64\n",
       "Precip            float64\n",
       "Precipprob        float64\n",
       "Precipcover       float64\n",
       "Preciptype        float64\n",
       "Snow              float64\n",
       "Snowdepth         float64\n",
       "Windgust          float64\n",
       "Windspeed         float64\n",
       "Winddir           float64\n",
       "Pressure          float64\n",
       "Cloudcover        float64\n",
       "Visibility        float64\n",
       "Solarradiation    float64\n",
       "Solarenergy       float64\n",
       "Sunrise            object\n",
       "SunriseEpoch        int64\n",
       "Sunset             object\n",
       "SunsetEpoch         int64\n",
       "Moonphase         float64\n",
       "Conditions         object\n",
       "Icon               object\n",
       "Stations           object\n",
       "Source             object\n",
       "Normal            float64\n",
       "Events            float64\n",
       "Hours             float64\n",
       "dtype: object"
      ]
     },
     "execution_count": 20,
     "metadata": {},
     "output_type": "execute_result"
    }
   ],
   "source": [
    "train_X_df.dtypes"
   ]
  },
  {
   "cell_type": "markdown",
   "metadata": {},
   "source": [
    "Nhận xét: Phần lớn cột trong dữ liệu input là ở dạng số"
   ]
  },
  {
   "cell_type": "markdown",
   "metadata": {},
   "source": [
    "#### Phân bố của các cột dữ liệu dạng số"
   ]
  },
  {
   "cell_type": "code",
   "execution_count": 21,
   "metadata": {},
   "outputs": [
    {
     "data": {
      "text/plain": [
       "['Tempmax',\n",
       " 'Tempmin',\n",
       " 'Temp',\n",
       " 'Dew',\n",
       " 'Precip',\n",
       " 'Precipprob',\n",
       " 'Precipcover',\n",
       " 'Preciptype',\n",
       " 'Snow',\n",
       " 'Snowdepth',\n",
       " 'Windgust',\n",
       " 'Windspeed',\n",
       " 'Winddir',\n",
       " 'Pressure',\n",
       " 'Cloudcover',\n",
       " 'Visibility',\n",
       " 'Solarradiation',\n",
       " 'Solarenergy',\n",
       " 'Moonphase',\n",
       " 'Normal',\n",
       " 'Events',\n",
       " 'Hours']"
      ]
     },
     "execution_count": 21,
     "metadata": {},
     "output_type": "execute_result"
    }
   ],
   "source": [
    "num_cols = list(train_X_df.dtypes[train_X_df.dtypes == float].index)\n",
    "num_cols = [x for x in num_cols if  x not in ['Feelslikemax', 'Feelslikemin', 'Feelslike']]\n",
    "num_cols"
   ]
  },
  {
   "cell_type": "code",
   "execution_count": 22,
   "metadata": {},
   "outputs": [
    {
     "data": {
      "text/html": [
       "<div>\n",
       "<style scoped>\n",
       "    .dataframe tbody tr th:only-of-type {\n",
       "        vertical-align: middle;\n",
       "    }\n",
       "\n",
       "    .dataframe tbody tr th {\n",
       "        vertical-align: top;\n",
       "    }\n",
       "\n",
       "    .dataframe thead th {\n",
       "        text-align: right;\n",
       "    }\n",
       "</style>\n",
       "<table border=\"1\" class=\"dataframe\">\n",
       "  <thead>\n",
       "    <tr style=\"text-align: right;\">\n",
       "      <th></th>\n",
       "      <th>Tempmax</th>\n",
       "      <th>Tempmin</th>\n",
       "      <th>Temp</th>\n",
       "      <th>Dew</th>\n",
       "      <th>Precip</th>\n",
       "      <th>Precipprob</th>\n",
       "      <th>Precipcover</th>\n",
       "      <th>Preciptype</th>\n",
       "      <th>Snow</th>\n",
       "      <th>Snowdepth</th>\n",
       "      <th>...</th>\n",
       "      <th>Winddir</th>\n",
       "      <th>Pressure</th>\n",
       "      <th>Cloudcover</th>\n",
       "      <th>Visibility</th>\n",
       "      <th>Solarradiation</th>\n",
       "      <th>Solarenergy</th>\n",
       "      <th>Moonphase</th>\n",
       "      <th>Normal</th>\n",
       "      <th>Events</th>\n",
       "      <th>Hours</th>\n",
       "    </tr>\n",
       "  </thead>\n",
       "  <tbody>\n",
       "    <tr>\n",
       "      <th>missing_ratio</th>\n",
       "      <td>0.0</td>\n",
       "      <td>0.0</td>\n",
       "      <td>0.0</td>\n",
       "      <td>0.0</td>\n",
       "      <td>0.0</td>\n",
       "      <td>100.0</td>\n",
       "      <td>0.00</td>\n",
       "      <td>100.0</td>\n",
       "      <td>100.0</td>\n",
       "      <td>100.0</td>\n",
       "      <td>...</td>\n",
       "      <td>0.0</td>\n",
       "      <td>0.8</td>\n",
       "      <td>0.0</td>\n",
       "      <td>0.0</td>\n",
       "      <td>100.0</td>\n",
       "      <td>100.0</td>\n",
       "      <td>0.0</td>\n",
       "      <td>100.0</td>\n",
       "      <td>100.0</td>\n",
       "      <td>100.0</td>\n",
       "    </tr>\n",
       "    <tr>\n",
       "      <th>min</th>\n",
       "      <td>24.6</td>\n",
       "      <td>19.4</td>\n",
       "      <td>23.3</td>\n",
       "      <td>15.2</td>\n",
       "      <td>0.0</td>\n",
       "      <td>NaN</td>\n",
       "      <td>0.00</td>\n",
       "      <td>NaN</td>\n",
       "      <td>NaN</td>\n",
       "      <td>NaN</td>\n",
       "      <td>...</td>\n",
       "      <td>32.5</td>\n",
       "      <td>1004.3</td>\n",
       "      <td>11.1</td>\n",
       "      <td>6.2</td>\n",
       "      <td>NaN</td>\n",
       "      <td>NaN</td>\n",
       "      <td>0.0</td>\n",
       "      <td>NaN</td>\n",
       "      <td>NaN</td>\n",
       "      <td>NaN</td>\n",
       "    </tr>\n",
       "    <tr>\n",
       "      <th>lower_quartile</th>\n",
       "      <td>32.0</td>\n",
       "      <td>24.0</td>\n",
       "      <td>27.5</td>\n",
       "      <td>22.7</td>\n",
       "      <td>0.0</td>\n",
       "      <td>NaN</td>\n",
       "      <td>0.00</td>\n",
       "      <td>NaN</td>\n",
       "      <td>NaN</td>\n",
       "      <td>NaN</td>\n",
       "      <td>...</td>\n",
       "      <td>143.9</td>\n",
       "      <td>1008.5</td>\n",
       "      <td>44.6</td>\n",
       "      <td>9.1</td>\n",
       "      <td>NaN</td>\n",
       "      <td>NaN</td>\n",
       "      <td>0.2</td>\n",
       "      <td>NaN</td>\n",
       "      <td>NaN</td>\n",
       "      <td>NaN</td>\n",
       "    </tr>\n",
       "    <tr>\n",
       "      <th>median</th>\n",
       "      <td>33.0</td>\n",
       "      <td>25.0</td>\n",
       "      <td>28.3</td>\n",
       "      <td>24.4</td>\n",
       "      <td>0.0</td>\n",
       "      <td>NaN</td>\n",
       "      <td>0.00</td>\n",
       "      <td>NaN</td>\n",
       "      <td>NaN</td>\n",
       "      <td>NaN</td>\n",
       "      <td>...</td>\n",
       "      <td>184.6</td>\n",
       "      <td>1009.8</td>\n",
       "      <td>52.7</td>\n",
       "      <td>9.7</td>\n",
       "      <td>NaN</td>\n",
       "      <td>NaN</td>\n",
       "      <td>0.5</td>\n",
       "      <td>NaN</td>\n",
       "      <td>NaN</td>\n",
       "      <td>NaN</td>\n",
       "    </tr>\n",
       "    <tr>\n",
       "      <th>upper_quartile</th>\n",
       "      <td>34.0</td>\n",
       "      <td>26.0</td>\n",
       "      <td>29.2</td>\n",
       "      <td>25.1</td>\n",
       "      <td>1.4</td>\n",
       "      <td>NaN</td>\n",
       "      <td>4.20</td>\n",
       "      <td>NaN</td>\n",
       "      <td>NaN</td>\n",
       "      <td>NaN</td>\n",
       "      <td>...</td>\n",
       "      <td>237.1</td>\n",
       "      <td>1011.2</td>\n",
       "      <td>59.9</td>\n",
       "      <td>10.1</td>\n",
       "      <td>NaN</td>\n",
       "      <td>NaN</td>\n",
       "      <td>0.8</td>\n",
       "      <td>NaN</td>\n",
       "      <td>NaN</td>\n",
       "      <td>NaN</td>\n",
       "    </tr>\n",
       "    <tr>\n",
       "      <th>max</th>\n",
       "      <td>37.6</td>\n",
       "      <td>29.0</td>\n",
       "      <td>31.9</td>\n",
       "      <td>26.9</td>\n",
       "      <td>140.8</td>\n",
       "      <td>NaN</td>\n",
       "      <td>16.67</td>\n",
       "      <td>NaN</td>\n",
       "      <td>NaN</td>\n",
       "      <td>NaN</td>\n",
       "      <td>...</td>\n",
       "      <td>343.3</td>\n",
       "      <td>1016.6</td>\n",
       "      <td>99.6</td>\n",
       "      <td>10.9</td>\n",
       "      <td>NaN</td>\n",
       "      <td>NaN</td>\n",
       "      <td>1.0</td>\n",
       "      <td>NaN</td>\n",
       "      <td>NaN</td>\n",
       "      <td>NaN</td>\n",
       "    </tr>\n",
       "  </tbody>\n",
       "</table>\n",
       "<p>6 rows × 22 columns</p>\n",
       "</div>"
      ],
      "text/plain": [
       "                Tempmax  Tempmin  Temp   Dew  Precip  Precipprob  Precipcover  \\\n",
       "missing_ratio       0.0      0.0   0.0   0.0     0.0       100.0         0.00   \n",
       "min                24.6     19.4  23.3  15.2     0.0         NaN         0.00   \n",
       "lower_quartile     32.0     24.0  27.5  22.7     0.0         NaN         0.00   \n",
       "median             33.0     25.0  28.3  24.4     0.0         NaN         0.00   \n",
       "upper_quartile     34.0     26.0  29.2  25.1     1.4         NaN         4.20   \n",
       "max                37.6     29.0  31.9  26.9   140.8         NaN        16.67   \n",
       "\n",
       "                Preciptype   Snow  Snowdepth  ...  Winddir  Pressure  \\\n",
       "missing_ratio        100.0  100.0      100.0  ...      0.0       0.8   \n",
       "min                    NaN    NaN        NaN  ...     32.5    1004.3   \n",
       "lower_quartile         NaN    NaN        NaN  ...    143.9    1008.5   \n",
       "median                 NaN    NaN        NaN  ...    184.6    1009.8   \n",
       "upper_quartile         NaN    NaN        NaN  ...    237.1    1011.2   \n",
       "max                    NaN    NaN        NaN  ...    343.3    1016.6   \n",
       "\n",
       "                Cloudcover  Visibility  Solarradiation  Solarenergy  \\\n",
       "missing_ratio          0.0         0.0           100.0        100.0   \n",
       "min                   11.1         6.2             NaN          NaN   \n",
       "lower_quartile        44.6         9.1             NaN          NaN   \n",
       "median                52.7         9.7             NaN          NaN   \n",
       "upper_quartile        59.9        10.1             NaN          NaN   \n",
       "max                   99.6        10.9             NaN          NaN   \n",
       "\n",
       "                Moonphase  Normal  Events  Hours  \n",
       "missing_ratio         0.0   100.0   100.0  100.0  \n",
       "min                   0.0     NaN     NaN    NaN  \n",
       "lower_quartile        0.2     NaN     NaN    NaN  \n",
       "median                0.5     NaN     NaN    NaN  \n",
       "upper_quartile        0.8     NaN     NaN    NaN  \n",
       "max                   1.0     NaN     NaN    NaN  \n",
       "\n",
       "[6 rows x 22 columns]"
      ]
     },
     "execution_count": 22,
     "metadata": {},
     "output_type": "execute_result"
    }
   ],
   "source": [
    "df = train_X_df[num_cols]\n",
    "\n",
    "def missing_ratio(df):\n",
    "    return (df.isna().mean() * 100).round(1)\n",
    "def lower_quartile(df):\n",
    "    return df.quantile(0.25).round(1)\n",
    "def median(df):\n",
    "    return df.quantile(0.5).round(1)\n",
    "def upper_quartile(df):\n",
    "    return df.quantile(0.75).round(1)\n",
    "\n",
    "df.agg([missing_ratio, 'min', lower_quartile, median, upper_quartile, 'max'])"
   ]
  },
  {
   "cell_type": "markdown",
   "metadata": {},
   "source": [
    "#### Phân bố của các cột dữ liệu không phải dạng số"
   ]
  },
  {
   "cell_type": "code",
   "execution_count": 23,
   "metadata": {},
   "outputs": [
    {
     "data": {
      "text/html": [
       "<div>\n",
       "<style scoped>\n",
       "    .dataframe tbody tr th:only-of-type {\n",
       "        vertical-align: middle;\n",
       "    }\n",
       "\n",
       "    .dataframe tbody tr th {\n",
       "        vertical-align: top;\n",
       "    }\n",
       "\n",
       "    .dataframe thead th {\n",
       "        text-align: right;\n",
       "    }\n",
       "</style>\n",
       "<table border=\"1\" class=\"dataframe\">\n",
       "  <thead>\n",
       "    <tr style=\"text-align: right;\">\n",
       "      <th></th>\n",
       "      <th>Datetime</th>\n",
       "      <th>Sunrise</th>\n",
       "      <th>Sunset</th>\n",
       "      <th>Conditions</th>\n",
       "      <th>Icon</th>\n",
       "    </tr>\n",
       "  </thead>\n",
       "  <tbody>\n",
       "    <tr>\n",
       "      <th>missing_ratio</th>\n",
       "      <td>0</td>\n",
       "      <td>0</td>\n",
       "      <td>0</td>\n",
       "      <td>0</td>\n",
       "      <td>0</td>\n",
       "    </tr>\n",
       "    <tr>\n",
       "      <th>num_values</th>\n",
       "      <td>1022</td>\n",
       "      <td>768</td>\n",
       "      <td>809</td>\n",
       "      <td>5</td>\n",
       "      <td>5</td>\n",
       "    </tr>\n",
       "    <tr>\n",
       "      <th>value_ratios</th>\n",
       "      <td>{'2017-11-10': 0.1, '2017-10-22': 0.1, '2019-12-04': 0.1, '2020-07-11': 0.1, '2017-12-07': 0.1, '2018-12-21': 0.1, '2018-12-13': 0.1, '2018-04-01': 0.1, '2019-08-20': 0.1, '2018-06-30': 0.1, '2020...</td>\n",
       "      <td>{'05:43:32': 1.0, '05:41:50': 0.8, '05:43:33': 0.8, '05:41:51': 0.7, '05:41:52': 0.5, '05:43:30': 0.5, '05:43:34': 0.5, '05:29:39': 0.5, '05:43:06': 0.5, '05:29:42': 0.5, '05:43:24': 0.5, '05:29:4...</td>\n",
       "      <td>{'18:04:04': 3.0, '18:04:03': 1.3, '18:04:05': 1.1, '18:20:03': 0.7, '17:26:37': 0.5, '17:26:38': 0.5, '18:04:06': 0.5, '18:20:04': 0.4, '18:20:00': 0.4, '18:19:58': 0.4, '18:04:02': 0.4, '18:03:5...</td>\n",
       "      <td>{'Partially cloudy': 66.3, 'Rain': 27.9, 'Overcast': 4.7, 'Clear': 1.2}</td>\n",
       "      <td>{'partly-cloudy-day': 57.8, 'rain': 27.1, 'cloudy': 11.9, 'clear-day': 1.7, 'wind': 1.5}</td>\n",
       "    </tr>\n",
       "  </tbody>\n",
       "</table>\n",
       "</div>"
      ],
      "text/plain": [
       "                                                                                                                                                                                                              Datetime  \\\n",
       "missing_ratio                                                                                                                                                                                                        0   \n",
       "num_values                                                                                                                                                                                                        1022   \n",
       "value_ratios   {'2017-11-10': 0.1, '2017-10-22': 0.1, '2019-12-04': 0.1, '2020-07-11': 0.1, '2017-12-07': 0.1, '2018-12-21': 0.1, '2018-12-13': 0.1, '2018-04-01': 0.1, '2019-08-20': 0.1, '2018-06-30': 0.1, '2020...   \n",
       "\n",
       "                                                                                                                                                                                                               Sunrise  \\\n",
       "missing_ratio                                                                                                                                                                                                        0   \n",
       "num_values                                                                                                                                                                                                         768   \n",
       "value_ratios   {'05:43:32': 1.0, '05:41:50': 0.8, '05:43:33': 0.8, '05:41:51': 0.7, '05:41:52': 0.5, '05:43:30': 0.5, '05:43:34': 0.5, '05:29:39': 0.5, '05:43:06': 0.5, '05:29:42': 0.5, '05:43:24': 0.5, '05:29:4...   \n",
       "\n",
       "                                                                                                                                                                                                                Sunset  \\\n",
       "missing_ratio                                                                                                                                                                                                        0   \n",
       "num_values                                                                                                                                                                                                         809   \n",
       "value_ratios   {'18:04:04': 3.0, '18:04:03': 1.3, '18:04:05': 1.1, '18:20:03': 0.7, '17:26:37': 0.5, '17:26:38': 0.5, '18:04:06': 0.5, '18:20:04': 0.4, '18:20:00': 0.4, '18:19:58': 0.4, '18:04:02': 0.4, '18:03:5...   \n",
       "\n",
       "                                                                            Conditions  \\\n",
       "missing_ratio                                                                        0   \n",
       "num_values                                                                           5   \n",
       "value_ratios   {'Partially cloudy': 66.3, 'Rain': 27.9, 'Overcast': 4.7, 'Clear': 1.2}   \n",
       "\n",
       "                                                                                                   Icon  \n",
       "missing_ratio                                                                                         0  \n",
       "num_values                                                                                            5  \n",
       "value_ratios   {'partly-cloudy-day': 57.8, 'rain': 27.1, 'cloudy': 11.9, 'clear-day': 1.7, 'wind': 1.5}  "
      ]
     },
     "execution_count": 23,
     "metadata": {},
     "output_type": "execute_result"
    }
   ],
   "source": [
    "pd.set_option('display.max_colwidth', 200) # Để nhìn rõ hơn\n",
    "cat_cols = ['Datetime', 'Sunrise', 'Sunset', 'Conditions', 'Icon']\n",
    "cat_multi_cols = ['Conditions']\n",
    "df = train_X_df[cat_cols]\n",
    "\n",
    "def missing_ratio(df):\n",
    "    return (df.isna().mean() * 100).round(1)\n",
    "def num_values(df):\n",
    "    return df.nunique()\n",
    "def value_ratios(c):\n",
    "    if c.name in cat_multi_cols:\n",
    "        s = c.str.split(', ').explode().value_counts(normalize=True)\n",
    "        return dict((s * 100).round(1))\n",
    "    else:\n",
    "        return dict((c.value_counts(normalize=True) * 100).round(1))\n",
    "    \n",
    "df.agg([missing_ratio, num_values, value_ratios])"
   ]
  },
  {
   "cell_type": "markdown",
   "metadata": {},
   "source": [
    "## 4. Tiền xử lí và mô hình hóa dữ liệu"
   ]
  },
  {
   "cell_type": "markdown",
   "metadata": {},
   "source": [
    "Dữ liệu của ta có khá nhiều cột nhưng nhận thấy chỉ một số cột (có thể) ảnh hưởng đến kết quả độ ẩm tương đối. Đó là các cột:\n",
    "- Nhiệt độ (Temp)\n",
    "- Nhiệt độ cao nhất (Tempmax)\n",
    "- Nhiệt độ thấp nhất (Tempmin)\n",
    "- Độ sương (Dew)\n",
    "- Tốc độ gió (Windspeed)\n",
    "- Hướng gió (Winddir)\n",
    "- Áp suất (Pressure)\n",
    "- Độ bao phủ của mây (Cloudcover)\n",
    "- Tầm nhìn (Visibility)\n",
    "- Icon"
   ]
  },
  {
   "cell_type": "markdown",
   "metadata": {},
   "source": [
    "### Tiền xử lí tập huấn luyện"
   ]
  },
  {
   "cell_type": "markdown",
   "metadata": {},
   "source": [
    "Đầu tiên, class ColAdderDropper xử lí thêm bớt một số cột như sau:\n",
    "- Tạo thêm 2 cột là Day và Month lấy thông tin ngày, tháng từ cột Datetime. Sau đó bỏ cột Datetime.\n",
    "- Bỏ các cột DatetimeEpoch, Feelslikemax, Feelslikemin, Feelslike, Precip, Precipprob, Precipcover, Sunrise, SunriseEpoch, Sunset, SunsetEpoch, Moonphase, Stations, Source vì các cột này không mang lại nhiều thông tin hữu ích đối với cột Humidity.\n",
    "- Bỏ các cột Snow, Snowdepth, Windgust, Solarradiation, Solarenergy vì chứa nhiều giá trị trống (NaN).\n",
    "- Bỏ cột Conditions vì nhìn qua thì cột Conditions và cột Icon khá tương quan với nhau nên ta chỉ lấy cột Icon.\n",
    "\n",
    "Với các cột dữ liệu dạng số ta sẽ điền giá trị thiếu bằng mean của cột bằng cách sử dụng `SimpleImputer`"
   ]
  },
  {
   "cell_type": "code",
   "execution_count": 24,
   "metadata": {},
   "outputs": [],
   "source": [
    "class ColAdderDropper(BaseEstimator, TransformerMixin):\n",
    "    def fit(self, X_df, y = None):\n",
    "        return self\n",
    "    def transform(self, X_df, y = None):\n",
    "        # YOUR CODE HERE\n",
    "        df = X_df.copy()\n",
    "        month_sr = df['Datetime'].str.split('-').apply(lambda x: x[1])\n",
    "        day_sr = df['Datetime'].str.split('-').apply(lambda x: x[2])\n",
    "        df.insert(0, 'Day', day_sr)\n",
    "        df.insert(0, 'Month', month_sr)\n",
    "        df.drop(['Datetime', 'DatetimeEpoch', 'Feelslikemax', 'Feelslikemin', 'Feelslike', 'Precip', 'Precipprob',\n",
    "                 'Precipcover', 'Sunrise', 'SunriseEpoch', 'Sunset', 'SunsetEpoch', 'Moonphase', 'Stations', 'Source', 'Snow',\n",
    "                 'Snowdepth', 'Windgust', 'Solarradiation', 'Solarenergy', 'Conditions'], axis = 1, inplace = True)\n",
    "        return df"
   ]
  },
  {
   "cell_type": "code",
   "execution_count": 25,
   "metadata": {},
   "outputs": [
    {
     "data": {
      "text/html": [
       "<div>\n",
       "<style scoped>\n",
       "    .dataframe tbody tr th:only-of-type {\n",
       "        vertical-align: middle;\n",
       "    }\n",
       "\n",
       "    .dataframe tbody tr th {\n",
       "        vertical-align: top;\n",
       "    }\n",
       "\n",
       "    .dataframe thead th {\n",
       "        text-align: right;\n",
       "    }\n",
       "</style>\n",
       "<table border=\"1\" class=\"dataframe\">\n",
       "  <thead>\n",
       "    <tr style=\"text-align: right;\">\n",
       "      <th></th>\n",
       "      <th>Month</th>\n",
       "      <th>Day</th>\n",
       "      <th>Tempmax</th>\n",
       "      <th>Tempmin</th>\n",
       "      <th>Temp</th>\n",
       "      <th>Dew</th>\n",
       "      <th>Preciptype</th>\n",
       "      <th>Windspeed</th>\n",
       "      <th>Winddir</th>\n",
       "      <th>Pressure</th>\n",
       "      <th>Cloudcover</th>\n",
       "      <th>Visibility</th>\n",
       "      <th>Icon</th>\n",
       "      <th>Normal</th>\n",
       "      <th>Events</th>\n",
       "      <th>Hours</th>\n",
       "    </tr>\n",
       "  </thead>\n",
       "  <tbody>\n",
       "    <tr>\n",
       "      <th>1198</th>\n",
       "      <td>04</td>\n",
       "      <td>13</td>\n",
       "      <td>31.0</td>\n",
       "      <td>26.0</td>\n",
       "      <td>28.2</td>\n",
       "      <td>24.4</td>\n",
       "      <td>NaN</td>\n",
       "      <td>14.8</td>\n",
       "      <td>150.2</td>\n",
       "      <td>1011.1</td>\n",
       "      <td>59.3</td>\n",
       "      <td>8.8</td>\n",
       "      <td>partly-cloudy-day</td>\n",
       "      <td>NaN</td>\n",
       "      <td>NaN</td>\n",
       "      <td>NaN</td>\n",
       "    </tr>\n",
       "    <tr>\n",
       "      <th>927</th>\n",
       "      <td>07</td>\n",
       "      <td>17</td>\n",
       "      <td>31.0</td>\n",
       "      <td>24.0</td>\n",
       "      <td>26.8</td>\n",
       "      <td>25.3</td>\n",
       "      <td>NaN</td>\n",
       "      <td>18.2</td>\n",
       "      <td>248.1</td>\n",
       "      <td>1006.1</td>\n",
       "      <td>67.8</td>\n",
       "      <td>8.1</td>\n",
       "      <td>rain</td>\n",
       "      <td>NaN</td>\n",
       "      <td>NaN</td>\n",
       "      <td>NaN</td>\n",
       "    </tr>\n",
       "    <tr>\n",
       "      <th>421</th>\n",
       "      <td>02</td>\n",
       "      <td>26</td>\n",
       "      <td>33.0</td>\n",
       "      <td>24.0</td>\n",
       "      <td>27.8</td>\n",
       "      <td>22.2</td>\n",
       "      <td>NaN</td>\n",
       "      <td>17.3</td>\n",
       "      <td>140.1</td>\n",
       "      <td>1010.9</td>\n",
       "      <td>41.3</td>\n",
       "      <td>9.8</td>\n",
       "      <td>partly-cloudy-day</td>\n",
       "      <td>NaN</td>\n",
       "      <td>NaN</td>\n",
       "      <td>NaN</td>\n",
       "    </tr>\n",
       "    <tr>\n",
       "      <th>929</th>\n",
       "      <td>07</td>\n",
       "      <td>19</td>\n",
       "      <td>32.0</td>\n",
       "      <td>26.0</td>\n",
       "      <td>28.1</td>\n",
       "      <td>25.4</td>\n",
       "      <td>NaN</td>\n",
       "      <td>20.0</td>\n",
       "      <td>234.6</td>\n",
       "      <td>1006.8</td>\n",
       "      <td>54.6</td>\n",
       "      <td>9.9</td>\n",
       "      <td>rain</td>\n",
       "      <td>NaN</td>\n",
       "      <td>NaN</td>\n",
       "      <td>NaN</td>\n",
       "    </tr>\n",
       "    <tr>\n",
       "      <th>63</th>\n",
       "      <td>03</td>\n",
       "      <td>05</td>\n",
       "      <td>33.0</td>\n",
       "      <td>24.0</td>\n",
       "      <td>27.3</td>\n",
       "      <td>21.4</td>\n",
       "      <td>NaN</td>\n",
       "      <td>16.6</td>\n",
       "      <td>162.1</td>\n",
       "      <td>1010.2</td>\n",
       "      <td>27.2</td>\n",
       "      <td>10.1</td>\n",
       "      <td>partly-cloudy-day</td>\n",
       "      <td>NaN</td>\n",
       "      <td>NaN</td>\n",
       "      <td>NaN</td>\n",
       "    </tr>\n",
       "  </tbody>\n",
       "</table>\n",
       "</div>"
      ],
      "text/plain": [
       "     Month Day  Tempmax  Tempmin  Temp   Dew  Preciptype  Windspeed  Winddir  \\\n",
       "1198    04  13     31.0     26.0  28.2  24.4         NaN       14.8    150.2   \n",
       "927     07  17     31.0     24.0  26.8  25.3         NaN       18.2    248.1   \n",
       "421     02  26     33.0     24.0  27.8  22.2         NaN       17.3    140.1   \n",
       "929     07  19     32.0     26.0  28.1  25.4         NaN       20.0    234.6   \n",
       "63      03  05     33.0     24.0  27.3  21.4         NaN       16.6    162.1   \n",
       "\n",
       "      Pressure  Cloudcover  Visibility               Icon  Normal  Events  \\\n",
       "1198    1011.1        59.3         8.8  partly-cloudy-day     NaN     NaN   \n",
       "927     1006.1        67.8         8.1               rain     NaN     NaN   \n",
       "421     1010.9        41.3         9.8  partly-cloudy-day     NaN     NaN   \n",
       "929     1006.8        54.6         9.9               rain     NaN     NaN   \n",
       "63      1010.2        27.2        10.1  partly-cloudy-day     NaN     NaN   \n",
       "\n",
       "      Hours  \n",
       "1198    NaN  \n",
       "927     NaN  \n",
       "421     NaN  \n",
       "929     NaN  \n",
       "63      NaN  "
      ]
     },
     "execution_count": 25,
     "metadata": {},
     "output_type": "execute_result"
    }
   ],
   "source": [
    "# TEST TRANSFORM METHOD\n",
    "col_adderdropper = ColAdderDropper()\n",
    "fewer_cols_train_X_df = col_adderdropper.transform(train_X_df)\n",
    "fewer_cols_train_X_df.head()"
   ]
  },
  {
   "cell_type": "markdown",
   "metadata": {},
   "source": [
    "Đến đây, các cột dạng số (numerical) gồm: \"Month\", \"Day\", \"Tempmax\", \"Tempmin\", \"Temp\", \"Dew\", \"Windspeed\", \"Winddir\", \"Pressure\", \"Cloudcover\", \"Visibility\"; cột duy nhất không phải dạng số (categorical) và không có thứ tự là cột \"Icon\"; không có cột không phải dạng số và có thứ tự. Các bước tiền xử lý tiếp theo như sau:\n",
    "- Với các cột dạng số, ta sẽ điền giá trị thiếu bằng giá trị mean của cột. \n",
    "- Với các cột không phải dạng số và không có thứ tự:\n",
    "    - Ta sẽ điền giá trị thiếu bằng giá trị mode (giá trị xuất hiện nhiều nhất) của cột. \n",
    "    - Sau đó, ta sẽ chuyển sang dạng số bằng phương pháp mã hóa one-hot.\n",
    "- Cuối cùng, khi tất cả các cột đã được điền giá trị thiếu và đã có dạng số, ta sẽ tiến hành chuẩn hóa bằng cách trừ đi mean và chia cho độ lệch chuẩn của cột để giúp cho các thuật toán cực tiểu hóa như Gradient Descent, LBFGS, ... hội tụ nhanh hơn."
   ]
  },
  {
   "cell_type": "code",
   "execution_count": 26,
   "metadata": {},
   "outputs": [
    {
     "data": {
      "text/html": [
       "<style>div.sk-top-container {color: black;background-color: white;}div.sk-toggleable {background-color: white;}label.sk-toggleable__label {cursor: pointer;display: block;width: 100%;margin-bottom: 0;padding: 0.2em 0.3em;box-sizing: border-box;text-align: center;}div.sk-toggleable__content {max-height: 0;max-width: 0;overflow: hidden;text-align: left;background-color: #f0f8ff;}div.sk-toggleable__content pre {margin: 0.2em;color: black;border-radius: 0.25em;background-color: #f0f8ff;}input.sk-toggleable__control:checked~div.sk-toggleable__content {max-height: 200px;max-width: 100%;overflow: auto;}div.sk-estimator input.sk-toggleable__control:checked~label.sk-toggleable__label {background-color: #d4ebff;}div.sk-label input.sk-toggleable__control:checked~label.sk-toggleable__label {background-color: #d4ebff;}input.sk-hidden--visually {border: 0;clip: rect(1px 1px 1px 1px);clip: rect(1px, 1px, 1px, 1px);height: 1px;margin: -1px;overflow: hidden;padding: 0;position: absolute;width: 1px;}div.sk-estimator {font-family: monospace;background-color: #f0f8ff;margin: 0.25em 0.25em;border: 1px dotted black;border-radius: 0.25em;box-sizing: border-box;}div.sk-estimator:hover {background-color: #d4ebff;}div.sk-parallel-item::after {content: \"\";width: 100%;border-bottom: 1px solid gray;flex-grow: 1;}div.sk-label:hover label.sk-toggleable__label {background-color: #d4ebff;}div.sk-serial::before {content: \"\";position: absolute;border-left: 1px solid gray;box-sizing: border-box;top: 2em;bottom: 0;left: 50%;}div.sk-serial {display: flex;flex-direction: column;align-items: center;background-color: white;}div.sk-item {z-index: 1;}div.sk-parallel {display: flex;align-items: stretch;justify-content: center;background-color: white;}div.sk-parallel-item {display: flex;flex-direction: column;position: relative;background-color: white;}div.sk-parallel-item:first-child::after {align-self: flex-end;width: 50%;}div.sk-parallel-item:last-child::after {align-self: flex-start;width: 50%;}div.sk-parallel-item:only-child::after {width: 0;}div.sk-dashed-wrapped {border: 1px dashed gray;margin: 0.2em;box-sizing: border-box;padding-bottom: 0.1em;background-color: white;position: relative;}div.sk-label label {font-family: monospace;font-weight: bold;background-color: white;display: inline-block;line-height: 1.2em;}div.sk-label-container {position: relative;z-index: 2;text-align: center;}div.sk-container {display: inline-block;position: relative;}</style><div class=\"sk-top-container\"><div class=\"sk-container\"><div class=\"sk-item sk-dashed-wrapped\"><div class=\"sk-label-container\"><div class=\"sk-label sk-toggleable\"><input class=\"sk-toggleable__control sk-hidden--visually\" id=\"5f933346-47fd-4752-9b58-abe47ccbf575\" type=\"checkbox\" ><label class=\"sk-toggleable__label\" for=\"5f933346-47fd-4752-9b58-abe47ccbf575\">Pipeline</label><div class=\"sk-toggleable__content\"><pre>Pipeline(steps=[('coladderdropper', ColAdderDropper()),\n",
       "                ('columntransformer',\n",
       "                 ColumnTransformer(transformers=[('simpleimputer',\n",
       "                                                  SimpleImputer(),\n",
       "                                                  ['Month', 'Day', 'Tempmax',\n",
       "                                                   'Tempmin', 'Temp', 'Dew',\n",
       "                                                   'Windspeed', 'Winddir',\n",
       "                                                   'Pressure', 'Cloudcover',\n",
       "                                                   'Visibility']),\n",
       "                                                 ('pipeline',\n",
       "                                                  Pipeline(steps=[('simpleimputer',\n",
       "                                                                   SimpleImputer(strategy='most_frequent')),\n",
       "                                                                  ('onehotencoder',\n",
       "                                                                   OneHotEncoder(handle_unknown='ignore'))]),\n",
       "                                                  ['Icon'])])),\n",
       "                ('standardscaler', StandardScaler())])</pre></div></div></div><div class=\"sk-serial\"><div class=\"sk-item\"><div class=\"sk-estimator sk-toggleable\"><input class=\"sk-toggleable__control sk-hidden--visually\" id=\"7a087438-195c-49c6-ab2d-f4751cd692c9\" type=\"checkbox\" ><label class=\"sk-toggleable__label\" for=\"7a087438-195c-49c6-ab2d-f4751cd692c9\">ColAdderDropper</label><div class=\"sk-toggleable__content\"><pre>ColAdderDropper()</pre></div></div></div><div class=\"sk-item sk-dashed-wrapped\"><div class=\"sk-label-container\"><div class=\"sk-label sk-toggleable\"><input class=\"sk-toggleable__control sk-hidden--visually\" id=\"b7550df8-9e2a-4488-bca3-12c3e8094583\" type=\"checkbox\" ><label class=\"sk-toggleable__label\" for=\"b7550df8-9e2a-4488-bca3-12c3e8094583\">columntransformer: ColumnTransformer</label><div class=\"sk-toggleable__content\"><pre>ColumnTransformer(transformers=[('simpleimputer', SimpleImputer(),\n",
       "                                 ['Month', 'Day', 'Tempmax', 'Tempmin', 'Temp',\n",
       "                                  'Dew', 'Windspeed', 'Winddir', 'Pressure',\n",
       "                                  'Cloudcover', 'Visibility']),\n",
       "                                ('pipeline',\n",
       "                                 Pipeline(steps=[('simpleimputer',\n",
       "                                                  SimpleImputer(strategy='most_frequent')),\n",
       "                                                 ('onehotencoder',\n",
       "                                                  OneHotEncoder(handle_unknown='ignore'))]),\n",
       "                                 ['Icon'])])</pre></div></div></div><div class=\"sk-parallel\"><div class=\"sk-parallel-item\"><div class=\"sk-item\"><div class=\"sk-label-container\"><div class=\"sk-label sk-toggleable\"><input class=\"sk-toggleable__control sk-hidden--visually\" id=\"1527fff5-11a7-46d9-ac57-8025f6798b34\" type=\"checkbox\" ><label class=\"sk-toggleable__label\" for=\"1527fff5-11a7-46d9-ac57-8025f6798b34\">simpleimputer</label><div class=\"sk-toggleable__content\"><pre>['Month', 'Day', 'Tempmax', 'Tempmin', 'Temp', 'Dew', 'Windspeed', 'Winddir', 'Pressure', 'Cloudcover', 'Visibility']</pre></div></div></div><div class=\"sk-serial\"><div class=\"sk-item\"><div class=\"sk-estimator sk-toggleable\"><input class=\"sk-toggleable__control sk-hidden--visually\" id=\"08019168-c69e-4f36-abc8-8c33ee131418\" type=\"checkbox\" ><label class=\"sk-toggleable__label\" for=\"08019168-c69e-4f36-abc8-8c33ee131418\">SimpleImputer</label><div class=\"sk-toggleable__content\"><pre>SimpleImputer()</pre></div></div></div></div></div></div><div class=\"sk-parallel-item\"><div class=\"sk-item\"><div class=\"sk-label-container\"><div class=\"sk-label sk-toggleable\"><input class=\"sk-toggleable__control sk-hidden--visually\" id=\"da4a78be-b3ed-45a0-91b4-58905badda39\" type=\"checkbox\" ><label class=\"sk-toggleable__label\" for=\"da4a78be-b3ed-45a0-91b4-58905badda39\">pipeline</label><div class=\"sk-toggleable__content\"><pre>['Icon']</pre></div></div></div><div class=\"sk-serial\"><div class=\"sk-item\"><div class=\"sk-serial\"><div class=\"sk-item\"><div class=\"sk-estimator sk-toggleable\"><input class=\"sk-toggleable__control sk-hidden--visually\" id=\"6fc08871-5b2b-4e40-b504-ccc755d54f39\" type=\"checkbox\" ><label class=\"sk-toggleable__label\" for=\"6fc08871-5b2b-4e40-b504-ccc755d54f39\">SimpleImputer</label><div class=\"sk-toggleable__content\"><pre>SimpleImputer(strategy='most_frequent')</pre></div></div></div><div class=\"sk-item\"><div class=\"sk-estimator sk-toggleable\"><input class=\"sk-toggleable__control sk-hidden--visually\" id=\"a3922d56-3b63-4849-884b-b1593be34873\" type=\"checkbox\" ><label class=\"sk-toggleable__label\" for=\"a3922d56-3b63-4849-884b-b1593be34873\">OneHotEncoder</label><div class=\"sk-toggleable__content\"><pre>OneHotEncoder(handle_unknown='ignore')</pre></div></div></div></div></div></div></div></div></div></div><div class=\"sk-item\"><div class=\"sk-estimator sk-toggleable\"><input class=\"sk-toggleable__control sk-hidden--visually\" id=\"2337428a-c86d-4b64-9d2c-83e56865d2d5\" type=\"checkbox\" ><label class=\"sk-toggleable__label\" for=\"2337428a-c86d-4b64-9d2c-83e56865d2d5\">StandardScaler</label><div class=\"sk-toggleable__content\"><pre>StandardScaler()</pre></div></div></div></div></div></div></div>"
      ],
      "text/plain": [
       "Pipeline(steps=[('coladderdropper', ColAdderDropper()),\n",
       "                ('columntransformer',\n",
       "                 ColumnTransformer(transformers=[('simpleimputer',\n",
       "                                                  SimpleImputer(),\n",
       "                                                  ['Month', 'Day', 'Tempmax',\n",
       "                                                   'Tempmin', 'Temp', 'Dew',\n",
       "                                                   'Windspeed', 'Winddir',\n",
       "                                                   'Pressure', 'Cloudcover',\n",
       "                                                   'Visibility']),\n",
       "                                                 ('pipeline',\n",
       "                                                  Pipeline(steps=[('simpleimputer',\n",
       "                                                                   SimpleImputer(strategy='most_frequent')),\n",
       "                                                                  ('onehotencoder',\n",
       "                                                                   OneHotEncoder(handle_unknown='ignore'))]),\n",
       "                                                  ['Icon'])])),\n",
       "                ('standardscaler', StandardScaler())])"
      ]
     },
     "execution_count": 26,
     "metadata": {},
     "output_type": "execute_result"
    }
   ],
   "source": [
    "nume_cols = ['Month', 'Day', 'Tempmax', 'Tempmin', 'Temp', 'Dew', \n",
    "             'Windspeed', 'Winddir', 'Pressure', 'Cloudcover', 'Visibility']\n",
    "unorder_cate_cols = ['Icon']\n",
    "\n",
    "unorder_cate_pipeline = make_pipeline(\n",
    "    SimpleImputer(missing_values = np.nan, strategy = 'most_frequent'),\n",
    "    OneHotEncoder(handle_unknown = \"ignore\")\n",
    ")\n",
    "\n",
    "col_transform = make_column_transformer(\n",
    "    (SimpleImputer(strategy='mean'), nume_cols),\n",
    "    (unorder_cate_pipeline, unorder_cate_cols))\n",
    "\n",
    "preprocess_pipeline = make_pipeline(\n",
    "    ColAdderDropper(),\n",
    "    col_transform,\n",
    "    StandardScaler()\n",
    ")\n",
    "preprocessed_train_X = preprocess_pipeline.fit_transform(train_X_df)\n",
    "#TEST\n",
    "preprocess_pipeline"
   ]
  },
  {
   "cell_type": "markdown",
   "metadata": {},
   "source": [
    "### Tiền xử lí tập validation"
   ]
  },
  {
   "cell_type": "code",
   "execution_count": 27,
   "metadata": {},
   "outputs": [],
   "source": [
    "preprocessed_val_X = preprocess_pipeline.transform(val_X_df)"
   ]
  },
  {
   "cell_type": "markdown",
   "metadata": {},
   "source": [
    "### Kết hợp tiền xử lí và mô hình hóa"
   ]
  },
  {
   "cell_type": "markdown",
   "metadata": {},
   "source": [
    "Ta sẽ sử dụng mô hình Neural Net để phân lớp. Bạn sẽ tạo ra một pipeline từ đầu đến cuối bao gồm: các bước tiền xử lý ở trên + Neural Net (với các siêu tham số `hidden_layer_sizes=(20), activation='tanh', solver='lbfgs', random_state=0, max_iter=4500`) và đặt tên cho pipeline này là full_pipeline. \n",
    "Sau khi đã có được pipeline từ đầu đến cuối này, ta sẽ thử nghiệm:\n",
    "- Siêu tham số `alpha` (mức độ L2 regularization hay weight decay) của `MLPRegressor` với 10 giá trị khác nhau: 0.0001, 0.001, 0.01 0.1, 1, 10, 100, 1000, 10000, 100000.\n",
    "Như vậy, ta sẽ thử nghiệm 10 mô hình khác nhau, với mỗi mô hình ta sẽ: huấn luyện trên tập huấn luyện, tính độ lỗi trên tập huấn luyện và tập validation rồi `append` độ lỗi vào 2 list tương ứng là `train_errs` và `var_errs` (để dễ nhìn, ta tính độ lỗi theo đơn vị %, nghĩa là có giá trị từ 0-100). Sau đó lưu lại độ lỗi nhỏ nhất trên tập validation và giá trị `alpha` tương ứng lần lượt vào biến `best_val_err` và `best_alpha`."
   ]
  },
  {
   "cell_type": "code",
   "execution_count": 28,
   "metadata": {},
   "outputs": [
    {
     "name": "stderr",
     "output_type": "stream",
     "text": [
      "c:\\users\\pc\\appdata\\local\\programs\\python\\python37\\lib\\site-packages\\sklearn\\neural_network\\_multilayer_perceptron.py:471: ConvergenceWarning: lbfgs failed to converge (status=1):\n",
      "STOP: TOTAL NO. of ITERATIONS REACHED LIMIT.\n",
      "\n",
      "Increase the number of iterations (max_iter) or scale the data as shown in:\n",
      "    https://scikit-learn.org/stable/modules/preprocessing.html\n",
      "  self.n_iter_ = _check_optimize_result(\"lbfgs\", opt_res, self.max_iter)\n",
      "c:\\users\\pc\\appdata\\local\\programs\\python\\python37\\lib\\site-packages\\sklearn\\neural_network\\_multilayer_perceptron.py:471: ConvergenceWarning: lbfgs failed to converge (status=1):\n",
      "STOP: TOTAL NO. of ITERATIONS REACHED LIMIT.\n",
      "\n",
      "Increase the number of iterations (max_iter) or scale the data as shown in:\n",
      "    https://scikit-learn.org/stable/modules/preprocessing.html\n",
      "  self.n_iter_ = _check_optimize_result(\"lbfgs\", opt_res, self.max_iter)\n",
      "c:\\users\\pc\\appdata\\local\\programs\\python\\python37\\lib\\site-packages\\sklearn\\neural_network\\_multilayer_perceptron.py:471: ConvergenceWarning: lbfgs failed to converge (status=1):\n",
      "STOP: TOTAL NO. of ITERATIONS REACHED LIMIT.\n",
      "\n",
      "Increase the number of iterations (max_iter) or scale the data as shown in:\n",
      "    https://scikit-learn.org/stable/modules/preprocessing.html\n",
      "  self.n_iter_ = _check_optimize_result(\"lbfgs\", opt_res, self.max_iter)\n",
      "c:\\users\\pc\\appdata\\local\\programs\\python\\python37\\lib\\site-packages\\sklearn\\neural_network\\_multilayer_perceptron.py:471: ConvergenceWarning: lbfgs failed to converge (status=1):\n",
      "STOP: TOTAL NO. of ITERATIONS REACHED LIMIT.\n",
      "\n",
      "Increase the number of iterations (max_iter) or scale the data as shown in:\n",
      "    https://scikit-learn.org/stable/modules/preprocessing.html\n",
      "  self.n_iter_ = _check_optimize_result(\"lbfgs\", opt_res, self.max_iter)\n",
      "c:\\users\\pc\\appdata\\local\\programs\\python\\python37\\lib\\site-packages\\sklearn\\neural_network\\_multilayer_perceptron.py:471: ConvergenceWarning: lbfgs failed to converge (status=1):\n",
      "STOP: TOTAL NO. of ITERATIONS REACHED LIMIT.\n",
      "\n",
      "Increase the number of iterations (max_iter) or scale the data as shown in:\n",
      "    https://scikit-learn.org/stable/modules/preprocessing.html\n",
      "  self.n_iter_ = _check_optimize_result(\"lbfgs\", opt_res, self.max_iter)\n"
     ]
    },
    {
     "data": {
      "text/plain": [
       "'Finish!'"
      ]
     },
     "execution_count": 28,
     "metadata": {},
     "output_type": "execute_result"
    }
   ],
   "source": [
    "# Tạo full_pipeline\n",
    "full_pipeline = make_pipeline(\n",
    "    preprocess_pipeline,\n",
    "    MLPRegressor(hidden_layer_sizes = (20), activation = 'tanh', solver = 'lbfgs', random_state = 0, max_iter = 4500),\n",
    ")\n",
    "\n",
    "# Thử nghiệm với nhiều giá trị khác nhau của siêu tham số mlpregressor__alpha\n",
    "train_errs = []\n",
    "val_errs = []\n",
    "alphas = [0.0001, 0.001, 0.01, 0.1, 1.0, 10, 100, 1000, 10000, 100000]\n",
    "best_val_err = float('inf'); best_alpha = None;\n",
    "\n",
    "for alpha in alphas:\n",
    "    full_pipeline.set_params(mlpregressor__alpha = alpha)\n",
    "    full_pipeline.fit(train_X_df, train_y_sr)\n",
    "    train_err = (1 - full_pipeline.score(train_X_df, train_y_sr)) * 100\n",
    "    train_errs.append(train_err)\n",
    "    val_err = (1 - full_pipeline.score(val_X_df, val_y_sr)) * 100\n",
    "    val_errs.append(val_err)\n",
    "        \n",
    "    # Lưu thông tin mô hình tốt nhất\n",
    "    if val_err < best_val_err:\n",
    "        best_val_err = val_err\n",
    "        best_alpha = alpha\n",
    "'Finish!'"
   ]
  },
  {
   "cell_type": "code",
   "execution_count": 29,
   "metadata": {},
   "outputs": [
    {
     "data": {
      "text/html": [
       "<style>div.sk-top-container {color: black;background-color: white;}div.sk-toggleable {background-color: white;}label.sk-toggleable__label {cursor: pointer;display: block;width: 100%;margin-bottom: 0;padding: 0.2em 0.3em;box-sizing: border-box;text-align: center;}div.sk-toggleable__content {max-height: 0;max-width: 0;overflow: hidden;text-align: left;background-color: #f0f8ff;}div.sk-toggleable__content pre {margin: 0.2em;color: black;border-radius: 0.25em;background-color: #f0f8ff;}input.sk-toggleable__control:checked~div.sk-toggleable__content {max-height: 200px;max-width: 100%;overflow: auto;}div.sk-estimator input.sk-toggleable__control:checked~label.sk-toggleable__label {background-color: #d4ebff;}div.sk-label input.sk-toggleable__control:checked~label.sk-toggleable__label {background-color: #d4ebff;}input.sk-hidden--visually {border: 0;clip: rect(1px 1px 1px 1px);clip: rect(1px, 1px, 1px, 1px);height: 1px;margin: -1px;overflow: hidden;padding: 0;position: absolute;width: 1px;}div.sk-estimator {font-family: monospace;background-color: #f0f8ff;margin: 0.25em 0.25em;border: 1px dotted black;border-radius: 0.25em;box-sizing: border-box;}div.sk-estimator:hover {background-color: #d4ebff;}div.sk-parallel-item::after {content: \"\";width: 100%;border-bottom: 1px solid gray;flex-grow: 1;}div.sk-label:hover label.sk-toggleable__label {background-color: #d4ebff;}div.sk-serial::before {content: \"\";position: absolute;border-left: 1px solid gray;box-sizing: border-box;top: 2em;bottom: 0;left: 50%;}div.sk-serial {display: flex;flex-direction: column;align-items: center;background-color: white;}div.sk-item {z-index: 1;}div.sk-parallel {display: flex;align-items: stretch;justify-content: center;background-color: white;}div.sk-parallel-item {display: flex;flex-direction: column;position: relative;background-color: white;}div.sk-parallel-item:first-child::after {align-self: flex-end;width: 50%;}div.sk-parallel-item:last-child::after {align-self: flex-start;width: 50%;}div.sk-parallel-item:only-child::after {width: 0;}div.sk-dashed-wrapped {border: 1px dashed gray;margin: 0.2em;box-sizing: border-box;padding-bottom: 0.1em;background-color: white;position: relative;}div.sk-label label {font-family: monospace;font-weight: bold;background-color: white;display: inline-block;line-height: 1.2em;}div.sk-label-container {position: relative;z-index: 2;text-align: center;}div.sk-container {display: inline-block;position: relative;}</style><div class=\"sk-top-container\"><div class=\"sk-container\"><div class=\"sk-item sk-dashed-wrapped\"><div class=\"sk-label-container\"><div class=\"sk-label sk-toggleable\"><input class=\"sk-toggleable__control sk-hidden--visually\" id=\"52b65a45-9418-4f91-abdf-61e0c341d72a\" type=\"checkbox\" ><label class=\"sk-toggleable__label\" for=\"52b65a45-9418-4f91-abdf-61e0c341d72a\">Pipeline</label><div class=\"sk-toggleable__content\"><pre>Pipeline(steps=[('pipeline',\n",
       "                 Pipeline(steps=[('coladderdropper', ColAdderDropper()),\n",
       "                                 ('columntransformer',\n",
       "                                  ColumnTransformer(transformers=[('simpleimputer',\n",
       "                                                                   SimpleImputer(),\n",
       "                                                                   ['Month',\n",
       "                                                                    'Day',\n",
       "                                                                    'Tempmax',\n",
       "                                                                    'Tempmin',\n",
       "                                                                    'Temp',\n",
       "                                                                    'Dew',\n",
       "                                                                    'Windspeed',\n",
       "                                                                    'Winddir',\n",
       "                                                                    'Pressure',\n",
       "                                                                    'Cloudcover',\n",
       "                                                                    'Visibility']),\n",
       "                                                                  ('pipeline',\n",
       "                                                                   Pipeline(steps=[('simpleimputer',\n",
       "                                                                                    SimpleImputer(strategy='most_frequent')),\n",
       "                                                                                   ('onehotencoder',\n",
       "                                                                                    OneHotEncoder(handle_unknown='ignore'))]),\n",
       "                                                                   ['Icon'])])),\n",
       "                                 ('standardscaler', StandardScaler())])),\n",
       "                ('mlpregressor',\n",
       "                 MLPRegressor(activation='tanh', alpha=100000,\n",
       "                              hidden_layer_sizes=20, max_iter=4500,\n",
       "                              random_state=0, solver='lbfgs'))])</pre></div></div></div><div class=\"sk-serial\"><div class=\"sk-item\"><div class=\"sk-label-container\"><div class=\"sk-label sk-toggleable\"><input class=\"sk-toggleable__control sk-hidden--visually\" id=\"2ee1049a-b67b-426c-a25b-3f7b2b29ea56\" type=\"checkbox\" ><label class=\"sk-toggleable__label\" for=\"2ee1049a-b67b-426c-a25b-3f7b2b29ea56\">pipeline: Pipeline</label><div class=\"sk-toggleable__content\"><pre>Pipeline(steps=[('coladderdropper', ColAdderDropper()),\n",
       "                ('columntransformer',\n",
       "                 ColumnTransformer(transformers=[('simpleimputer',\n",
       "                                                  SimpleImputer(),\n",
       "                                                  ['Month', 'Day', 'Tempmax',\n",
       "                                                   'Tempmin', 'Temp', 'Dew',\n",
       "                                                   'Windspeed', 'Winddir',\n",
       "                                                   'Pressure', 'Cloudcover',\n",
       "                                                   'Visibility']),\n",
       "                                                 ('pipeline',\n",
       "                                                  Pipeline(steps=[('simpleimputer',\n",
       "                                                                   SimpleImputer(strategy='most_frequent')),\n",
       "                                                                  ('onehotencoder',\n",
       "                                                                   OneHotEncoder(handle_unknown='ignore'))]),\n",
       "                                                  ['Icon'])])),\n",
       "                ('standardscaler', StandardScaler())])</pre></div></div></div><div class=\"sk-serial\"><div class=\"sk-item\"><div class=\"sk-estimator sk-toggleable\"><input class=\"sk-toggleable__control sk-hidden--visually\" id=\"aa0f8b62-9ee9-4dbe-88dc-7d6d6986c0e4\" type=\"checkbox\" ><label class=\"sk-toggleable__label\" for=\"aa0f8b62-9ee9-4dbe-88dc-7d6d6986c0e4\">ColAdderDropper</label><div class=\"sk-toggleable__content\"><pre>ColAdderDropper()</pre></div></div></div><div class=\"sk-item sk-dashed-wrapped\"><div class=\"sk-label-container\"><div class=\"sk-label sk-toggleable\"><input class=\"sk-toggleable__control sk-hidden--visually\" id=\"e6e08647-88e2-4d65-8ee3-4d8856641de6\" type=\"checkbox\" ><label class=\"sk-toggleable__label\" for=\"e6e08647-88e2-4d65-8ee3-4d8856641de6\">columntransformer: ColumnTransformer</label><div class=\"sk-toggleable__content\"><pre>ColumnTransformer(transformers=[('simpleimputer', SimpleImputer(),\n",
       "                                 ['Month', 'Day', 'Tempmax', 'Tempmin', 'Temp',\n",
       "                                  'Dew', 'Windspeed', 'Winddir', 'Pressure',\n",
       "                                  'Cloudcover', 'Visibility']),\n",
       "                                ('pipeline',\n",
       "                                 Pipeline(steps=[('simpleimputer',\n",
       "                                                  SimpleImputer(strategy='most_frequent')),\n",
       "                                                 ('onehotencoder',\n",
       "                                                  OneHotEncoder(handle_unknown='ignore'))]),\n",
       "                                 ['Icon'])])</pre></div></div></div><div class=\"sk-parallel\"><div class=\"sk-parallel-item\"><div class=\"sk-item\"><div class=\"sk-label-container\"><div class=\"sk-label sk-toggleable\"><input class=\"sk-toggleable__control sk-hidden--visually\" id=\"a8722b89-c33b-4134-b9f5-33fd453aa83d\" type=\"checkbox\" ><label class=\"sk-toggleable__label\" for=\"a8722b89-c33b-4134-b9f5-33fd453aa83d\">simpleimputer</label><div class=\"sk-toggleable__content\"><pre>['Month', 'Day', 'Tempmax', 'Tempmin', 'Temp', 'Dew', 'Windspeed', 'Winddir', 'Pressure', 'Cloudcover', 'Visibility']</pre></div></div></div><div class=\"sk-serial\"><div class=\"sk-item\"><div class=\"sk-estimator sk-toggleable\"><input class=\"sk-toggleable__control sk-hidden--visually\" id=\"0872bf41-49f8-4341-9f24-59bb0b3bc5cd\" type=\"checkbox\" ><label class=\"sk-toggleable__label\" for=\"0872bf41-49f8-4341-9f24-59bb0b3bc5cd\">SimpleImputer</label><div class=\"sk-toggleable__content\"><pre>SimpleImputer()</pre></div></div></div></div></div></div><div class=\"sk-parallel-item\"><div class=\"sk-item\"><div class=\"sk-label-container\"><div class=\"sk-label sk-toggleable\"><input class=\"sk-toggleable__control sk-hidden--visually\" id=\"bbbf22dc-6e2b-4cfc-9097-e2dd9b847ec8\" type=\"checkbox\" ><label class=\"sk-toggleable__label\" for=\"bbbf22dc-6e2b-4cfc-9097-e2dd9b847ec8\">pipeline</label><div class=\"sk-toggleable__content\"><pre>['Icon']</pre></div></div></div><div class=\"sk-serial\"><div class=\"sk-item\"><div class=\"sk-serial\"><div class=\"sk-item\"><div class=\"sk-estimator sk-toggleable\"><input class=\"sk-toggleable__control sk-hidden--visually\" id=\"33035178-66be-4c75-a135-1b7bc1d91f30\" type=\"checkbox\" ><label class=\"sk-toggleable__label\" for=\"33035178-66be-4c75-a135-1b7bc1d91f30\">SimpleImputer</label><div class=\"sk-toggleable__content\"><pre>SimpleImputer(strategy='most_frequent')</pre></div></div></div><div class=\"sk-item\"><div class=\"sk-estimator sk-toggleable\"><input class=\"sk-toggleable__control sk-hidden--visually\" id=\"a5ea9e32-b3a5-43a6-b9c5-19393328e905\" type=\"checkbox\" ><label class=\"sk-toggleable__label\" for=\"a5ea9e32-b3a5-43a6-b9c5-19393328e905\">OneHotEncoder</label><div class=\"sk-toggleable__content\"><pre>OneHotEncoder(handle_unknown='ignore')</pre></div></div></div></div></div></div></div></div></div></div><div class=\"sk-item\"><div class=\"sk-estimator sk-toggleable\"><input class=\"sk-toggleable__control sk-hidden--visually\" id=\"c780557e-86c1-45a2-a0ed-58ab5525c1ed\" type=\"checkbox\" ><label class=\"sk-toggleable__label\" for=\"c780557e-86c1-45a2-a0ed-58ab5525c1ed\">StandardScaler</label><div class=\"sk-toggleable__content\"><pre>StandardScaler()</pre></div></div></div></div></div><div class=\"sk-item\"><div class=\"sk-estimator sk-toggleable\"><input class=\"sk-toggleable__control sk-hidden--visually\" id=\"4887ffe2-d692-4e29-bd80-71a940cf21b6\" type=\"checkbox\" ><label class=\"sk-toggleable__label\" for=\"4887ffe2-d692-4e29-bd80-71a940cf21b6\">MLPRegressor</label><div class=\"sk-toggleable__content\"><pre>MLPRegressor(activation='tanh', alpha=100000, hidden_layer_sizes=20,\n",
       "             max_iter=4500, random_state=0, solver='lbfgs')</pre></div></div></div></div></div></div></div>"
      ],
      "text/plain": [
       "Pipeline(steps=[('pipeline',\n",
       "                 Pipeline(steps=[('coladderdropper', ColAdderDropper()),\n",
       "                                 ('columntransformer',\n",
       "                                  ColumnTransformer(transformers=[('simpleimputer',\n",
       "                                                                   SimpleImputer(),\n",
       "                                                                   ['Month',\n",
       "                                                                    'Day',\n",
       "                                                                    'Tempmax',\n",
       "                                                                    'Tempmin',\n",
       "                                                                    'Temp',\n",
       "                                                                    'Dew',\n",
       "                                                                    'Windspeed',\n",
       "                                                                    'Winddir',\n",
       "                                                                    'Pressure',\n",
       "                                                                    'Cloudcover',\n",
       "                                                                    'Visibility']),\n",
       "                                                                  ('pipeline',\n",
       "                                                                   Pipeline(steps=[('simpleimputer',\n",
       "                                                                                    SimpleImputer(strategy='most_frequent')),\n",
       "                                                                                   ('onehotencoder',\n",
       "                                                                                    OneHotEncoder(handle_unknown='ignore'))]),\n",
       "                                                                   ['Icon'])])),\n",
       "                                 ('standardscaler', StandardScaler())])),\n",
       "                ('mlpregressor',\n",
       "                 MLPRegressor(activation='tanh', alpha=100000,\n",
       "                              hidden_layer_sizes=20, max_iter=4500,\n",
       "                              random_state=0, solver='lbfgs'))])"
      ]
     },
     "execution_count": 29,
     "metadata": {},
     "output_type": "execute_result"
    }
   ],
   "source": [
    "# Test\n",
    "full_pipeline"
   ]
  },
  {
   "cell_type": "code",
   "execution_count": 30,
   "metadata": {
    "scrolled": true
   },
   "outputs": [
    {
     "data": {
      "image/png": "[encoded data removed]",
      "text/plain": [
       "<Figure size 720x360 with 2 Axes>"
      ]
     },
     "metadata": {
      "needs_background": "light"
     },
     "output_type": "display_data"
    }
   ],
   "source": [
    "# Trực quan hóa kết quả\n",
    "train_errs_df = pd.DataFrame(data = np.array(train_errs).reshape(len(alphas), -1), index = alphas)\n",
    "val_errs_df = pd.DataFrame(data = np.array(val_errs).reshape(len(alphas), -1), index = alphas)\n",
    "min_err = min(min(train_errs), min(val_errs))\n",
    "max_err = max(max(train_errs), max(val_errs))\n",
    "plt.figure(figsize = (10, 5))\n",
    "plt.subplot(1, 2, 1)\n",
    "sns.heatmap(train_errs_df, vmin = min_err, vmax = max_err, square = True, annot = True, cbar = False, fmt = '.1f',\n",
    "            cmap = 'Reds')\n",
    "plt.title('Train errors'); plt.ylabel('alpha')\n",
    "plt.subplot(1, 2, 2)\n",
    "sns.heatmap(val_errs_df, vmin = min_err, vmax = max_err, square = True, annot = True, cbar = False, fmt = '.1f', cmap = 'Reds')\n",
    "plt.title('Validation errors'); plt.ylabel('alpha');"
   ]
  },
  {
   "cell_type": "markdown",
   "metadata": {},
   "source": [
    "#### Huấn luyện lại mô hình với kết quả siêu tham số tốt nhất"
   ]
  },
  {
   "cell_type": "code",
   "execution_count": 31,
   "metadata": {},
   "outputs": [
    {
     "name": "stderr",
     "output_type": "stream",
     "text": [
      "c:\\users\\pc\\appdata\\local\\programs\\python\\python37\\lib\\site-packages\\sklearn\\neural_network\\_multilayer_perceptron.py:471: ConvergenceWarning: lbfgs failed to converge (status=1):\n",
      "STOP: TOTAL NO. of ITERATIONS REACHED LIMIT.\n",
      "\n",
      "Increase the number of iterations (max_iter) or scale the data as shown in:\n",
      "    https://scikit-learn.org/stable/modules/preprocessing.html\n",
      "  self.n_iter_ = _check_optimize_result(\"lbfgs\", opt_res, self.max_iter)\n"
     ]
    },
    {
     "data": {
      "text/html": [
       "<style>div.sk-top-container {color: black;background-color: white;}div.sk-toggleable {background-color: white;}label.sk-toggleable__label {cursor: pointer;display: block;width: 100%;margin-bottom: 0;padding: 0.2em 0.3em;box-sizing: border-box;text-align: center;}div.sk-toggleable__content {max-height: 0;max-width: 0;overflow: hidden;text-align: left;background-color: #f0f8ff;}div.sk-toggleable__content pre {margin: 0.2em;color: black;border-radius: 0.25em;background-color: #f0f8ff;}input.sk-toggleable__control:checked~div.sk-toggleable__content {max-height: 200px;max-width: 100%;overflow: auto;}div.sk-estimator input.sk-toggleable__control:checked~label.sk-toggleable__label {background-color: #d4ebff;}div.sk-label input.sk-toggleable__control:checked~label.sk-toggleable__label {background-color: #d4ebff;}input.sk-hidden--visually {border: 0;clip: rect(1px 1px 1px 1px);clip: rect(1px, 1px, 1px, 1px);height: 1px;margin: -1px;overflow: hidden;padding: 0;position: absolute;width: 1px;}div.sk-estimator {font-family: monospace;background-color: #f0f8ff;margin: 0.25em 0.25em;border: 1px dotted black;border-radius: 0.25em;box-sizing: border-box;}div.sk-estimator:hover {background-color: #d4ebff;}div.sk-parallel-item::after {content: \"\";width: 100%;border-bottom: 1px solid gray;flex-grow: 1;}div.sk-label:hover label.sk-toggleable__label {background-color: #d4ebff;}div.sk-serial::before {content: \"\";position: absolute;border-left: 1px solid gray;box-sizing: border-box;top: 2em;bottom: 0;left: 50%;}div.sk-serial {display: flex;flex-direction: column;align-items: center;background-color: white;}div.sk-item {z-index: 1;}div.sk-parallel {display: flex;align-items: stretch;justify-content: center;background-color: white;}div.sk-parallel-item {display: flex;flex-direction: column;position: relative;background-color: white;}div.sk-parallel-item:first-child::after {align-self: flex-end;width: 50%;}div.sk-parallel-item:last-child::after {align-self: flex-start;width: 50%;}div.sk-parallel-item:only-child::after {width: 0;}div.sk-dashed-wrapped {border: 1px dashed gray;margin: 0.2em;box-sizing: border-box;padding-bottom: 0.1em;background-color: white;position: relative;}div.sk-label label {font-family: monospace;font-weight: bold;background-color: white;display: inline-block;line-height: 1.2em;}div.sk-label-container {position: relative;z-index: 2;text-align: center;}div.sk-container {display: inline-block;position: relative;}</style><div class=\"sk-top-container\"><div class=\"sk-container\"><div class=\"sk-item sk-dashed-wrapped\"><div class=\"sk-label-container\"><div class=\"sk-label sk-toggleable\"><input class=\"sk-toggleable__control sk-hidden--visually\" id=\"c1886997-9a5b-4c1a-b466-a10fb6b9ce65\" type=\"checkbox\" ><label class=\"sk-toggleable__label\" for=\"c1886997-9a5b-4c1a-b466-a10fb6b9ce65\">Pipeline</label><div class=\"sk-toggleable__content\"><pre>Pipeline(steps=[('pipeline',\n",
       "                 Pipeline(steps=[('coladderdropper', ColAdderDropper()),\n",
       "                                 ('columntransformer',\n",
       "                                  ColumnTransformer(transformers=[('simpleimputer',\n",
       "                                                                   SimpleImputer(),\n",
       "                                                                   ['Month',\n",
       "                                                                    'Day',\n",
       "                                                                    'Tempmax',\n",
       "                                                                    'Tempmin',\n",
       "                                                                    'Temp',\n",
       "                                                                    'Dew',\n",
       "                                                                    'Windspeed',\n",
       "                                                                    'Winddir',\n",
       "                                                                    'Pressure',\n",
       "                                                                    'Cloudcover',\n",
       "                                                                    'Visibility']),\n",
       "                                                                  ('pipeline',\n",
       "                                                                   Pipeline(steps=[('simpleimputer',\n",
       "                                                                                    SimpleImputer(strategy='most_frequent')),\n",
       "                                                                                   ('onehotencoder',\n",
       "                                                                                    OneHotEncoder(handle_unknown='ignore'))]),\n",
       "                                                                   ['Icon'])])),\n",
       "                                 ('standardscaler', StandardScaler())])),\n",
       "                ('mlpregressor',\n",
       "                 MLPRegressor(activation='tanh', alpha=1.0,\n",
       "                              hidden_layer_sizes=20, max_iter=4500,\n",
       "                              random_state=0, solver='lbfgs'))])</pre></div></div></div><div class=\"sk-serial\"><div class=\"sk-item\"><div class=\"sk-label-container\"><div class=\"sk-label sk-toggleable\"><input class=\"sk-toggleable__control sk-hidden--visually\" id=\"8c123893-3ab8-467c-972e-4db678666e18\" type=\"checkbox\" ><label class=\"sk-toggleable__label\" for=\"8c123893-3ab8-467c-972e-4db678666e18\">pipeline: Pipeline</label><div class=\"sk-toggleable__content\"><pre>Pipeline(steps=[('coladderdropper', ColAdderDropper()),\n",
       "                ('columntransformer',\n",
       "                 ColumnTransformer(transformers=[('simpleimputer',\n",
       "                                                  SimpleImputer(),\n",
       "                                                  ['Month', 'Day', 'Tempmax',\n",
       "                                                   'Tempmin', 'Temp', 'Dew',\n",
       "                                                   'Windspeed', 'Winddir',\n",
       "                                                   'Pressure', 'Cloudcover',\n",
       "                                                   'Visibility']),\n",
       "                                                 ('pipeline',\n",
       "                                                  Pipeline(steps=[('simpleimputer',\n",
       "                                                                   SimpleImputer(strategy='most_frequent')),\n",
       "                                                                  ('onehotencoder',\n",
       "                                                                   OneHotEncoder(handle_unknown='ignore'))]),\n",
       "                                                  ['Icon'])])),\n",
       "                ('standardscaler', StandardScaler())])</pre></div></div></div><div class=\"sk-serial\"><div class=\"sk-item\"><div class=\"sk-estimator sk-toggleable\"><input class=\"sk-toggleable__control sk-hidden--visually\" id=\"74223158-ac6f-433b-b65e-ddc646db3347\" type=\"checkbox\" ><label class=\"sk-toggleable__label\" for=\"74223158-ac6f-433b-b65e-ddc646db3347\">ColAdderDropper</label><div class=\"sk-toggleable__content\"><pre>ColAdderDropper()</pre></div></div></div><div class=\"sk-item sk-dashed-wrapped\"><div class=\"sk-label-container\"><div class=\"sk-label sk-toggleable\"><input class=\"sk-toggleable__control sk-hidden--visually\" id=\"56f4b02f-4713-476b-b4fc-e9836067fe9c\" type=\"checkbox\" ><label class=\"sk-toggleable__label\" for=\"56f4b02f-4713-476b-b4fc-e9836067fe9c\">columntransformer: ColumnTransformer</label><div class=\"sk-toggleable__content\"><pre>ColumnTransformer(transformers=[('simpleimputer', SimpleImputer(),\n",
       "                                 ['Month', 'Day', 'Tempmax', 'Tempmin', 'Temp',\n",
       "                                  'Dew', 'Windspeed', 'Winddir', 'Pressure',\n",
       "                                  'Cloudcover', 'Visibility']),\n",
       "                                ('pipeline',\n",
       "                                 Pipeline(steps=[('simpleimputer',\n",
       "                                                  SimpleImputer(strategy='most_frequent')),\n",
       "                                                 ('onehotencoder',\n",
       "                                                  OneHotEncoder(handle_unknown='ignore'))]),\n",
       "                                 ['Icon'])])</pre></div></div></div><div class=\"sk-parallel\"><div class=\"sk-parallel-item\"><div class=\"sk-item\"><div class=\"sk-label-container\"><div class=\"sk-label sk-toggleable\"><input class=\"sk-toggleable__control sk-hidden--visually\" id=\"62771edf-1917-4fcc-8153-16a0ba837f65\" type=\"checkbox\" ><label class=\"sk-toggleable__label\" for=\"62771edf-1917-4fcc-8153-16a0ba837f65\">simpleimputer</label><div class=\"sk-toggleable__content\"><pre>['Month', 'Day', 'Tempmax', 'Tempmin', 'Temp', 'Dew', 'Windspeed', 'Winddir', 'Pressure', 'Cloudcover', 'Visibility']</pre></div></div></div><div class=\"sk-serial\"><div class=\"sk-item\"><div class=\"sk-estimator sk-toggleable\"><input class=\"sk-toggleable__control sk-hidden--visually\" id=\"d1ac3e2e-c819-43a7-afa6-8fe3a066c35e\" type=\"checkbox\" ><label class=\"sk-toggleable__label\" for=\"d1ac3e2e-c819-43a7-afa6-8fe3a066c35e\">SimpleImputer</label><div class=\"sk-toggleable__content\"><pre>SimpleImputer()</pre></div></div></div></div></div></div><div class=\"sk-parallel-item\"><div class=\"sk-item\"><div class=\"sk-label-container\"><div class=\"sk-label sk-toggleable\"><input class=\"sk-toggleable__control sk-hidden--visually\" id=\"756bef76-ecfc-420c-842b-97de2e29160f\" type=\"checkbox\" ><label class=\"sk-toggleable__label\" for=\"756bef76-ecfc-420c-842b-97de2e29160f\">pipeline</label><div class=\"sk-toggleable__content\"><pre>['Icon']</pre></div></div></div><div class=\"sk-serial\"><div class=\"sk-item\"><div class=\"sk-serial\"><div class=\"sk-item\"><div class=\"sk-estimator sk-toggleable\"><input class=\"sk-toggleable__control sk-hidden--visually\" id=\"7181f6d9-7b77-4dce-a921-fc4ea95568f9\" type=\"checkbox\" ><label class=\"sk-toggleable__label\" for=\"7181f6d9-7b77-4dce-a921-fc4ea95568f9\">SimpleImputer</label><div class=\"sk-toggleable__content\"><pre>SimpleImputer(strategy='most_frequent')</pre></div></div></div><div class=\"sk-item\"><div class=\"sk-estimator sk-toggleable\"><input class=\"sk-toggleable__control sk-hidden--visually\" id=\"f906d4e9-eeea-4f24-9f9c-b2f842dccea9\" type=\"checkbox\" ><label class=\"sk-toggleable__label\" for=\"f906d4e9-eeea-4f24-9f9c-b2f842dccea9\">OneHotEncoder</label><div class=\"sk-toggleable__content\"><pre>OneHotEncoder(handle_unknown='ignore')</pre></div></div></div></div></div></div></div></div></div></div><div class=\"sk-item\"><div class=\"sk-estimator sk-toggleable\"><input class=\"sk-toggleable__control sk-hidden--visually\" id=\"665b2f8e-17a3-4e29-945a-d61f470d807a\" type=\"checkbox\" ><label class=\"sk-toggleable__label\" for=\"665b2f8e-17a3-4e29-945a-d61f470d807a\">StandardScaler</label><div class=\"sk-toggleable__content\"><pre>StandardScaler()</pre></div></div></div></div></div><div class=\"sk-item\"><div class=\"sk-estimator sk-toggleable\"><input class=\"sk-toggleable__control sk-hidden--visually\" id=\"5c6ddc0a-1655-4e92-b8f3-ce15596d8632\" type=\"checkbox\" ><label class=\"sk-toggleable__label\" for=\"5c6ddc0a-1655-4e92-b8f3-ce15596d8632\">MLPRegressor</label><div class=\"sk-toggleable__content\"><pre>MLPRegressor(activation='tanh', alpha=1.0, hidden_layer_sizes=20, max_iter=4500,\n",
       "             random_state=0, solver='lbfgs')</pre></div></div></div></div></div></div></div>"
      ],
      "text/plain": [
       "Pipeline(steps=[('pipeline',\n",
       "                 Pipeline(steps=[('coladderdropper', ColAdderDropper()),\n",
       "                                 ('columntransformer',\n",
       "                                  ColumnTransformer(transformers=[('simpleimputer',\n",
       "                                                                   SimpleImputer(),\n",
       "                                                                   ['Month',\n",
       "                                                                    'Day',\n",
       "                                                                    'Tempmax',\n",
       "                                                                    'Tempmin',\n",
       "                                                                    'Temp',\n",
       "                                                                    'Dew',\n",
       "                                                                    'Windspeed',\n",
       "                                                                    'Winddir',\n",
       "                                                                    'Pressure',\n",
       "                                                                    'Cloudcover',\n",
       "                                                                    'Visibility']),\n",
       "                                                                  ('pipeline',\n",
       "                                                                   Pipeline(steps=[('simpleimputer',\n",
       "                                                                                    SimpleImputer(strategy='most_frequent')),\n",
       "                                                                                   ('onehotencoder',\n",
       "                                                                                    OneHotEncoder(handle_unknown='ignore'))]),\n",
       "                                                                   ['Icon'])])),\n",
       "                                 ('standardscaler', StandardScaler())])),\n",
       "                ('mlpregressor',\n",
       "                 MLPRegressor(activation='tanh', alpha=1.0,\n",
       "                              hidden_layer_sizes=20, max_iter=4500,\n",
       "                              random_state=0, solver='lbfgs'))])"
      ]
     },
     "execution_count": 31,
     "metadata": {},
     "output_type": "execute_result"
    }
   ],
   "source": [
    "full_pipeline.set_params(mlpregressor__alpha = best_alpha)\n",
    "full_pipeline.fit(train_X_df, train_y_sr)"
   ]
  },
  {
   "cell_type": "markdown",
   "metadata": {},
   "source": [
    "### Đánh giá mô hình tìm được"
   ]
  },
  {
   "cell_type": "markdown",
   "metadata": {},
   "source": [
    "**Độ chính xác trên tập huấn luyện**"
   ]
  },
  {
   "cell_type": "code",
   "execution_count": 32,
   "metadata": {},
   "outputs": [
    {
     "data": {
      "text/plain": [
       "0.9988025454772874"
      ]
     },
     "execution_count": 32,
     "metadata": {},
     "output_type": "execute_result"
    }
   ],
   "source": [
    "full_pipeline.score(train_X_df, train_y_sr)"
   ]
  },
  {
   "cell_type": "markdown",
   "metadata": {},
   "source": [
    "**Độ chính xác trên tập validation**"
   ]
  },
  {
   "cell_type": "code",
   "execution_count": 33,
   "metadata": {},
   "outputs": [
    {
     "data": {
      "text/plain": [
       "0.9972883917201446"
      ]
     },
     "execution_count": 33,
     "metadata": {},
     "output_type": "execute_result"
    }
   ],
   "source": [
    "full_pipeline.score(val_X_df, val_y_sr)"
   ]
  },
  {
   "cell_type": "markdown",
   "metadata": {},
   "source": [
    "**Độ chính xác trên tập kiểm tra**"
   ]
  },
  {
   "cell_type": "code",
   "execution_count": 34,
   "metadata": {},
   "outputs": [
    {
     "data": {
      "text/plain": [
       "0.997474240270524"
      ]
     },
     "execution_count": 34,
     "metadata": {},
     "output_type": "execute_result"
    }
   ],
   "source": [
    "full_pipeline.score(test_X_df, test_y_sr)"
   ]
  }
 ],
 "metadata": {
  "kernelspec": {
   "display_name": "Python 3",
   "language": "python",
   "name": "python3"
  },
  "language_info": {
   "codemirror_mode": {
    "name": "ipython",
    "version": 3
   },
   "file_extension": ".py",
   "mimetype": "text/x-python",
   "name": "python",
   "nbconvert_exporter": "python",
   "pygments_lexer": "ipython3",
   "version": "3.7.9"
  }
 },
 "nbformat": 4,
 "nbformat_minor": 4
}
