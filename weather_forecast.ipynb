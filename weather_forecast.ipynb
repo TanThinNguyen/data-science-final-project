{
 "cells": [
  {
   "cell_type": "markdown",
   "metadata": {},
   "source": [
    "## Đồ Án Cuối Kỳ Nhập Môn Khoa Học Dữ Liệu"
   ]
  },
  {
   "cell_type": "markdown",
   "metadata": {},
   "source": [
    "### Chủ đề: Dự đoán độ ẩm tương đối từ những thông số thời tiết khác như nhiệt độ, điểm sương, áp suất không khí, ..."
   ]
  },
  {
   "cell_type": "markdown",
   "metadata": {},
   "source": [
    "### Thông tin nhóm 11:\n",
    "1. Nguyễn Văn Hậu - 18120359\n",
    "2. Nguyễn Tấn Thìn - 18120085"
   ]
  },
  {
   "cell_type": "markdown",
   "metadata": {},
   "source": [
    "### Nội dung file notebook:\n",
    "1. Thu thập dữ liệu\n",
    "2. Khám phá dữ liệu (để đưa ra câu hỏi)\n",
    "3. Tách tập, tiền xử lý và khám phá dữ liệu\n",
    "4. Tiền xử lý và mô hình hóa dữ liệu"
   ]
  },
  {
   "cell_type": "markdown",
   "metadata": {},
   "source": [
    "## 1. Thu thập dữ liệu"
   ]
  },
  {
   "cell_type": "markdown",
   "metadata": {},
   "source": [
    "#### Tổng quan về Visual Crossing Weather API\n",
    "- Website: `https://www.visualcrossing.com/weather-api`\n",
    "- Documents: `https://www.visualcrossing.com/resources/documentation/weather-api/weather-api-documentation/#timeline`\n",
    "- API cung cấp dữ liệu thời tiết gồm nhiệt độ, áp suất, ... trong quá khứ giữa 2 khoảng thời gian cho trước tại một địa điểm xác định và có thể có thêm thông tin dự báo thời tiết (nhưng ta sẽ không lấy thông tin này)\n",
    "- Cần tạo một tài khoản để được cung cấp API key\n",
    "- Mỗi API key miễn phí bị giới hạn chỉ được thu thập **tối đa 1000** kết quả trả về trong một ngày"
   ]
  },
  {
   "cell_type": "markdown",
   "metadata": {},
   "source": [
    "#### Cú pháp API\n",
    "`https://weather.visualcrossing.com/VisualCrossingWebServices/rest/services/timeline/[Location]/[Date1]/[Date2]?key=Your_API_Key`\n",
    "với:\n",
    "- `Location` là địa điểm cần lấy thông tin thời tiết\n",
    "- `Date1` là thời gian bắt đầu\n",
    "- `Date2` là thời gian kết thúc\n",
    "- `Your_API_Key` là api key cung cấp cho mỗi tài khoản đăng kí"
   ]
  },
  {
   "cell_type": "markdown",
   "metadata": {},
   "source": [
    "#### Cách thu thập data\n",
    "- Chúng ta tiến hành thu thập dữ liệu thời tiết trong quá khứ theo từng ngày trong thời gian từ năm 2001 đến năm 2020, cụ thể là từ **1/1/2001** đến **31/12/2020**\n",
    "- Vì giới hạn mỗi API key chỉ được thu thập **tối đa 1000** kết quả một ngày và số lượng API key có hạn nên nhóm em dùng 4 API key, mỗi API key tương ứng thu thập dữ liệu trong khoảng thời gian 2 năm. Nhóm em chia ra thu thập trong nhiều ngày. Phần code thu thập bên dưới chỉ nhằm mục đích minh họa chứ không thể chạy 1 lần trực tiếp lấy toàn bộ data như trong file .csv được."
   ]
  },
  {
   "cell_type": "markdown",
   "metadata": {},
   "source": [
    "### Import các thư viện"
   ]
  },
  {
   "cell_type": "code",
   "execution_count": 1,
   "metadata": {},
   "outputs": [],
   "source": [
    "%matplotlib inline\n",
    "import requests\n",
    "import json\n",
    "import datetime as dt\n",
    "\n",
    "import numpy as np\n",
    "import pandas as pd\n",
    "import matplotlib.pyplot as plt\n",
    "import seaborn as sns\n",
    "\n",
    "from sklearn.model_selection import train_test_split\n",
    "from sklearn.preprocessing import OneHotEncoder, StandardScaler\n",
    "from sklearn.impute import SimpleImputer\n",
    "from sklearn.base import BaseEstimator, TransformerMixin\n",
    "from sklearn.pipeline import Pipeline, make_pipeline\n",
    "from sklearn.compose import ColumnTransformer, make_column_transformer\n",
    "from sklearn.preprocessing import FunctionTransformer\n",
    "from sklearn.neural_network import MLPClassifier\n",
    "from sklearn.neural_network import MLPRegressor\n",
    "from sklearn import set_config\n",
    "set_config(display='diagram') # Để trực quan hóa pipeline"
   ]
  },
  {
   "cell_type": "markdown",
   "metadata": {},
   "source": [
    "### Chuẩn bị các hàm cần thiết"
   ]
  },
  {
   "cell_type": "markdown",
   "metadata": {},
   "source": [
    "Hàm thu thập data giữa 2 ngày"
   ]
  },
  {
   "cell_type": "code",
   "execution_count": 2,
   "metadata": {},
   "outputs": [],
   "source": [
    "def collect_data(start_date, end_date, api_key):\n",
    "    url = f'https://weather.visualcrossing.com/VisualCrossingWebServices/rest/services/timeline/Ho%20Chi%20Minh/{start_date}/{end_date}?unitGroup=metric&key={api_key}&include=obs'\n",
    "    weather_data = []\n",
    "    success = False\n",
    "    while success == False:\n",
    "        print(f\"GET: {url}\")\n",
    "        r = requests.get(url)\n",
    "        if r.ok == True:\n",
    "            # lấy kết quả json\n",
    "            pydata = json.loads(r.text)\n",
    "            weather_data.extend(pydata[\"days\"])\n",
    "            print(\"Successful! Remaining cost:\", pydata['remainingCost'])\n",
    "            print()\n",
    "\n",
    "            success = True\n",
    "        else:\n",
    "            print(\"Fail! Try again. Remaining cost:\", pydata['remainingCost'])\n",
    "            time.sleep(5)\n",
    "        \n",
    "    return weather_data"
   ]
  },
  {
   "cell_type": "markdown",
   "metadata": {},
   "source": [
    "Hàm thu thập data giữa 2 năm"
   ]
  },
  {
   "cell_type": "code",
   "execution_count": 3,
   "metadata": {},
   "outputs": [],
   "source": [
    "def collect_all_data(start_year, end_year, api_key):\n",
    "    years = list(range(start_year, end_year + 1))\n",
    "    print('List years:', years)\n",
    "    month_days = [\n",
    "        ((1, 1), (3, 31)), \n",
    "        ((4, 1), (6, 30)),\n",
    "        ((7, 1), (9, 30)),\n",
    "        ((10, 1), (12, 31))\n",
    "    ]\n",
    "    all_weather_data = []\n",
    "    \n",
    "    for year in years:\n",
    "        for month_day in month_days:\n",
    "            start_date = f'{year}-{month_day[0][0]}-{month_day[0][1]}'\n",
    "            end_date = f'{year}-{month_day[1][0]}-{month_day[1][1]}'\n",
    "            print(f'({start_date} -> {end_date})', end='\\n')\n",
    "#             print(url)\n",
    "            weather_data = collect_data(start_date, end_date, api_key)\n",
    "            all_weather_data.extend(weather_data)\n",
    "        print()\n",
    "        \n",
    "    return all_weather_data"
   ]
  },
  {
   "cell_type": "markdown",
   "metadata": {},
   "source": [
    "### Tiến hành thu thập data"
   ]
  },
  {
   "cell_type": "markdown",
   "metadata": {},
   "source": [
    "Thu thập trong ngày 1"
   ]
  },
  {
   "cell_type": "code",
   "execution_count": 1085,
   "metadata": {},
   "outputs": [],
   "source": [
    "api_key1 = 'A29UZSNHSG8P8EPR6A4CM2UC6'\n",
    "api_key2 = 'YXRHHRS6QX82D58S867TW6YBF'\n",
    "api_key3 = '2DGMFZBTYTPJDTD7WLZQ58B8Z'\n",
    "api_key4 = 'GKVCWLCJHBMBJHJYLCMQMXRV8'\n",
    "all_weather_data = []\n",
    "\n",
    "# Thu thập lần 1\n",
    "start_year = 2001\n",
    "end_year = 2002\n",
    "# weather_data = collect_all_data(start_year, end_year, api_key1)\n",
    "# all_weather_data.extend(weather_data)\n",
    "\n",
    "# Thu thập lần 2\n",
    "start_year = 2003\n",
    "end_year = 2004\n",
    "# weather_data = collect_all_data(start_year, end_year, api_key2)\n",
    "# all_weather_data.extend(weather_data)\n",
    "\n",
    "# print('Number of data:', len(all_weather_data))"
   ]
  },
  {
   "cell_type": "markdown",
   "metadata": {},
   "source": [
    "Thu thập trong ngày 2"
   ]
  },
  {
   "cell_type": "code",
   "execution_count": 1086,
   "metadata": {},
   "outputs": [],
   "source": [
    "api_key1 = 'A29UZSNHSG8P8EPR6A4CM2UC6'\n",
    "api_key2 = 'YXRHHRS6QX82D58S867TW6YBF'\n",
    "api_key3 = '2DGMFZBTYTPJDTD7WLZQ58B8Z'\n",
    "api_key4 = 'GKVCWLCJHBMBJHJYLCMQMXRV8'\n",
    "all_weather_data = []\n",
    "\n",
    "# Thu thập lần 1\n",
    "start_year = 2005\n",
    "end_year = 2006\n",
    "# weather_data = collect_all_data(start_year, end_year, api_key1)\n",
    "# all_weather_data.extend(weather_data)\n",
    "\n",
    "# Thu thập lần 2\n",
    "start_year = 2007\n",
    "end_year = 2008\n",
    "# weather_data = collect_all_data(start_year, end_year, api_key2)\n",
    "# all_weather_data.extend(weather_data)\n",
    "\n",
    "# Thu thập lần 3\n",
    "start_year = 2009\n",
    "end_year = 2010\n",
    "# weather_data = collect_all_data(start_year, end_year, api_key3)\n",
    "# all_weather_data.extend(weather_data)\n",
    "\n",
    "# Thu thập lần 4\n",
    "start_year = 2011\n",
    "end_year = 2012\n",
    "# weather_data = collect_all_data(start_year, end_year, api_key4)\n",
    "# all_weather_data.extend(weather_data)\n",
    "\n",
    "# print('Number of data:', len(all_weather_data))"
   ]
  },
  {
   "cell_type": "markdown",
   "metadata": {},
   "source": [
    "Thu thập trong ngày 3"
   ]
  },
  {
   "cell_type": "code",
   "execution_count": 1087,
   "metadata": {},
   "outputs": [],
   "source": [
    "api_key1 = 'A29UZSNHSG8P8EPR6A4CM2UC6'\n",
    "api_key2 = 'YXRHHRS6QX82D58S867TW6YBF'\n",
    "api_key3 = '2DGMFZBTYTPJDTD7WLZQ58B8Z'\n",
    "api_key4 = 'GKVCWLCJHBMBJHJYLCMQMXRV8'\n",
    "all_weather_data = []\n",
    "\n",
    "# Thu thập lần 1\n",
    "start_year = 2013\n",
    "end_year = 2014\n",
    "# weather_data = collect_all_data(start_year, end_year, api_key1)\n",
    "# all_weather_data.extend(weather_data)\n",
    "\n",
    "# Thu thập lần 2\n",
    "start_year = 2015\n",
    "end_year = 2016\n",
    "# weather_data = collect_all_data(start_year, end_year, api_key2)\n",
    "# all_weather_data.extend(weather_data)\n",
    "\n",
    "# Thu thập lần 3\n",
    "start_year = 2017\n",
    "end_year = 2018\n",
    "# weather_data = collect_all_data(start_year, end_year, api_key3)\n",
    "# all_weather_data.extend(weather_data)\n",
    "\n",
    "# Thu thập lần 4\n",
    "start_year = 2019\n",
    "end_year = 2020\n",
    "# weather_data = collect_all_data(start_year, end_year, api_key4)\n",
    "# all_weather_data.extend(weather_data)\n",
    "\n",
    "# print('Number of data:', len(all_weather_data))"
   ]
  },
  {
   "cell_type": "markdown",
   "metadata": {},
   "source": [
    "### Lưu data xuống file csv"
   ]
  },
  {
   "cell_type": "markdown",
   "metadata": {},
   "source": [
    "Tạo dataframe và lưu dữ liệu xuống file `historical_weather_data.csv`"
   ]
  },
  {
   "cell_type": "code",
   "execution_count": 1088,
   "metadata": {},
   "outputs": [],
   "source": [
    "# data_df = pd.DataFrame(all_weather_data)\n",
    "# data_df.rename(lambda name: name[0].upper() + name[1:], axis='columns', inplace=True)\n",
    "# data_df.to_csv('historical_weather_data.csv', index=False)\n",
    "# data_df.head()"
   ]
  },
  {
   "cell_type": "markdown",
   "metadata": {},
   "source": [
    "## 2. Khám phá dữ liệu (để đưa ra câu hỏi)"
   ]
  },
  {
   "cell_type": "markdown",
   "metadata": {},
   "source": [
    "Dữ liệu thời tiết thu thập được ở bước trước là dữ liệu tại vị trí quận 1 của Thành phố Hồ Chí Minh.  "
   ]
  },
  {
   "cell_type": "markdown",
   "metadata": {},
   "source": [
    "Load dữ liệu từ file `historical_weather_data.csv`. Dữ liệu gốc thu được từ API chứa khá nhiều cột không liên quan tới mục đích dự đoán, nên sẽ chỉ đọc ra một số cột quan trọng"
   ]
  },
  {
   "cell_type": "code",
   "execution_count": 4,
   "metadata": {},
   "outputs": [
    {
     "data": {
      "text/html": [
       "<div>\n",
       "<style scoped>\n",
       "    .dataframe tbody tr th:only-of-type {\n",
       "        vertical-align: middle;\n",
       "    }\n",
       "\n",
       "    .dataframe tbody tr th {\n",
       "        vertical-align: top;\n",
       "    }\n",
       "\n",
       "    .dataframe thead th {\n",
       "        text-align: right;\n",
       "    }\n",
       "</style>\n",
       "<table border=\"1\" class=\"dataframe\">\n",
       "  <thead>\n",
       "    <tr style=\"text-align: right;\">\n",
       "      <th></th>\n",
       "      <th>Datetime</th>\n",
       "      <th>Tempmax</th>\n",
       "      <th>Tempmin</th>\n",
       "      <th>Temp</th>\n",
       "      <th>Feelslikemax</th>\n",
       "      <th>Feelslikemin</th>\n",
       "      <th>Feelslike</th>\n",
       "      <th>Dew</th>\n",
       "      <th>Humidity</th>\n",
       "      <th>Precip</th>\n",
       "      <th>Precipcover</th>\n",
       "      <th>Windspeed</th>\n",
       "      <th>Winddir</th>\n",
       "      <th>Windgust</th>\n",
       "      <th>Pressure</th>\n",
       "      <th>Cloudcover</th>\n",
       "      <th>Visibility</th>\n",
       "      <th>Conditions</th>\n",
       "      <th>Icon</th>\n",
       "    </tr>\n",
       "  </thead>\n",
       "  <tbody>\n",
       "    <tr>\n",
       "      <th>0</th>\n",
       "      <td>2009-01-01</td>\n",
       "      <td>31.1</td>\n",
       "      <td>22.1</td>\n",
       "      <td>25.6</td>\n",
       "      <td>34.7</td>\n",
       "      <td>22.1</td>\n",
       "      <td>26.8</td>\n",
       "      <td>22.9</td>\n",
       "      <td>86.50</td>\n",
       "      <td>0.5</td>\n",
       "      <td>4.17</td>\n",
       "      <td>13.0</td>\n",
       "      <td>269.4</td>\n",
       "      <td>NaN</td>\n",
       "      <td>1009.6</td>\n",
       "      <td>69.6</td>\n",
       "      <td>10.7</td>\n",
       "      <td>Rain, Partially cloudy</td>\n",
       "      <td>cloudy</td>\n",
       "    </tr>\n",
       "    <tr>\n",
       "      <th>1</th>\n",
       "      <td>2009-01-02</td>\n",
       "      <td>29.7</td>\n",
       "      <td>22.1</td>\n",
       "      <td>25.3</td>\n",
       "      <td>31.4</td>\n",
       "      <td>22.1</td>\n",
       "      <td>26.0</td>\n",
       "      <td>20.5</td>\n",
       "      <td>76.42</td>\n",
       "      <td>0.0</td>\n",
       "      <td>0.00</td>\n",
       "      <td>16.6</td>\n",
       "      <td>107.9</td>\n",
       "      <td>NaN</td>\n",
       "      <td>1010.5</td>\n",
       "      <td>65.0</td>\n",
       "      <td>10.8</td>\n",
       "      <td>Partially cloudy</td>\n",
       "      <td>partly-cloudy-day</td>\n",
       "    </tr>\n",
       "    <tr>\n",
       "      <th>2</th>\n",
       "      <td>2009-01-03</td>\n",
       "      <td>28.4</td>\n",
       "      <td>21.1</td>\n",
       "      <td>24.7</td>\n",
       "      <td>30.2</td>\n",
       "      <td>21.1</td>\n",
       "      <td>25.2</td>\n",
       "      <td>20.1</td>\n",
       "      <td>76.12</td>\n",
       "      <td>0.0</td>\n",
       "      <td>0.00</td>\n",
       "      <td>11.2</td>\n",
       "      <td>156.3</td>\n",
       "      <td>NaN</td>\n",
       "      <td>1011.3</td>\n",
       "      <td>78.3</td>\n",
       "      <td>10.7</td>\n",
       "      <td>Overcast</td>\n",
       "      <td>cloudy</td>\n",
       "    </tr>\n",
       "    <tr>\n",
       "      <th>3</th>\n",
       "      <td>2009-01-04</td>\n",
       "      <td>29.7</td>\n",
       "      <td>21.1</td>\n",
       "      <td>24.5</td>\n",
       "      <td>32.4</td>\n",
       "      <td>21.1</td>\n",
       "      <td>25.3</td>\n",
       "      <td>20.5</td>\n",
       "      <td>79.16</td>\n",
       "      <td>0.0</td>\n",
       "      <td>0.00</td>\n",
       "      <td>9.4</td>\n",
       "      <td>270.6</td>\n",
       "      <td>NaN</td>\n",
       "      <td>1010.9</td>\n",
       "      <td>66.7</td>\n",
       "      <td>10.6</td>\n",
       "      <td>Partially cloudy</td>\n",
       "      <td>partly-cloudy-day</td>\n",
       "    </tr>\n",
       "    <tr>\n",
       "      <th>4</th>\n",
       "      <td>2009-01-05</td>\n",
       "      <td>31.1</td>\n",
       "      <td>21.1</td>\n",
       "      <td>25.9</td>\n",
       "      <td>33.8</td>\n",
       "      <td>21.1</td>\n",
       "      <td>27.0</td>\n",
       "      <td>22.0</td>\n",
       "      <td>80.76</td>\n",
       "      <td>0.0</td>\n",
       "      <td>0.00</td>\n",
       "      <td>14.8</td>\n",
       "      <td>174.4</td>\n",
       "      <td>NaN</td>\n",
       "      <td>1010.1</td>\n",
       "      <td>55.0</td>\n",
       "      <td>7.6</td>\n",
       "      <td>Partially cloudy</td>\n",
       "      <td>partly-cloudy-day</td>\n",
       "    </tr>\n",
       "  </tbody>\n",
       "</table>\n",
       "</div>"
      ],
      "text/plain": [
       "     Datetime  Tempmax  Tempmin  Temp  Feelslikemax  Feelslikemin  Feelslike  \\\n",
       "0  2009-01-01     31.1     22.1  25.6          34.7          22.1       26.8   \n",
       "1  2009-01-02     29.7     22.1  25.3          31.4          22.1       26.0   \n",
       "2  2009-01-03     28.4     21.1  24.7          30.2          21.1       25.2   \n",
       "3  2009-01-04     29.7     21.1  24.5          32.4          21.1       25.3   \n",
       "4  2009-01-05     31.1     21.1  25.9          33.8          21.1       27.0   \n",
       "\n",
       "    Dew  Humidity  Precip  Precipcover  Windspeed  Winddir  Windgust  \\\n",
       "0  22.9     86.50     0.5         4.17       13.0    269.4       NaN   \n",
       "1  20.5     76.42     0.0         0.00       16.6    107.9       NaN   \n",
       "2  20.1     76.12     0.0         0.00       11.2    156.3       NaN   \n",
       "3  20.5     79.16     0.0         0.00        9.4    270.6       NaN   \n",
       "4  22.0     80.76     0.0         0.00       14.8    174.4       NaN   \n",
       "\n",
       "   Pressure  Cloudcover  Visibility              Conditions               Icon  \n",
       "0    1009.6        69.6        10.7  Rain, Partially cloudy             cloudy  \n",
       "1    1010.5        65.0        10.8        Partially cloudy  partly-cloudy-day  \n",
       "2    1011.3        78.3        10.7                Overcast             cloudy  \n",
       "3    1010.9        66.7        10.6        Partially cloudy  partly-cloudy-day  \n",
       "4    1010.1        55.0         7.6        Partially cloudy  partly-cloudy-day  "
      ]
     },
     "execution_count": 4,
     "metadata": {},
     "output_type": "execute_result"
    }
   ],
   "source": [
    "selected_cols = ['Datetime', 'Tempmax', 'Tempmin', 'Temp', 'Feelslikemax', 'Feelslikemin', 'Feelslike', 'Dew', 'Humidity', \n",
    "                 'Precip', 'Precipcover', 'Windspeed', 'Winddir', 'Windgust', 'Pressure', 'Cloudcover', 'Visibility', 'Conditions', 'Icon']\n",
    "data_df = pd.read_csv('historical_weather_data.csv')\n",
    "data_df = data_df[selected_cols]\n",
    "data_df.head()"
   ]
  },
  {
   "cell_type": "markdown",
   "metadata": {},
   "source": [
    "Xử lý thêm cột thông tin độ ẩm tương đối của ngày kế tiếp (HumidityFuture) (cột này dự tính sẽ là output của mô hình sắp xây dựng)"
   ]
  },
  {
   "cell_type": "code",
   "execution_count": 5,
   "metadata": {},
   "outputs": [
    {
     "data": {
      "text/html": [
       "<div>\n",
       "<style scoped>\n",
       "    .dataframe tbody tr th:only-of-type {\n",
       "        vertical-align: middle;\n",
       "    }\n",
       "\n",
       "    .dataframe tbody tr th {\n",
       "        vertical-align: top;\n",
       "    }\n",
       "\n",
       "    .dataframe thead th {\n",
       "        text-align: right;\n",
       "    }\n",
       "</style>\n",
       "<table border=\"1\" class=\"dataframe\">\n",
       "  <thead>\n",
       "    <tr style=\"text-align: right;\">\n",
       "      <th></th>\n",
       "      <th>Datetime</th>\n",
       "      <th>Tempmax</th>\n",
       "      <th>Tempmin</th>\n",
       "      <th>Temp</th>\n",
       "      <th>Feelslikemax</th>\n",
       "      <th>Feelslikemin</th>\n",
       "      <th>Feelslike</th>\n",
       "      <th>Dew</th>\n",
       "      <th>Humidity</th>\n",
       "      <th>Precip</th>\n",
       "      <th>Precipcover</th>\n",
       "      <th>Windspeed</th>\n",
       "      <th>Winddir</th>\n",
       "      <th>Windgust</th>\n",
       "      <th>Pressure</th>\n",
       "      <th>Cloudcover</th>\n",
       "      <th>Visibility</th>\n",
       "      <th>Conditions</th>\n",
       "      <th>Icon</th>\n",
       "      <th>HumidityFuture</th>\n",
       "    </tr>\n",
       "  </thead>\n",
       "  <tbody>\n",
       "    <tr>\n",
       "      <th>0</th>\n",
       "      <td>2009-01-01</td>\n",
       "      <td>31.1</td>\n",
       "      <td>22.1</td>\n",
       "      <td>25.6</td>\n",
       "      <td>34.7</td>\n",
       "      <td>22.1</td>\n",
       "      <td>26.8</td>\n",
       "      <td>22.9</td>\n",
       "      <td>86.50</td>\n",
       "      <td>0.5</td>\n",
       "      <td>4.17</td>\n",
       "      <td>13.0</td>\n",
       "      <td>269.4</td>\n",
       "      <td>NaN</td>\n",
       "      <td>1009.6</td>\n",
       "      <td>69.6</td>\n",
       "      <td>10.7</td>\n",
       "      <td>Rain, Partially cloudy</td>\n",
       "      <td>cloudy</td>\n",
       "      <td>76.42</td>\n",
       "    </tr>\n",
       "    <tr>\n",
       "      <th>1</th>\n",
       "      <td>2009-01-02</td>\n",
       "      <td>29.7</td>\n",
       "      <td>22.1</td>\n",
       "      <td>25.3</td>\n",
       "      <td>31.4</td>\n",
       "      <td>22.1</td>\n",
       "      <td>26.0</td>\n",
       "      <td>20.5</td>\n",
       "      <td>76.42</td>\n",
       "      <td>0.0</td>\n",
       "      <td>0.00</td>\n",
       "      <td>16.6</td>\n",
       "      <td>107.9</td>\n",
       "      <td>NaN</td>\n",
       "      <td>1010.5</td>\n",
       "      <td>65.0</td>\n",
       "      <td>10.8</td>\n",
       "      <td>Partially cloudy</td>\n",
       "      <td>partly-cloudy-day</td>\n",
       "      <td>76.12</td>\n",
       "    </tr>\n",
       "    <tr>\n",
       "      <th>2</th>\n",
       "      <td>2009-01-03</td>\n",
       "      <td>28.4</td>\n",
       "      <td>21.1</td>\n",
       "      <td>24.7</td>\n",
       "      <td>30.2</td>\n",
       "      <td>21.1</td>\n",
       "      <td>25.2</td>\n",
       "      <td>20.1</td>\n",
       "      <td>76.12</td>\n",
       "      <td>0.0</td>\n",
       "      <td>0.00</td>\n",
       "      <td>11.2</td>\n",
       "      <td>156.3</td>\n",
       "      <td>NaN</td>\n",
       "      <td>1011.3</td>\n",
       "      <td>78.3</td>\n",
       "      <td>10.7</td>\n",
       "      <td>Overcast</td>\n",
       "      <td>cloudy</td>\n",
       "      <td>79.16</td>\n",
       "    </tr>\n",
       "    <tr>\n",
       "      <th>3</th>\n",
       "      <td>2009-01-04</td>\n",
       "      <td>29.7</td>\n",
       "      <td>21.1</td>\n",
       "      <td>24.5</td>\n",
       "      <td>32.4</td>\n",
       "      <td>21.1</td>\n",
       "      <td>25.3</td>\n",
       "      <td>20.5</td>\n",
       "      <td>79.16</td>\n",
       "      <td>0.0</td>\n",
       "      <td>0.00</td>\n",
       "      <td>9.4</td>\n",
       "      <td>270.6</td>\n",
       "      <td>NaN</td>\n",
       "      <td>1010.9</td>\n",
       "      <td>66.7</td>\n",
       "      <td>10.6</td>\n",
       "      <td>Partially cloudy</td>\n",
       "      <td>partly-cloudy-day</td>\n",
       "      <td>80.76</td>\n",
       "    </tr>\n",
       "    <tr>\n",
       "      <th>4</th>\n",
       "      <td>2009-01-05</td>\n",
       "      <td>31.1</td>\n",
       "      <td>21.1</td>\n",
       "      <td>25.9</td>\n",
       "      <td>33.8</td>\n",
       "      <td>21.1</td>\n",
       "      <td>27.0</td>\n",
       "      <td>22.0</td>\n",
       "      <td>80.76</td>\n",
       "      <td>0.0</td>\n",
       "      <td>0.00</td>\n",
       "      <td>14.8</td>\n",
       "      <td>174.4</td>\n",
       "      <td>NaN</td>\n",
       "      <td>1010.1</td>\n",
       "      <td>55.0</td>\n",
       "      <td>7.6</td>\n",
       "      <td>Partially cloudy</td>\n",
       "      <td>partly-cloudy-day</td>\n",
       "      <td>82.75</td>\n",
       "    </tr>\n",
       "  </tbody>\n",
       "</table>\n",
       "</div>"
      ],
      "text/plain": [
       "     Datetime  Tempmax  Tempmin  Temp  Feelslikemax  Feelslikemin  Feelslike  \\\n",
       "0  2009-01-01     31.1     22.1  25.6          34.7          22.1       26.8   \n",
       "1  2009-01-02     29.7     22.1  25.3          31.4          22.1       26.0   \n",
       "2  2009-01-03     28.4     21.1  24.7          30.2          21.1       25.2   \n",
       "3  2009-01-04     29.7     21.1  24.5          32.4          21.1       25.3   \n",
       "4  2009-01-05     31.1     21.1  25.9          33.8          21.1       27.0   \n",
       "\n",
       "    Dew  Humidity  Precip  Precipcover  Windspeed  Winddir  Windgust  \\\n",
       "0  22.9     86.50     0.5         4.17       13.0    269.4       NaN   \n",
       "1  20.5     76.42     0.0         0.00       16.6    107.9       NaN   \n",
       "2  20.1     76.12     0.0         0.00       11.2    156.3       NaN   \n",
       "3  20.5     79.16     0.0         0.00        9.4    270.6       NaN   \n",
       "4  22.0     80.76     0.0         0.00       14.8    174.4       NaN   \n",
       "\n",
       "   Pressure  Cloudcover  Visibility              Conditions  \\\n",
       "0    1009.6        69.6        10.7  Rain, Partially cloudy   \n",
       "1    1010.5        65.0        10.8        Partially cloudy   \n",
       "2    1011.3        78.3        10.7                Overcast   \n",
       "3    1010.9        66.7        10.6        Partially cloudy   \n",
       "4    1010.1        55.0         7.6        Partially cloudy   \n",
       "\n",
       "                Icon  HumidityFuture  \n",
       "0             cloudy           76.42  \n",
       "1  partly-cloudy-day           76.12  \n",
       "2             cloudy           79.16  \n",
       "3  partly-cloudy-day           80.76  \n",
       "4  partly-cloudy-day           82.75  "
      ]
     },
     "execution_count": 5,
     "metadata": {},
     "output_type": "execute_result"
    }
   ],
   "source": [
    "next_days = 1\n",
    "humidity_future = [data_df.loc[i + next_days, 'Humidity'] for i in range(data_df.shape[0] - next_days)] + [None]*next_days\n",
    "data_df['HumidityFuture'] = humidity_future\n",
    "data_df.head()"
   ]
  },
  {
   "cell_type": "markdown",
   "metadata": {},
   "source": [
    "Xử lí thêm cột chứa thông tin thời tiết quá khứ của các ngày trước"
   ]
  },
  {
   "cell_type": "code",
   "execution_count": 6,
   "metadata": {},
   "outputs": [],
   "source": [
    "max_prev_day = 8\n",
    "prev_days = list(range(1, max_prev_day + 1))\n",
    "\n",
    "for prev_day in prev_days:\n",
    "    humidity_prev = [None]*prev_day + [data_df.loc[i - prev_day, 'Humidity'] for i in range(prev_day, data_df.shape[0])]\n",
    "    col_name = f'HumidityPrev_{prev_day}'\n",
    "    data_df[col_name] = humidity_prev\n",
    "    \n",
    "    temp_prev = [None]*prev_day + [data_df.loc[i - prev_day, 'Temp'] for i in range(prev_day, data_df.shape[0])]\n",
    "    col_name = f'TempPrev_{prev_day}'\n",
    "    data_df[col_name] = temp_prev\n",
    "    \n",
    "    temp_max_prev = [None]*prev_day + [data_df.loc[i - prev_day, 'Tempmax'] for i in range(prev_day, data_df.shape[0])]\n",
    "    col_name = f'TempmaxPrev_{prev_day}'\n",
    "    data_df[col_name] = temp_max_prev\n",
    "    \n",
    "    temp_min_prev = [None]*prev_day + [data_df.loc[i - prev_day, 'Tempmin'] for i in range(prev_day, data_df.shape[0])]\n",
    "    col_name = f'TempminPrev_{prev_day}'\n",
    "    data_df[col_name] = temp_min_prev\n",
    "    \n",
    "    dew_prev = [None]*prev_day + [data_df.loc[i - prev_day, 'Dew'] for i in range(prev_day, data_df.shape[0])]\n",
    "    col_name = f'DewPrev_{prev_day}'\n",
    "    data_df[col_name] = dew_prev\n",
    "    \n",
    "    press_prev = [None]*prev_day + [data_df.loc[i - prev_day, 'Pressure'] for i in range(prev_day, data_df.shape[0])]\n",
    "    col_name = f'PressurePrev_{prev_day}'\n",
    "    data_df[col_name] = press_prev"
   ]
  },
  {
   "cell_type": "code",
   "execution_count": 7,
   "metadata": {},
   "outputs": [
    {
     "data": {
      "text/plain": [
       "Index(['Datetime', 'Tempmax', 'Tempmin', 'Temp', 'Feelslikemax',\n",
       "       'Feelslikemin', 'Feelslike', 'Dew', 'Humidity', 'Precip', 'Precipcover',\n",
       "       'Windspeed', 'Winddir', 'Windgust', 'Pressure', 'Cloudcover',\n",
       "       'Visibility', 'Conditions', 'Icon', 'HumidityFuture', 'HumidityPrev_1',\n",
       "       'TempPrev_1', 'TempmaxPrev_1', 'TempminPrev_1', 'DewPrev_1',\n",
       "       'PressurePrev_1', 'HumidityPrev_2', 'TempPrev_2', 'TempmaxPrev_2',\n",
       "       'TempminPrev_2', 'DewPrev_2', 'PressurePrev_2', 'HumidityPrev_3',\n",
       "       'TempPrev_3', 'TempmaxPrev_3', 'TempminPrev_3', 'DewPrev_3',\n",
       "       'PressurePrev_3', 'HumidityPrev_4', 'TempPrev_4', 'TempmaxPrev_4',\n",
       "       'TempminPrev_4', 'DewPrev_4', 'PressurePrev_4', 'HumidityPrev_5',\n",
       "       'TempPrev_5', 'TempmaxPrev_5', 'TempminPrev_5', 'DewPrev_5',\n",
       "       'PressurePrev_5', 'HumidityPrev_6', 'TempPrev_6', 'TempmaxPrev_6',\n",
       "       'TempminPrev_6', 'DewPrev_6', 'PressurePrev_6', 'HumidityPrev_7',\n",
       "       'TempPrev_7', 'TempmaxPrev_7', 'TempminPrev_7', 'DewPrev_7',\n",
       "       'PressurePrev_7', 'HumidityPrev_8', 'TempPrev_8', 'TempmaxPrev_8',\n",
       "       'TempminPrev_8', 'DewPrev_8', 'PressurePrev_8'],\n",
       "      dtype='object')"
      ]
     },
     "execution_count": 7,
     "metadata": {},
     "output_type": "execute_result"
    }
   ],
   "source": [
    "data_df.columns"
   ]
  },
  {
   "cell_type": "code",
   "execution_count": 8,
   "metadata": {},
   "outputs": [
    {
     "data": {
      "text/html": [
       "<div>\n",
       "<style scoped>\n",
       "    .dataframe tbody tr th:only-of-type {\n",
       "        vertical-align: middle;\n",
       "    }\n",
       "\n",
       "    .dataframe tbody tr th {\n",
       "        vertical-align: top;\n",
       "    }\n",
       "\n",
       "    .dataframe thead th {\n",
       "        text-align: right;\n",
       "    }\n",
       "</style>\n",
       "<table border=\"1\" class=\"dataframe\">\n",
       "  <thead>\n",
       "    <tr style=\"text-align: right;\">\n",
       "      <th></th>\n",
       "      <th>Datetime</th>\n",
       "      <th>Tempmax</th>\n",
       "      <th>Tempmin</th>\n",
       "      <th>Temp</th>\n",
       "      <th>Feelslikemax</th>\n",
       "      <th>Feelslikemin</th>\n",
       "      <th>Feelslike</th>\n",
       "      <th>Dew</th>\n",
       "      <th>Humidity</th>\n",
       "      <th>Precip</th>\n",
       "      <th>...</th>\n",
       "      <th>TempmaxPrev_7</th>\n",
       "      <th>TempminPrev_7</th>\n",
       "      <th>DewPrev_7</th>\n",
       "      <th>PressurePrev_7</th>\n",
       "      <th>HumidityPrev_8</th>\n",
       "      <th>TempPrev_8</th>\n",
       "      <th>TempmaxPrev_8</th>\n",
       "      <th>TempminPrev_8</th>\n",
       "      <th>DewPrev_8</th>\n",
       "      <th>PressurePrev_8</th>\n",
       "    </tr>\n",
       "  </thead>\n",
       "  <tbody>\n",
       "    <tr>\n",
       "      <th>0</th>\n",
       "      <td>2009-01-01</td>\n",
       "      <td>31.1</td>\n",
       "      <td>22.1</td>\n",
       "      <td>25.6</td>\n",
       "      <td>34.7</td>\n",
       "      <td>22.1</td>\n",
       "      <td>26.8</td>\n",
       "      <td>22.9</td>\n",
       "      <td>86.50</td>\n",
       "      <td>0.5</td>\n",
       "      <td>...</td>\n",
       "      <td>NaN</td>\n",
       "      <td>NaN</td>\n",
       "      <td>NaN</td>\n",
       "      <td>NaN</td>\n",
       "      <td>NaN</td>\n",
       "      <td>NaN</td>\n",
       "      <td>NaN</td>\n",
       "      <td>NaN</td>\n",
       "      <td>NaN</td>\n",
       "      <td>NaN</td>\n",
       "    </tr>\n",
       "    <tr>\n",
       "      <th>1</th>\n",
       "      <td>2009-01-02</td>\n",
       "      <td>29.7</td>\n",
       "      <td>22.1</td>\n",
       "      <td>25.3</td>\n",
       "      <td>31.4</td>\n",
       "      <td>22.1</td>\n",
       "      <td>26.0</td>\n",
       "      <td>20.5</td>\n",
       "      <td>76.42</td>\n",
       "      <td>0.0</td>\n",
       "      <td>...</td>\n",
       "      <td>NaN</td>\n",
       "      <td>NaN</td>\n",
       "      <td>NaN</td>\n",
       "      <td>NaN</td>\n",
       "      <td>NaN</td>\n",
       "      <td>NaN</td>\n",
       "      <td>NaN</td>\n",
       "      <td>NaN</td>\n",
       "      <td>NaN</td>\n",
       "      <td>NaN</td>\n",
       "    </tr>\n",
       "    <tr>\n",
       "      <th>2</th>\n",
       "      <td>2009-01-03</td>\n",
       "      <td>28.4</td>\n",
       "      <td>21.1</td>\n",
       "      <td>24.7</td>\n",
       "      <td>30.2</td>\n",
       "      <td>21.1</td>\n",
       "      <td>25.2</td>\n",
       "      <td>20.1</td>\n",
       "      <td>76.12</td>\n",
       "      <td>0.0</td>\n",
       "      <td>...</td>\n",
       "      <td>NaN</td>\n",
       "      <td>NaN</td>\n",
       "      <td>NaN</td>\n",
       "      <td>NaN</td>\n",
       "      <td>NaN</td>\n",
       "      <td>NaN</td>\n",
       "      <td>NaN</td>\n",
       "      <td>NaN</td>\n",
       "      <td>NaN</td>\n",
       "      <td>NaN</td>\n",
       "    </tr>\n",
       "    <tr>\n",
       "      <th>3</th>\n",
       "      <td>2009-01-04</td>\n",
       "      <td>29.7</td>\n",
       "      <td>21.1</td>\n",
       "      <td>24.5</td>\n",
       "      <td>32.4</td>\n",
       "      <td>21.1</td>\n",
       "      <td>25.3</td>\n",
       "      <td>20.5</td>\n",
       "      <td>79.16</td>\n",
       "      <td>0.0</td>\n",
       "      <td>...</td>\n",
       "      <td>NaN</td>\n",
       "      <td>NaN</td>\n",
       "      <td>NaN</td>\n",
       "      <td>NaN</td>\n",
       "      <td>NaN</td>\n",
       "      <td>NaN</td>\n",
       "      <td>NaN</td>\n",
       "      <td>NaN</td>\n",
       "      <td>NaN</td>\n",
       "      <td>NaN</td>\n",
       "    </tr>\n",
       "    <tr>\n",
       "      <th>4</th>\n",
       "      <td>2009-01-05</td>\n",
       "      <td>31.1</td>\n",
       "      <td>21.1</td>\n",
       "      <td>25.9</td>\n",
       "      <td>33.8</td>\n",
       "      <td>21.1</td>\n",
       "      <td>27.0</td>\n",
       "      <td>22.0</td>\n",
       "      <td>80.76</td>\n",
       "      <td>0.0</td>\n",
       "      <td>...</td>\n",
       "      <td>NaN</td>\n",
       "      <td>NaN</td>\n",
       "      <td>NaN</td>\n",
       "      <td>NaN</td>\n",
       "      <td>NaN</td>\n",
       "      <td>NaN</td>\n",
       "      <td>NaN</td>\n",
       "      <td>NaN</td>\n",
       "      <td>NaN</td>\n",
       "      <td>NaN</td>\n",
       "    </tr>\n",
       "  </tbody>\n",
       "</table>\n",
       "<p>5 rows × 68 columns</p>\n",
       "</div>"
      ],
      "text/plain": [
       "     Datetime  Tempmax  Tempmin  Temp  Feelslikemax  Feelslikemin  Feelslike  \\\n",
       "0  2009-01-01     31.1     22.1  25.6          34.7          22.1       26.8   \n",
       "1  2009-01-02     29.7     22.1  25.3          31.4          22.1       26.0   \n",
       "2  2009-01-03     28.4     21.1  24.7          30.2          21.1       25.2   \n",
       "3  2009-01-04     29.7     21.1  24.5          32.4          21.1       25.3   \n",
       "4  2009-01-05     31.1     21.1  25.9          33.8          21.1       27.0   \n",
       "\n",
       "    Dew  Humidity  Precip  ...  TempmaxPrev_7  TempminPrev_7  DewPrev_7  \\\n",
       "0  22.9     86.50     0.5  ...            NaN            NaN        NaN   \n",
       "1  20.5     76.42     0.0  ...            NaN            NaN        NaN   \n",
       "2  20.1     76.12     0.0  ...            NaN            NaN        NaN   \n",
       "3  20.5     79.16     0.0  ...            NaN            NaN        NaN   \n",
       "4  22.0     80.76     0.0  ...            NaN            NaN        NaN   \n",
       "\n",
       "   PressurePrev_7  HumidityPrev_8  TempPrev_8  TempmaxPrev_8 TempminPrev_8  \\\n",
       "0             NaN             NaN         NaN            NaN           NaN   \n",
       "1             NaN             NaN         NaN            NaN           NaN   \n",
       "2             NaN             NaN         NaN            NaN           NaN   \n",
       "3             NaN             NaN         NaN            NaN           NaN   \n",
       "4             NaN             NaN         NaN            NaN           NaN   \n",
       "\n",
       "  DewPrev_8  PressurePrev_8  \n",
       "0       NaN             NaN  \n",
       "1       NaN             NaN  \n",
       "2       NaN             NaN  \n",
       "3       NaN             NaN  \n",
       "4       NaN             NaN  \n",
       "\n",
       "[5 rows x 68 columns]"
      ]
     },
     "execution_count": 8,
     "metadata": {},
     "output_type": "execute_result"
    }
   ],
   "source": [
    "data_df.head(5)"
   ]
  },
  {
   "cell_type": "markdown",
   "metadata": {},
   "source": [
    "### Số dòng và số cột của dữ liệu"
   ]
  },
  {
   "cell_type": "code",
   "execution_count": 9,
   "metadata": {},
   "outputs": [
    {
     "data": {
      "text/plain": [
       "(4383, 68)"
      ]
     },
     "execution_count": 9,
     "metadata": {},
     "output_type": "execute_result"
    }
   ],
   "source": [
    "data_df.shape"
   ]
  },
  {
   "cell_type": "markdown",
   "metadata": {},
   "source": [
    "### Ý nghĩa của mỗi dòng"
   ]
  },
  {
   "cell_type": "markdown",
   "metadata": {},
   "source": [
    "Mỗi dòng là thông tin thời tiết ghi nhận được của một ngày trong năm, ngoài ra còn chứa thêm dữ liệu của vài ngày trước sau bước xử lí ở trên"
   ]
  },
  {
   "cell_type": "markdown",
   "metadata": {},
   "source": [
    "### Ý nghĩa của mỗi cột"
   ]
  },
  {
   "cell_type": "markdown",
   "metadata": {},
   "source": [
    "Ý nghĩa một số cột được ghi trong bảng sau:\n",
    "\n",
    "|Cột|Ý nghĩa|Đơn vị đo|\n",
    "|---|---|---|\n",
    "|**Datetime**|Ngày (yyyy-m-d) ghi nhận thông tin| |\n",
    "|**Tempmax**|Nhiệt độ cao nhất trong ngày|Celsius|\n",
    "|**Tempmin**|Nhiệt độ thấp nhất trong ngày|Celsius|\n",
    "|**Temp**|Nhiệt độ trung bình trong ngày|Celsius|\n",
    "|**Dew**|Điểm sương, là nhiệt độ mà tại đó độ ẩm tương đối của khối không khí đạt 100% |Celsius|\n",
    "|**Humidity**|Độ ẩm tương đối|%|\n",
    "|**Precip**|Lượng mưa trong ngày|mm|\n",
    "|**Precipcover**|Tỉ lệ thời gian mưa trong ngày|%|\n",
    "|**Windspeed**|Tốc độ gió trung bình|kph|\n",
    "|**Winddir**|Hướng gió đo so với hướng Bắc|Degrees|\n",
    "|**Pressure**|Áp suất không khí|millibars|\n",
    "|**Cloudcover**|Tỉ lệ mây bao phủ bầu trời|%|\n",
    "|**Visibility**|Tầm nhìn xa ban ngày|km|\n",
    "|**Conditions**|Hiện tượng thời tiết ghi nhận được như sấm sét, mưa, ...| |\n",
    "|**Icon**|Thời tiết đại diện cho ngày| |\n",
    "|**HumidityFuture**|Độ ẩm tương đối của ngày tiếp theo|%|\n",
    "|**HumidityPrev_x**|Độ ẩm tương đối của x ngày trước|%|\n",
    "|**TempPrev_x**|Nhiệt độ trung bình của x ngày trước|Celsius|\n",
    "|**TempmaxPrev_x**|Nhiệt độ cao nhất của x ngày trước|Celsius|\n",
    "|**TempminPrev_x**|Nhiệt độ thấp nhất của x ngày trước|Celsius|\n",
    "|**DewPrev_x**|Điểm sương của x ngày trước|Celsius|\n",
    "|**PressurePrev_x**|Áp suất không khí của x ngày trước|millibars|"
   ]
  },
  {
   "cell_type": "markdown",
   "metadata": {},
   "source": [
    "Chi tiết cụ thể hơn về thông tin các cột có tại `https://www.visualcrossing.com/resources/documentation/weather-data/weather-data-documentation/`"
   ]
  },
  {
   "cell_type": "markdown",
   "metadata": {},
   "source": [
    "### Kiểm tra các dòng có bị lặp không"
   ]
  },
  {
   "cell_type": "code",
   "execution_count": 10,
   "metadata": {},
   "outputs": [
    {
     "data": {
      "text/plain": [
       "0"
      ]
     },
     "execution_count": 10,
     "metadata": {},
     "output_type": "execute_result"
    }
   ],
   "source": [
    "data_df.index.duplicated().sum()"
   ]
  },
  {
   "cell_type": "markdown",
   "metadata": {},
   "source": [
    "### Đưa ra câu hỏi"
   ]
  },
  {
   "cell_type": "markdown",
   "metadata": {},
   "source": [
    "**Câu hỏi:** *Output* - độ ẩm tương đối của ngày mai (HumidityFuture) được tính từ *input* - các thông số khác (độ ẩm tương đối, nhiệt độ, điểm sương, áp suất, ...) của ngày hiện tại và vài ngày trước như thế nào?  \n",
    "  \n",
    "**Ý nghĩa:** Khi độ ẩm tương đối quá cao (> 90%) thì con người sẽ tăng nguy cơ mắc các bệnh khớp, ho, hen suyễn hay đau đầu, ngoài ra độ ẩm tương đối quá cao cũng là điều kiện cho các loại vi khuẩn và nấm mốc phát triển. Ngược lại, khi độ ẩm tương đối quá thấp (< 30%), con người dễ bị các triệu chứng như chảy máu cam hay bị virus cảm lạnh rhinovirus xâm nhập. Do đó, dự đoán được độ ẩm tương đối sẽ hữu ích trong việc đưa ra một số biện pháp như sử dụng máy điều khiển độ ẩm để tăng giảm độ ẩm, ... nhằm phòng ngừa các hậu quả xấu có thể xảy ra.\n",
    "\n",
    "**Nguồn cảm hứng**: Từ thắc mắc về ý nghĩa của độ ẩm tương đối trong thực tiễn, nhóm đã tìm hiểu về độ ẩm tương đối thông qua nhiều nguồn khác nhau trên Internet và đưa ra bộ output - input trên với mong muốn dự đoán được độ ẩm của ngày kế tiếp."
   ]
  },
  {
   "cell_type": "markdown",
   "metadata": {},
   "source": [
    "## 3. Tách tập, tiền xử lí và khám phá dữ liệu"
   ]
  },
  {
   "cell_type": "markdown",
   "metadata": {},
   "source": [
    "### Khám phá dữ liệu cột output (để tách tập)"
   ]
  },
  {
   "cell_type": "markdown",
   "metadata": {},
   "source": [
    "Kiểu dữ liệu của cột output"
   ]
  },
  {
   "cell_type": "code",
   "execution_count": 11,
   "metadata": {},
   "outputs": [
    {
     "data": {
      "text/plain": [
       "dtype('float64')"
      ]
     },
     "execution_count": 11,
     "metadata": {},
     "output_type": "execute_result"
    }
   ],
   "source": [
    "data_df['HumidityFuture'].dtype"
   ]
  },
  {
   "cell_type": "markdown",
   "metadata": {},
   "source": [
    "Kiếm tra cột output có giá trị thiếu không"
   ]
  },
  {
   "cell_type": "code",
   "execution_count": 12,
   "metadata": {},
   "outputs": [
    {
     "data": {
      "text/plain": [
       "1"
      ]
     },
     "execution_count": 12,
     "metadata": {},
     "output_type": "execute_result"
    }
   ],
   "source": [
    "data_df['HumidityFuture'].isna().sum()"
   ]
  },
  {
   "cell_type": "markdown",
   "metadata": {},
   "source": [
    "Xử lí xóa dòng có giá trị thiếu tại cột output"
   ]
  },
  {
   "cell_type": "code",
   "execution_count": 13,
   "metadata": {},
   "outputs": [
    {
     "data": {
      "text/plain": [
       "(4382, 68)"
      ]
     },
     "execution_count": 13,
     "metadata": {},
     "output_type": "execute_result"
    }
   ],
   "source": [
    "data_df = data_df.dropna(subset=['HumidityFuture'])\n",
    "data_df.shape"
   ]
  },
  {
   "cell_type": "markdown",
   "metadata": {},
   "source": [
    "Phân bố của cột output"
   ]
  },
  {
   "cell_type": "code",
   "execution_count": 14,
   "metadata": {},
   "outputs": [
    {
     "data": {
      "text/plain": [
       "count    4382.000000\n",
       "mean       77.485707\n",
       "std         9.364456\n",
       "min        49.530000\n",
       "25%        71.240000\n",
       "50%        78.115000\n",
       "75%        84.497500\n",
       "max        99.820000\n",
       "Name: HumidityFuture, dtype: float64"
      ]
     },
     "execution_count": 14,
     "metadata": {},
     "output_type": "execute_result"
    }
   ],
   "source": [
    "humidity_fur_describe = data_df['HumidityFuture'].describe()\n",
    "humidity_fur_describe"
   ]
  },
  {
   "cell_type": "code",
   "execution_count": 15,
   "metadata": {},
   "outputs": [
    {
     "data": {
      "image/png": "[encoded data removed]",
      "text/plain": [
       "<Figure size 432x288 with 1 Axes>"
      ]
     },
     "metadata": {
      "needs_background": "light"
     },
     "output_type": "display_data"
    }
   ],
   "source": [
    "sns.boxplot(data_df['HumidityFuture']);"
   ]
  },
  {
   "cell_type": "code",
   "execution_count": 1169,
   "metadata": {},
   "outputs": [
    {
     "data": {
      "text/plain": [
       "8"
      ]
     },
     "execution_count": 1169,
     "metadata": {},
     "output_type": "execute_result"
    }
   ],
   "source": [
    "# Những giá trị ngoài khoảng [Q1-1.5IQR, Q3+1.5IQR] bị coi là outliers\n",
    "# IQR = humidity_fur_describe['75%']-humidity_fur_describe['25%']\n",
    "# ((data_df['HumidityFuture'] < humidity_fur_describe['25%']-1.5*IQR) | (data_df['HumidityFuture'] > humidity_fur_describe['75%']+1.5*IQR)).sum()"
   ]
  },
  {
   "cell_type": "code",
   "execution_count": 1170,
   "metadata": {},
   "outputs": [],
   "source": [
    "# data_df = data_df[(data_df['HumidityFuture'] >= humidity_fur_describe['25%']-1.5*IQR) & (data_df['HumidityFuture'] <= humidity_fur_describe['75%']+1.5*IQR)]\n",
    "# data_df.shape"
   ]
  },
  {
   "cell_type": "markdown",
   "metadata": {},
   "source": [
    "Khảo sát phân bố của cột thông tin lịch sử 1 ngày trước"
   ]
  },
  {
   "cell_type": "code",
   "execution_count": 16,
   "metadata": {},
   "outputs": [
    {
     "data": {
      "image/png": "[encoded data removed]",
      "text/plain": [
       "<Figure size 1728x288 with 4 Axes>"
      ]
     },
     "metadata": {
      "needs_background": "light"
     },
     "output_type": "display_data"
    }
   ],
   "source": [
    "# plt.figure(figsize=(max_prev_day*4, 4))\n",
    "# for i in range(1, max_prev_day+1):\n",
    "#     plt.subplot(1, max_prev_day, i)\n",
    "#     col_name = f'TempPrev_{i}'\n",
    "#     data_df[col_name].hist()\n",
    "#     plt.title(f'Distribution of {col_name}')\n",
    "#     plt.xlabel(col_name)\n",
    "\n",
    "plt.figure(figsize=(24, 4))\n",
    "\n",
    "plt.subplot(1, 4, 1)\n",
    "data_df['HumidityPrev_1'].hist()\n",
    "plt.title('Distribution of HumidityPrev_1')\n",
    "plt.xlabel('HumidityPrev_1')\n",
    "\n",
    "plt.subplot(1, 4, 2)\n",
    "data_df['TempPrev_1'].hist()\n",
    "plt.title('Distribution of TempPrev_1')\n",
    "plt.xlabel('TempPrev_1')\n",
    "\n",
    "plt.subplot(1, 4, 3)\n",
    "data_df['DewPrev_1'].hist()\n",
    "plt.title('Distribution of DewPrev_1')\n",
    "plt.xlabel('DewPrev_1')\n",
    "\n",
    "plt.subplot(1, 4, 4)\n",
    "data_df['PressurePrev_1'].hist()\n",
    "plt.title('Distribution of PressurePrev_1')\n",
    "plt.xlabel('PressurePrev_1')\n",
    "\n",
    "plt.show()"
   ]
  },
  {
   "cell_type": "markdown",
   "metadata": {},
   "source": [
    "### Tiền xử lí (tách các tập)"
   ]
  },
  {
   "cell_type": "markdown",
   "metadata": {},
   "source": [
    "Tiến hành tách tập data thu được thành 3 tập huấn luyện, validation và tập kiểm tra theo tỉ lệ 70%-15%-15%"
   ]
  },
  {
   "cell_type": "code",
   "execution_count": 17,
   "metadata": {},
   "outputs": [],
   "source": [
    "# Tách X_df và y_sr\n",
    "y_sr = data_df[\"HumidityFuture\"]\n",
    "X_df = data_df.drop(\"HumidityFuture\", axis = 1)"
   ]
  },
  {
   "cell_type": "code",
   "execution_count": 18,
   "metadata": {},
   "outputs": [],
   "source": [
    "# Tách tập kiểm tra\n",
    "train_valid_X_df, test_X_df, train_valid_y_sr, test_y_sr = train_test_split(\n",
    "    X_df, y_sr, test_size = 0.15, random_state = 2)"
   ]
  },
  {
   "cell_type": "code",
   "execution_count": 19,
   "metadata": {},
   "outputs": [],
   "source": [
    "# Tách tập validation, còn lại là của tập huấn luyện\n",
    "train_X_df, val_X_df, train_y_sr, val_y_sr = train_test_split(\n",
    "    train_valid_X_df, train_valid_y_sr, test_size = 3/17, random_state = 2)"
   ]
  },
  {
   "cell_type": "markdown",
   "metadata": {},
   "source": [
    "Tập kiểm tra"
   ]
  },
  {
   "cell_type": "code",
   "execution_count": 20,
   "metadata": {},
   "outputs": [
    {
     "data": {
      "text/plain": [
       "(658, 67)"
      ]
     },
     "execution_count": 20,
     "metadata": {},
     "output_type": "execute_result"
    }
   ],
   "source": [
    "test_X_df.shape"
   ]
  },
  {
   "cell_type": "markdown",
   "metadata": {},
   "source": [
    "Tập validation"
   ]
  },
  {
   "cell_type": "code",
   "execution_count": 21,
   "metadata": {},
   "outputs": [
    {
     "data": {
      "text/plain": [
       "(658, 67)"
      ]
     },
     "execution_count": 21,
     "metadata": {},
     "output_type": "execute_result"
    }
   ],
   "source": [
    "val_X_df.shape"
   ]
  },
  {
   "cell_type": "markdown",
   "metadata": {},
   "source": [
    "Tập huấn luyện"
   ]
  },
  {
   "cell_type": "code",
   "execution_count": 22,
   "metadata": {},
   "outputs": [
    {
     "data": {
      "text/plain": [
       "(3066, 67)"
      ]
     },
     "execution_count": 22,
     "metadata": {},
     "output_type": "execute_result"
    }
   ],
   "source": [
    "train_X_df.shape"
   ]
  },
  {
   "cell_type": "markdown",
   "metadata": {},
   "source": [
    "### Khám phá dữ liệu (tập huấn luyện)"
   ]
  },
  {
   "cell_type": "markdown",
   "metadata": {},
   "source": [
    "#### Kiểu dữ liệu hiện tại của mỗi cột"
   ]
  },
  {
   "cell_type": "code",
   "execution_count": 43,
   "metadata": {},
   "outputs": [
    {
     "name": "stdout",
     "output_type": "stream",
     "text": [
      "<class 'pandas.core.frame.DataFrame'>\n",
      "Int64Index: 3066 entries, 442 to 1147\n",
      "Data columns (total 67 columns):\n",
      " #   Column          Non-Null Count  Dtype  \n",
      "---  ------          --------------  -----  \n",
      " 0   Datetime        3066 non-null   object \n",
      " 1   Tempmax         3066 non-null   float64\n",
      " 2   Tempmin         3066 non-null   float64\n",
      " 3   Temp            3066 non-null   float64\n",
      " 4   Feelslikemax    3066 non-null   float64\n",
      " 5   Feelslikemin    3066 non-null   float64\n",
      " 6   Feelslike       3061 non-null   float64\n",
      " 7   Dew             3066 non-null   float64\n",
      " 8   Humidity        3066 non-null   float64\n",
      " 9   Precip          3066 non-null   float64\n",
      " 10  Precipcover     3066 non-null   float64\n",
      " 11  Windspeed       3066 non-null   float64\n",
      " 12  Winddir         3066 non-null   float64\n",
      " 13  Windgust        342 non-null    float64\n",
      " 14  Pressure        2904 non-null   float64\n",
      " 15  Cloudcover      3066 non-null   float64\n",
      " 16  Visibility      3066 non-null   float64\n",
      " 17  Conditions      3066 non-null   object \n",
      " 18  Icon            3066 non-null   object \n",
      " 19  HumidityPrev_1  3065 non-null   float64\n",
      " 20  TempPrev_1      3065 non-null   float64\n",
      " 21  TempmaxPrev_1   3065 non-null   float64\n",
      " 22  TempminPrev_1   3065 non-null   float64\n",
      " 23  DewPrev_1       3065 non-null   float64\n",
      " 24  PressurePrev_1  2905 non-null   float64\n",
      " 25  HumidityPrev_2  3064 non-null   float64\n",
      " 26  TempPrev_2      3064 non-null   float64\n",
      " 27  TempmaxPrev_2   3064 non-null   float64\n",
      " 28  TempminPrev_2   3064 non-null   float64\n",
      " 29  DewPrev_2       3064 non-null   float64\n",
      " 30  PressurePrev_2  2902 non-null   float64\n",
      " 31  HumidityPrev_3  3063 non-null   float64\n",
      " 32  TempPrev_3      3063 non-null   float64\n",
      " 33  TempmaxPrev_3   3063 non-null   float64\n",
      " 34  TempminPrev_3   3063 non-null   float64\n",
      " 35  DewPrev_3       3063 non-null   float64\n",
      " 36  PressurePrev_3  2905 non-null   float64\n",
      " 37  HumidityPrev_4  3063 non-null   float64\n",
      " 38  TempPrev_4      3063 non-null   float64\n",
      " 39  TempmaxPrev_4   3063 non-null   float64\n",
      " 40  TempminPrev_4   3063 non-null   float64\n",
      " 41  DewPrev_4       3063 non-null   float64\n",
      " 42  PressurePrev_4  2901 non-null   float64\n",
      " 43  HumidityPrev_5  3063 non-null   float64\n",
      " 44  TempPrev_5      3063 non-null   float64\n",
      " 45  TempmaxPrev_5   3063 non-null   float64\n",
      " 46  TempminPrev_5   3063 non-null   float64\n",
      " 47  DewPrev_5       3063 non-null   float64\n",
      " 48  PressurePrev_5  2901 non-null   float64\n",
      " 49  HumidityPrev_6  3062 non-null   float64\n",
      " 50  TempPrev_6      3062 non-null   float64\n",
      " 51  TempmaxPrev_6   3062 non-null   float64\n",
      " 52  TempminPrev_6   3062 non-null   float64\n",
      " 53  DewPrev_6       3062 non-null   float64\n",
      " 54  PressurePrev_6  2902 non-null   float64\n",
      " 55  HumidityPrev_7  3061 non-null   float64\n",
      " 56  TempPrev_7      3061 non-null   float64\n",
      " 57  TempmaxPrev_7   3061 non-null   float64\n",
      " 58  TempminPrev_7   3061 non-null   float64\n",
      " 59  DewPrev_7       3061 non-null   float64\n",
      " 60  PressurePrev_7  2902 non-null   float64\n",
      " 61  HumidityPrev_8  3060 non-null   float64\n",
      " 62  TempPrev_8      3060 non-null   float64\n",
      " 63  TempmaxPrev_8   3060 non-null   float64\n",
      " 64  TempminPrev_8   3060 non-null   float64\n",
      " 65  DewPrev_8       3060 non-null   float64\n",
      " 66  PressurePrev_8  2899 non-null   float64\n",
      "dtypes: float64(64), object(3)\n",
      "memory usage: 1.6+ MB\n"
     ]
    }
   ],
   "source": [
    "train_X_df.info()"
   ]
  },
  {
   "cell_type": "markdown",
   "metadata": {},
   "source": [
    "Nhận xét: Phần lớn cột trong dữ liệu input là ở dạng số"
   ]
  },
  {
   "cell_type": "markdown",
   "metadata": {},
   "source": [
    "#### Phân bố của các cột dữ liệu dạng số"
   ]
  },
  {
   "cell_type": "code",
   "execution_count": 44,
   "metadata": {},
   "outputs": [
    {
     "data": {
      "text/plain": [
       "['Tempmax',\n",
       " 'Tempmin',\n",
       " 'Temp',\n",
       " 'Feelslike',\n",
       " 'Dew',\n",
       " 'Humidity',\n",
       " 'Precip',\n",
       " 'Precipcover',\n",
       " 'Windspeed',\n",
       " 'Winddir',\n",
       " 'Windgust',\n",
       " 'Pressure',\n",
       " 'Cloudcover',\n",
       " 'Visibility',\n",
       " 'HumidityPrev_1',\n",
       " 'TempmaxPrev_1',\n",
       " 'TempminPrev_1',\n",
       " 'TempPrev_1',\n",
       " 'DewPrev_1',\n",
       " 'PressurePrev_1']"
      ]
     },
     "execution_count": 44,
     "metadata": {},
     "output_type": "execute_result"
    }
   ],
   "source": [
    "num_cols = ['Tempmax', 'Tempmin', 'Temp', 'Feelslike', 'Dew', 'Humidity', 'Precip', 'Precipcover',\n",
    "            'Windspeed', 'Winddir', 'Windgust', 'Pressure', 'Cloudcover', 'Visibility',\n",
    "            'HumidityPrev_1', 'TempmaxPrev_1', 'TempminPrev_1', 'TempPrev_1', 'DewPrev_1', 'PressurePrev_1']\n",
    "# num_cols = list(train_X_df.dtypes[train_X_df.dtypes == float].index)\n",
    "# num_cols = [x for x in num_cols if  x not in ['Feelslikemax', 'Feelslikemin', 'Feelslike']]\n",
    "num_cols"
   ]
  },
  {
   "cell_type": "code",
   "execution_count": 45,
   "metadata": {},
   "outputs": [
    {
     "data": {
      "text/html": [
       "<div>\n",
       "<style scoped>\n",
       "    .dataframe tbody tr th:only-of-type {\n",
       "        vertical-align: middle;\n",
       "    }\n",
       "\n",
       "    .dataframe tbody tr th {\n",
       "        vertical-align: top;\n",
       "    }\n",
       "\n",
       "    .dataframe thead th {\n",
       "        text-align: right;\n",
       "    }\n",
       "</style>\n",
       "<table border=\"1\" class=\"dataframe\">\n",
       "  <thead>\n",
       "    <tr style=\"text-align: right;\">\n",
       "      <th></th>\n",
       "      <th>Tempmax</th>\n",
       "      <th>Tempmin</th>\n",
       "      <th>Temp</th>\n",
       "      <th>Feelslike</th>\n",
       "      <th>Dew</th>\n",
       "      <th>Humidity</th>\n",
       "      <th>Precip</th>\n",
       "      <th>Precipcover</th>\n",
       "      <th>Windspeed</th>\n",
       "      <th>Winddir</th>\n",
       "      <th>Windgust</th>\n",
       "      <th>Pressure</th>\n",
       "      <th>Cloudcover</th>\n",
       "      <th>Visibility</th>\n",
       "      <th>HumidityPrev_1</th>\n",
       "      <th>TempmaxPrev_1</th>\n",
       "      <th>TempminPrev_1</th>\n",
       "      <th>TempPrev_1</th>\n",
       "      <th>DewPrev_1</th>\n",
       "      <th>PressurePrev_1</th>\n",
       "    </tr>\n",
       "  </thead>\n",
       "  <tbody>\n",
       "    <tr>\n",
       "      <th>missing_ratio</th>\n",
       "      <td>0.0</td>\n",
       "      <td>0.0</td>\n",
       "      <td>0.0</td>\n",
       "      <td>0.2</td>\n",
       "      <td>0.0</td>\n",
       "      <td>0.00</td>\n",
       "      <td>0.0</td>\n",
       "      <td>0.0</td>\n",
       "      <td>0.0</td>\n",
       "      <td>0.0</td>\n",
       "      <td>88.8</td>\n",
       "      <td>5.3</td>\n",
       "      <td>0.0</td>\n",
       "      <td>0.0</td>\n",
       "      <td>0.00</td>\n",
       "      <td>0.0</td>\n",
       "      <td>0.0</td>\n",
       "      <td>0.0</td>\n",
       "      <td>0.0</td>\n",
       "      <td>5.3</td>\n",
       "    </tr>\n",
       "    <tr>\n",
       "      <th>min</th>\n",
       "      <td>24.0</td>\n",
       "      <td>7.0</td>\n",
       "      <td>22.3</td>\n",
       "      <td>22.4</td>\n",
       "      <td>12.7</td>\n",
       "      <td>49.53</td>\n",
       "      <td>0.0</td>\n",
       "      <td>0.0</td>\n",
       "      <td>7.2</td>\n",
       "      <td>36.2</td>\n",
       "      <td>24.1</td>\n",
       "      <td>1000.6</td>\n",
       "      <td>7.2</td>\n",
       "      <td>5.7</td>\n",
       "      <td>49.53</td>\n",
       "      <td>24.0</td>\n",
       "      <td>7.0</td>\n",
       "      <td>22.1</td>\n",
       "      <td>12.3</td>\n",
       "      <td>1000.6</td>\n",
       "    </tr>\n",
       "    <tr>\n",
       "      <th>lower_quartile</th>\n",
       "      <td>31.9</td>\n",
       "      <td>23.1</td>\n",
       "      <td>26.9</td>\n",
       "      <td>28.5</td>\n",
       "      <td>22.2</td>\n",
       "      <td>71.50</td>\n",
       "      <td>0.0</td>\n",
       "      <td>0.0</td>\n",
       "      <td>15.8</td>\n",
       "      <td>139.3</td>\n",
       "      <td>35.3</td>\n",
       "      <td>1008.1</td>\n",
       "      <td>45.4</td>\n",
       "      <td>9.3</td>\n",
       "      <td>71.30</td>\n",
       "      <td>31.9</td>\n",
       "      <td>23.1</td>\n",
       "      <td>26.9</td>\n",
       "      <td>22.2</td>\n",
       "      <td>1008.1</td>\n",
       "    </tr>\n",
       "    <tr>\n",
       "      <th>median</th>\n",
       "      <td>33.0</td>\n",
       "      <td>24.1</td>\n",
       "      <td>27.9</td>\n",
       "      <td>30.3</td>\n",
       "      <td>23.7</td>\n",
       "      <td>78.30</td>\n",
       "      <td>0.0</td>\n",
       "      <td>0.0</td>\n",
       "      <td>18.4</td>\n",
       "      <td>184.4</td>\n",
       "      <td>40.7</td>\n",
       "      <td>1009.4</td>\n",
       "      <td>54.7</td>\n",
       "      <td>9.9</td>\n",
       "      <td>78.30</td>\n",
       "      <td>33.0</td>\n",
       "      <td>24.3</td>\n",
       "      <td>27.9</td>\n",
       "      <td>23.7</td>\n",
       "      <td>1009.4</td>\n",
       "    </tr>\n",
       "    <tr>\n",
       "      <th>upper_quartile</th>\n",
       "      <td>34.0</td>\n",
       "      <td>25.6</td>\n",
       "      <td>28.8</td>\n",
       "      <td>32.1</td>\n",
       "      <td>24.6</td>\n",
       "      <td>84.50</td>\n",
       "      <td>2.0</td>\n",
       "      <td>4.2</td>\n",
       "      <td>22.3</td>\n",
       "      <td>233.2</td>\n",
       "      <td>48.2</td>\n",
       "      <td>1011.0</td>\n",
       "      <td>66.5</td>\n",
       "      <td>10.3</td>\n",
       "      <td>84.50</td>\n",
       "      <td>34.0</td>\n",
       "      <td>25.6</td>\n",
       "      <td>28.8</td>\n",
       "      <td>24.6</td>\n",
       "      <td>1011.0</td>\n",
       "    </tr>\n",
       "    <tr>\n",
       "      <th>max</th>\n",
       "      <td>38.1</td>\n",
       "      <td>29.9</td>\n",
       "      <td>32.5</td>\n",
       "      <td>39.2</td>\n",
       "      <td>26.9</td>\n",
       "      <td>99.82</td>\n",
       "      <td>151.1</td>\n",
       "      <td>37.5</td>\n",
       "      <td>74.2</td>\n",
       "      <td>343.3</td>\n",
       "      <td>77.8</td>\n",
       "      <td>1017.4</td>\n",
       "      <td>99.6</td>\n",
       "      <td>76.6</td>\n",
       "      <td>99.82</td>\n",
       "      <td>38.1</td>\n",
       "      <td>29.9</td>\n",
       "      <td>32.5</td>\n",
       "      <td>26.8</td>\n",
       "      <td>1017.4</td>\n",
       "    </tr>\n",
       "  </tbody>\n",
       "</table>\n",
       "</div>"
      ],
      "text/plain": [
       "                Tempmax  Tempmin  Temp  Feelslike   Dew  Humidity  Precip  \\\n",
       "missing_ratio       0.0      0.0   0.0        0.2   0.0      0.00     0.0   \n",
       "min                24.0      7.0  22.3       22.4  12.7     49.53     0.0   \n",
       "lower_quartile     31.9     23.1  26.9       28.5  22.2     71.50     0.0   \n",
       "median             33.0     24.1  27.9       30.3  23.7     78.30     0.0   \n",
       "upper_quartile     34.0     25.6  28.8       32.1  24.6     84.50     2.0   \n",
       "max                38.1     29.9  32.5       39.2  26.9     99.82   151.1   \n",
       "\n",
       "                Precipcover  Windspeed  Winddir  Windgust  Pressure  \\\n",
       "missing_ratio           0.0        0.0      0.0      88.8       5.3   \n",
       "min                     0.0        7.2     36.2      24.1    1000.6   \n",
       "lower_quartile          0.0       15.8    139.3      35.3    1008.1   \n",
       "median                  0.0       18.4    184.4      40.7    1009.4   \n",
       "upper_quartile          4.2       22.3    233.2      48.2    1011.0   \n",
       "max                    37.5       74.2    343.3      77.8    1017.4   \n",
       "\n",
       "                Cloudcover  Visibility  HumidityPrev_1  TempmaxPrev_1  \\\n",
       "missing_ratio          0.0         0.0            0.00            0.0   \n",
       "min                    7.2         5.7           49.53           24.0   \n",
       "lower_quartile        45.4         9.3           71.30           31.9   \n",
       "median                54.7         9.9           78.30           33.0   \n",
       "upper_quartile        66.5        10.3           84.50           34.0   \n",
       "max                   99.6        76.6           99.82           38.1   \n",
       "\n",
       "                TempminPrev_1  TempPrev_1  DewPrev_1  PressurePrev_1  \n",
       "missing_ratio             0.0         0.0        0.0             5.3  \n",
       "min                       7.0        22.1       12.3          1000.6  \n",
       "lower_quartile           23.1        26.9       22.2          1008.1  \n",
       "median                   24.3        27.9       23.7          1009.4  \n",
       "upper_quartile           25.6        28.8       24.6          1011.0  \n",
       "max                      29.9        32.5       26.8          1017.4  "
      ]
     },
     "execution_count": 45,
     "metadata": {},
     "output_type": "execute_result"
    }
   ],
   "source": [
    "df = train_X_df[num_cols]\n",
    "\n",
    "def missing_ratio(df):\n",
    "    return (df.isna().mean() * 100).round(1)\n",
    "def lower_quartile(df):\n",
    "    return df.quantile(0.25).round(1)\n",
    "def median(df):\n",
    "    return df.quantile(0.5).round(1)\n",
    "def upper_quartile(df):\n",
    "    return df.quantile(0.75).round(1)\n",
    "\n",
    "df.agg([missing_ratio, 'min', lower_quartile, median, upper_quartile, 'max'])"
   ]
  },
  {
   "cell_type": "markdown",
   "metadata": {},
   "source": [
    "#### Phân bố của các cột dữ liệu không phải dạng số"
   ]
  },
  {
   "cell_type": "code",
   "execution_count": 26,
   "metadata": {},
   "outputs": [
    {
     "data": {
      "text/html": [
       "<div>\n",
       "<style scoped>\n",
       "    .dataframe tbody tr th:only-of-type {\n",
       "        vertical-align: middle;\n",
       "    }\n",
       "\n",
       "    .dataframe tbody tr th {\n",
       "        vertical-align: top;\n",
       "    }\n",
       "\n",
       "    .dataframe thead th {\n",
       "        text-align: right;\n",
       "    }\n",
       "</style>\n",
       "<table border=\"1\" class=\"dataframe\">\n",
       "  <thead>\n",
       "    <tr style=\"text-align: right;\">\n",
       "      <th></th>\n",
       "      <th>Datetime</th>\n",
       "      <th>Conditions</th>\n",
       "      <th>Icon</th>\n",
       "    </tr>\n",
       "  </thead>\n",
       "  <tbody>\n",
       "    <tr>\n",
       "      <th>missing_ratio</th>\n",
       "      <td>0</td>\n",
       "      <td>0</td>\n",
       "      <td>0</td>\n",
       "    </tr>\n",
       "    <tr>\n",
       "      <th>num_values</th>\n",
       "      <td>3066</td>\n",
       "      <td>5</td>\n",
       "      <td>5</td>\n",
       "    </tr>\n",
       "    <tr>\n",
       "      <th>value_ratios</th>\n",
       "      <td>{'2011-10-18': 0.0, '2010-10-11': 0.0, '2010-09-02': 0.0, '2011-09-23': 0.0, '2014-07-16': 0.0, '2011-08-28': 0.0, '2016-03-04': 0.0, '2010-01-30': 0.0, '2016-11-28': 0.0, '2012-01-05': 0.0, '2014...</td>\n",
       "      <td>{'Partially cloudy': 62.0, 'Rain': 26.9, 'Overcast': 10.0, 'Clear': 1.0}</td>\n",
       "      <td>{'partly-cloudy-day': 57.7, 'rain': 29.0, 'cloudy': 10.4, 'wind': 1.4, 'clear-day': 1.4}</td>\n",
       "    </tr>\n",
       "  </tbody>\n",
       "</table>\n",
       "</div>"
      ],
      "text/plain": [
       "                                                                                                                                                                                                              Datetime  \\\n",
       "missing_ratio                                                                                                                                                                                                        0   \n",
       "num_values                                                                                                                                                                                                        3066   \n",
       "value_ratios   {'2011-10-18': 0.0, '2010-10-11': 0.0, '2010-09-02': 0.0, '2011-09-23': 0.0, '2014-07-16': 0.0, '2011-08-28': 0.0, '2016-03-04': 0.0, '2010-01-30': 0.0, '2016-11-28': 0.0, '2012-01-05': 0.0, '2014...   \n",
       "\n",
       "                                                                             Conditions  \\\n",
       "missing_ratio                                                                         0   \n",
       "num_values                                                                            5   \n",
       "value_ratios   {'Partially cloudy': 62.0, 'Rain': 26.9, 'Overcast': 10.0, 'Clear': 1.0}   \n",
       "\n",
       "                                                                                                   Icon  \n",
       "missing_ratio                                                                                         0  \n",
       "num_values                                                                                            5  \n",
       "value_ratios   {'partly-cloudy-day': 57.7, 'rain': 29.0, 'cloudy': 10.4, 'wind': 1.4, 'clear-day': 1.4}  "
      ]
     },
     "execution_count": 26,
     "metadata": {},
     "output_type": "execute_result"
    }
   ],
   "source": [
    "pd.set_option('display.max_colwidth', 200) # Để nhìn rõ hơn\n",
    "cat_cols = ['Datetime', 'Conditions', 'Icon']\n",
    "cat_multi_cols = ['Conditions']\n",
    "df = train_X_df[cat_cols]\n",
    "\n",
    "def missing_ratio(df):\n",
    "    return (df.isna().mean() * 100).round(1)\n",
    "def num_values(df):\n",
    "    return df.nunique()\n",
    "def value_ratios(c):\n",
    "    if c.name in cat_multi_cols:\n",
    "        s = c.str.split(', ').explode().value_counts(normalize=True)\n",
    "        return dict((s * 100).round(1))\n",
    "    else:\n",
    "        return dict((c.value_counts(normalize=True) * 100).round(1))\n",
    "    \n",
    "df.agg([missing_ratio, num_values, value_ratios])"
   ]
  },
  {
   "cell_type": "markdown",
   "metadata": {},
   "source": [
    "## 4. Tiền xử lí và mô hình hóa dữ liệu"
   ]
  },
  {
   "cell_type": "markdown",
   "metadata": {},
   "source": [
    "### Tiền xử lí tập huấn luyện"
   ]
  },
  {
   "cell_type": "markdown",
   "metadata": {},
   "source": [
    "Đầu tiên, class ColAdderDropper xử lí thêm bớt một số cột như sau:\n",
    "- Tạo thêm Month lấy thông tin tháng từ cột Datetime. Sau đó bỏ cột Datetime.\n",
    "- Bỏ các cột Feelslikemax, Feelslikemin, Feelslike, Precip, Precipcover, Winddir, Cloudcover, Visibility, Conditions, Icon vì có lẽ các cột này không mang lại nhiều thông tin hữu ích.\n",
    "- Bỏ cột Windgust vì chứa nhiều giá trị rỗng (NaN)\n",
    "\n",
    "Với các cột dữ liệu dạng số ta sẽ điền giá trị thiếu bằng mean của cột bằng cách sử dụng `SimpleImputer`"
   ]
  },
  {
   "cell_type": "code",
   "execution_count": 27,
   "metadata": {},
   "outputs": [],
   "source": [
    "class ColAdderDropper(BaseEstimator, TransformerMixin):\n",
    "    def __init__(self, num_prev_day=1):\n",
    "        # num_prev_day thuộc khoảng [1, 5]\n",
    "        if num_prev_day < 1:\n",
    "            num_prev_day = 1\n",
    "        elif num_prev_day > max_prev_day:\n",
    "            num_prev_day = max_prev_day\n",
    "        self.num_prev_day = num_prev_day\n",
    "    def fit(self, X_df, y = None):\n",
    "        return self\n",
    "    def transform(self, X_df, y = None):\n",
    "        # YOUR CODE HERE\n",
    "        # Thêm cột\n",
    "        df = X_df.copy()\n",
    "        month_sr = df['Datetime'].str.split('-').apply(lambda x: x[1])\n",
    "        day_sr = df['Datetime'].str.split('-').apply(lambda x: x[2])\n",
    "#         df.insert(0, 'Day', day_sr)\n",
    "        df.insert(0, 'Month', month_sr)\n",
    "    \n",
    "        # Xóa các cột không cần thiết\n",
    "        drop_cols = ['Datetime', 'Feelslikemax', 'Feelslikemin', 'Feelslike', 'Precip', 'Precipcover',\n",
    "                     'Winddir', 'Windgust', 'Cloudcover', 'Visibility', 'Conditions', 'Icon']\n",
    "        df.drop(drop_cols, axis = 1, inplace = True)\n",
    "        \n",
    "        # Xử lí xóa các cột HumidityPrev, TempPrev\n",
    "        drop_cols = []\n",
    "        drop_cols = [f'HumidityPrev_{i}' for i in range(self.num_prev_day + 1, max_prev_day+1)]\n",
    "        drop_cols.extend([f'TempPrev_{i}' for i in range(self.num_prev_day + 1, max_prev_day+1)])\n",
    "        drop_cols.extend([f'TempmaxPrev_{i}' for i in range(self.num_prev_day + 1, max_prev_day+1)])\n",
    "        drop_cols.extend([f'TempminPrev_{i}' for i in range(self.num_prev_day + 1, max_prev_day+1)])\n",
    "        drop_cols.extend([f'DewPrev_{i}' for i in range(self.num_prev_day + 1, max_prev_day+1)])\n",
    "        drop_cols.extend([f'PressurePrev_{i}' for i in range(self.num_prev_day + 1, max_prev_day+1)])\n",
    "        df.drop(drop_cols, axis = 1, inplace = True)\n",
    "        return df"
   ]
  },
  {
   "cell_type": "code",
   "execution_count": 28,
   "metadata": {},
   "outputs": [
    {
     "data": {
      "text/html": [
       "<div>\n",
       "<style scoped>\n",
       "    .dataframe tbody tr th:only-of-type {\n",
       "        vertical-align: middle;\n",
       "    }\n",
       "\n",
       "    .dataframe tbody tr th {\n",
       "        vertical-align: top;\n",
       "    }\n",
       "\n",
       "    .dataframe thead th {\n",
       "        text-align: right;\n",
       "    }\n",
       "</style>\n",
       "<table border=\"1\" class=\"dataframe\">\n",
       "  <thead>\n",
       "    <tr style=\"text-align: right;\">\n",
       "      <th></th>\n",
       "      <th>Month</th>\n",
       "      <th>Tempmax</th>\n",
       "      <th>Tempmin</th>\n",
       "      <th>Temp</th>\n",
       "      <th>Dew</th>\n",
       "      <th>Humidity</th>\n",
       "      <th>Windspeed</th>\n",
       "      <th>Pressure</th>\n",
       "      <th>HumidityPrev_1</th>\n",
       "      <th>TempPrev_1</th>\n",
       "      <th>...</th>\n",
       "      <th>TempmaxPrev_2</th>\n",
       "      <th>TempminPrev_2</th>\n",
       "      <th>DewPrev_2</th>\n",
       "      <th>PressurePrev_2</th>\n",
       "      <th>HumidityPrev_3</th>\n",
       "      <th>TempPrev_3</th>\n",
       "      <th>TempmaxPrev_3</th>\n",
       "      <th>TempminPrev_3</th>\n",
       "      <th>DewPrev_3</th>\n",
       "      <th>PressurePrev_3</th>\n",
       "    </tr>\n",
       "  </thead>\n",
       "  <tbody>\n",
       "    <tr>\n",
       "      <th>442</th>\n",
       "      <td>03</td>\n",
       "      <td>36.0</td>\n",
       "      <td>21.1</td>\n",
       "      <td>28.9</td>\n",
       "      <td>19.2</td>\n",
       "      <td>58.02</td>\n",
       "      <td>19.6</td>\n",
       "      <td>1011.2</td>\n",
       "      <td>55.14</td>\n",
       "      <td>29.3</td>\n",
       "      <td>...</td>\n",
       "      <td>35.7</td>\n",
       "      <td>23.0</td>\n",
       "      <td>19.2</td>\n",
       "      <td>1013.0</td>\n",
       "      <td>54.56</td>\n",
       "      <td>30.2</td>\n",
       "      <td>36.4</td>\n",
       "      <td>25.9</td>\n",
       "      <td>19.1</td>\n",
       "      <td>1011.7</td>\n",
       "    </tr>\n",
       "    <tr>\n",
       "      <th>966</th>\n",
       "      <td>08</td>\n",
       "      <td>32.0</td>\n",
       "      <td>24.0</td>\n",
       "      <td>26.7</td>\n",
       "      <td>24.0</td>\n",
       "      <td>85.98</td>\n",
       "      <td>24.1</td>\n",
       "      <td>1006.1</td>\n",
       "      <td>84.26</td>\n",
       "      <td>26.7</td>\n",
       "      <td>...</td>\n",
       "      <td>32.0</td>\n",
       "      <td>22.1</td>\n",
       "      <td>23.8</td>\n",
       "      <td>1007.7</td>\n",
       "      <td>86.18</td>\n",
       "      <td>27.0</td>\n",
       "      <td>33.0</td>\n",
       "      <td>24.0</td>\n",
       "      <td>24.2</td>\n",
       "      <td>1008.5</td>\n",
       "    </tr>\n",
       "    <tr>\n",
       "      <th>1992</th>\n",
       "      <td>06</td>\n",
       "      <td>29.2</td>\n",
       "      <td>24.0</td>\n",
       "      <td>26.4</td>\n",
       "      <td>25.9</td>\n",
       "      <td>96.98</td>\n",
       "      <td>23.9</td>\n",
       "      <td>1007.8</td>\n",
       "      <td>85.49</td>\n",
       "      <td>27.5</td>\n",
       "      <td>...</td>\n",
       "      <td>31.0</td>\n",
       "      <td>23.0</td>\n",
       "      <td>25.0</td>\n",
       "      <td>1008.4</td>\n",
       "      <td>92.18</td>\n",
       "      <td>27.3</td>\n",
       "      <td>32.4</td>\n",
       "      <td>24.0</td>\n",
       "      <td>25.7</td>\n",
       "      <td>1006.0</td>\n",
       "    </tr>\n",
       "    <tr>\n",
       "      <th>2743</th>\n",
       "      <td>07</td>\n",
       "      <td>31.0</td>\n",
       "      <td>24.0</td>\n",
       "      <td>27.7</td>\n",
       "      <td>23.9</td>\n",
       "      <td>80.55</td>\n",
       "      <td>24.1</td>\n",
       "      <td>1008.1</td>\n",
       "      <td>75.11</td>\n",
       "      <td>28.2</td>\n",
       "      <td>...</td>\n",
       "      <td>35.0</td>\n",
       "      <td>24.0</td>\n",
       "      <td>25.0</td>\n",
       "      <td>1008.7</td>\n",
       "      <td>76.00</td>\n",
       "      <td>29.4</td>\n",
       "      <td>34.0</td>\n",
       "      <td>25.0</td>\n",
       "      <td>24.3</td>\n",
       "      <td>1010.7</td>\n",
       "    </tr>\n",
       "    <tr>\n",
       "      <th>1739</th>\n",
       "      <td>10</td>\n",
       "      <td>29.1</td>\n",
       "      <td>24.1</td>\n",
       "      <td>25.1</td>\n",
       "      <td>24.4</td>\n",
       "      <td>96.57</td>\n",
       "      <td>16.6</td>\n",
       "      <td>1008.8</td>\n",
       "      <td>92.48</td>\n",
       "      <td>25.7</td>\n",
       "      <td>...</td>\n",
       "      <td>31.1</td>\n",
       "      <td>24.1</td>\n",
       "      <td>24.0</td>\n",
       "      <td>1008.9</td>\n",
       "      <td>91.07</td>\n",
       "      <td>26.2</td>\n",
       "      <td>29.2</td>\n",
       "      <td>25.2</td>\n",
       "      <td>24.6</td>\n",
       "      <td>1009.6</td>\n",
       "    </tr>\n",
       "  </tbody>\n",
       "</table>\n",
       "<p>5 rows × 26 columns</p>\n",
       "</div>"
      ],
      "text/plain": [
       "     Month  Tempmax  Tempmin  Temp   Dew  Humidity  Windspeed  Pressure  \\\n",
       "442     03     36.0     21.1  28.9  19.2     58.02       19.6    1011.2   \n",
       "966     08     32.0     24.0  26.7  24.0     85.98       24.1    1006.1   \n",
       "1992    06     29.2     24.0  26.4  25.9     96.98       23.9    1007.8   \n",
       "2743    07     31.0     24.0  27.7  23.9     80.55       24.1    1008.1   \n",
       "1739    10     29.1     24.1  25.1  24.4     96.57       16.6    1008.8   \n",
       "\n",
       "      HumidityPrev_1  TempPrev_1  ...  TempmaxPrev_2  TempminPrev_2  \\\n",
       "442            55.14        29.3  ...           35.7           23.0   \n",
       "966            84.26        26.7  ...           32.0           22.1   \n",
       "1992           85.49        27.5  ...           31.0           23.0   \n",
       "2743           75.11        28.2  ...           35.0           24.0   \n",
       "1739           92.48        25.7  ...           31.1           24.1   \n",
       "\n",
       "      DewPrev_2  PressurePrev_2  HumidityPrev_3  TempPrev_3  TempmaxPrev_3  \\\n",
       "442        19.2          1013.0           54.56        30.2           36.4   \n",
       "966        23.8          1007.7           86.18        27.0           33.0   \n",
       "1992       25.0          1008.4           92.18        27.3           32.4   \n",
       "2743       25.0          1008.7           76.00        29.4           34.0   \n",
       "1739       24.0          1008.9           91.07        26.2           29.2   \n",
       "\n",
       "      TempminPrev_3  DewPrev_3  PressurePrev_3  \n",
       "442            25.9       19.1          1011.7  \n",
       "966            24.0       24.2          1008.5  \n",
       "1992           24.0       25.7          1006.0  \n",
       "2743           25.0       24.3          1010.7  \n",
       "1739           25.2       24.6          1009.6  \n",
       "\n",
       "[5 rows x 26 columns]"
      ]
     },
     "execution_count": 28,
     "metadata": {},
     "output_type": "execute_result"
    }
   ],
   "source": [
    "# TEST\n",
    "col_adderdropper = ColAdderDropper(num_prev_day=3)\n",
    "fewer_cols_train_X_df = col_adderdropper.fit_transform(train_X_df)\n",
    "fewer_cols_train_X_df.head()"
   ]
  },
  {
   "cell_type": "markdown",
   "metadata": {},
   "source": [
    "Đến đây, dữ liệu hiện chỉ có các cột dạng số (numerical) (vì các cột không có dạng số đã bị loại bỏ vì không hữu ích) gồm: \"Month\", \"Tempmax\", \"Tempmin\", \"Temp\", \"Dew\", \"Humidity\", \"Windspeed\", \"Pressure\", \"HumidityPrev_x\", \"TempmaxPrev_x\", \"TempminPrev_x\", \"TempPrev_x\", \"DewPrev_x\", \"PressurePrev_x\". Các bước tiền xử lý tiếp theo như sau:\n",
    "- Ta sẽ điền giá trị thiếu cho các cột dạng số bằng giá trị mean của cột. Với *tất cả* các cột dạng số trong tập huấn luyện, ta đều cần tính mean, vì ta không biết được cột nào sẽ bị thiếu giá trị khi dự đoán với các véc-tơ input mới. \n",
    "- Cuối cùng, khi tất cả các cột đã được điền giá trị thiếu và đã có dạng số, ta sẽ tiến hành chuẩn hóa bằng cách trừ đi mean và chia cho độ lệch chuẩn của cột để giúp cho các thuật toán cực tiểu hóa như Gradient Descent, LBFGS, ... hội tụ nhanh hơn."
   ]
  },
  {
   "cell_type": "code",
   "execution_count": 29,
   "metadata": {},
   "outputs": [
    {
     "data": {
      "text/html": [
       "<style>div.sk-top-container {color: black;background-color: white;}div.sk-toggleable {background-color: white;}label.sk-toggleable__label {cursor: pointer;display: block;width: 100%;margin-bottom: 0;padding: 0.2em 0.3em;box-sizing: border-box;text-align: center;}div.sk-toggleable__content {max-height: 0;max-width: 0;overflow: hidden;text-align: left;background-color: #f0f8ff;}div.sk-toggleable__content pre {margin: 0.2em;color: black;border-radius: 0.25em;background-color: #f0f8ff;}input.sk-toggleable__control:checked~div.sk-toggleable__content {max-height: 200px;max-width: 100%;overflow: auto;}div.sk-estimator input.sk-toggleable__control:checked~label.sk-toggleable__label {background-color: #d4ebff;}div.sk-label input.sk-toggleable__control:checked~label.sk-toggleable__label {background-color: #d4ebff;}input.sk-hidden--visually {border: 0;clip: rect(1px 1px 1px 1px);clip: rect(1px, 1px, 1px, 1px);height: 1px;margin: -1px;overflow: hidden;padding: 0;position: absolute;width: 1px;}div.sk-estimator {font-family: monospace;background-color: #f0f8ff;margin: 0.25em 0.25em;border: 1px dotted black;border-radius: 0.25em;box-sizing: border-box;}div.sk-estimator:hover {background-color: #d4ebff;}div.sk-parallel-item::after {content: \"\";width: 100%;border-bottom: 1px solid gray;flex-grow: 1;}div.sk-label:hover label.sk-toggleable__label {background-color: #d4ebff;}div.sk-serial::before {content: \"\";position: absolute;border-left: 1px solid gray;box-sizing: border-box;top: 2em;bottom: 0;left: 50%;}div.sk-serial {display: flex;flex-direction: column;align-items: center;background-color: white;}div.sk-item {z-index: 1;}div.sk-parallel {display: flex;align-items: stretch;justify-content: center;background-color: white;}div.sk-parallel-item {display: flex;flex-direction: column;position: relative;background-color: white;}div.sk-parallel-item:first-child::after {align-self: flex-end;width: 50%;}div.sk-parallel-item:last-child::after {align-self: flex-start;width: 50%;}div.sk-parallel-item:only-child::after {width: 0;}div.sk-dashed-wrapped {border: 1px dashed gray;margin: 0.2em;box-sizing: border-box;padding-bottom: 0.1em;background-color: white;position: relative;}div.sk-label label {font-family: monospace;font-weight: bold;background-color: white;display: inline-block;line-height: 1.2em;}div.sk-label-container {position: relative;z-index: 2;text-align: center;}div.sk-container {display: inline-block;position: relative;}</style><div class=\"sk-top-container\"><div class=\"sk-container\"><div class=\"sk-item sk-dashed-wrapped\"><div class=\"sk-label-container\"><div class=\"sk-label sk-toggleable\"><input class=\"sk-toggleable__control sk-hidden--visually\" id=\"f17cd535-dcc8-4f66-a790-fe04d17a9567\" type=\"checkbox\" ><label class=\"sk-toggleable__label\" for=\"f17cd535-dcc8-4f66-a790-fe04d17a9567\">Pipeline</label><div class=\"sk-toggleable__content\"><pre>Pipeline(steps=[('coladderdropper', ColAdderDropper(num_prev_day=3)),\n",
       "                ('simpleimputer', SimpleImputer()),\n",
       "                ('standardscaler', StandardScaler())])</pre></div></div></div><div class=\"sk-serial\"><div class=\"sk-item\"><div class=\"sk-estimator sk-toggleable\"><input class=\"sk-toggleable__control sk-hidden--visually\" id=\"c595b0c2-441b-497a-b354-8a8de1e3e87b\" type=\"checkbox\" ><label class=\"sk-toggleable__label\" for=\"c595b0c2-441b-497a-b354-8a8de1e3e87b\">ColAdderDropper</label><div class=\"sk-toggleable__content\"><pre>ColAdderDropper(num_prev_day=3)</pre></div></div></div><div class=\"sk-item\"><div class=\"sk-estimator sk-toggleable\"><input class=\"sk-toggleable__control sk-hidden--visually\" id=\"43d3eb4b-eded-474c-96e5-1e5d1c1f7171\" type=\"checkbox\" ><label class=\"sk-toggleable__label\" for=\"43d3eb4b-eded-474c-96e5-1e5d1c1f7171\">SimpleImputer</label><div class=\"sk-toggleable__content\"><pre>SimpleImputer()</pre></div></div></div><div class=\"sk-item\"><div class=\"sk-estimator sk-toggleable\"><input class=\"sk-toggleable__control sk-hidden--visually\" id=\"b7df07aa-aae1-4652-a658-b63ca789ab94\" type=\"checkbox\" ><label class=\"sk-toggleable__label\" for=\"b7df07aa-aae1-4652-a658-b63ca789ab94\">StandardScaler</label><div class=\"sk-toggleable__content\"><pre>StandardScaler()</pre></div></div></div></div></div></div></div>"
      ],
      "text/plain": [
       "Pipeline(steps=[('coladderdropper', ColAdderDropper(num_prev_day=3)),\n",
       "                ('simpleimputer', SimpleImputer()),\n",
       "                ('standardscaler', StandardScaler())])"
      ]
     },
     "execution_count": 29,
     "metadata": {},
     "output_type": "execute_result"
    }
   ],
   "source": [
    "nume_cols = ['Month', 'Tempmax', 'Tempmin', 'Temp', 'Dew', 'Humidity',\n",
    "             'Windspeed', 'Pressure']\n",
    "\n",
    "# unorder_cate_cols = ['Icon']\n",
    "\n",
    "# unorder_cate_pipeline = make_pipeline(\n",
    "#     SimpleImputer(missing_values = np.nan, strategy = 'most_frequent'),\n",
    "#     OneHotEncoder(handle_unknown = \"ignore\")\n",
    "# )\n",
    "\n",
    "# col_transform = make_column_transformer(\n",
    "#     (SimpleImputer(strategy='mean'), nume_cols),\n",
    "#     (unorder_cate_pipeline, unorder_cate_cols),\n",
    "#     remainder='passthrough'\n",
    "# )\n",
    "\n",
    "preprocess_pipeline = make_pipeline(\n",
    "    ColAdderDropper(num_prev_day=3),\n",
    "#     col_transform,\n",
    "    SimpleImputer(strategy='mean'),\n",
    "    StandardScaler()\n",
    ")\n",
    "preprocessed_train_X = preprocess_pipeline.fit_transform(train_X_df)\n",
    "#TEST\n",
    "preprocess_pipeline"
   ]
  },
  {
   "cell_type": "markdown",
   "metadata": {},
   "source": [
    "### Tiền xử lí tập validation"
   ]
  },
  {
   "cell_type": "code",
   "execution_count": 30,
   "metadata": {},
   "outputs": [],
   "source": [
    "preprocessed_val_X = preprocess_pipeline.transform(val_X_df)"
   ]
  },
  {
   "cell_type": "markdown",
   "metadata": {},
   "source": [
    "### Kết hợp tiền xử lí và mô hình hóa"
   ]
  },
  {
   "cell_type": "markdown",
   "metadata": {},
   "source": [
    "Ta sẽ sử dụng mô hình Neural Net để phân lớp. Ta tạo ra một pipeline từ đầu đến cuối bao gồm: các bước tiền xử lý ở trên + Neural Net  \n",
    "\n",
    "Sau khi đã có được pipeline từ đầu đến cuối này, ta sẽ thử nghiệm:\n",
    "- Siêu tham số `alpha` (mức độ L2 regularization hay weight decay) của `MLPRegressor` với 5 giá trị khác nhau: 0.01 0.1, 1, 10, 100, 1000.\n",
    "- Siêu tham số `num_prev_day`: số ngày trong quá khứ mà ta dùng dữ liệu thời tiết của các ngày đó, với các giá trị: 1, 2, 3, 4, 5, 6, 7, 8\n",
    "\n",
    "Như vậy, ta sẽ thử nghiệm nhiều mô hình khác nhau, với mỗi mô hình ta sẽ: huấn luyện trên tập huấn luyện, tính độ lỗi trên tập huấn luyện và tập validation rồi `append` độ lỗi vào 2 list tương ứng là `train_errs` và `var_errs` (để dễ nhìn, ta tính độ lỗi theo đơn vị %, nghĩa là có giá trị từ 0-100). Sau đó lưu lại độ lỗi nhỏ nhất trên tập validation, giá trị `alpha` và `num_prev_day` tương ứng lần lượt vào biến `best_val_err`, `best_alpha` và `best_num_prev_day`"
   ]
  },
  {
   "cell_type": "code",
   "execution_count": 31,
   "metadata": {},
   "outputs": [
    {
     "name": "stdout",
     "output_type": "stream",
     "text": [
      "Training - Apha: 0.01 - Num_Prev_Day: 1 - Train_err: 25.052 - Val_err: 26.769\n",
      "Training - Apha: 0.01 - Num_Prev_Day: 2 - Train_err: 24.791 - Val_err: 26.79\n",
      "Training - Apha: 0.01 - Num_Prev_Day: 3 - Train_err: 23.373 - Val_err: 27.012\n",
      "Training - Apha: 0.01 - Num_Prev_Day: 4 - Train_err: 24.063 - Val_err: 26.274\n",
      "Training - Apha: 0.01 - Num_Prev_Day: 5 - Train_err: 22.929 - Val_err: 28.263\n",
      "Training - Apha: 0.01 - Num_Prev_Day: 6 - Train_err: 21.012 - Val_err: 27.744\n",
      "Training - Apha: 0.01 - Num_Prev_Day: 7 - Train_err: 22.673 - Val_err: 29.169\n",
      "Training - Apha: 0.01 - Num_Prev_Day: 8 - Train_err: 21.332 - Val_err: 29.37\n",
      "Training - Apha: 0.1 - Num_Prev_Day: 1 - Train_err: 24.544 - Val_err: 26.548\n",
      "Training - Apha: 0.1 - Num_Prev_Day: 2 - Train_err: 24.566 - Val_err: 26.947\n",
      "Training - Apha: 0.1 - Num_Prev_Day: 3 - Train_err: 22.855 - Val_err: 26.4\n",
      "Training - Apha: 0.1 - Num_Prev_Day: 4 - Train_err: 24.173 - Val_err: 25.941\n",
      "Training - Apha: 0.1 - Num_Prev_Day: 5 - Train_err: 22.95 - Val_err: 28.256\n",
      "Training - Apha: 0.1 - Num_Prev_Day: 6 - Train_err: 23.544 - Val_err: 27.296\n",
      "Training - Apha: 0.1 - Num_Prev_Day: 7 - Train_err: 22.392 - Val_err: 28.769\n",
      "Training - Apha: 0.1 - Num_Prev_Day: 8 - Train_err: 21.262 - Val_err: 29.176\n",
      "Training - Apha: 1.0 - Num_Prev_Day: 1 - Train_err: 25.108 - Val_err: 26.433\n",
      "Training - Apha: 1.0 - Num_Prev_Day: 2 - Train_err: 24.466 - Val_err: 26.591\n",
      "Training - Apha: 1.0 - Num_Prev_Day: 3 - Train_err: 24.272 - Val_err: 26.911\n",
      "Training - Apha: 1.0 - Num_Prev_Day: 4 - Train_err: 24.196 - Val_err: 25.805\n",
      "Training - Apha: 1.0 - Num_Prev_Day: 5 - Train_err: 22.937 - Val_err: 28.208\n",
      "Training - Apha: 1.0 - Num_Prev_Day: 6 - Train_err: 23.611 - Val_err: 27.048\n",
      "Training - Apha: 1.0 - Num_Prev_Day: 7 - Train_err: 22.374 - Val_err: 28.67\n",
      "Training - Apha: 1.0 - Num_Prev_Day: 8 - Train_err: 21.382 - Val_err: 29.172\n",
      "Training - Apha: 10 - Num_Prev_Day: 1 - Train_err: 25.084 - Val_err: 25.889\n",
      "Training - Apha: 10 - Num_Prev_Day: 2 - Train_err: 23.705 - Val_err: 26.311\n",
      "Training - Apha: 10 - Num_Prev_Day: 3 - Train_err: 22.896 - Val_err: 26.438\n",
      "Training - Apha: 10 - Num_Prev_Day: 4 - Train_err: 22.166 - Val_err: 25.863\n",
      "Training - Apha: 10 - Num_Prev_Day: 5 - Train_err: 23.302 - Val_err: 27.432\n",
      "Training - Apha: 10 - Num_Prev_Day: 6 - Train_err: 23.434 - Val_err: 26.344\n",
      "Training - Apha: 10 - Num_Prev_Day: 7 - Train_err: 22.764 - Val_err: 27.707\n",
      "Training - Apha: 10 - Num_Prev_Day: 8 - Train_err: 21.929 - Val_err: 28.418\n",
      "Training - Apha: 100 - Num_Prev_Day: 1 - Train_err: 26.245 - Val_err: 24.938\n",
      "Training - Apha: 100 - Num_Prev_Day: 2 - Train_err: 25.654 - Val_err: 24.736\n",
      "Training - Apha: 100 - Num_Prev_Day: 3 - Train_err: 25.403 - Val_err: 24.509\n",
      "Training - Apha: 100 - Num_Prev_Day: 4 - Train_err: 24.975 - Val_err: 24.173\n",
      "Training - Apha: 100 - Num_Prev_Day: 5 - Train_err: 24.851 - Val_err: 24.142\n",
      "Training - Apha: 100 - Num_Prev_Day: 6 - Train_err: 24.767 - Val_err: 24.081\n",
      "Training - Apha: 100 - Num_Prev_Day: 7 - Train_err: 24.486 - Val_err: 24.413\n",
      "Training - Apha: 100 - Num_Prev_Day: 8 - Train_err: 24.69 - Val_err: 24.381\n"
     ]
    },
    {
     "data": {
      "text/plain": [
       "'Finish!'"
      ]
     },
     "execution_count": 31,
     "metadata": {},
     "output_type": "execute_result"
    }
   ],
   "source": [
    "# Tạo full_pipeline\n",
    "full_pipeline = make_pipeline(\n",
    "    preprocess_pipeline,\n",
    "#     MLPRegressor(hidden_layer_sizes = (30), activation = 'tanh', solver = 'lbfgs', random_state = 0, max_iter = 6000)\n",
    "#     MLPRegressor(hidden_layer_sizes = (80, 40), activation = 'relu', solver = 'adam', random_state = 0, max_iter = 6000)\n",
    "    MLPRegressor(hidden_layer_sizes = (20, 20), activation = 'relu', solver = 'adam', random_state = 0, max_iter = 6000)\n",
    ")\n",
    "\n",
    "# Thử nghiệm với nhiều giá trị khác nhau của siêu tham số\n",
    "#mlpregressor__alpha, mlpregressor__max_iter, mlpregressor__hidden_layer_sizes\n",
    "train_errs = []\n",
    "val_errs = []\n",
    "# alphas = [0.01, 0.1, 1.0, 10, 100, 1000]\n",
    "alphas = [0.01, 0.1, 1.0, 10, 100]\n",
    "num_prev_days = list(range(1, max_prev_day + 1))\n",
    "best_val_err = float('inf'); best_alpha = None; best_num_prev_day = None\n",
    "\n",
    "for alpha in alphas:\n",
    "    for num_prev_day in num_prev_days:\n",
    "        # Chọn siêu tham số và huấn luyện\n",
    "        full_pipeline.set_params(mlpregressor__alpha = alpha, pipeline__coladderdropper__num_prev_day=num_prev_day)\n",
    "        print(f'Training - Apha: {alpha} - Num_Prev_Day: {num_prev_day}', end=' - ')\n",
    "        full_pipeline.fit(train_X_df, train_y_sr)\n",
    "\n",
    "        # Đánh giá\n",
    "        train_err = ((1 - full_pipeline.score(train_X_df, train_y_sr)) * 100).round(3)\n",
    "        train_errs.append(train_err)\n",
    "        val_err = ((1 - full_pipeline.score(val_X_df, val_y_sr)) * 100).round(3)\n",
    "        val_errs.append(val_err)\n",
    "        \n",
    "        print(f'Train_err: {train_err} - Val_err: {val_err}')\n",
    "\n",
    "        # Lưu thông tin mô hình tốt nhất\n",
    "        if val_err < best_val_err:\n",
    "            best_val_err = val_err\n",
    "            best_alpha = alpha\n",
    "            best_num_prev_day = num_prev_day\n",
    "'Finish!'"
   ]
  },
  {
   "cell_type": "code",
   "execution_count": 32,
   "metadata": {},
   "outputs": [
    {
     "data": {
      "text/html": [
       "<style>div.sk-top-container {color: black;background-color: white;}div.sk-toggleable {background-color: white;}label.sk-toggleable__label {cursor: pointer;display: block;width: 100%;margin-bottom: 0;padding: 0.2em 0.3em;box-sizing: border-box;text-align: center;}div.sk-toggleable__content {max-height: 0;max-width: 0;overflow: hidden;text-align: left;background-color: #f0f8ff;}div.sk-toggleable__content pre {margin: 0.2em;color: black;border-radius: 0.25em;background-color: #f0f8ff;}input.sk-toggleable__control:checked~div.sk-toggleable__content {max-height: 200px;max-width: 100%;overflow: auto;}div.sk-estimator input.sk-toggleable__control:checked~label.sk-toggleable__label {background-color: #d4ebff;}div.sk-label input.sk-toggleable__control:checked~label.sk-toggleable__label {background-color: #d4ebff;}input.sk-hidden--visually {border: 0;clip: rect(1px 1px 1px 1px);clip: rect(1px, 1px, 1px, 1px);height: 1px;margin: -1px;overflow: hidden;padding: 0;position: absolute;width: 1px;}div.sk-estimator {font-family: monospace;background-color: #f0f8ff;margin: 0.25em 0.25em;border: 1px dotted black;border-radius: 0.25em;box-sizing: border-box;}div.sk-estimator:hover {background-color: #d4ebff;}div.sk-parallel-item::after {content: \"\";width: 100%;border-bottom: 1px solid gray;flex-grow: 1;}div.sk-label:hover label.sk-toggleable__label {background-color: #d4ebff;}div.sk-serial::before {content: \"\";position: absolute;border-left: 1px solid gray;box-sizing: border-box;top: 2em;bottom: 0;left: 50%;}div.sk-serial {display: flex;flex-direction: column;align-items: center;background-color: white;}div.sk-item {z-index: 1;}div.sk-parallel {display: flex;align-items: stretch;justify-content: center;background-color: white;}div.sk-parallel-item {display: flex;flex-direction: column;position: relative;background-color: white;}div.sk-parallel-item:first-child::after {align-self: flex-end;width: 50%;}div.sk-parallel-item:last-child::after {align-self: flex-start;width: 50%;}div.sk-parallel-item:only-child::after {width: 0;}div.sk-dashed-wrapped {border: 1px dashed gray;margin: 0.2em;box-sizing: border-box;padding-bottom: 0.1em;background-color: white;position: relative;}div.sk-label label {font-family: monospace;font-weight: bold;background-color: white;display: inline-block;line-height: 1.2em;}div.sk-label-container {position: relative;z-index: 2;text-align: center;}div.sk-container {display: inline-block;position: relative;}</style><div class=\"sk-top-container\"><div class=\"sk-container\"><div class=\"sk-item sk-dashed-wrapped\"><div class=\"sk-label-container\"><div class=\"sk-label sk-toggleable\"><input class=\"sk-toggleable__control sk-hidden--visually\" id=\"3a0cf944-db11-4d4e-9bb8-c09ec5fbd7f2\" type=\"checkbox\" ><label class=\"sk-toggleable__label\" for=\"3a0cf944-db11-4d4e-9bb8-c09ec5fbd7f2\">Pipeline</label><div class=\"sk-toggleable__content\"><pre>Pipeline(steps=[('pipeline',\n",
       "                 Pipeline(steps=[('coladderdropper',\n",
       "                                  ColAdderDropper(num_prev_day=8)),\n",
       "                                 ('simpleimputer', SimpleImputer()),\n",
       "                                 ('standardscaler', StandardScaler())])),\n",
       "                ('mlpregressor',\n",
       "                 MLPRegressor(alpha=100, hidden_layer_sizes=(20, 20),\n",
       "                              max_iter=6000, random_state=0))])</pre></div></div></div><div class=\"sk-serial\"><div class=\"sk-item\"><div class=\"sk-label-container\"><div class=\"sk-label sk-toggleable\"><input class=\"sk-toggleable__control sk-hidden--visually\" id=\"ccbabf66-37bb-435c-97d9-3207dd621286\" type=\"checkbox\" ><label class=\"sk-toggleable__label\" for=\"ccbabf66-37bb-435c-97d9-3207dd621286\">pipeline: Pipeline</label><div class=\"sk-toggleable__content\"><pre>Pipeline(steps=[('coladderdropper', ColAdderDropper(num_prev_day=8)),\n",
       "                ('simpleimputer', SimpleImputer()),\n",
       "                ('standardscaler', StandardScaler())])</pre></div></div></div><div class=\"sk-serial\"><div class=\"sk-item\"><div class=\"sk-estimator sk-toggleable\"><input class=\"sk-toggleable__control sk-hidden--visually\" id=\"84f5301d-1a37-435e-a65e-3be6195445ed\" type=\"checkbox\" ><label class=\"sk-toggleable__label\" for=\"84f5301d-1a37-435e-a65e-3be6195445ed\">ColAdderDropper</label><div class=\"sk-toggleable__content\"><pre>ColAdderDropper(num_prev_day=8)</pre></div></div></div><div class=\"sk-item\"><div class=\"sk-estimator sk-toggleable\"><input class=\"sk-toggleable__control sk-hidden--visually\" id=\"b3066456-4a66-4fe6-88e7-3c3874848c60\" type=\"checkbox\" ><label class=\"sk-toggleable__label\" for=\"b3066456-4a66-4fe6-88e7-3c3874848c60\">SimpleImputer</label><div class=\"sk-toggleable__content\"><pre>SimpleImputer()</pre></div></div></div><div class=\"sk-item\"><div class=\"sk-estimator sk-toggleable\"><input class=\"sk-toggleable__control sk-hidden--visually\" id=\"3179e647-bbc4-44b3-9e3d-3510c51351ed\" type=\"checkbox\" ><label class=\"sk-toggleable__label\" for=\"3179e647-bbc4-44b3-9e3d-3510c51351ed\">StandardScaler</label><div class=\"sk-toggleable__content\"><pre>StandardScaler()</pre></div></div></div></div></div><div class=\"sk-item\"><div class=\"sk-estimator sk-toggleable\"><input class=\"sk-toggleable__control sk-hidden--visually\" id=\"e20bebc5-310d-4cdc-9428-502d3689525d\" type=\"checkbox\" ><label class=\"sk-toggleable__label\" for=\"e20bebc5-310d-4cdc-9428-502d3689525d\">MLPRegressor</label><div class=\"sk-toggleable__content\"><pre>MLPRegressor(alpha=100, hidden_layer_sizes=(20, 20), max_iter=6000,\n",
       "             random_state=0)</pre></div></div></div></div></div></div></div>"
      ],
      "text/plain": [
       "Pipeline(steps=[('pipeline',\n",
       "                 Pipeline(steps=[('coladderdropper',\n",
       "                                  ColAdderDropper(num_prev_day=8)),\n",
       "                                 ('simpleimputer', SimpleImputer()),\n",
       "                                 ('standardscaler', StandardScaler())])),\n",
       "                ('mlpregressor',\n",
       "                 MLPRegressor(alpha=100, hidden_layer_sizes=(20, 20),\n",
       "                              max_iter=6000, random_state=0))])"
      ]
     },
     "execution_count": 32,
     "metadata": {},
     "output_type": "execute_result"
    }
   ],
   "source": [
    "# Test\n",
    "full_pipeline"
   ]
  },
  {
   "cell_type": "code",
   "execution_count": 33,
   "metadata": {},
   "outputs": [
    {
     "data": {
      "image/png": "[encoded data removed]",
      "text/plain": [
       "<Figure size 1008x504 with 2 Axes>"
      ]
     },
     "metadata": {
      "needs_background": "light"
     },
     "output_type": "display_data"
    }
   ],
   "source": [
    "# Trực quan hóa kết quả\n",
    "train_errs_df = pd.DataFrame(data=np.array(train_errs).reshape(len(alphas), -1),\n",
    "                             index=alphas, columns=num_prev_days)\n",
    "val_errs_df = pd.DataFrame(data=np.array(val_errs).reshape(len(alphas), -1), \n",
    "                           index=alphas, columns=num_prev_days)\n",
    "\n",
    "min_err = min(min(train_errs), min(val_errs))\n",
    "max_err = max(max(train_errs), max(val_errs))\n",
    "\n",
    "plt.figure(figsize=(16, 8))\n",
    "plt.subplot(1, 2, 1)\n",
    "sns.heatmap(train_errs_df, vmin=min_err, vmax=max_err, square=True, annot=True, \n",
    "            cbar=False, fmt='.1f', cmap='Reds')\n",
    "plt.title('train errors'); plt.xlabel('num_prev_day'); plt.ylabel('alpha')\n",
    "\n",
    "plt.subplot(1, 2, 2)\n",
    "sns.heatmap(val_errs_df, vmin=min_err, vmax=max_err, square=True, annot=True, \n",
    "            cbar=False, fmt='.1f', cmap='Reds')\n",
    "plt.title('validation errors'); plt.xlabel('num_prev_days'); plt.ylabel('alpha');"
   ]
  },
  {
   "cell_type": "markdown",
   "metadata": {},
   "source": [
    "Nhận xét: Ở các giá trị siêu tham số làm độ lỗi trên tập huấn luyện thấp thì độ lỗi ở tập huấn luyện lại cao. Có thể là dấu hiệu của overfitting do kích thước dữ liệu không lớn."
   ]
  },
  {
   "cell_type": "markdown",
   "metadata": {},
   "source": [
    "#### Huấn luyện lại mô hình với kết quả siêu tham số tốt nhất"
   ]
  },
  {
   "cell_type": "code",
   "execution_count": 34,
   "metadata": {},
   "outputs": [
    {
     "data": {
      "text/plain": [
       "100"
      ]
     },
     "execution_count": 34,
     "metadata": {},
     "output_type": "execute_result"
    }
   ],
   "source": [
    "best_alpha"
   ]
  },
  {
   "cell_type": "code",
   "execution_count": 35,
   "metadata": {},
   "outputs": [
    {
     "data": {
      "text/plain": [
       "6"
      ]
     },
     "execution_count": 35,
     "metadata": {},
     "output_type": "execute_result"
    }
   ],
   "source": [
    "best_num_prev_day"
   ]
  },
  {
   "cell_type": "code",
   "execution_count": 36,
   "metadata": {},
   "outputs": [
    {
     "data": {
      "text/html": [
       "<style>div.sk-top-container {color: black;background-color: white;}div.sk-toggleable {background-color: white;}label.sk-toggleable__label {cursor: pointer;display: block;width: 100%;margin-bottom: 0;padding: 0.2em 0.3em;box-sizing: border-box;text-align: center;}div.sk-toggleable__content {max-height: 0;max-width: 0;overflow: hidden;text-align: left;background-color: #f0f8ff;}div.sk-toggleable__content pre {margin: 0.2em;color: black;border-radius: 0.25em;background-color: #f0f8ff;}input.sk-toggleable__control:checked~div.sk-toggleable__content {max-height: 200px;max-width: 100%;overflow: auto;}div.sk-estimator input.sk-toggleable__control:checked~label.sk-toggleable__label {background-color: #d4ebff;}div.sk-label input.sk-toggleable__control:checked~label.sk-toggleable__label {background-color: #d4ebff;}input.sk-hidden--visually {border: 0;clip: rect(1px 1px 1px 1px);clip: rect(1px, 1px, 1px, 1px);height: 1px;margin: -1px;overflow: hidden;padding: 0;position: absolute;width: 1px;}div.sk-estimator {font-family: monospace;background-color: #f0f8ff;margin: 0.25em 0.25em;border: 1px dotted black;border-radius: 0.25em;box-sizing: border-box;}div.sk-estimator:hover {background-color: #d4ebff;}div.sk-parallel-item::after {content: \"\";width: 100%;border-bottom: 1px solid gray;flex-grow: 1;}div.sk-label:hover label.sk-toggleable__label {background-color: #d4ebff;}div.sk-serial::before {content: \"\";position: absolute;border-left: 1px solid gray;box-sizing: border-box;top: 2em;bottom: 0;left: 50%;}div.sk-serial {display: flex;flex-direction: column;align-items: center;background-color: white;}div.sk-item {z-index: 1;}div.sk-parallel {display: flex;align-items: stretch;justify-content: center;background-color: white;}div.sk-parallel-item {display: flex;flex-direction: column;position: relative;background-color: white;}div.sk-parallel-item:first-child::after {align-self: flex-end;width: 50%;}div.sk-parallel-item:last-child::after {align-self: flex-start;width: 50%;}div.sk-parallel-item:only-child::after {width: 0;}div.sk-dashed-wrapped {border: 1px dashed gray;margin: 0.2em;box-sizing: border-box;padding-bottom: 0.1em;background-color: white;position: relative;}div.sk-label label {font-family: monospace;font-weight: bold;background-color: white;display: inline-block;line-height: 1.2em;}div.sk-label-container {position: relative;z-index: 2;text-align: center;}div.sk-container {display: inline-block;position: relative;}</style><div class=\"sk-top-container\"><div class=\"sk-container\"><div class=\"sk-item sk-dashed-wrapped\"><div class=\"sk-label-container\"><div class=\"sk-label sk-toggleable\"><input class=\"sk-toggleable__control sk-hidden--visually\" id=\"8210e513-7338-45fb-812e-778c0aa3c148\" type=\"checkbox\" ><label class=\"sk-toggleable__label\" for=\"8210e513-7338-45fb-812e-778c0aa3c148\">Pipeline</label><div class=\"sk-toggleable__content\"><pre>Pipeline(steps=[('pipeline',\n",
       "                 Pipeline(steps=[('coladderdropper',\n",
       "                                  ColAdderDropper(num_prev_day=6)),\n",
       "                                 ('simpleimputer', SimpleImputer()),\n",
       "                                 ('standardscaler', StandardScaler())])),\n",
       "                ('mlpregressor',\n",
       "                 MLPRegressor(alpha=100, hidden_layer_sizes=(20, 20),\n",
       "                              max_iter=6000, random_state=0))])</pre></div></div></div><div class=\"sk-serial\"><div class=\"sk-item\"><div class=\"sk-label-container\"><div class=\"sk-label sk-toggleable\"><input class=\"sk-toggleable__control sk-hidden--visually\" id=\"bd2dea46-07fb-449c-a115-fb311278f9a0\" type=\"checkbox\" ><label class=\"sk-toggleable__label\" for=\"bd2dea46-07fb-449c-a115-fb311278f9a0\">pipeline: Pipeline</label><div class=\"sk-toggleable__content\"><pre>Pipeline(steps=[('coladderdropper', ColAdderDropper(num_prev_day=6)),\n",
       "                ('simpleimputer', SimpleImputer()),\n",
       "                ('standardscaler', StandardScaler())])</pre></div></div></div><div class=\"sk-serial\"><div class=\"sk-item\"><div class=\"sk-estimator sk-toggleable\"><input class=\"sk-toggleable__control sk-hidden--visually\" id=\"890111b8-2c3b-4e25-af93-bbdf0f01c00e\" type=\"checkbox\" ><label class=\"sk-toggleable__label\" for=\"890111b8-2c3b-4e25-af93-bbdf0f01c00e\">ColAdderDropper</label><div class=\"sk-toggleable__content\"><pre>ColAdderDropper(num_prev_day=6)</pre></div></div></div><div class=\"sk-item\"><div class=\"sk-estimator sk-toggleable\"><input class=\"sk-toggleable__control sk-hidden--visually\" id=\"6658168b-77ce-4f15-8629-f30ed1ecf805\" type=\"checkbox\" ><label class=\"sk-toggleable__label\" for=\"6658168b-77ce-4f15-8629-f30ed1ecf805\">SimpleImputer</label><div class=\"sk-toggleable__content\"><pre>SimpleImputer()</pre></div></div></div><div class=\"sk-item\"><div class=\"sk-estimator sk-toggleable\"><input class=\"sk-toggleable__control sk-hidden--visually\" id=\"80f2428c-7b1a-4646-8535-db81453d77b7\" type=\"checkbox\" ><label class=\"sk-toggleable__label\" for=\"80f2428c-7b1a-4646-8535-db81453d77b7\">StandardScaler</label><div class=\"sk-toggleable__content\"><pre>StandardScaler()</pre></div></div></div></div></div><div class=\"sk-item\"><div class=\"sk-estimator sk-toggleable\"><input class=\"sk-toggleable__control sk-hidden--visually\" id=\"5e13d4d1-f50e-4b1d-8912-c33eada66e3d\" type=\"checkbox\" ><label class=\"sk-toggleable__label\" for=\"5e13d4d1-f50e-4b1d-8912-c33eada66e3d\">MLPRegressor</label><div class=\"sk-toggleable__content\"><pre>MLPRegressor(alpha=100, hidden_layer_sizes=(20, 20), max_iter=6000,\n",
       "             random_state=0)</pre></div></div></div></div></div></div></div>"
      ],
      "text/plain": [
       "Pipeline(steps=[('pipeline',\n",
       "                 Pipeline(steps=[('coladderdropper',\n",
       "                                  ColAdderDropper(num_prev_day=6)),\n",
       "                                 ('simpleimputer', SimpleImputer()),\n",
       "                                 ('standardscaler', StandardScaler())])),\n",
       "                ('mlpregressor',\n",
       "                 MLPRegressor(alpha=100, hidden_layer_sizes=(20, 20),\n",
       "                              max_iter=6000, random_state=0))])"
      ]
     },
     "execution_count": 36,
     "metadata": {},
     "output_type": "execute_result"
    }
   ],
   "source": [
    "full_pipeline.set_params(mlpregressor__alpha = best_alpha, pipeline__coladderdropper__num_prev_day=best_num_prev_day)\n",
    "full_pipeline.fit(train_valid_X_df, train_valid_y_sr)"
   ]
  },
  {
   "cell_type": "markdown",
   "metadata": {},
   "source": [
    "### Đánh giá mô hình tìm được"
   ]
  },
  {
   "cell_type": "markdown",
   "metadata": {},
   "source": [
    "**Độ chính xác trên tập kiểm tra**"
   ]
  },
  {
   "cell_type": "code",
   "execution_count": 41,
   "metadata": {},
   "outputs": [
    {
     "data": {
      "text/plain": [
       "0.7708553245319469"
      ]
     },
     "execution_count": 41,
     "metadata": {},
     "output_type": "execute_result"
    }
   ],
   "source": [
    "full_pipeline.score(test_X_df, test_y_sr)"
   ]
  },
  {
   "cell_type": "markdown",
   "metadata": {},
   "source": [
    "Độ lỗi trên tập kiểm tra"
   ]
  },
  {
   "cell_type": "code",
   "execution_count": 42,
   "metadata": {},
   "outputs": [
    {
     "data": {
      "text/plain": [
       "0.22914467546805306"
      ]
     },
     "execution_count": 42,
     "metadata": {},
     "output_type": "execute_result"
    }
   ],
   "source": [
    "1 - full_pipeline.score(test_X_df, test_y_sr)"
   ]
  }
 ],
 "metadata": {
  "kernelspec": {
   "display_name": "Python 3",
   "language": "python",
   "name": "python3"
  },
  "language_info": {
   "codemirror_mode": {
    "name": "ipython",
    "version": 3
   },
   "file_extension": ".py",
   "mimetype": "text/x-python",
   "name": "python",
   "nbconvert_exporter": "python",
   "pygments_lexer": "ipython3",
   "version": "3.7.6"
  }
 },
 "nbformat": 4,
 "nbformat_minor": 4
}
