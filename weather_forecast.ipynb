{
 "cells": [
  {
   "cell_type": "markdown",
   "metadata": {},
   "source": [
    "## Đồ Án Cuối Kì Nhập Môn Khoa Học Dữ Liệu"
   ]
  },
  {
   "cell_type": "markdown",
   "metadata": {},
   "source": [
    "### Đề tài: Dự báo lượng mưa từ những thông số thời tiết khác như nhiệt độ, độ ẩm, áp suất không khí, ..."
   ]
  },
  {
   "cell_type": "markdown",
   "metadata": {},
   "source": [
    "Thông tin nhóm\n",
    "1. Nguyễn Văn Hậu - 18120359\n",
    "2. Nguyễn Tấn Thìn - 18120085"
   ]
  },
  {
   "cell_type": "markdown",
   "metadata": {},
   "source": [
    "## 1. Thu thập data"
   ]
  },
  {
   "cell_type": "markdown",
   "metadata": {},
   "source": [
    "#### Tổng quan về Visual Crossing Timeline Weather API\n",
    "- Website: `https://www.visualcrossing.com/weather-api`\n",
    "- Documents: `https://www.visualcrossing.com/resources/documentation/weather-api/weather-api-documentation/#timeline`\n",
    "- API cung cấp thông tin về thời tiết trong quá khứ, giữa 2 khoảng thời gian cho trước tại một địa điểm xác định và có thể có thêm thông tin dự báo thời tiết (nhưng ta sẽ không lấy thông tin này)\n",
    "- Cần tạo một tài khoản để được cung cấp API key\n",
    "- Mỗi API key miễn phí bị giới hạn chỉ được thu thập tối đa 1000 kết quả trả về trong một ngày"
   ]
  },
  {
   "cell_type": "markdown",
   "metadata": {},
   "source": [
    "#### Cú pháp API\n",
    "`https://weather.visualcrossing.com/VisualCrossingWebServices/rest/services/timeline/[location]/[date1]/[date2]?key=YOUR_API_KEY`\n",
    "với:\n",
    "- `location` là địa điểm cần lấy thông tin thời tiết\n",
    "- `date1` là thời gian bắt đầu\n",
    "- `date2` là thời gian kết thúc\n",
    "- `YOUR_API_KEY` là api key cung cấp cho mỗi tài khoản đăng kí"
   ]
  },
  {
   "cell_type": "markdown",
   "metadata": {},
   "source": [
    "#### Cách thu thập data\n",
    "- Chúng ta tiến hành thu thập dữ liệu thời tiết trong quá khứ theo từng ngày trong thời gian từ năm 2017 đến năm 2020, cụ thể là từ **1/1/2017** đến **31/12/2020**\n",
    "- Vì giới hạn mỗi API key chỉ được thu thập **tối đa 1000** kết quả một ngày nên ta sẽ dùng 2 API key, mỗi API key tương ứng thu thập dữ liệu năm 2017-2018 và năm 2019-2020"
   ]
  },
  {
   "cell_type": "markdown",
   "metadata": {},
   "source": [
    "### Import"
   ]
  },
  {
   "cell_type": "code",
   "execution_count": 178,
   "metadata": {},
   "outputs": [],
   "source": [
    "%matplotlib inline\n",
    "import requests\n",
    "import json\n",
    "import datetime as dt\n",
    "\n",
    "import numpy as np\n",
    "import pandas as pd\n",
    "import matplotlib.pyplot as plt\n",
    "\n",
    "from sklearn.model_selection import train_test_split\n",
    "from sklearn.preprocessing import OneHotEncoder, StandardScaler\n",
    "from sklearn.impute import SimpleImputer\n",
    "from sklearn.base import BaseEstimator, TransformerMixin\n",
    "from sklearn.pipeline import Pipeline, make_pipeline\n",
    "from sklearn.compose import ColumnTransformer, make_column_transformer\n",
    "from sklearn.preprocessing import FunctionTransformer\n",
    "from sklearn.neural_network import MLPClassifier\n",
    "from sklearn.neural_network import MLPRegressor\n",
    "from sklearn import set_config\n",
    "set_config(display='diagram') # Để trực quan hóa pipeline"
   ]
  },
  {
   "cell_type": "markdown",
   "metadata": {},
   "source": [
    "### Chuẩn bị các hàm cần thiết"
   ]
  },
  {
   "cell_type": "markdown",
   "metadata": {},
   "source": [
    "Hàm thu thập data giữa 2 ngày"
   ]
  },
  {
   "cell_type": "code",
   "execution_count": 2,
   "metadata": {},
   "outputs": [],
   "source": [
    "def collect_data(start_date, end_date, api_key):\n",
    "    url = f'https://weather.visualcrossing.com/VisualCrossingWebServices/rest/services/timeline/Ho%20Chi%20Minh/{start_date}/{end_date}?unitGroup=metric&key={api_key}&include=obs'\n",
    "    weather_data = []\n",
    "    success = False\n",
    "    while success == False:\n",
    "        print(f\"GET: {url}\")\n",
    "        r = requests.get(url)\n",
    "        if r.ok == True:\n",
    "            # lấy kết quả json\n",
    "            pydata = json.loads(r.text)\n",
    "            weather_data.extend(pydata[\"days\"])\n",
    "            print(\"Successful! Remaining cost:\", pydata['remainingCost'])\n",
    "            print()\n",
    "\n",
    "            success = True\n",
    "        else:\n",
    "            print(\"Fail! Try again. Remaining cost:\", pydata['remainingCost'])\n",
    "            time.sleep(5)\n",
    "        \n",
    "    return weather_data"
   ]
  },
  {
   "cell_type": "markdown",
   "metadata": {},
   "source": [
    "Hàm thu thập toàn bộ data"
   ]
  },
  {
   "cell_type": "code",
   "execution_count": 3,
   "metadata": {},
   "outputs": [],
   "source": [
    "def collect_all_data(start_year, end_year, api_key):\n",
    "    years = list(range(start_year, end_year + 1))\n",
    "    print('List years:', years)\n",
    "    month_days = [\n",
    "        ((1, 1), (3, 31)), \n",
    "        ((4, 1), (6, 30)),\n",
    "        ((7, 1), (9, 30)),\n",
    "        ((10, 1), (12, 31))\n",
    "    ]\n",
    "    all_weather_data = []\n",
    "    \n",
    "    for year in years:\n",
    "        for month_day in month_days:\n",
    "            start_date = f'{year}-{month_day[0][0]}-{month_day[0][1]}'\n",
    "            end_date = f'{year}-{month_day[1][0]}-{month_day[1][1]}'\n",
    "            print(f'({start_date} -> {end_date})', end='\\n')\n",
    "#             print(url)\n",
    "            weather_data = collect_data(start_date, end_date, api_key)\n",
    "            all_weather_data.extend(weather_data)\n",
    "        print()\n",
    "        \n",
    "    return all_weather_data"
   ]
  },
  {
   "cell_type": "markdown",
   "metadata": {},
   "source": [
    "### Tiến hành thu thập data"
   ]
  },
  {
   "cell_type": "code",
   "execution_count": 4,
   "metadata": {},
   "outputs": [
    {
     "name": "stdout",
     "output_type": "stream",
     "text": [
      "List years: [2017, 2018]\n",
      "(2017-1-1 -> 2017-3-31)\n",
      "GET: https://weather.visualcrossing.com/VisualCrossingWebServices/rest/services/timeline/Ho%20Chi%20Minh/2017-1-1/2017-3-31?unitGroup=metric&key=A29UZSNHSG8P8EPR6A4CM2UC6&include=obs\n",
      "Successful! Remaining cost: 910\n",
      "\n",
      "(2017-4-1 -> 2017-6-30)\n",
      "GET: https://weather.visualcrossing.com/VisualCrossingWebServices/rest/services/timeline/Ho%20Chi%20Minh/2017-4-1/2017-6-30?unitGroup=metric&key=A29UZSNHSG8P8EPR6A4CM2UC6&include=obs\n",
      "Successful! Remaining cost: 819\n",
      "\n",
      "(2017-7-1 -> 2017-9-30)\n",
      "GET: https://weather.visualcrossing.com/VisualCrossingWebServices/rest/services/timeline/Ho%20Chi%20Minh/2017-7-1/2017-9-30?unitGroup=metric&key=A29UZSNHSG8P8EPR6A4CM2UC6&include=obs\n",
      "Successful! Remaining cost: 727\n",
      "\n",
      "(2017-10-1 -> 2017-12-31)\n",
      "GET: https://weather.visualcrossing.com/VisualCrossingWebServices/rest/services/timeline/Ho%20Chi%20Minh/2017-10-1/2017-12-31?unitGroup=metric&key=A29UZSNHSG8P8EPR6A4CM2UC6&include=obs\n",
      "Successful! Remaining cost: 635\n",
      "\n",
      "\n",
      "(2018-1-1 -> 2018-3-31)\n",
      "GET: https://weather.visualcrossing.com/VisualCrossingWebServices/rest/services/timeline/Ho%20Chi%20Minh/2018-1-1/2018-3-31?unitGroup=metric&key=A29UZSNHSG8P8EPR6A4CM2UC6&include=obs\n",
      "Successful! Remaining cost: 545\n",
      "\n",
      "(2018-4-1 -> 2018-6-30)\n",
      "GET: https://weather.visualcrossing.com/VisualCrossingWebServices/rest/services/timeline/Ho%20Chi%20Minh/2018-4-1/2018-6-30?unitGroup=metric&key=A29UZSNHSG8P8EPR6A4CM2UC6&include=obs\n",
      "Successful! Remaining cost: 454\n",
      "\n",
      "(2018-7-1 -> 2018-9-30)\n",
      "GET: https://weather.visualcrossing.com/VisualCrossingWebServices/rest/services/timeline/Ho%20Chi%20Minh/2018-7-1/2018-9-30?unitGroup=metric&key=A29UZSNHSG8P8EPR6A4CM2UC6&include=obs\n",
      "Successful! Remaining cost: 362\n",
      "\n",
      "(2018-10-1 -> 2018-12-31)\n",
      "GET: https://weather.visualcrossing.com/VisualCrossingWebServices/rest/services/timeline/Ho%20Chi%20Minh/2018-10-1/2018-12-31?unitGroup=metric&key=A29UZSNHSG8P8EPR6A4CM2UC6&include=obs\n",
      "Successful! Remaining cost: 270\n",
      "\n",
      "\n",
      "List years: [2019, 2020]\n",
      "(2019-1-1 -> 2019-3-31)\n",
      "GET: https://weather.visualcrossing.com/VisualCrossingWebServices/rest/services/timeline/Ho%20Chi%20Minh/2019-1-1/2019-3-31?unitGroup=metric&key=YXRHHRS6QX82D58S867TW6YBF&include=obs\n",
      "Successful! Remaining cost: 910\n",
      "\n",
      "(2019-4-1 -> 2019-6-30)\n",
      "GET: https://weather.visualcrossing.com/VisualCrossingWebServices/rest/services/timeline/Ho%20Chi%20Minh/2019-4-1/2019-6-30?unitGroup=metric&key=YXRHHRS6QX82D58S867TW6YBF&include=obs\n",
      "Successful! Remaining cost: 819\n",
      "\n",
      "(2019-7-1 -> 2019-9-30)\n",
      "GET: https://weather.visualcrossing.com/VisualCrossingWebServices/rest/services/timeline/Ho%20Chi%20Minh/2019-7-1/2019-9-30?unitGroup=metric&key=YXRHHRS6QX82D58S867TW6YBF&include=obs\n",
      "Successful! Remaining cost: 727\n",
      "\n",
      "(2019-10-1 -> 2019-12-31)\n",
      "GET: https://weather.visualcrossing.com/VisualCrossingWebServices/rest/services/timeline/Ho%20Chi%20Minh/2019-10-1/2019-12-31?unitGroup=metric&key=YXRHHRS6QX82D58S867TW6YBF&include=obs\n",
      "Successful! Remaining cost: 635\n",
      "\n",
      "\n",
      "(2020-1-1 -> 2020-3-31)\n",
      "GET: https://weather.visualcrossing.com/VisualCrossingWebServices/rest/services/timeline/Ho%20Chi%20Minh/2020-1-1/2020-3-31?unitGroup=metric&key=YXRHHRS6QX82D58S867TW6YBF&include=obs\n",
      "Successful! Remaining cost: 544\n",
      "\n",
      "(2020-4-1 -> 2020-6-30)\n",
      "GET: https://weather.visualcrossing.com/VisualCrossingWebServices/rest/services/timeline/Ho%20Chi%20Minh/2020-4-1/2020-6-30?unitGroup=metric&key=YXRHHRS6QX82D58S867TW6YBF&include=obs\n",
      "Successful! Remaining cost: 453\n",
      "\n",
      "(2020-7-1 -> 2020-9-30)\n",
      "GET: https://weather.visualcrossing.com/VisualCrossingWebServices/rest/services/timeline/Ho%20Chi%20Minh/2020-7-1/2020-9-30?unitGroup=metric&key=YXRHHRS6QX82D58S867TW6YBF&include=obs\n",
      "Successful! Remaining cost: 452\n",
      "\n",
      "(2020-10-1 -> 2020-12-31)\n",
      "GET: https://weather.visualcrossing.com/VisualCrossingWebServices/rest/services/timeline/Ho%20Chi%20Minh/2020-10-1/2020-12-31?unitGroup=metric&key=YXRHHRS6QX82D58S867TW6YBF&include=obs\n",
      "Successful! Remaining cost: 269\n",
      "\n",
      "\n",
      "Number of data: 1461\n"
     ]
    }
   ],
   "source": [
    "api_key1 = 'A29UZSNHSG8P8EPR6A4CM2UC6'\n",
    "api_key2 = 'YXRHHRS6QX82D58S867TW6YBF'\n",
    "all_weather_data = []\n",
    "\n",
    "# Thu thập lần 1\n",
    "start_year = 2017\n",
    "end_year = 2018\n",
    "weather_data = collect_all_data(start_year, end_year, api_key1)\n",
    "all_weather_data.extend(weather_data)\n",
    "\n",
    "# Thu thập lần 2\n",
    "start_year = 2019\n",
    "end_year = 2020\n",
    "weather_data = collect_all_data(start_year, end_year, api_key2)\n",
    "all_weather_data.extend(weather_data)\n",
    "\n",
    "print('Number of data:', len(all_weather_data))"
   ]
  },
  {
   "cell_type": "markdown",
   "metadata": {},
   "source": [
    "### Lưu data xuống file csv"
   ]
  },
  {
   "cell_type": "markdown",
   "metadata": {},
   "source": [
    "Tạo dataframe và lưu dữ liệu xuống file `historical_weather_data.csv`"
   ]
  },
  {
   "cell_type": "code",
   "execution_count": 106,
   "metadata": {},
   "outputs": [
    {
     "data": {
      "text/html": [
       "<div>\n",
       "<style scoped>\n",
       "    .dataframe tbody tr th:only-of-type {\n",
       "        vertical-align: middle;\n",
       "    }\n",
       "\n",
       "    .dataframe tbody tr th {\n",
       "        vertical-align: top;\n",
       "    }\n",
       "\n",
       "    .dataframe thead th {\n",
       "        text-align: right;\n",
       "    }\n",
       "</style>\n",
       "<table border=\"1\" class=\"dataframe\">\n",
       "  <thead>\n",
       "    <tr style=\"text-align: right;\">\n",
       "      <th></th>\n",
       "      <th>Datetime</th>\n",
       "      <th>DatetimeEpoch</th>\n",
       "      <th>Tempmax</th>\n",
       "      <th>Tempmin</th>\n",
       "      <th>Temp</th>\n",
       "      <th>Feelslikemax</th>\n",
       "      <th>Feelslikemin</th>\n",
       "      <th>Feelslike</th>\n",
       "      <th>Dew</th>\n",
       "      <th>Humidity</th>\n",
       "      <th>...</th>\n",
       "      <th>Solarenergy</th>\n",
       "      <th>Sunrise</th>\n",
       "      <th>SunriseEpoch</th>\n",
       "      <th>Sunset</th>\n",
       "      <th>SunsetEpoch</th>\n",
       "      <th>Moonphase</th>\n",
       "      <th>Conditions</th>\n",
       "      <th>Icon</th>\n",
       "      <th>Stations</th>\n",
       "      <th>Source</th>\n",
       "    </tr>\n",
       "  </thead>\n",
       "  <tbody>\n",
       "    <tr>\n",
       "      <th>0</th>\n",
       "      <td>2017-01-01</td>\n",
       "      <td>1483203600</td>\n",
       "      <td>34.0</td>\n",
       "      <td>23.0</td>\n",
       "      <td>27.9</td>\n",
       "      <td>35.7</td>\n",
       "      <td>23.0</td>\n",
       "      <td>29.4</td>\n",
       "      <td>22.2</td>\n",
       "      <td>74.98</td>\n",
       "      <td>...</td>\n",
       "      <td>None</td>\n",
       "      <td>06:11:33</td>\n",
       "      <td>1483225893</td>\n",
       "      <td>17:41:54</td>\n",
       "      <td>1483267314</td>\n",
       "      <td>0.05</td>\n",
       "      <td>Rain, Partially cloudy</td>\n",
       "      <td>cloudy</td>\n",
       "      <td>[48894099999, 48900099999, VVTS]</td>\n",
       "      <td>obs</td>\n",
       "    </tr>\n",
       "    <tr>\n",
       "      <th>1</th>\n",
       "      <td>2017-01-02</td>\n",
       "      <td>1483290000</td>\n",
       "      <td>33.0</td>\n",
       "      <td>23.0</td>\n",
       "      <td>28.4</td>\n",
       "      <td>36.1</td>\n",
       "      <td>23.0</td>\n",
       "      <td>30.1</td>\n",
       "      <td>21.3</td>\n",
       "      <td>67.16</td>\n",
       "      <td>...</td>\n",
       "      <td>None</td>\n",
       "      <td>06:11:57</td>\n",
       "      <td>1483312317</td>\n",
       "      <td>17:42:27</td>\n",
       "      <td>1483353747</td>\n",
       "      <td>0.09</td>\n",
       "      <td>Partially cloudy</td>\n",
       "      <td>partly-cloudy-day</td>\n",
       "      <td>[48894099999, 48900099999, VVTS]</td>\n",
       "      <td>obs</td>\n",
       "    </tr>\n",
       "    <tr>\n",
       "      <th>2</th>\n",
       "      <td>2017-01-03</td>\n",
       "      <td>1483376400</td>\n",
       "      <td>33.8</td>\n",
       "      <td>24.1</td>\n",
       "      <td>28.2</td>\n",
       "      <td>35.7</td>\n",
       "      <td>24.1</td>\n",
       "      <td>29.8</td>\n",
       "      <td>21.7</td>\n",
       "      <td>69.77</td>\n",
       "      <td>...</td>\n",
       "      <td>None</td>\n",
       "      <td>06:12:20</td>\n",
       "      <td>1483398740</td>\n",
       "      <td>17:43:00</td>\n",
       "      <td>1483440180</td>\n",
       "      <td>0.13</td>\n",
       "      <td>Partially cloudy</td>\n",
       "      <td>partly-cloudy-day</td>\n",
       "      <td>[48894099999, 48900099999, VVTS]</td>\n",
       "      <td>obs</td>\n",
       "    </tr>\n",
       "    <tr>\n",
       "      <th>3</th>\n",
       "      <td>2017-01-04</td>\n",
       "      <td>1483462800</td>\n",
       "      <td>32.8</td>\n",
       "      <td>24.0</td>\n",
       "      <td>27.8</td>\n",
       "      <td>35.2</td>\n",
       "      <td>24.0</td>\n",
       "      <td>29.5</td>\n",
       "      <td>21.6</td>\n",
       "      <td>70.70</td>\n",
       "      <td>...</td>\n",
       "      <td>None</td>\n",
       "      <td>06:12:42</td>\n",
       "      <td>1483485162</td>\n",
       "      <td>17:43:33</td>\n",
       "      <td>1483526613</td>\n",
       "      <td>0.18</td>\n",
       "      <td>Partially cloudy</td>\n",
       "      <td>partly-cloudy-day</td>\n",
       "      <td>[48894099999, 48900099999, VVTS]</td>\n",
       "      <td>obs</td>\n",
       "    </tr>\n",
       "    <tr>\n",
       "      <th>4</th>\n",
       "      <td>2017-01-05</td>\n",
       "      <td>1483549200</td>\n",
       "      <td>32.0</td>\n",
       "      <td>25.0</td>\n",
       "      <td>28.5</td>\n",
       "      <td>34.9</td>\n",
       "      <td>25.0</td>\n",
       "      <td>30.4</td>\n",
       "      <td>22.3</td>\n",
       "      <td>71.11</td>\n",
       "      <td>...</td>\n",
       "      <td>None</td>\n",
       "      <td>06:13:03</td>\n",
       "      <td>1483571583</td>\n",
       "      <td>17:44:05</td>\n",
       "      <td>1483613045</td>\n",
       "      <td>0.23</td>\n",
       "      <td>Partially cloudy</td>\n",
       "      <td>partly-cloudy-day</td>\n",
       "      <td>[48894099999, 48900099999, VVTS]</td>\n",
       "      <td>obs</td>\n",
       "    </tr>\n",
       "  </tbody>\n",
       "</table>\n",
       "<p>5 rows × 32 columns</p>\n",
       "</div>"
      ],
      "text/plain": [
       "     Datetime  DatetimeEpoch  Tempmax  Tempmin  Temp  Feelslikemax  \\\n",
       "0  2017-01-01     1483203600     34.0     23.0  27.9          35.7   \n",
       "1  2017-01-02     1483290000     33.0     23.0  28.4          36.1   \n",
       "2  2017-01-03     1483376400     33.8     24.1  28.2          35.7   \n",
       "3  2017-01-04     1483462800     32.8     24.0  27.8          35.2   \n",
       "4  2017-01-05     1483549200     32.0     25.0  28.5          34.9   \n",
       "\n",
       "   Feelslikemin  Feelslike   Dew  Humidity  ...  Solarenergy   Sunrise  \\\n",
       "0          23.0       29.4  22.2     74.98  ...         None  06:11:33   \n",
       "1          23.0       30.1  21.3     67.16  ...         None  06:11:57   \n",
       "2          24.1       29.8  21.7     69.77  ...         None  06:12:20   \n",
       "3          24.0       29.5  21.6     70.70  ...         None  06:12:42   \n",
       "4          25.0       30.4  22.3     71.11  ...         None  06:13:03   \n",
       "\n",
       "   SunriseEpoch    Sunset SunsetEpoch  Moonphase              Conditions  \\\n",
       "0    1483225893  17:41:54  1483267314       0.05  Rain, Partially cloudy   \n",
       "1    1483312317  17:42:27  1483353747       0.09        Partially cloudy   \n",
       "2    1483398740  17:43:00  1483440180       0.13        Partially cloudy   \n",
       "3    1483485162  17:43:33  1483526613       0.18        Partially cloudy   \n",
       "4    1483571583  17:44:05  1483613045       0.23        Partially cloudy   \n",
       "\n",
       "                Icon                          Stations  Source  \n",
       "0             cloudy  [48894099999, 48900099999, VVTS]     obs  \n",
       "1  partly-cloudy-day  [48894099999, 48900099999, VVTS]     obs  \n",
       "2  partly-cloudy-day  [48894099999, 48900099999, VVTS]     obs  \n",
       "3  partly-cloudy-day  [48894099999, 48900099999, VVTS]     obs  \n",
       "4  partly-cloudy-day  [48894099999, 48900099999, VVTS]     obs  \n",
       "\n",
       "[5 rows x 32 columns]"
      ]
     },
     "execution_count": 106,
     "metadata": {},
     "output_type": "execute_result"
    }
   ],
   "source": [
    "data_df = pd.DataFrame(all_weather_data)\n",
    "data_df.rename(lambda name: name[0].upper() + name[1:], axis='columns', inplace=True)\n",
    "data_df.to_csv('historical_weather_data.csv', index=False)\n",
    "data_df.head()"
   ]
  },
  {
   "cell_type": "markdown",
   "metadata": {},
   "source": [
    "## 2. Khám phá dữ liệu (để đưa ra câu hỏi)"
   ]
  },
  {
   "cell_type": "markdown",
   "metadata": {},
   "source": [
    "Dữ liệu thời tiết thu thập được ở bước trước là dữ liệu tại vị trí quận 1 của Thành phố Hồ Chí Minh.  "
   ]
  },
  {
   "cell_type": "markdown",
   "metadata": {},
   "source": [
    "Load dữ liệu từ file `historical_weather_data.csv`"
   ]
  },
  {
   "cell_type": "code",
   "execution_count": 263,
   "metadata": {},
   "outputs": [
    {
     "data": {
      "text/html": [
       "<div>\n",
       "<style scoped>\n",
       "    .dataframe tbody tr th:only-of-type {\n",
       "        vertical-align: middle;\n",
       "    }\n",
       "\n",
       "    .dataframe tbody tr th {\n",
       "        vertical-align: top;\n",
       "    }\n",
       "\n",
       "    .dataframe thead th {\n",
       "        text-align: right;\n",
       "    }\n",
       "</style>\n",
       "<table border=\"1\" class=\"dataframe\">\n",
       "  <thead>\n",
       "    <tr style=\"text-align: right;\">\n",
       "      <th></th>\n",
       "      <th>Datetime</th>\n",
       "      <th>DatetimeEpoch</th>\n",
       "      <th>Tempmax</th>\n",
       "      <th>Tempmin</th>\n",
       "      <th>Temp</th>\n",
       "      <th>Feelslikemax</th>\n",
       "      <th>Feelslikemin</th>\n",
       "      <th>Feelslike</th>\n",
       "      <th>Dew</th>\n",
       "      <th>Humidity</th>\n",
       "      <th>...</th>\n",
       "      <th>Solarenergy</th>\n",
       "      <th>Sunrise</th>\n",
       "      <th>SunriseEpoch</th>\n",
       "      <th>Sunset</th>\n",
       "      <th>SunsetEpoch</th>\n",
       "      <th>Moonphase</th>\n",
       "      <th>Conditions</th>\n",
       "      <th>Icon</th>\n",
       "      <th>Stations</th>\n",
       "      <th>Source</th>\n",
       "    </tr>\n",
       "  </thead>\n",
       "  <tbody>\n",
       "    <tr>\n",
       "      <th>0</th>\n",
       "      <td>2017-01-01</td>\n",
       "      <td>1483203600</td>\n",
       "      <td>34.0</td>\n",
       "      <td>23.0</td>\n",
       "      <td>27.9</td>\n",
       "      <td>35.7</td>\n",
       "      <td>23.0</td>\n",
       "      <td>29.4</td>\n",
       "      <td>22.2</td>\n",
       "      <td>74.98</td>\n",
       "      <td>...</td>\n",
       "      <td>NaN</td>\n",
       "      <td>06:11:33</td>\n",
       "      <td>1483225893</td>\n",
       "      <td>17:41:54</td>\n",
       "      <td>1483267314</td>\n",
       "      <td>0.05</td>\n",
       "      <td>Rain, Partially cloudy</td>\n",
       "      <td>cloudy</td>\n",
       "      <td>['48894099999', '48900099999', 'VVTS']</td>\n",
       "      <td>obs</td>\n",
       "    </tr>\n",
       "    <tr>\n",
       "      <th>1</th>\n",
       "      <td>2017-01-02</td>\n",
       "      <td>1483290000</td>\n",
       "      <td>33.0</td>\n",
       "      <td>23.0</td>\n",
       "      <td>28.4</td>\n",
       "      <td>36.1</td>\n",
       "      <td>23.0</td>\n",
       "      <td>30.1</td>\n",
       "      <td>21.3</td>\n",
       "      <td>67.16</td>\n",
       "      <td>...</td>\n",
       "      <td>NaN</td>\n",
       "      <td>06:11:57</td>\n",
       "      <td>1483312317</td>\n",
       "      <td>17:42:27</td>\n",
       "      <td>1483353747</td>\n",
       "      <td>0.09</td>\n",
       "      <td>Partially cloudy</td>\n",
       "      <td>partly-cloudy-day</td>\n",
       "      <td>['48894099999', '48900099999', 'VVTS']</td>\n",
       "      <td>obs</td>\n",
       "    </tr>\n",
       "    <tr>\n",
       "      <th>2</th>\n",
       "      <td>2017-01-03</td>\n",
       "      <td>1483376400</td>\n",
       "      <td>33.8</td>\n",
       "      <td>24.1</td>\n",
       "      <td>28.2</td>\n",
       "      <td>35.7</td>\n",
       "      <td>24.1</td>\n",
       "      <td>29.8</td>\n",
       "      <td>21.7</td>\n",
       "      <td>69.77</td>\n",
       "      <td>...</td>\n",
       "      <td>NaN</td>\n",
       "      <td>06:12:20</td>\n",
       "      <td>1483398740</td>\n",
       "      <td>17:43:00</td>\n",
       "      <td>1483440180</td>\n",
       "      <td>0.13</td>\n",
       "      <td>Partially cloudy</td>\n",
       "      <td>partly-cloudy-day</td>\n",
       "      <td>['48894099999', '48900099999', 'VVTS']</td>\n",
       "      <td>obs</td>\n",
       "    </tr>\n",
       "    <tr>\n",
       "      <th>3</th>\n",
       "      <td>2017-01-04</td>\n",
       "      <td>1483462800</td>\n",
       "      <td>32.8</td>\n",
       "      <td>24.0</td>\n",
       "      <td>27.8</td>\n",
       "      <td>35.2</td>\n",
       "      <td>24.0</td>\n",
       "      <td>29.5</td>\n",
       "      <td>21.6</td>\n",
       "      <td>70.70</td>\n",
       "      <td>...</td>\n",
       "      <td>NaN</td>\n",
       "      <td>06:12:42</td>\n",
       "      <td>1483485162</td>\n",
       "      <td>17:43:33</td>\n",
       "      <td>1483526613</td>\n",
       "      <td>0.18</td>\n",
       "      <td>Partially cloudy</td>\n",
       "      <td>partly-cloudy-day</td>\n",
       "      <td>['48894099999', '48900099999', 'VVTS']</td>\n",
       "      <td>obs</td>\n",
       "    </tr>\n",
       "    <tr>\n",
       "      <th>4</th>\n",
       "      <td>2017-01-05</td>\n",
       "      <td>1483549200</td>\n",
       "      <td>32.0</td>\n",
       "      <td>25.0</td>\n",
       "      <td>28.5</td>\n",
       "      <td>34.9</td>\n",
       "      <td>25.0</td>\n",
       "      <td>30.4</td>\n",
       "      <td>22.3</td>\n",
       "      <td>71.11</td>\n",
       "      <td>...</td>\n",
       "      <td>NaN</td>\n",
       "      <td>06:13:03</td>\n",
       "      <td>1483571583</td>\n",
       "      <td>17:44:05</td>\n",
       "      <td>1483613045</td>\n",
       "      <td>0.23</td>\n",
       "      <td>Partially cloudy</td>\n",
       "      <td>partly-cloudy-day</td>\n",
       "      <td>['48894099999', '48900099999', 'VVTS']</td>\n",
       "      <td>obs</td>\n",
       "    </tr>\n",
       "  </tbody>\n",
       "</table>\n",
       "<p>5 rows × 32 columns</p>\n",
       "</div>"
      ],
      "text/plain": [
       "     Datetime  DatetimeEpoch  Tempmax  Tempmin  Temp  Feelslikemax  \\\n",
       "0  2017-01-01     1483203600     34.0     23.0  27.9          35.7   \n",
       "1  2017-01-02     1483290000     33.0     23.0  28.4          36.1   \n",
       "2  2017-01-03     1483376400     33.8     24.1  28.2          35.7   \n",
       "3  2017-01-04     1483462800     32.8     24.0  27.8          35.2   \n",
       "4  2017-01-05     1483549200     32.0     25.0  28.5          34.9   \n",
       "\n",
       "   Feelslikemin  Feelslike   Dew  Humidity  ...  Solarenergy   Sunrise  \\\n",
       "0          23.0       29.4  22.2     74.98  ...          NaN  06:11:33   \n",
       "1          23.0       30.1  21.3     67.16  ...          NaN  06:11:57   \n",
       "2          24.1       29.8  21.7     69.77  ...          NaN  06:12:20   \n",
       "3          24.0       29.5  21.6     70.70  ...          NaN  06:12:42   \n",
       "4          25.0       30.4  22.3     71.11  ...          NaN  06:13:03   \n",
       "\n",
       "   SunriseEpoch    Sunset  SunsetEpoch  Moonphase              Conditions  \\\n",
       "0    1483225893  17:41:54   1483267314       0.05  Rain, Partially cloudy   \n",
       "1    1483312317  17:42:27   1483353747       0.09        Partially cloudy   \n",
       "2    1483398740  17:43:00   1483440180       0.13        Partially cloudy   \n",
       "3    1483485162  17:43:33   1483526613       0.18        Partially cloudy   \n",
       "4    1483571583  17:44:05   1483613045       0.23        Partially cloudy   \n",
       "\n",
       "                Icon                                Stations  Source  \n",
       "0             cloudy  ['48894099999', '48900099999', 'VVTS']     obs  \n",
       "1  partly-cloudy-day  ['48894099999', '48900099999', 'VVTS']     obs  \n",
       "2  partly-cloudy-day  ['48894099999', '48900099999', 'VVTS']     obs  \n",
       "3  partly-cloudy-day  ['48894099999', '48900099999', 'VVTS']     obs  \n",
       "4  partly-cloudy-day  ['48894099999', '48900099999', 'VVTS']     obs  \n",
       "\n",
       "[5 rows x 32 columns]"
      ]
     },
     "execution_count": 263,
     "metadata": {},
     "output_type": "execute_result"
    }
   ],
   "source": [
    "data_df = pd.read_csv('historical_weather_data.csv')\n",
    "data_df.head()"
   ]
  },
  {
   "cell_type": "markdown",
   "metadata": {},
   "source": [
    "### Dữ liệu có bao nhiêu dòng, bao nhiêu cột"
   ]
  },
  {
   "cell_type": "code",
   "execution_count": 109,
   "metadata": {},
   "outputs": [
    {
     "data": {
      "text/plain": [
       "(1461, 32)"
      ]
     },
     "execution_count": 109,
     "metadata": {},
     "output_type": "execute_result"
    }
   ],
   "source": [
    "data_df.shape"
   ]
  },
  {
   "cell_type": "markdown",
   "metadata": {},
   "source": [
    "### Ý nghĩa của mỗi dòng"
   ]
  },
  {
   "cell_type": "markdown",
   "metadata": {},
   "source": [
    "Mỗi dòng là thông tin thời tiết ghi nhận được của một ngày trong năm"
   ]
  },
  {
   "cell_type": "markdown",
   "metadata": {},
   "source": [
    "### Ý nghĩa của mỗi cột"
   ]
  },
  {
   "cell_type": "markdown",
   "metadata": {},
   "source": [
    "Dữ liệu có rất nhiều cột nhưng chúng ta chỉ quan tâm một số cột quan trọng:\n",
    "- `Datetime`: ngày ghi nhận thông tin (yyyy-m-d)\n",
    "- `Tempmax`: nhiệt độ cao nhất trong ngày (Celsius)\n",
    "- `Tempmin`: nhiệt độ thấp nhất trong ngày (Celsius)\n",
    "- `Temp`: nhiệt độ trung bình trong ngày (Celsius)\n",
    "- `Dew`: điểm sương, là nhiệt độ mà tại đó hơi nước trong khối không khí ngưng đọng thành nước lỏng, độ ẩm tương đối của khối không khí đạt 100% (Celsius)\n",
    "- `Humidity`: độ ẩm tương đối (%)\n",
    "- `Precip`: lượng mưa (mm)\n",
    "- `Precipcover`: tỉ lệ thời gian mưa trong ngày (%)\n",
    "- `Windgust`: tốc độ cơn gió mạnh (tốc độ tối đa của gió thổi trong khoảng thời gian ngắn và phải trên một mức nào đó mới được ghi nhận) (kph)\n",
    "- `Windspeed`: tốc độ gió trung bình (kph)\n",
    "- `Winddir`: hướng gió đo so với hướng Bắc (degrees)\n",
    "- `Pressure`: áp suất không khí (millibars)\n",
    "- `Cloudcover`: tỉ lệ mây bao phủ bầu trời (%)\n",
    "- `Visibility`: tầm nhìn xa ban ngày (km)\n",
    "- `Conditions`: hiện tượng thời tiết ghi nhận được như sấm sét, mưa, ..."
   ]
  },
  {
   "cell_type": "markdown",
   "metadata": {},
   "source": [
    "Chi tiết cụ thể hơn về thông tin các cột có tại `https://www.visualcrossing.com/resources/documentation/weather-data/weather-data-documentation/`"
   ]
  },
  {
   "cell_type": "markdown",
   "metadata": {},
   "source": [
    "### Kiểm tra các dòng có bị lặp không"
   ]
  },
  {
   "cell_type": "code",
   "execution_count": 110,
   "metadata": {},
   "outputs": [
    {
     "data": {
      "text/plain": [
       "0"
      ]
     },
     "execution_count": 110,
     "metadata": {},
     "output_type": "execute_result"
    }
   ],
   "source": [
    "data_df.index.duplicated().sum()"
   ]
  },
  {
   "cell_type": "markdown",
   "metadata": {},
   "source": [
    "### Đặt câu hỏi"
   ]
  },
  {
   "cell_type": "markdown",
   "metadata": {},
   "source": [
    "**Câu hỏi:** *Output* - lượng mưa (Precip) được tính từ *input* - các thông số khác (nhiệt độ, độ ẩm, tốc độ gió, áp suất, ...) như thế nào?  \n",
    "  \n",
    "**Ý nghĩa:** Khi có thể dự đoán được lượng mưa thì sẽ giúp ích cho việc lập kế hoạch, tổ chức sự kiện, hoặc để tối ưu hiệu suất trong nông nghiệp và nhiều lĩnh vực khác."
   ]
  },
  {
   "cell_type": "markdown",
   "metadata": {},
   "source": [
    "## 3. Tách tập, tiền xử lí và khám phá dữ liệu"
   ]
  },
  {
   "cell_type": "markdown",
   "metadata": {},
   "source": [
    "### Khám phá dữ liệu cột output (để tách tập)"
   ]
  },
  {
   "cell_type": "markdown",
   "metadata": {},
   "source": [
    "Kiểu dữ liệu của cột output"
   ]
  },
  {
   "cell_type": "code",
   "execution_count": 111,
   "metadata": {},
   "outputs": [
    {
     "data": {
      "text/plain": [
       "dtype('float64')"
      ]
     },
     "execution_count": 111,
     "metadata": {},
     "output_type": "execute_result"
    }
   ],
   "source": [
    "data_df['Precip'].dtype"
   ]
  },
  {
   "cell_type": "markdown",
   "metadata": {},
   "source": [
    "Kiếm tra cột output có giá trị thiếu không"
   ]
  },
  {
   "cell_type": "code",
   "execution_count": 112,
   "metadata": {},
   "outputs": [
    {
     "data": {
      "text/plain": [
       "0"
      ]
     },
     "execution_count": 112,
     "metadata": {},
     "output_type": "execute_result"
    }
   ],
   "source": [
    "data_df['Precip'].isna().sum()"
   ]
  },
  {
   "cell_type": "markdown",
   "metadata": {},
   "source": [
    "Phân bố của cột output"
   ]
  },
  {
   "cell_type": "code",
   "execution_count": 113,
   "metadata": {},
   "outputs": [
    {
     "data": {
      "text/plain": [
       "count    1461.000000\n",
       "mean        4.154004\n",
       "std        13.286562\n",
       "min         0.000000\n",
       "25%         0.000000\n",
       "50%         0.000000\n",
       "75%         1.000000\n",
       "max       227.200000\n",
       "Name: Precip, dtype: float64"
      ]
     },
     "execution_count": 113,
     "metadata": {},
     "output_type": "execute_result"
    }
   ],
   "source": [
    "data_df['Precip'].describe()"
   ]
  },
  {
   "cell_type": "markdown",
   "metadata": {},
   "source": [
    "Nhận xét: Giá trị ở cột output phần lớn là nhỏ, tại TP HCM quanh năm thì lượng mưa cũng không cao như các tỉnh khác (ví dụ các tỉnh miền Trung)"
   ]
  },
  {
   "cell_type": "code",
   "execution_count": 114,
   "metadata": {},
   "outputs": [
    {
     "data": {
      "text/plain": [
       "269"
      ]
     },
     "execution_count": 114,
     "metadata": {},
     "output_type": "execute_result"
    }
   ],
   "source": [
    "(data_df['Precip'] > 4.15).sum()"
   ]
  },
  {
   "cell_type": "markdown",
   "metadata": {},
   "source": [
    "### Tiền xử lí (tách các tập)"
   ]
  },
  {
   "cell_type": "markdown",
   "metadata": {},
   "source": [
    "Tiến hành tách tập data thu được thành 3 tập huấn luyện, validation và tập kiểm tra"
   ]
  },
  {
   "cell_type": "code",
   "execution_count": 264,
   "metadata": {},
   "outputs": [],
   "source": [
    "# Tách X và y\n",
    "y_sr = data_df['Precip']\n",
    "X_df = data_df.drop(columns=['Precip', 'Precipprob', 'Precipcover'])"
   ]
  },
  {
   "cell_type": "code",
   "execution_count": 265,
   "metadata": {},
   "outputs": [],
   "source": [
    "# Tách tập kiểm tra với tỉ lệ 30%\n",
    "train_valid_X_df, test_X_df, train_valid_y_sr, test_y_sr = train_test_split(\n",
    "    X_df, y_sr, test_size = 0.3, random_state=0\n",
    ")"
   ]
  },
  {
   "cell_type": "code",
   "execution_count": 266,
   "metadata": {},
   "outputs": [],
   "source": [
    "# Tách tập validation từ tập còn lại với tỉ lệ 30%\n",
    "train_X_df, val_X_df, train_y_sr, val_y_sr = train_test_split(\n",
    "    train_valid_X_df, train_valid_y_sr, test_size = 0.3, random_state=0\n",
    ")"
   ]
  },
  {
   "cell_type": "markdown",
   "metadata": {},
   "source": [
    "Tập kiểm tra"
   ]
  },
  {
   "cell_type": "code",
   "execution_count": 118,
   "metadata": {},
   "outputs": [
    {
     "data": {
      "text/plain": [
       "(439, 29)"
      ]
     },
     "execution_count": 118,
     "metadata": {},
     "output_type": "execute_result"
    }
   ],
   "source": [
    "test_X_df.shape"
   ]
  },
  {
   "cell_type": "code",
   "execution_count": 119,
   "metadata": {},
   "outputs": [
    {
     "data": {
      "text/plain": [
       "(439,)"
      ]
     },
     "execution_count": 119,
     "metadata": {},
     "output_type": "execute_result"
    }
   ],
   "source": [
    "test_y_sr.shape"
   ]
  },
  {
   "cell_type": "markdown",
   "metadata": {},
   "source": [
    "Tập validation"
   ]
  },
  {
   "cell_type": "code",
   "execution_count": 120,
   "metadata": {},
   "outputs": [
    {
     "data": {
      "text/plain": [
       "(307, 29)"
      ]
     },
     "execution_count": 120,
     "metadata": {},
     "output_type": "execute_result"
    }
   ],
   "source": [
    "val_X_df.shape"
   ]
  },
  {
   "cell_type": "code",
   "execution_count": 121,
   "metadata": {},
   "outputs": [
    {
     "data": {
      "text/plain": [
       "(307,)"
      ]
     },
     "execution_count": 121,
     "metadata": {},
     "output_type": "execute_result"
    }
   ],
   "source": [
    "val_y_sr.shape"
   ]
  },
  {
   "cell_type": "markdown",
   "metadata": {},
   "source": [
    "Tập huấn luyện"
   ]
  },
  {
   "cell_type": "code",
   "execution_count": 122,
   "metadata": {},
   "outputs": [
    {
     "data": {
      "text/plain": [
       "(715, 29)"
      ]
     },
     "execution_count": 122,
     "metadata": {},
     "output_type": "execute_result"
    }
   ],
   "source": [
    "train_X_df.shape"
   ]
  },
  {
   "cell_type": "code",
   "execution_count": 123,
   "metadata": {},
   "outputs": [
    {
     "data": {
      "text/plain": [
       "(715,)"
      ]
     },
     "execution_count": 123,
     "metadata": {},
     "output_type": "execute_result"
    }
   ],
   "source": [
    "train_y_sr.shape"
   ]
  },
  {
   "cell_type": "markdown",
   "metadata": {},
   "source": [
    "### Khám phá dữ liệu (tập huấn luyện)"
   ]
  },
  {
   "cell_type": "markdown",
   "metadata": {},
   "source": [
    "#### Kiểu dữ liệu hiện tại của mỗi cột"
   ]
  },
  {
   "cell_type": "code",
   "execution_count": 124,
   "metadata": {},
   "outputs": [
    {
     "data": {
      "text/plain": [
       "Datetime           object\n",
       "DatetimeEpoch       int64\n",
       "Tempmax           float64\n",
       "Tempmin           float64\n",
       "Temp              float64\n",
       "Feelslikemax      float64\n",
       "Feelslikemin      float64\n",
       "Feelslike         float64\n",
       "Dew               float64\n",
       "Humidity          float64\n",
       "Snow              float64\n",
       "Snowdepth         float64\n",
       "Windgust          float64\n",
       "Windspeed         float64\n",
       "Winddir           float64\n",
       "Pressure          float64\n",
       "Cloudcover        float64\n",
       "Visibility        float64\n",
       "Solarradiation    float64\n",
       "Solarenergy       float64\n",
       "Sunrise            object\n",
       "SunriseEpoch        int64\n",
       "Sunset             object\n",
       "SunsetEpoch         int64\n",
       "Moonphase         float64\n",
       "Conditions         object\n",
       "Icon               object\n",
       "Stations           object\n",
       "Source             object\n",
       "dtype: object"
      ]
     },
     "execution_count": 124,
     "metadata": {},
     "output_type": "execute_result"
    }
   ],
   "source": [
    "train_X_df.dtypes"
   ]
  },
  {
   "cell_type": "markdown",
   "metadata": {},
   "source": [
    "Nhận xét: Phần lớn cột trong dữ liệu input là ở dạng số"
   ]
  },
  {
   "cell_type": "markdown",
   "metadata": {},
   "source": [
    "#### Phân bố của các cột dữ liệu dạng số"
   ]
  },
  {
   "cell_type": "code",
   "execution_count": 125,
   "metadata": {},
   "outputs": [
    {
     "data": {
      "text/plain": [
       "['Tempmax',\n",
       " 'Tempmin',\n",
       " 'Temp',\n",
       " 'Feelslikemax',\n",
       " 'Feelslikemin',\n",
       " 'Feelslike',\n",
       " 'Dew',\n",
       " 'Humidity',\n",
       " 'Snow',\n",
       " 'Snowdepth',\n",
       " 'Windgust',\n",
       " 'Windspeed',\n",
       " 'Winddir',\n",
       " 'Pressure',\n",
       " 'Cloudcover',\n",
       " 'Visibility',\n",
       " 'Solarradiation',\n",
       " 'Solarenergy',\n",
       " 'Moonphase']"
      ]
     },
     "execution_count": 125,
     "metadata": {},
     "output_type": "execute_result"
    }
   ],
   "source": [
    "num_cols = list(train_X_df.dtypes[train_X_df.dtypes == float].index)\n",
    "num_cols"
   ]
  },
  {
   "cell_type": "code",
   "execution_count": 126,
   "metadata": {},
   "outputs": [
    {
     "data": {
      "text/html": [
       "<div>\n",
       "<style scoped>\n",
       "    .dataframe tbody tr th:only-of-type {\n",
       "        vertical-align: middle;\n",
       "    }\n",
       "\n",
       "    .dataframe tbody tr th {\n",
       "        vertical-align: top;\n",
       "    }\n",
       "\n",
       "    .dataframe thead th {\n",
       "        text-align: right;\n",
       "    }\n",
       "</style>\n",
       "<table border=\"1\" class=\"dataframe\">\n",
       "  <thead>\n",
       "    <tr style=\"text-align: right;\">\n",
       "      <th></th>\n",
       "      <th>Tempmax</th>\n",
       "      <th>Tempmin</th>\n",
       "      <th>Temp</th>\n",
       "      <th>Feelslikemax</th>\n",
       "      <th>Feelslikemin</th>\n",
       "      <th>Feelslike</th>\n",
       "      <th>Dew</th>\n",
       "      <th>Humidity</th>\n",
       "      <th>Snow</th>\n",
       "      <th>Snowdepth</th>\n",
       "      <th>Windgust</th>\n",
       "      <th>Windspeed</th>\n",
       "      <th>Winddir</th>\n",
       "      <th>Pressure</th>\n",
       "      <th>Cloudcover</th>\n",
       "      <th>Visibility</th>\n",
       "      <th>Solarradiation</th>\n",
       "      <th>Solarenergy</th>\n",
       "      <th>Moonphase</th>\n",
       "    </tr>\n",
       "  </thead>\n",
       "  <tbody>\n",
       "    <tr>\n",
       "      <th>missing_ratio</th>\n",
       "      <td>0.0</td>\n",
       "      <td>0.0</td>\n",
       "      <td>0.0</td>\n",
       "      <td>0.0</td>\n",
       "      <td>0.0</td>\n",
       "      <td>0.1</td>\n",
       "      <td>0.0</td>\n",
       "      <td>0.00</td>\n",
       "      <td>100.0</td>\n",
       "      <td>100.0</td>\n",
       "      <td>83.6</td>\n",
       "      <td>0.0</td>\n",
       "      <td>0.0</td>\n",
       "      <td>1.0</td>\n",
       "      <td>0.0</td>\n",
       "      <td>0.0</td>\n",
       "      <td>100.0</td>\n",
       "      <td>100.0</td>\n",
       "      <td>0.0</td>\n",
       "    </tr>\n",
       "    <tr>\n",
       "      <th>min</th>\n",
       "      <td>24.6</td>\n",
       "      <td>20.0</td>\n",
       "      <td>22.8</td>\n",
       "      <td>0.0</td>\n",
       "      <td>0.0</td>\n",
       "      <td>22.8</td>\n",
       "      <td>15.2</td>\n",
       "      <td>50.17</td>\n",
       "      <td>NaN</td>\n",
       "      <td>NaN</td>\n",
       "      <td>25.9</td>\n",
       "      <td>8.1</td>\n",
       "      <td>54.8</td>\n",
       "      <td>1004.4</td>\n",
       "      <td>22.5</td>\n",
       "      <td>6.2</td>\n",
       "      <td>NaN</td>\n",
       "      <td>NaN</td>\n",
       "      <td>0.0</td>\n",
       "    </tr>\n",
       "    <tr>\n",
       "      <th>lower_quartile</th>\n",
       "      <td>32.0</td>\n",
       "      <td>24.0</td>\n",
       "      <td>27.4</td>\n",
       "      <td>36.2</td>\n",
       "      <td>24.0</td>\n",
       "      <td>29.5</td>\n",
       "      <td>22.5</td>\n",
       "      <td>71.30</td>\n",
       "      <td>NaN</td>\n",
       "      <td>NaN</td>\n",
       "      <td>33.5</td>\n",
       "      <td>15.2</td>\n",
       "      <td>143.2</td>\n",
       "      <td>1008.5</td>\n",
       "      <td>44.4</td>\n",
       "      <td>9.0</td>\n",
       "      <td>NaN</td>\n",
       "      <td>NaN</td>\n",
       "      <td>0.2</td>\n",
       "    </tr>\n",
       "    <tr>\n",
       "      <th>median</th>\n",
       "      <td>33.0</td>\n",
       "      <td>25.0</td>\n",
       "      <td>28.3</td>\n",
       "      <td>38.6</td>\n",
       "      <td>25.0</td>\n",
       "      <td>31.2</td>\n",
       "      <td>24.4</td>\n",
       "      <td>79.30</td>\n",
       "      <td>NaN</td>\n",
       "      <td>NaN</td>\n",
       "      <td>40.7</td>\n",
       "      <td>18.4</td>\n",
       "      <td>182.1</td>\n",
       "      <td>1009.8</td>\n",
       "      <td>52.6</td>\n",
       "      <td>9.6</td>\n",
       "      <td>NaN</td>\n",
       "      <td>NaN</td>\n",
       "      <td>0.5</td>\n",
       "    </tr>\n",
       "    <tr>\n",
       "      <th>upper_quartile</th>\n",
       "      <td>34.0</td>\n",
       "      <td>26.0</td>\n",
       "      <td>29.0</td>\n",
       "      <td>40.6</td>\n",
       "      <td>26.0</td>\n",
       "      <td>33.0</td>\n",
       "      <td>25.2</td>\n",
       "      <td>85.40</td>\n",
       "      <td>NaN</td>\n",
       "      <td>NaN</td>\n",
       "      <td>48.2</td>\n",
       "      <td>21.3</td>\n",
       "      <td>236.8</td>\n",
       "      <td>1011.3</td>\n",
       "      <td>60.0</td>\n",
       "      <td>10.1</td>\n",
       "      <td>NaN</td>\n",
       "      <td>NaN</td>\n",
       "      <td>0.8</td>\n",
       "    </tr>\n",
       "    <tr>\n",
       "      <th>max</th>\n",
       "      <td>37.0</td>\n",
       "      <td>29.0</td>\n",
       "      <td>32.1</td>\n",
       "      <td>48.5</td>\n",
       "      <td>35.6</td>\n",
       "      <td>39.3</td>\n",
       "      <td>26.9</td>\n",
       "      <td>97.77</td>\n",
       "      <td>NaN</td>\n",
       "      <td>NaN</td>\n",
       "      <td>74.2</td>\n",
       "      <td>40.7</td>\n",
       "      <td>316.2</td>\n",
       "      <td>1015.7</td>\n",
       "      <td>99.6</td>\n",
       "      <td>10.7</td>\n",
       "      <td>NaN</td>\n",
       "      <td>NaN</td>\n",
       "      <td>1.0</td>\n",
       "    </tr>\n",
       "  </tbody>\n",
       "</table>\n",
       "</div>"
      ],
      "text/plain": [
       "                Tempmax  Tempmin  Temp  Feelslikemax  Feelslikemin  Feelslike  \\\n",
       "missing_ratio       0.0      0.0   0.0           0.0           0.0        0.1   \n",
       "min                24.6     20.0  22.8           0.0           0.0       22.8   \n",
       "lower_quartile     32.0     24.0  27.4          36.2          24.0       29.5   \n",
       "median             33.0     25.0  28.3          38.6          25.0       31.2   \n",
       "upper_quartile     34.0     26.0  29.0          40.6          26.0       33.0   \n",
       "max                37.0     29.0  32.1          48.5          35.6       39.3   \n",
       "\n",
       "                 Dew  Humidity   Snow  Snowdepth  Windgust  Windspeed  \\\n",
       "missing_ratio    0.0      0.00  100.0      100.0      83.6        0.0   \n",
       "min             15.2     50.17    NaN        NaN      25.9        8.1   \n",
       "lower_quartile  22.5     71.30    NaN        NaN      33.5       15.2   \n",
       "median          24.4     79.30    NaN        NaN      40.7       18.4   \n",
       "upper_quartile  25.2     85.40    NaN        NaN      48.2       21.3   \n",
       "max             26.9     97.77    NaN        NaN      74.2       40.7   \n",
       "\n",
       "                Winddir  Pressure  Cloudcover  Visibility  Solarradiation  \\\n",
       "missing_ratio       0.0       1.0         0.0         0.0           100.0   \n",
       "min                54.8    1004.4        22.5         6.2             NaN   \n",
       "lower_quartile    143.2    1008.5        44.4         9.0             NaN   \n",
       "median            182.1    1009.8        52.6         9.6             NaN   \n",
       "upper_quartile    236.8    1011.3        60.0        10.1             NaN   \n",
       "max               316.2    1015.7        99.6        10.7             NaN   \n",
       "\n",
       "                Solarenergy  Moonphase  \n",
       "missing_ratio         100.0        0.0  \n",
       "min                     NaN        0.0  \n",
       "lower_quartile          NaN        0.2  \n",
       "median                  NaN        0.5  \n",
       "upper_quartile          NaN        0.8  \n",
       "max                     NaN        1.0  "
      ]
     },
     "execution_count": 126,
     "metadata": {},
     "output_type": "execute_result"
    }
   ],
   "source": [
    "df = train_X_df[num_cols]\n",
    "\n",
    "def missing_ratio(df):\n",
    "    return (df.isna().mean() * 100).round(1)\n",
    "def lower_quartile(df):\n",
    "    return df.quantile(0.25).round(1)\n",
    "def median(df):\n",
    "    return df.quantile(0.5).round(1)\n",
    "def upper_quartile(df):\n",
    "    return df.quantile(0.75).round(1)\n",
    "\n",
    "df.agg([missing_ratio, 'min', lower_quartile, median, upper_quartile, 'max'])"
   ]
  },
  {
   "cell_type": "markdown",
   "metadata": {},
   "source": [
    "#### Phân bố của các cột dữ liệu không phải dạng số"
   ]
  },
  {
   "cell_type": "code",
   "execution_count": 127,
   "metadata": {},
   "outputs": [
    {
     "data": {
      "text/html": [
       "<div>\n",
       "<style scoped>\n",
       "    .dataframe tbody tr th:only-of-type {\n",
       "        vertical-align: middle;\n",
       "    }\n",
       "\n",
       "    .dataframe tbody tr th {\n",
       "        vertical-align: top;\n",
       "    }\n",
       "\n",
       "    .dataframe thead th {\n",
       "        text-align: right;\n",
       "    }\n",
       "</style>\n",
       "<table border=\"1\" class=\"dataframe\">\n",
       "  <thead>\n",
       "    <tr style=\"text-align: right;\">\n",
       "      <th></th>\n",
       "      <th>Datetime</th>\n",
       "      <th>Sunrise</th>\n",
       "      <th>Sunset</th>\n",
       "      <th>Conditions</th>\n",
       "      <th>Icon</th>\n",
       "    </tr>\n",
       "  </thead>\n",
       "  <tbody>\n",
       "    <tr>\n",
       "      <th>missing_ratio</th>\n",
       "      <td>0</td>\n",
       "      <td>0</td>\n",
       "      <td>0</td>\n",
       "      <td>0</td>\n",
       "      <td>0</td>\n",
       "    </tr>\n",
       "    <tr>\n",
       "      <th>num_values</th>\n",
       "      <td>715</td>\n",
       "      <td>579</td>\n",
       "      <td>589</td>\n",
       "      <td>5</td>\n",
       "      <td>5</td>\n",
       "    </tr>\n",
       "    <tr>\n",
       "      <th>value_ratios</th>\n",
       "      <td>{'2019-11-26': 0.1, '2017-02-07': 0.1, '2020-07-02': 0.1, '2020-06-03': 0.1, '2017-11-18': 0.1, '2020-04-23': 0.1, '2020-02-13': 0.1, '2017-07-29': 0.1, '2018-09-12': 0.1, '2018-09-26': 0.1, '2020...</td>\n",
       "      <td>{'05:41:51': 1.1, '05:41:50': 1.0, '05:43:32': 1.0, '05:43:21': 0.7, '05:43:24': 0.6, '05:43:33': 0.6, '05:43:34': 0.6, '06:16:54': 0.6, '05:43:26': 0.6, '05:42:11': 0.4, '05:43:14': 0.4, '05:41:4...</td>\n",
       "      <td>{'18:04:04': 3.6, '18:04:03': 1.5, '18:04:05': 1.3, '18:20:02': 0.7, '17:26:37': 0.7, '17:26:38': 0.6, '18:03:59': 0.6, '18:20:00': 0.6, '18:20:04': 0.6, '18:19:35': 0.4, '18:04:24': 0.4, '17:26:4...</td>\n",
       "      <td>{'Partially cloudy': 68.0, 'Rain': 27.3, 'Overcast': 4.1, 'Clear': 0.6}</td>\n",
       "      <td>{'partly-cloudy-day': 59.9, 'rain': 26.2, 'cloudy': 11.5, 'wind': 1.7, 'clear-day': 0.8}</td>\n",
       "    </tr>\n",
       "  </tbody>\n",
       "</table>\n",
       "</div>"
      ],
      "text/plain": [
       "                                                                                                                                                                                                              Datetime  \\\n",
       "missing_ratio                                                                                                                                                                                                        0   \n",
       "num_values                                                                                                                                                                                                         715   \n",
       "value_ratios   {'2019-11-26': 0.1, '2017-02-07': 0.1, '2020-07-02': 0.1, '2020-06-03': 0.1, '2017-11-18': 0.1, '2020-04-23': 0.1, '2020-02-13': 0.1, '2017-07-29': 0.1, '2018-09-12': 0.1, '2018-09-26': 0.1, '2020...   \n",
       "\n",
       "                                                                                                                                                                                                               Sunrise  \\\n",
       "missing_ratio                                                                                                                                                                                                        0   \n",
       "num_values                                                                                                                                                                                                         579   \n",
       "value_ratios   {'05:41:51': 1.1, '05:41:50': 1.0, '05:43:32': 1.0, '05:43:21': 0.7, '05:43:24': 0.6, '05:43:33': 0.6, '05:43:34': 0.6, '06:16:54': 0.6, '05:43:26': 0.6, '05:42:11': 0.4, '05:43:14': 0.4, '05:41:4...   \n",
       "\n",
       "                                                                                                                                                                                                                Sunset  \\\n",
       "missing_ratio                                                                                                                                                                                                        0   \n",
       "num_values                                                                                                                                                                                                         589   \n",
       "value_ratios   {'18:04:04': 3.6, '18:04:03': 1.5, '18:04:05': 1.3, '18:20:02': 0.7, '17:26:37': 0.7, '17:26:38': 0.6, '18:03:59': 0.6, '18:20:00': 0.6, '18:20:04': 0.6, '18:19:35': 0.4, '18:04:24': 0.4, '17:26:4...   \n",
       "\n",
       "                                                                            Conditions  \\\n",
       "missing_ratio                                                                        0   \n",
       "num_values                                                                           5   \n",
       "value_ratios   {'Partially cloudy': 68.0, 'Rain': 27.3, 'Overcast': 4.1, 'Clear': 0.6}   \n",
       "\n",
       "                                                                                                   Icon  \n",
       "missing_ratio                                                                                         0  \n",
       "num_values                                                                                            5  \n",
       "value_ratios   {'partly-cloudy-day': 59.9, 'rain': 26.2, 'cloudy': 11.5, 'wind': 1.7, 'clear-day': 0.8}  "
      ]
     },
     "execution_count": 127,
     "metadata": {},
     "output_type": "execute_result"
    }
   ],
   "source": [
    "pd.set_option('display.max_colwidth', 200) # Để nhìn rõ hơn\n",
    "cat_cols = ['Datetime', 'Sunrise', 'Sunset', 'Conditions', 'Icon']\n",
    "cat_multi_cols = ['Conditions']\n",
    "df = train_X_df[cat_cols]\n",
    "\n",
    "def missing_ratio(df):\n",
    "    return (df.isna().mean() * 100).round(1)\n",
    "def num_values(df):\n",
    "    return df.nunique()\n",
    "def value_ratios(c):\n",
    "    if c.name in cat_multi_cols:\n",
    "        s = c.str.split(', ').explode().value_counts(normalize=True)\n",
    "        return dict((s * 100).round(1))\n",
    "    else:\n",
    "        return dict((c.value_counts(normalize=True) * 100).round(1))\n",
    "    \n",
    "df.agg([missing_ratio, num_values, value_ratios])"
   ]
  },
  {
   "cell_type": "code",
   "execution_count": 128,
   "metadata": {},
   "outputs": [
    {
     "data": {
      "text/plain": [
       "Partially cloudy    0.666337\n",
       "Rain                0.276733\n",
       "Overcast            0.047030\n",
       "Clear               0.009901\n",
       "Name: Conditions, dtype: float64"
      ]
     },
     "execution_count": 128,
     "metadata": {},
     "output_type": "execute_result"
    }
   ],
   "source": [
    "data_df['Conditions'].str.split(', ').explode().value_counts(normalize=True)"
   ]
  },
  {
   "cell_type": "markdown",
   "metadata": {},
   "source": [
    "## 4. Tiền xử lí và mô hình hóa dữ liệu"
   ]
  },
  {
   "cell_type": "markdown",
   "metadata": {},
   "source": [
    "Dữ liệu của ta có khá nhiều cột nhưng nhận thấy chỉ một số cột (có thể) ảnh hưởng đến kết quả lượng mưa. Chẳng hạn:\n",
    "- Tháng trong năm: tùy vào từng mùa mà có những tháng mưa nhiều và những tháng mưa ít hoặc không mưa\n",
    "- Ngoài ra còn có nhiệt độ, độ ẩm, tốc độ gió, áp suất, ..."
   ]
  },
  {
   "cell_type": "markdown",
   "metadata": {},
   "source": [
    "### Tiền xử lí tập huấn luyện"
   ]
  },
  {
   "cell_type": "markdown",
   "metadata": {},
   "source": [
    "Ta xử lí thêm bớt một số cột như sau:\n",
    "- Tạo thêm 2 cột là Day và Month lấy thông tin ngày, tháng từ cột Datetime. Sau đó bỏ cột Datetime.\n",
    "- Bỏ các cột DatetimeEpoch, Feelslikemax, Feelslikemin, Feelslike, Sunrise, SunriseEpoch, Sunset, SunsetEpoch, Moonphase, Icon, Stations, Source vì có lẽ không mang lại nhiều thông tin hữu ích.\n",
    "- Bỏ các cột Snow, Snowdepth, Windgust, Solarradiation, Solarenergy vì chứa nhiều giá trị trống (NaN).\n",
    "\n",
    "Tại mỗi dòng của cột Conditions có thể có nhiều giá trị nên ta xử lí cột Conditions như sau:\n",
    "- Những dòng có xuất hiện trạng thái Rain thì nhận giá trị 1, ngược lại nhận giá trị 0\n",
    "\n",
    "Với các cột dữ liệu dạng số ta sẽ điền giá trị thiếu bằng mean của cột bằng cách sử dụng `SimpleImputer`"
   ]
  },
  {
   "cell_type": "code",
   "execution_count": 154,
   "metadata": {},
   "outputs": [],
   "source": [
    "def col_adder_dropper(X_df):\n",
    "    month_sr = X_df['Datetime'].str.split('-').apply(lambda x: x[1])\n",
    "    day_sr = X_df['Datetime'].str.split('-').apply(lambda x: x[2])\n",
    "        \n",
    "    # Bỏ cột các cột không cần thiết\n",
    "    del_cols = ['Datetime', 'DatetimeEpoch', 'Feelslikemax', 'Feelslikemin', 'Feelslike', \\\n",
    "                'Sunrise', 'SunriseEpoch', 'Sunset', 'SunsetEpoch', 'Moonphase', 'Icon', \\\n",
    "                'Stations', 'Source', 'Snow', 'Snowdepth', 'Windgust', 'Solarradiation', 'Solarenergy']\n",
    "    X_output = X_df.drop(columns=del_cols)\n",
    "    \n",
    "    # Thêm cột Month, Day\n",
    "    X_output.insert(0, 'Day', day_sr)\n",
    "    X_output.insert(0, 'Month', month_sr)\n",
    "    \n",
    "    return X_output"
   ]
  },
  {
   "cell_type": "code",
   "execution_count": 226,
   "metadata": {},
   "outputs": [],
   "source": [
    "# Xử lí cột Conditions, nếu trong các hiện tượng ghi nhận có Rain thì sẽ mang giá trị 1,\n",
    "# ngược lại thì là 0\n",
    "def col_condition_trans(X_df):\n",
    "    condition_sr = train_X_df['Conditions'].str.split(', ').apply(lambda x: 1 if 'Rain' in x else 0)\n",
    "    X_output = X_df.copy()\n",
    "    X_output['Conditions'] = condition_sr\n",
    "    return X_output"
   ]
  },
  {
   "cell_type": "code",
   "execution_count": 234,
   "metadata": {},
   "outputs": [
    {
     "data": {
      "text/html": [
       "<div>\n",
       "<style scoped>\n",
       "    .dataframe tbody tr th:only-of-type {\n",
       "        vertical-align: middle;\n",
       "    }\n",
       "\n",
       "    .dataframe tbody tr th {\n",
       "        vertical-align: top;\n",
       "    }\n",
       "\n",
       "    .dataframe thead th {\n",
       "        text-align: right;\n",
       "    }\n",
       "</style>\n",
       "<table border=\"1\" class=\"dataframe\">\n",
       "  <thead>\n",
       "    <tr style=\"text-align: right;\">\n",
       "      <th></th>\n",
       "      <th>Month</th>\n",
       "      <th>Day</th>\n",
       "      <th>Tempmax</th>\n",
       "      <th>Tempmin</th>\n",
       "      <th>Temp</th>\n",
       "      <th>Dew</th>\n",
       "      <th>Humidity</th>\n",
       "      <th>Windspeed</th>\n",
       "      <th>Winddir</th>\n",
       "      <th>Pressure</th>\n",
       "      <th>Cloudcover</th>\n",
       "      <th>Visibility</th>\n",
       "      <th>Conditions</th>\n",
       "    </tr>\n",
       "  </thead>\n",
       "  <tbody>\n",
       "    <tr>\n",
       "      <th>1216</th>\n",
       "      <td>05</td>\n",
       "      <td>01</td>\n",
       "      <td>36.2</td>\n",
       "      <td>27.0</td>\n",
       "      <td>30.8</td>\n",
       "      <td>21.9</td>\n",
       "      <td>61.39</td>\n",
       "      <td>22.3</td>\n",
       "      <td>132.5</td>\n",
       "      <td>1009.2</td>\n",
       "      <td>34.5</td>\n",
       "      <td>10.4</td>\n",
       "      <td>0</td>\n",
       "    </tr>\n",
       "    <tr>\n",
       "      <th>926</th>\n",
       "      <td>07</td>\n",
       "      <td>16</td>\n",
       "      <td>33.1</td>\n",
       "      <td>24.0</td>\n",
       "      <td>28.1</td>\n",
       "      <td>25.3</td>\n",
       "      <td>85.67</td>\n",
       "      <td>23.8</td>\n",
       "      <td>252.4</td>\n",
       "      <td>1006.3</td>\n",
       "      <td>61.7</td>\n",
       "      <td>9.0</td>\n",
       "      <td>1</td>\n",
       "    </tr>\n",
       "    <tr>\n",
       "      <th>609</th>\n",
       "      <td>09</td>\n",
       "      <td>02</td>\n",
       "      <td>34.0</td>\n",
       "      <td>25.4</td>\n",
       "      <td>29.4</td>\n",
       "      <td>25.5</td>\n",
       "      <td>80.82</td>\n",
       "      <td>20.5</td>\n",
       "      <td>266.7</td>\n",
       "      <td>1007.9</td>\n",
       "      <td>64.5</td>\n",
       "      <td>9.4</td>\n",
       "      <td>1</td>\n",
       "    </tr>\n",
       "    <tr>\n",
       "      <th>183</th>\n",
       "      <td>07</td>\n",
       "      <td>03</td>\n",
       "      <td>33.0</td>\n",
       "      <td>25.0</td>\n",
       "      <td>28.6</td>\n",
       "      <td>24.5</td>\n",
       "      <td>80.32</td>\n",
       "      <td>18.4</td>\n",
       "      <td>233.0</td>\n",
       "      <td>1008.6</td>\n",
       "      <td>53.2</td>\n",
       "      <td>10.2</td>\n",
       "      <td>0</td>\n",
       "    </tr>\n",
       "    <tr>\n",
       "      <th>473</th>\n",
       "      <td>04</td>\n",
       "      <td>19</td>\n",
       "      <td>34.0</td>\n",
       "      <td>27.0</td>\n",
       "      <td>29.9</td>\n",
       "      <td>23.4</td>\n",
       "      <td>69.44</td>\n",
       "      <td>18.0</td>\n",
       "      <td>140.4</td>\n",
       "      <td>1009.8</td>\n",
       "      <td>51.8</td>\n",
       "      <td>10.3</td>\n",
       "      <td>0</td>\n",
       "    </tr>\n",
       "    <tr>\n",
       "      <th>...</th>\n",
       "      <td>...</td>\n",
       "      <td>...</td>\n",
       "      <td>...</td>\n",
       "      <td>...</td>\n",
       "      <td>...</td>\n",
       "      <td>...</td>\n",
       "      <td>...</td>\n",
       "      <td>...</td>\n",
       "      <td>...</td>\n",
       "      <td>...</td>\n",
       "      <td>...</td>\n",
       "      <td>...</td>\n",
       "      <td>...</td>\n",
       "    </tr>\n",
       "    <tr>\n",
       "      <th>1395</th>\n",
       "      <td>10</td>\n",
       "      <td>27</td>\n",
       "      <td>30.6</td>\n",
       "      <td>25.0</td>\n",
       "      <td>27.5</td>\n",
       "      <td>22.7</td>\n",
       "      <td>75.42</td>\n",
       "      <td>22.7</td>\n",
       "      <td>316.2</td>\n",
       "      <td>1007.1</td>\n",
       "      <td>73.8</td>\n",
       "      <td>9.8</td>\n",
       "      <td>0</td>\n",
       "    </tr>\n",
       "    <tr>\n",
       "      <th>101</th>\n",
       "      <td>04</td>\n",
       "      <td>12</td>\n",
       "      <td>35.0</td>\n",
       "      <td>27.9</td>\n",
       "      <td>30.7</td>\n",
       "      <td>26.5</td>\n",
       "      <td>79.96</td>\n",
       "      <td>16.6</td>\n",
       "      <td>175.0</td>\n",
       "      <td>1008.8</td>\n",
       "      <td>46.0</td>\n",
       "      <td>10.3</td>\n",
       "      <td>0</td>\n",
       "    </tr>\n",
       "    <tr>\n",
       "      <th>698</th>\n",
       "      <td>11</td>\n",
       "      <td>30</td>\n",
       "      <td>33.0</td>\n",
       "      <td>25.0</td>\n",
       "      <td>28.9</td>\n",
       "      <td>23.7</td>\n",
       "      <td>74.98</td>\n",
       "      <td>12.6</td>\n",
       "      <td>152.2</td>\n",
       "      <td>1012.8</td>\n",
       "      <td>56.4</td>\n",
       "      <td>9.6</td>\n",
       "      <td>0</td>\n",
       "    </tr>\n",
       "    <tr>\n",
       "      <th>602</th>\n",
       "      <td>08</td>\n",
       "      <td>26</td>\n",
       "      <td>32.0</td>\n",
       "      <td>25.0</td>\n",
       "      <td>28.2</td>\n",
       "      <td>25.2</td>\n",
       "      <td>84.90</td>\n",
       "      <td>23.4</td>\n",
       "      <td>252.0</td>\n",
       "      <td>1007.5</td>\n",
       "      <td>68.2</td>\n",
       "      <td>10.1</td>\n",
       "      <td>1</td>\n",
       "    </tr>\n",
       "    <tr>\n",
       "      <th>1185</th>\n",
       "      <td>03</td>\n",
       "      <td>31</td>\n",
       "      <td>35.4</td>\n",
       "      <td>27.0</td>\n",
       "      <td>30.2</td>\n",
       "      <td>23.5</td>\n",
       "      <td>69.62</td>\n",
       "      <td>18.0</td>\n",
       "      <td>150.8</td>\n",
       "      <td>1010.4</td>\n",
       "      <td>58.3</td>\n",
       "      <td>10.3</td>\n",
       "      <td>0</td>\n",
       "    </tr>\n",
       "  </tbody>\n",
       "</table>\n",
       "<p>715 rows × 13 columns</p>\n",
       "</div>"
      ],
      "text/plain": [
       "     Month Day  Tempmax  Tempmin  Temp   Dew  Humidity  Windspeed  Winddir  \\\n",
       "1216    05  01     36.2     27.0  30.8  21.9     61.39       22.3    132.5   \n",
       "926     07  16     33.1     24.0  28.1  25.3     85.67       23.8    252.4   \n",
       "609     09  02     34.0     25.4  29.4  25.5     80.82       20.5    266.7   \n",
       "183     07  03     33.0     25.0  28.6  24.5     80.32       18.4    233.0   \n",
       "473     04  19     34.0     27.0  29.9  23.4     69.44       18.0    140.4   \n",
       "...    ...  ..      ...      ...   ...   ...       ...        ...      ...   \n",
       "1395    10  27     30.6     25.0  27.5  22.7     75.42       22.7    316.2   \n",
       "101     04  12     35.0     27.9  30.7  26.5     79.96       16.6    175.0   \n",
       "698     11  30     33.0     25.0  28.9  23.7     74.98       12.6    152.2   \n",
       "602     08  26     32.0     25.0  28.2  25.2     84.90       23.4    252.0   \n",
       "1185    03  31     35.4     27.0  30.2  23.5     69.62       18.0    150.8   \n",
       "\n",
       "      Pressure  Cloudcover  Visibility  Conditions  \n",
       "1216    1009.2        34.5        10.4           0  \n",
       "926     1006.3        61.7         9.0           1  \n",
       "609     1007.9        64.5         9.4           1  \n",
       "183     1008.6        53.2        10.2           0  \n",
       "473     1009.8        51.8        10.3           0  \n",
       "...        ...         ...         ...         ...  \n",
       "1395    1007.1        73.8         9.8           0  \n",
       "101     1008.8        46.0        10.3           0  \n",
       "698     1012.8        56.4         9.6           0  \n",
       "602     1007.5        68.2        10.1           1  \n",
       "1185    1010.4        58.3        10.3           0  \n",
       "\n",
       "[715 rows x 13 columns]"
      ]
     },
     "execution_count": 234,
     "metadata": {},
     "output_type": "execute_result"
    }
   ],
   "source": [
    "df = FunctionTransformer(col_adder_dropper).fit_transform(train_X_df)\n",
    "df = FunctionTransformer(col_condition_trans).fit_transform(df)\n",
    "df"
   ]
  },
  {
   "cell_type": "code",
   "execution_count": 242,
   "metadata": {},
   "outputs": [
    {
     "data": {
      "text/html": [
       "<style>div.sk-top-container {color: black;background-color: white;}div.sk-toggleable {background-color: white;}label.sk-toggleable__label {cursor: pointer;display: block;width: 100%;margin-bottom: 0;padding: 0.2em 0.3em;box-sizing: border-box;text-align: center;}div.sk-toggleable__content {max-height: 0;max-width: 0;overflow: hidden;text-align: left;background-color: #f0f8ff;}div.sk-toggleable__content pre {margin: 0.2em;color: black;border-radius: 0.25em;background-color: #f0f8ff;}input.sk-toggleable__control:checked~div.sk-toggleable__content {max-height: 200px;max-width: 100%;overflow: auto;}div.sk-estimator input.sk-toggleable__control:checked~label.sk-toggleable__label {background-color: #d4ebff;}div.sk-label input.sk-toggleable__control:checked~label.sk-toggleable__label {background-color: #d4ebff;}input.sk-hidden--visually {border: 0;clip: rect(1px 1px 1px 1px);clip: rect(1px, 1px, 1px, 1px);height: 1px;margin: -1px;overflow: hidden;padding: 0;position: absolute;width: 1px;}div.sk-estimator {font-family: monospace;background-color: #f0f8ff;margin: 0.25em 0.25em;border: 1px dotted black;border-radius: 0.25em;box-sizing: border-box;}div.sk-estimator:hover {background-color: #d4ebff;}div.sk-parallel-item::after {content: \"\";width: 100%;border-bottom: 1px solid gray;flex-grow: 1;}div.sk-label:hover label.sk-toggleable__label {background-color: #d4ebff;}div.sk-serial::before {content: \"\";position: absolute;border-left: 1px solid gray;box-sizing: border-box;top: 2em;bottom: 0;left: 50%;}div.sk-serial {display: flex;flex-direction: column;align-items: center;background-color: white;}div.sk-item {z-index: 1;}div.sk-parallel {display: flex;align-items: stretch;justify-content: center;background-color: white;}div.sk-parallel-item {display: flex;flex-direction: column;position: relative;background-color: white;}div.sk-parallel-item:first-child::after {align-self: flex-end;width: 50%;}div.sk-parallel-item:last-child::after {align-self: flex-start;width: 50%;}div.sk-parallel-item:only-child::after {width: 0;}div.sk-dashed-wrapped {border: 1px dashed gray;margin: 0.2em;box-sizing: border-box;padding-bottom: 0.1em;background-color: white;position: relative;}div.sk-label label {font-family: monospace;font-weight: bold;background-color: white;display: inline-block;line-height: 1.2em;}div.sk-label-container {position: relative;z-index: 2;text-align: center;}div.sk-container {display: inline-block;position: relative;}</style><div class=\"sk-top-container\"><div class=\"sk-container\"><div class=\"sk-item sk-dashed-wrapped\"><div class=\"sk-label-container\"><div class=\"sk-label sk-toggleable\"><input class=\"sk-toggleable__control sk-hidden--visually\" id=\"5d7dd5ca-2453-4a0c-879d-6d186750b224\" type=\"checkbox\" ><label class=\"sk-toggleable__label\" for=\"5d7dd5ca-2453-4a0c-879d-6d186750b224\">Pipeline</label><div class=\"sk-toggleable__content\"><pre>Pipeline(steps=[('functiontransformer-1',\n",
       "                 FunctionTransformer(func=<function col_adder_dropper at 0x000001BE5CC4F438>)),\n",
       "                ('functiontransformer-2',\n",
       "                 FunctionTransformer(func=<function col_condition_trans at 0x000001BE60311B88>)),\n",
       "                ('columntransformer',\n",
       "                 ColumnTransformer(transformers=[('simpleimputer-1',\n",
       "                                                  SimpleImputer(),\n",
       "                                                  ['Month', 'Day', 'Tempmax',\n",
       "                                                   'Tempmin', 'Temp', 'Dew',\n",
       "                                                   'Humidity', 'Windspeed',\n",
       "                                                   'Winddir', 'Pressure',\n",
       "                                                   'Cloudcover',\n",
       "                                                   'Visibility']),\n",
       "                                                 ('simpleimputer-2',\n",
       "                                                  SimpleImputer(strategy='most_frequent'),\n",
       "                                                  ['Conditions'])])),\n",
       "                ('standardscaler', StandardScaler())])</pre></div></div></div><div class=\"sk-serial\"><div class=\"sk-item\"><div class=\"sk-estimator sk-toggleable\"><input class=\"sk-toggleable__control sk-hidden--visually\" id=\"cbcbb85c-93c2-4a54-8824-c80d26443133\" type=\"checkbox\" ><label class=\"sk-toggleable__label\" for=\"cbcbb85c-93c2-4a54-8824-c80d26443133\">FunctionTransformer</label><div class=\"sk-toggleable__content\"><pre>FunctionTransformer(func=<function col_adder_dropper at 0x000001BE5CC4F438>)</pre></div></div></div><div class=\"sk-item\"><div class=\"sk-estimator sk-toggleable\"><input class=\"sk-toggleable__control sk-hidden--visually\" id=\"f38b3242-be00-4f58-b45e-acc921a10bbd\" type=\"checkbox\" ><label class=\"sk-toggleable__label\" for=\"f38b3242-be00-4f58-b45e-acc921a10bbd\">FunctionTransformer</label><div class=\"sk-toggleable__content\"><pre>FunctionTransformer(func=<function col_condition_trans at 0x000001BE60311B88>)</pre></div></div></div><div class=\"sk-item sk-dashed-wrapped\"><div class=\"sk-label-container\"><div class=\"sk-label sk-toggleable\"><input class=\"sk-toggleable__control sk-hidden--visually\" id=\"0f24364c-eae8-4a18-b164-e12cbcd5ce03\" type=\"checkbox\" ><label class=\"sk-toggleable__label\" for=\"0f24364c-eae8-4a18-b164-e12cbcd5ce03\">columntransformer: ColumnTransformer</label><div class=\"sk-toggleable__content\"><pre>ColumnTransformer(transformers=[('simpleimputer-1', SimpleImputer(),\n",
       "                                 ['Month', 'Day', 'Tempmax', 'Tempmin', 'Temp',\n",
       "                                  'Dew', 'Humidity', 'Windspeed', 'Winddir',\n",
       "                                  'Pressure', 'Cloudcover', 'Visibility']),\n",
       "                                ('simpleimputer-2',\n",
       "                                 SimpleImputer(strategy='most_frequent'),\n",
       "                                 ['Conditions'])])</pre></div></div></div><div class=\"sk-parallel\"><div class=\"sk-parallel-item\"><div class=\"sk-item\"><div class=\"sk-label-container\"><div class=\"sk-label sk-toggleable\"><input class=\"sk-toggleable__control sk-hidden--visually\" id=\"94e6a99c-76d3-4187-9c26-f522e1caf3a4\" type=\"checkbox\" ><label class=\"sk-toggleable__label\" for=\"94e6a99c-76d3-4187-9c26-f522e1caf3a4\">simpleimputer-1</label><div class=\"sk-toggleable__content\"><pre>['Month', 'Day', 'Tempmax', 'Tempmin', 'Temp', 'Dew', 'Humidity', 'Windspeed', 'Winddir', 'Pressure', 'Cloudcover', 'Visibility']</pre></div></div></div><div class=\"sk-serial\"><div class=\"sk-item\"><div class=\"sk-estimator sk-toggleable\"><input class=\"sk-toggleable__control sk-hidden--visually\" id=\"0c6aa84a-d7f4-4373-bf92-94b12a9c6d98\" type=\"checkbox\" ><label class=\"sk-toggleable__label\" for=\"0c6aa84a-d7f4-4373-bf92-94b12a9c6d98\">SimpleImputer</label><div class=\"sk-toggleable__content\"><pre>SimpleImputer()</pre></div></div></div></div></div></div><div class=\"sk-parallel-item\"><div class=\"sk-item\"><div class=\"sk-label-container\"><div class=\"sk-label sk-toggleable\"><input class=\"sk-toggleable__control sk-hidden--visually\" id=\"d980c65e-122a-407b-9881-63e736fdda5a\" type=\"checkbox\" ><label class=\"sk-toggleable__label\" for=\"d980c65e-122a-407b-9881-63e736fdda5a\">simpleimputer-2</label><div class=\"sk-toggleable__content\"><pre>['Conditions']</pre></div></div></div><div class=\"sk-serial\"><div class=\"sk-item\"><div class=\"sk-estimator sk-toggleable\"><input class=\"sk-toggleable__control sk-hidden--visually\" id=\"9a6fe577-3c44-4b80-8bab-75184db88e64\" type=\"checkbox\" ><label class=\"sk-toggleable__label\" for=\"9a6fe577-3c44-4b80-8bab-75184db88e64\">SimpleImputer</label><div class=\"sk-toggleable__content\"><pre>SimpleImputer(strategy='most_frequent')</pre></div></div></div></div></div></div></div></div><div class=\"sk-item\"><div class=\"sk-estimator sk-toggleable\"><input class=\"sk-toggleable__control sk-hidden--visually\" id=\"5b21ad10-84a3-4485-9452-71cd8a9d1369\" type=\"checkbox\" ><label class=\"sk-toggleable__label\" for=\"5b21ad10-84a3-4485-9452-71cd8a9d1369\">StandardScaler</label><div class=\"sk-toggleable__content\"><pre>StandardScaler()</pre></div></div></div></div></div></div></div>"
      ],
      "text/plain": [
       "Pipeline(steps=[('functiontransformer-1',\n",
       "                 FunctionTransformer(func=<function col_adder_dropper at 0x000001BE5CC4F438>)),\n",
       "                ('functiontransformer-2',\n",
       "                 FunctionTransformer(func=<function col_condition_trans at 0x000001BE60311B88>)),\n",
       "                ('columntransformer',\n",
       "                 ColumnTransformer(transformers=[('simpleimputer-1',\n",
       "                                                  SimpleImputer(),\n",
       "                                                  ['Month', 'Day', 'Tempmax',\n",
       "                                                   'Tempmin', 'Temp', 'Dew',\n",
       "                                                   'Humidity', 'Windspeed',\n",
       "                                                   'Winddir', 'Pressure',\n",
       "                                                   'Cloudcover',\n",
       "                                                   'Visibility']),\n",
       "                                                 ('simpleimputer-2',\n",
       "                                                  SimpleImputer(strategy='most_frequent'),\n",
       "                                                  ['Conditions'])])),\n",
       "                ('standardscaler', StandardScaler())])"
      ]
     },
     "execution_count": 242,
     "metadata": {},
     "output_type": "execute_result"
    }
   ],
   "source": [
    "nume_cols = ['Month', 'Day', 'Tempmax', 'Tempmin', 'Temp', 'Dew', 'Humidity', 'Windspeed',\n",
    "             'Winddir', 'Pressure', 'Cloudcover', 'Visibility']\n",
    "cate_cols = ['Conditions']\n",
    "\n",
    "col_transform = make_column_transformer(\n",
    "    (SimpleImputer(strategy='mean'), nume_cols),\n",
    "    (SimpleImputer(strategy='most_frequent'), cate_cols),\n",
    ")\n",
    "\n",
    "preprocess_pipeline = make_pipeline(\n",
    "    FunctionTransformer(col_adder_dropper),\n",
    "    FunctionTransformer(col_condition_trans),\n",
    "    col_transform,\n",
    "    StandardScaler()\n",
    ")\n",
    "preprocess_pipeline"
   ]
  },
  {
   "cell_type": "markdown",
   "metadata": {},
   "source": [
    "Tạo preprocess_pipeline"
   ]
  },
  {
   "cell_type": "code",
   "execution_count": 243,
   "metadata": {},
   "outputs": [
    {
     "data": {
      "text/html": [
       "<div>\n",
       "<style scoped>\n",
       "    .dataframe tbody tr th:only-of-type {\n",
       "        vertical-align: middle;\n",
       "    }\n",
       "\n",
       "    .dataframe tbody tr th {\n",
       "        vertical-align: top;\n",
       "    }\n",
       "\n",
       "    .dataframe thead th {\n",
       "        text-align: right;\n",
       "    }\n",
       "</style>\n",
       "<table border=\"1\" class=\"dataframe\">\n",
       "  <thead>\n",
       "    <tr style=\"text-align: right;\">\n",
       "      <th></th>\n",
       "      <th>0</th>\n",
       "      <th>1</th>\n",
       "      <th>2</th>\n",
       "      <th>3</th>\n",
       "      <th>4</th>\n",
       "      <th>5</th>\n",
       "      <th>6</th>\n",
       "      <th>7</th>\n",
       "      <th>8</th>\n",
       "      <th>9</th>\n",
       "      <th>10</th>\n",
       "      <th>11</th>\n",
       "      <th>12</th>\n",
       "    </tr>\n",
       "  </thead>\n",
       "  <tbody>\n",
       "    <tr>\n",
       "      <th>0</th>\n",
       "      <td>-0.439990</td>\n",
       "      <td>-1.640366</td>\n",
       "      <td>1.920717</td>\n",
       "      <td>1.350955</td>\n",
       "      <td>1.962495</td>\n",
       "      <td>-0.806040</td>\n",
       "      <td>-1.755591</td>\n",
       "      <td>0.690568</td>\n",
       "      <td>-1.015370</td>\n",
       "      <td>-0.360764</td>\n",
       "      <td>-1.441164</td>\n",
       "      <td>1.206249</td>\n",
       "      <td>-0.776620</td>\n",
       "    </tr>\n",
       "    <tr>\n",
       "      <th>1</th>\n",
       "      <td>0.129924</td>\n",
       "      <td>0.086801</td>\n",
       "      <td>0.119232</td>\n",
       "      <td>-0.614987</td>\n",
       "      <td>-0.112993</td>\n",
       "      <td>0.786389</td>\n",
       "      <td>0.811499</td>\n",
       "      <td>0.984260</td>\n",
       "      <td>1.223408</td>\n",
       "      <td>-1.781403</td>\n",
       "      <td>0.700125</td>\n",
       "      <td>-0.595116</td>\n",
       "      <td>1.287631</td>\n",
       "    </tr>\n",
       "    <tr>\n",
       "      <th>2</th>\n",
       "      <td>0.699839</td>\n",
       "      <td>-1.525222</td>\n",
       "      <td>0.642244</td>\n",
       "      <td>0.302453</td>\n",
       "      <td>0.886316</td>\n",
       "      <td>0.880061</td>\n",
       "      <td>0.298715</td>\n",
       "      <td>0.338137</td>\n",
       "      <td>1.490418</td>\n",
       "      <td>-0.997602</td>\n",
       "      <td>0.920551</td>\n",
       "      <td>-0.080441</td>\n",
       "      <td>1.287631</td>\n",
       "    </tr>\n",
       "    <tr>\n",
       "      <th>3</th>\n",
       "      <td>0.129924</td>\n",
       "      <td>-1.410077</td>\n",
       "      <td>0.061120</td>\n",
       "      <td>0.040327</td>\n",
       "      <td>0.271356</td>\n",
       "      <td>0.411700</td>\n",
       "      <td>0.245851</td>\n",
       "      <td>-0.073033</td>\n",
       "      <td>0.861170</td>\n",
       "      <td>-0.654690</td>\n",
       "      <td>0.030972</td>\n",
       "      <td>0.948911</td>\n",
       "      <td>-0.776620</td>\n",
       "    </tr>\n",
       "    <tr>\n",
       "      <th>4</th>\n",
       "      <td>-0.724947</td>\n",
       "      <td>0.432235</td>\n",
       "      <td>0.642244</td>\n",
       "      <td>1.350955</td>\n",
       "      <td>1.270666</td>\n",
       "      <td>-0.103498</td>\n",
       "      <td>-0.904476</td>\n",
       "      <td>-0.151351</td>\n",
       "      <td>-0.867861</td>\n",
       "      <td>-0.066839</td>\n",
       "      <td>-0.079241</td>\n",
       "      <td>1.077580</td>\n",
       "      <td>-0.776620</td>\n",
       "    </tr>\n",
       "    <tr>\n",
       "      <th>...</th>\n",
       "      <td>...</td>\n",
       "      <td>...</td>\n",
       "      <td>...</td>\n",
       "      <td>...</td>\n",
       "      <td>...</td>\n",
       "      <td>...</td>\n",
       "      <td>...</td>\n",
       "      <td>...</td>\n",
       "      <td>...</td>\n",
       "      <td>...</td>\n",
       "      <td>...</td>\n",
       "      <td>...</td>\n",
       "      <td>...</td>\n",
       "    </tr>\n",
       "    <tr>\n",
       "      <th>710</th>\n",
       "      <td>0.984796</td>\n",
       "      <td>1.353391</td>\n",
       "      <td>-1.333578</td>\n",
       "      <td>0.040327</td>\n",
       "      <td>-0.574213</td>\n",
       "      <td>-0.431351</td>\n",
       "      <td>-0.272219</td>\n",
       "      <td>0.768886</td>\n",
       "      <td>2.414685</td>\n",
       "      <td>-1.389503</td>\n",
       "      <td>1.652683</td>\n",
       "      <td>0.434235</td>\n",
       "      <td>-0.776620</td>\n",
       "    </tr>\n",
       "    <tr>\n",
       "      <th>711</th>\n",
       "      <td>-0.724947</td>\n",
       "      <td>-0.373777</td>\n",
       "      <td>1.223368</td>\n",
       "      <td>1.940738</td>\n",
       "      <td>1.885625</td>\n",
       "      <td>1.348423</td>\n",
       "      <td>0.207788</td>\n",
       "      <td>-0.425464</td>\n",
       "      <td>-0.221808</td>\n",
       "      <td>-0.556714</td>\n",
       "      <td>-0.535840</td>\n",
       "      <td>1.077580</td>\n",
       "      <td>-0.776620</td>\n",
       "    </tr>\n",
       "    <tr>\n",
       "      <th>712</th>\n",
       "      <td>1.269753</td>\n",
       "      <td>1.698824</td>\n",
       "      <td>0.061120</td>\n",
       "      <td>0.040327</td>\n",
       "      <td>0.501966</td>\n",
       "      <td>0.037010</td>\n",
       "      <td>-0.318740</td>\n",
       "      <td>-1.208644</td>\n",
       "      <td>-0.647531</td>\n",
       "      <td>1.402788</td>\n",
       "      <td>0.282888</td>\n",
       "      <td>0.176897</td>\n",
       "      <td>-0.776620</td>\n",
       "    </tr>\n",
       "    <tr>\n",
       "      <th>713</th>\n",
       "      <td>0.414882</td>\n",
       "      <td>1.238246</td>\n",
       "      <td>-0.520005</td>\n",
       "      <td>0.040327</td>\n",
       "      <td>-0.036123</td>\n",
       "      <td>0.739553</td>\n",
       "      <td>0.730088</td>\n",
       "      <td>0.905942</td>\n",
       "      <td>1.215939</td>\n",
       "      <td>-1.193553</td>\n",
       "      <td>1.211830</td>\n",
       "      <td>0.820242</td>\n",
       "      <td>1.287631</td>\n",
       "    </tr>\n",
       "    <tr>\n",
       "      <th>714</th>\n",
       "      <td>-1.009904</td>\n",
       "      <td>1.813968</td>\n",
       "      <td>1.455818</td>\n",
       "      <td>1.350955</td>\n",
       "      <td>1.501275</td>\n",
       "      <td>-0.056662</td>\n",
       "      <td>-0.885445</td>\n",
       "      <td>-0.151351</td>\n",
       "      <td>-0.673672</td>\n",
       "      <td>0.227086</td>\n",
       "      <td>0.432464</td>\n",
       "      <td>1.077580</td>\n",
       "      <td>-0.776620</td>\n",
       "    </tr>\n",
       "  </tbody>\n",
       "</table>\n",
       "<p>715 rows × 13 columns</p>\n",
       "</div>"
      ],
      "text/plain": [
       "           0         1         2         3         4         5         6   \\\n",
       "0   -0.439990 -1.640366  1.920717  1.350955  1.962495 -0.806040 -1.755591   \n",
       "1    0.129924  0.086801  0.119232 -0.614987 -0.112993  0.786389  0.811499   \n",
       "2    0.699839 -1.525222  0.642244  0.302453  0.886316  0.880061  0.298715   \n",
       "3    0.129924 -1.410077  0.061120  0.040327  0.271356  0.411700  0.245851   \n",
       "4   -0.724947  0.432235  0.642244  1.350955  1.270666 -0.103498 -0.904476   \n",
       "..        ...       ...       ...       ...       ...       ...       ...   \n",
       "710  0.984796  1.353391 -1.333578  0.040327 -0.574213 -0.431351 -0.272219   \n",
       "711 -0.724947 -0.373777  1.223368  1.940738  1.885625  1.348423  0.207788   \n",
       "712  1.269753  1.698824  0.061120  0.040327  0.501966  0.037010 -0.318740   \n",
       "713  0.414882  1.238246 -0.520005  0.040327 -0.036123  0.739553  0.730088   \n",
       "714 -1.009904  1.813968  1.455818  1.350955  1.501275 -0.056662 -0.885445   \n",
       "\n",
       "           7         8         9         10        11        12  \n",
       "0    0.690568 -1.015370 -0.360764 -1.441164  1.206249 -0.776620  \n",
       "1    0.984260  1.223408 -1.781403  0.700125 -0.595116  1.287631  \n",
       "2    0.338137  1.490418 -0.997602  0.920551 -0.080441  1.287631  \n",
       "3   -0.073033  0.861170 -0.654690  0.030972  0.948911 -0.776620  \n",
       "4   -0.151351 -0.867861 -0.066839 -0.079241  1.077580 -0.776620  \n",
       "..        ...       ...       ...       ...       ...       ...  \n",
       "710  0.768886  2.414685 -1.389503  1.652683  0.434235 -0.776620  \n",
       "711 -0.425464 -0.221808 -0.556714 -0.535840  1.077580 -0.776620  \n",
       "712 -1.208644 -0.647531  1.402788  0.282888  0.176897 -0.776620  \n",
       "713  0.905942  1.215939 -1.193553  1.211830  0.820242  1.287631  \n",
       "714 -0.151351 -0.673672  0.227086  0.432464  1.077580 -0.776620  \n",
       "\n",
       "[715 rows x 13 columns]"
      ]
     },
     "execution_count": 243,
     "metadata": {},
     "output_type": "execute_result"
    }
   ],
   "source": [
    "preprocessed_train_X = preprocess_pipeline.fit_transform(train_X_df)\n",
    "pd.DataFrame(preprocessed_train_X)"
   ]
  },
  {
   "cell_type": "markdown",
   "metadata": {},
   "source": [
    "### Tiền xử lí tập validation"
   ]
  },
  {
   "cell_type": "code",
   "execution_count": 244,
   "metadata": {},
   "outputs": [],
   "source": [
    "preprocessed_val_X = preprocess_pipeline.transform(val_X_df)"
   ]
  },
  {
   "cell_type": "markdown",
   "metadata": {},
   "source": [
    "### Kết hợp tiền xử lí và mô hình hóa"
   ]
  },
  {
   "cell_type": "markdown",
   "metadata": {},
   "source": [
    "Các siêu tham số: alpha, hidden_layer_sizes, max_iter"
   ]
  },
  {
   "cell_type": "code",
   "execution_count": 245,
   "metadata": {},
   "outputs": [
    {
     "data": {
      "text/plain": [
       "'Finish!'"
      ]
     },
     "execution_count": 245,
     "metadata": {},
     "output_type": "execute_result"
    }
   ],
   "source": [
    "# Tạo full_pipeline\n",
    "full_pipeline = make_pipeline(\n",
    "    preprocess_pipeline,\n",
    "    MLPRegressor(hidden_layer_sizes=(30), activation='tanh', solver='lbfgs', random_state=0, max_iter=7500)\n",
    ")\n",
    "\n",
    "# Thử nghiệm với nhiều giá trị khác nhau của siêu tham số\n",
    "#mlpregressor__alpha, mlpregressor__max_iter, mlpregressor__hidden_layer_sizes\n",
    "train_errs = []\n",
    "val_errs = []\n",
    "alphas = [0.001, 0.01, 0.1, 1.0, 10, 100]\n",
    "max_iters = [4000, 5000, 6000, 7000, 8000]\n",
    "best_val_err = float('inf'); best_alpha = None; best_max_iter = None\n",
    "\n",
    "for alpha in alphas:\n",
    "    for max_iter in max_iters:\n",
    "        full_pipeline.set_params(\n",
    "            mlpregressor__alpha=alpha,\n",
    "            mlpregressor__max_iter=max_iter\n",
    "        )\n",
    "        full_pipeline.fit(train_X_df, train_y_sr)\n",
    "        train_err = (1 - full_pipeline.score(train_X_df, train_y_sr))*100\n",
    "        val_err = (1 - full_pipeline.score(val_X_df, val_y_sr))*100\n",
    "        \n",
    "        # Lưu lại lịch sử train_err, val_err\n",
    "        train_errs.append(train_err)\n",
    "        val_errs.append(val_err)\n",
    "        \n",
    "        # Lưu thông tin mô hình tốt nhất\n",
    "        if val_err < best_val_err:\n",
    "            best_val_err = val_err\n",
    "            best_alpha = alpha\n",
    "            best_max_iter = max_iter\n",
    "'Finish!'"
   ]
  },
  {
   "cell_type": "code",
   "execution_count": 246,
   "metadata": {},
   "outputs": [
    {
     "data": {
      "text/html": [
       "<style>div.sk-top-container {color: black;background-color: white;}div.sk-toggleable {background-color: white;}label.sk-toggleable__label {cursor: pointer;display: block;width: 100%;margin-bottom: 0;padding: 0.2em 0.3em;box-sizing: border-box;text-align: center;}div.sk-toggleable__content {max-height: 0;max-width: 0;overflow: hidden;text-align: left;background-color: #f0f8ff;}div.sk-toggleable__content pre {margin: 0.2em;color: black;border-radius: 0.25em;background-color: #f0f8ff;}input.sk-toggleable__control:checked~div.sk-toggleable__content {max-height: 200px;max-width: 100%;overflow: auto;}div.sk-estimator input.sk-toggleable__control:checked~label.sk-toggleable__label {background-color: #d4ebff;}div.sk-label input.sk-toggleable__control:checked~label.sk-toggleable__label {background-color: #d4ebff;}input.sk-hidden--visually {border: 0;clip: rect(1px 1px 1px 1px);clip: rect(1px, 1px, 1px, 1px);height: 1px;margin: -1px;overflow: hidden;padding: 0;position: absolute;width: 1px;}div.sk-estimator {font-family: monospace;background-color: #f0f8ff;margin: 0.25em 0.25em;border: 1px dotted black;border-radius: 0.25em;box-sizing: border-box;}div.sk-estimator:hover {background-color: #d4ebff;}div.sk-parallel-item::after {content: \"\";width: 100%;border-bottom: 1px solid gray;flex-grow: 1;}div.sk-label:hover label.sk-toggleable__label {background-color: #d4ebff;}div.sk-serial::before {content: \"\";position: absolute;border-left: 1px solid gray;box-sizing: border-box;top: 2em;bottom: 0;left: 50%;}div.sk-serial {display: flex;flex-direction: column;align-items: center;background-color: white;}div.sk-item {z-index: 1;}div.sk-parallel {display: flex;align-items: stretch;justify-content: center;background-color: white;}div.sk-parallel-item {display: flex;flex-direction: column;position: relative;background-color: white;}div.sk-parallel-item:first-child::after {align-self: flex-end;width: 50%;}div.sk-parallel-item:last-child::after {align-self: flex-start;width: 50%;}div.sk-parallel-item:only-child::after {width: 0;}div.sk-dashed-wrapped {border: 1px dashed gray;margin: 0.2em;box-sizing: border-box;padding-bottom: 0.1em;background-color: white;position: relative;}div.sk-label label {font-family: monospace;font-weight: bold;background-color: white;display: inline-block;line-height: 1.2em;}div.sk-label-container {position: relative;z-index: 2;text-align: center;}div.sk-container {display: inline-block;position: relative;}</style><div class=\"sk-top-container\"><div class=\"sk-container\"><div class=\"sk-item sk-dashed-wrapped\"><div class=\"sk-label-container\"><div class=\"sk-label sk-toggleable\"><input class=\"sk-toggleable__control sk-hidden--visually\" id=\"4916ecc4-8cee-487b-9b6a-7dd778fd3333\" type=\"checkbox\" ><label class=\"sk-toggleable__label\" for=\"4916ecc4-8cee-487b-9b6a-7dd778fd3333\">Pipeline</label><div class=\"sk-toggleable__content\"><pre>Pipeline(steps=[('pipeline',\n",
       "                 Pipeline(steps=[('functiontransformer-1',\n",
       "                                  FunctionTransformer(func=<function col_adder_dropper at 0x000001BE5CC4F438>)),\n",
       "                                 ('functiontransformer-2',\n",
       "                                  FunctionTransformer(func=<function col_condition_trans at 0x000001BE60311B88>)),\n",
       "                                 ('columntransformer',\n",
       "                                  ColumnTransformer(transformers=[('simpleimputer-1',\n",
       "                                                                   SimpleImputer(),\n",
       "                                                                   ['Month',\n",
       "                                                                    'Day',\n",
       "                                                                    'Tempmax',\n",
       "                                                                    'Tempmin',\n",
       "                                                                    'Temp',\n",
       "                                                                    'Dew',\n",
       "                                                                    'Humidity',\n",
       "                                                                    'Windspeed',\n",
       "                                                                    'Winddir',\n",
       "                                                                    'Pressure',\n",
       "                                                                    'Cloudcover',\n",
       "                                                                    'Visibility']),\n",
       "                                                                  ('simpleimputer-2',\n",
       "                                                                   SimpleImputer(strategy='most_frequent'),\n",
       "                                                                   ['Conditions'])])),\n",
       "                                 ('standardscaler', StandardScaler())])),\n",
       "                ('mlpregressor',\n",
       "                 MLPRegressor(activation='tanh', alpha=1000,\n",
       "                              hidden_layer_sizes=30, max_iter=8000,\n",
       "                              random_state=0, solver='lbfgs'))])</pre></div></div></div><div class=\"sk-serial\"><div class=\"sk-item\"><div class=\"sk-label-container\"><div class=\"sk-label sk-toggleable\"><input class=\"sk-toggleable__control sk-hidden--visually\" id=\"539acb0a-7a73-4adb-be75-318947d2fb7b\" type=\"checkbox\" ><label class=\"sk-toggleable__label\" for=\"539acb0a-7a73-4adb-be75-318947d2fb7b\">pipeline: Pipeline</label><div class=\"sk-toggleable__content\"><pre>Pipeline(steps=[('functiontransformer-1',\n",
       "                 FunctionTransformer(func=<function col_adder_dropper at 0x000001BE5CC4F438>)),\n",
       "                ('functiontransformer-2',\n",
       "                 FunctionTransformer(func=<function col_condition_trans at 0x000001BE60311B88>)),\n",
       "                ('columntransformer',\n",
       "                 ColumnTransformer(transformers=[('simpleimputer-1',\n",
       "                                                  SimpleImputer(),\n",
       "                                                  ['Month', 'Day', 'Tempmax',\n",
       "                                                   'Tempmin', 'Temp', 'Dew',\n",
       "                                                   'Humidity', 'Windspeed',\n",
       "                                                   'Winddir', 'Pressure',\n",
       "                                                   'Cloudcover',\n",
       "                                                   'Visibility']),\n",
       "                                                 ('simpleimputer-2',\n",
       "                                                  SimpleImputer(strategy='most_frequent'),\n",
       "                                                  ['Conditions'])])),\n",
       "                ('standardscaler', StandardScaler())])</pre></div></div></div><div class=\"sk-serial\"><div class=\"sk-item\"><div class=\"sk-estimator sk-toggleable\"><input class=\"sk-toggleable__control sk-hidden--visually\" id=\"a9f1d4f8-9e24-449f-a660-fab0844150a9\" type=\"checkbox\" ><label class=\"sk-toggleable__label\" for=\"a9f1d4f8-9e24-449f-a660-fab0844150a9\">FunctionTransformer</label><div class=\"sk-toggleable__content\"><pre>FunctionTransformer(func=<function col_adder_dropper at 0x000001BE5CC4F438>)</pre></div></div></div><div class=\"sk-item\"><div class=\"sk-estimator sk-toggleable\"><input class=\"sk-toggleable__control sk-hidden--visually\" id=\"a0fa55b2-84bd-456c-be3a-599e340a778e\" type=\"checkbox\" ><label class=\"sk-toggleable__label\" for=\"a0fa55b2-84bd-456c-be3a-599e340a778e\">FunctionTransformer</label><div class=\"sk-toggleable__content\"><pre>FunctionTransformer(func=<function col_condition_trans at 0x000001BE60311B88>)</pre></div></div></div><div class=\"sk-item sk-dashed-wrapped\"><div class=\"sk-label-container\"><div class=\"sk-label sk-toggleable\"><input class=\"sk-toggleable__control sk-hidden--visually\" id=\"140f7226-89ff-4de6-a1e9-8c849e2fa6ec\" type=\"checkbox\" ><label class=\"sk-toggleable__label\" for=\"140f7226-89ff-4de6-a1e9-8c849e2fa6ec\">columntransformer: ColumnTransformer</label><div class=\"sk-toggleable__content\"><pre>ColumnTransformer(transformers=[('simpleimputer-1', SimpleImputer(),\n",
       "                                 ['Month', 'Day', 'Tempmax', 'Tempmin', 'Temp',\n",
       "                                  'Dew', 'Humidity', 'Windspeed', 'Winddir',\n",
       "                                  'Pressure', 'Cloudcover', 'Visibility']),\n",
       "                                ('simpleimputer-2',\n",
       "                                 SimpleImputer(strategy='most_frequent'),\n",
       "                                 ['Conditions'])])</pre></div></div></div><div class=\"sk-parallel\"><div class=\"sk-parallel-item\"><div class=\"sk-item\"><div class=\"sk-label-container\"><div class=\"sk-label sk-toggleable\"><input class=\"sk-toggleable__control sk-hidden--visually\" id=\"a9e575ff-8b44-4b50-be0c-025bd8948777\" type=\"checkbox\" ><label class=\"sk-toggleable__label\" for=\"a9e575ff-8b44-4b50-be0c-025bd8948777\">simpleimputer-1</label><div class=\"sk-toggleable__content\"><pre>['Month', 'Day', 'Tempmax', 'Tempmin', 'Temp', 'Dew', 'Humidity', 'Windspeed', 'Winddir', 'Pressure', 'Cloudcover', 'Visibility']</pre></div></div></div><div class=\"sk-serial\"><div class=\"sk-item\"><div class=\"sk-estimator sk-toggleable\"><input class=\"sk-toggleable__control sk-hidden--visually\" id=\"374940dc-9053-446a-bbce-a40d63ea71ec\" type=\"checkbox\" ><label class=\"sk-toggleable__label\" for=\"374940dc-9053-446a-bbce-a40d63ea71ec\">SimpleImputer</label><div class=\"sk-toggleable__content\"><pre>SimpleImputer()</pre></div></div></div></div></div></div><div class=\"sk-parallel-item\"><div class=\"sk-item\"><div class=\"sk-label-container\"><div class=\"sk-label sk-toggleable\"><input class=\"sk-toggleable__control sk-hidden--visually\" id=\"bb54a7f2-d2ee-4df1-85d6-b08a3f1c5108\" type=\"checkbox\" ><label class=\"sk-toggleable__label\" for=\"bb54a7f2-d2ee-4df1-85d6-b08a3f1c5108\">simpleimputer-2</label><div class=\"sk-toggleable__content\"><pre>['Conditions']</pre></div></div></div><div class=\"sk-serial\"><div class=\"sk-item\"><div class=\"sk-estimator sk-toggleable\"><input class=\"sk-toggleable__control sk-hidden--visually\" id=\"785e7fe7-508b-40a8-87cc-e82ec261c322\" type=\"checkbox\" ><label class=\"sk-toggleable__label\" for=\"785e7fe7-508b-40a8-87cc-e82ec261c322\">SimpleImputer</label><div class=\"sk-toggleable__content\"><pre>SimpleImputer(strategy='most_frequent')</pre></div></div></div></div></div></div></div></div><div class=\"sk-item\"><div class=\"sk-estimator sk-toggleable\"><input class=\"sk-toggleable__control sk-hidden--visually\" id=\"a5070a3d-6dd8-46ed-b16d-089f3e0842d9\" type=\"checkbox\" ><label class=\"sk-toggleable__label\" for=\"a5070a3d-6dd8-46ed-b16d-089f3e0842d9\">StandardScaler</label><div class=\"sk-toggleable__content\"><pre>StandardScaler()</pre></div></div></div></div></div><div class=\"sk-item\"><div class=\"sk-estimator sk-toggleable\"><input class=\"sk-toggleable__control sk-hidden--visually\" id=\"9306b7b8-84fd-4dd5-99da-2a4ade80b320\" type=\"checkbox\" ><label class=\"sk-toggleable__label\" for=\"9306b7b8-84fd-4dd5-99da-2a4ade80b320\">MLPRegressor</label><div class=\"sk-toggleable__content\"><pre>MLPRegressor(activation='tanh', alpha=1000, hidden_layer_sizes=30,\n",
       "             max_iter=8000, random_state=0, solver='lbfgs')</pre></div></div></div></div></div></div></div>"
      ],
      "text/plain": [
       "Pipeline(steps=[('pipeline',\n",
       "                 Pipeline(steps=[('functiontransformer-1',\n",
       "                                  FunctionTransformer(func=<function col_adder_dropper at 0x000001BE5CC4F438>)),\n",
       "                                 ('functiontransformer-2',\n",
       "                                  FunctionTransformer(func=<function col_condition_trans at 0x000001BE60311B88>)),\n",
       "                                 ('columntransformer',\n",
       "                                  ColumnTransformer(transformers=[('simpleimputer-1',\n",
       "                                                                   SimpleImputer(),\n",
       "                                                                   ['Month',\n",
       "                                                                    'Day',\n",
       "                                                                    'Tempmax',\n",
       "                                                                    'Tempmin',\n",
       "                                                                    'Temp',\n",
       "                                                                    'Dew',\n",
       "                                                                    'Humidity',\n",
       "                                                                    'Windspeed',\n",
       "                                                                    'Winddir',\n",
       "                                                                    'Pressure',\n",
       "                                                                    'Cloudcover',\n",
       "                                                                    'Visibility']),\n",
       "                                                                  ('simpleimputer-2',\n",
       "                                                                   SimpleImputer(strategy='most_frequent'),\n",
       "                                                                   ['Conditions'])])),\n",
       "                                 ('standardscaler', StandardScaler())])),\n",
       "                ('mlpregressor',\n",
       "                 MLPRegressor(activation='tanh', alpha=1000,\n",
       "                              hidden_layer_sizes=30, max_iter=8000,\n",
       "                              random_state=0, solver='lbfgs'))])"
      ]
     },
     "execution_count": 246,
     "metadata": {},
     "output_type": "execute_result"
    }
   ],
   "source": [
    "full_pipeline"
   ]
  },
  {
   "cell_type": "code",
   "execution_count": 222,
   "metadata": {
    "scrolled": true
   },
   "outputs": [
    {
     "data": {
      "text/plain": [
       "{'memory': None,\n",
       " 'steps': [('pipeline',\n",
       "   Pipeline(steps=[('functiontransformer-1',\n",
       "                    FunctionTransformer(func=<function col_adder_dropper at 0x000001BE5CC4F438>)),\n",
       "                   ('functiontransformer-2',\n",
       "                    FunctionTransformer(func=<function col_condition at 0x000001BE5FDA1B88>)),\n",
       "                   ('columntransformer',\n",
       "                    ColumnTransformer(transformers=[('simpleimputer',\n",
       "                                                     SimpleImputer(),\n",
       "                                                     ['Month', 'Day', 'Tempmax',\n",
       "                                                      'Tempmin', 'Temp', 'Dew',\n",
       "                                                      'Humidity', 'Windspeed',\n",
       "                                                      'Winddir', 'Pressure',\n",
       "                                                      'Cloudcover',\n",
       "                                                      'Visibility'])])),\n",
       "                   ('standardscaler', StandardScaler())])),\n",
       "  ('mlpregressor',\n",
       "   MLPRegressor(activation='tanh', hidden_layer_sizes=30, max_iter=7500,\n",
       "                random_state=0, solver='lbfgs'))],\n",
       " 'verbose': False,\n",
       " 'pipeline': Pipeline(steps=[('functiontransformer-1',\n",
       "                  FunctionTransformer(func=<function col_adder_dropper at 0x000001BE5CC4F438>)),\n",
       "                 ('functiontransformer-2',\n",
       "                  FunctionTransformer(func=<function col_condition at 0x000001BE5FDA1B88>)),\n",
       "                 ('columntransformer',\n",
       "                  ColumnTransformer(transformers=[('simpleimputer',\n",
       "                                                   SimpleImputer(),\n",
       "                                                   ['Month', 'Day', 'Tempmax',\n",
       "                                                    'Tempmin', 'Temp', 'Dew',\n",
       "                                                    'Humidity', 'Windspeed',\n",
       "                                                    'Winddir', 'Pressure',\n",
       "                                                    'Cloudcover',\n",
       "                                                    'Visibility'])])),\n",
       "                 ('standardscaler', StandardScaler())]),\n",
       " 'mlpregressor': MLPRegressor(activation='tanh', hidden_layer_sizes=30, max_iter=7500,\n",
       "              random_state=0, solver='lbfgs'),\n",
       " 'pipeline__memory': None,\n",
       " 'pipeline__steps': [('functiontransformer-1',\n",
       "   FunctionTransformer(func=<function col_adder_dropper at 0x000001BE5CC4F438>)),\n",
       "  ('functiontransformer-2',\n",
       "   FunctionTransformer(func=<function col_condition at 0x000001BE5FDA1B88>)),\n",
       "  ('columntransformer',\n",
       "   ColumnTransformer(transformers=[('simpleimputer', SimpleImputer(),\n",
       "                                    ['Month', 'Day', 'Tempmax', 'Tempmin', 'Temp',\n",
       "                                     'Dew', 'Humidity', 'Windspeed', 'Winddir',\n",
       "                                     'Pressure', 'Cloudcover', 'Visibility'])])),\n",
       "  ('standardscaler', StandardScaler())],\n",
       " 'pipeline__verbose': False,\n",
       " 'pipeline__functiontransformer-1': FunctionTransformer(func=<function col_adder_dropper at 0x000001BE5CC4F438>),\n",
       " 'pipeline__functiontransformer-2': FunctionTransformer(func=<function col_condition at 0x000001BE5FDA1B88>),\n",
       " 'pipeline__columntransformer': ColumnTransformer(transformers=[('simpleimputer', SimpleImputer(),\n",
       "                                  ['Month', 'Day', 'Tempmax', 'Tempmin', 'Temp',\n",
       "                                   'Dew', 'Humidity', 'Windspeed', 'Winddir',\n",
       "                                   'Pressure', 'Cloudcover', 'Visibility'])]),\n",
       " 'pipeline__standardscaler': StandardScaler(),\n",
       " 'pipeline__functiontransformer-1__accept_sparse': False,\n",
       " 'pipeline__functiontransformer-1__check_inverse': True,\n",
       " 'pipeline__functiontransformer-1__func': <function __main__.col_adder_dropper(X_df)>,\n",
       " 'pipeline__functiontransformer-1__inv_kw_args': None,\n",
       " 'pipeline__functiontransformer-1__inverse_func': None,\n",
       " 'pipeline__functiontransformer-1__kw_args': None,\n",
       " 'pipeline__functiontransformer-1__validate': False,\n",
       " 'pipeline__functiontransformer-2__accept_sparse': False,\n",
       " 'pipeline__functiontransformer-2__check_inverse': True,\n",
       " 'pipeline__functiontransformer-2__func': <function __main__.col_condition(X_df)>,\n",
       " 'pipeline__functiontransformer-2__inv_kw_args': None,\n",
       " 'pipeline__functiontransformer-2__inverse_func': None,\n",
       " 'pipeline__functiontransformer-2__kw_args': None,\n",
       " 'pipeline__functiontransformer-2__validate': False,\n",
       " 'pipeline__columntransformer__n_jobs': None,\n",
       " 'pipeline__columntransformer__remainder': 'drop',\n",
       " 'pipeline__columntransformer__sparse_threshold': 0.3,\n",
       " 'pipeline__columntransformer__transformer_weights': None,\n",
       " 'pipeline__columntransformer__transformers': [('simpleimputer',\n",
       "   SimpleImputer(),\n",
       "   ['Month',\n",
       "    'Day',\n",
       "    'Tempmax',\n",
       "    'Tempmin',\n",
       "    'Temp',\n",
       "    'Dew',\n",
       "    'Humidity',\n",
       "    'Windspeed',\n",
       "    'Winddir',\n",
       "    'Pressure',\n",
       "    'Cloudcover',\n",
       "    'Visibility'])],\n",
       " 'pipeline__columntransformer__verbose': False,\n",
       " 'pipeline__columntransformer__simpleimputer': SimpleImputer(),\n",
       " 'pipeline__columntransformer__simpleimputer__add_indicator': False,\n",
       " 'pipeline__columntransformer__simpleimputer__copy': True,\n",
       " 'pipeline__columntransformer__simpleimputer__fill_value': None,\n",
       " 'pipeline__columntransformer__simpleimputer__missing_values': nan,\n",
       " 'pipeline__columntransformer__simpleimputer__strategy': 'mean',\n",
       " 'pipeline__columntransformer__simpleimputer__verbose': 0,\n",
       " 'pipeline__standardscaler__copy': True,\n",
       " 'pipeline__standardscaler__with_mean': True,\n",
       " 'pipeline__standardscaler__with_std': True,\n",
       " 'mlpregressor__activation': 'tanh',\n",
       " 'mlpregressor__alpha': 0.0001,\n",
       " 'mlpregressor__batch_size': 'auto',\n",
       " 'mlpregressor__beta_1': 0.9,\n",
       " 'mlpregressor__beta_2': 0.999,\n",
       " 'mlpregressor__early_stopping': False,\n",
       " 'mlpregressor__epsilon': 1e-08,\n",
       " 'mlpregressor__hidden_layer_sizes': 30,\n",
       " 'mlpregressor__learning_rate': 'constant',\n",
       " 'mlpregressor__learning_rate_init': 0.001,\n",
       " 'mlpregressor__max_fun': 15000,\n",
       " 'mlpregressor__max_iter': 7500,\n",
       " 'mlpregressor__momentum': 0.9,\n",
       " 'mlpregressor__n_iter_no_change': 10,\n",
       " 'mlpregressor__nesterovs_momentum': True,\n",
       " 'mlpregressor__power_t': 0.5,\n",
       " 'mlpregressor__random_state': 0,\n",
       " 'mlpregressor__shuffle': True,\n",
       " 'mlpregressor__solver': 'lbfgs',\n",
       " 'mlpregressor__tol': 0.0001,\n",
       " 'mlpregressor__validation_fraction': 0.1,\n",
       " 'mlpregressor__verbose': False,\n",
       " 'mlpregressor__warm_start': False}"
      ]
     },
     "execution_count": 222,
     "metadata": {},
     "output_type": "execute_result"
    }
   ],
   "source": [
    "full_pipeline.get_params()"
   ]
  },
  {
   "cell_type": "markdown",
   "metadata": {},
   "source": [
    "#### Kết quả tốt nhất"
   ]
  },
  {
   "cell_type": "code",
   "execution_count": 247,
   "metadata": {},
   "outputs": [
    {
     "data": {
      "text/plain": [
       "1000"
      ]
     },
     "execution_count": 247,
     "metadata": {},
     "output_type": "execute_result"
    }
   ],
   "source": [
    "best_alpha"
   ]
  },
  {
   "cell_type": "code",
   "execution_count": 248,
   "metadata": {},
   "outputs": [
    {
     "data": {
      "text/plain": [
       "4000"
      ]
     },
     "execution_count": 248,
     "metadata": {},
     "output_type": "execute_result"
    }
   ],
   "source": [
    "best_max_iter"
   ]
  },
  {
   "cell_type": "code",
   "execution_count": 249,
   "metadata": {},
   "outputs": [
    {
     "data": {
      "text/plain": [
       "92.55066329072837"
      ]
     },
     "execution_count": 249,
     "metadata": {},
     "output_type": "execute_result"
    }
   ],
   "source": [
    "best_val_err"
   ]
  },
  {
   "cell_type": "code",
   "execution_count": 250,
   "metadata": {},
   "outputs": [
    {
     "data": {
      "text/plain": [
       "[5.199384217995695,\n",
       " 5.199384217995695,\n",
       " 5.199384217995695,\n",
       " 5.199384217995695,\n",
       " 5.199384217995695,\n",
       " 5.460345042788184,\n",
       " 5.460345042788184,\n",
       " 5.460345042788184,\n",
       " 5.460345042788184,\n",
       " 5.460345042788184,\n",
       " 6.526451970814562,\n",
       " 6.526451970814562,\n",
       " 6.526451970814562,\n",
       " 6.526451970814562,\n",
       " 6.526451970814562,\n",
       " 8.187422373785768,\n",
       " 8.187422373785768,\n",
       " 8.187422373785768,\n",
       " 8.187422373785768,\n",
       " 8.187422373785768,\n",
       " 49.66604308627562,\n",
       " 49.66604308627562,\n",
       " 49.66604308627562,\n",
       " 49.66604308627562,\n",
       " 49.66604308627562,\n",
       " 76.90198103760275,\n",
       " 76.90198103760275,\n",
       " 76.90198103760275,\n",
       " 76.90198103760275,\n",
       " 76.90198103760275]"
      ]
     },
     "execution_count": 250,
     "metadata": {},
     "output_type": "execute_result"
    }
   ],
   "source": [
    "train_errs"
   ]
  },
  {
   "cell_type": "code",
   "execution_count": 251,
   "metadata": {},
   "outputs": [
    {
     "data": {
      "text/plain": [
       "[149.127261501218,\n",
       " 149.127261501218,\n",
       " 149.127261501218,\n",
       " 149.127261501218,\n",
       " 149.127261501218,\n",
       " 167.9083448044429,\n",
       " 167.9083448044429,\n",
       " 167.9083448044429,\n",
       " 167.9083448044429,\n",
       " 167.9083448044429,\n",
       " 163.67412563893222,\n",
       " 163.67412563893222,\n",
       " 163.67412563893222,\n",
       " 163.67412563893222,\n",
       " 163.67412563893222,\n",
       " 125.49917568087736,\n",
       " 125.49917568087736,\n",
       " 125.49917568087736,\n",
       " 125.49917568087736,\n",
       " 125.49917568087736,\n",
       " 97.07524963490053,\n",
       " 97.07524963490053,\n",
       " 97.07524963490053,\n",
       " 97.07524963490053,\n",
       " 97.07524963490053,\n",
       " 92.55066329072837,\n",
       " 92.55066329072837,\n",
       " 92.55066329072837,\n",
       " 92.55066329072837,\n",
       " 92.55066329072837]"
      ]
     },
     "execution_count": 251,
     "metadata": {},
     "output_type": "execute_result"
    }
   ],
   "source": [
    "val_errs"
   ]
  },
  {
   "cell_type": "markdown",
   "metadata": {},
   "source": [
    "#### Huấn luyện lại mô hình với kết quả siêu tham số tốt nhất"
   ]
  },
  {
   "cell_type": "code",
   "execution_count": 254,
   "metadata": {},
   "outputs": [
    {
     "data": {
      "text/html": [
       "<style>div.sk-top-container {color: black;background-color: white;}div.sk-toggleable {background-color: white;}label.sk-toggleable__label {cursor: pointer;display: block;width: 100%;margin-bottom: 0;padding: 0.2em 0.3em;box-sizing: border-box;text-align: center;}div.sk-toggleable__content {max-height: 0;max-width: 0;overflow: hidden;text-align: left;background-color: #f0f8ff;}div.sk-toggleable__content pre {margin: 0.2em;color: black;border-radius: 0.25em;background-color: #f0f8ff;}input.sk-toggleable__control:checked~div.sk-toggleable__content {max-height: 200px;max-width: 100%;overflow: auto;}div.sk-estimator input.sk-toggleable__control:checked~label.sk-toggleable__label {background-color: #d4ebff;}div.sk-label input.sk-toggleable__control:checked~label.sk-toggleable__label {background-color: #d4ebff;}input.sk-hidden--visually {border: 0;clip: rect(1px 1px 1px 1px);clip: rect(1px, 1px, 1px, 1px);height: 1px;margin: -1px;overflow: hidden;padding: 0;position: absolute;width: 1px;}div.sk-estimator {font-family: monospace;background-color: #f0f8ff;margin: 0.25em 0.25em;border: 1px dotted black;border-radius: 0.25em;box-sizing: border-box;}div.sk-estimator:hover {background-color: #d4ebff;}div.sk-parallel-item::after {content: \"\";width: 100%;border-bottom: 1px solid gray;flex-grow: 1;}div.sk-label:hover label.sk-toggleable__label {background-color: #d4ebff;}div.sk-serial::before {content: \"\";position: absolute;border-left: 1px solid gray;box-sizing: border-box;top: 2em;bottom: 0;left: 50%;}div.sk-serial {display: flex;flex-direction: column;align-items: center;background-color: white;}div.sk-item {z-index: 1;}div.sk-parallel {display: flex;align-items: stretch;justify-content: center;background-color: white;}div.sk-parallel-item {display: flex;flex-direction: column;position: relative;background-color: white;}div.sk-parallel-item:first-child::after {align-self: flex-end;width: 50%;}div.sk-parallel-item:last-child::after {align-self: flex-start;width: 50%;}div.sk-parallel-item:only-child::after {width: 0;}div.sk-dashed-wrapped {border: 1px dashed gray;margin: 0.2em;box-sizing: border-box;padding-bottom: 0.1em;background-color: white;position: relative;}div.sk-label label {font-family: monospace;font-weight: bold;background-color: white;display: inline-block;line-height: 1.2em;}div.sk-label-container {position: relative;z-index: 2;text-align: center;}div.sk-container {display: inline-block;position: relative;}</style><div class=\"sk-top-container\"><div class=\"sk-container\"><div class=\"sk-item sk-dashed-wrapped\"><div class=\"sk-label-container\"><div class=\"sk-label sk-toggleable\"><input class=\"sk-toggleable__control sk-hidden--visually\" id=\"125ce95f-293b-4d4c-84aa-8326f0693583\" type=\"checkbox\" ><label class=\"sk-toggleable__label\" for=\"125ce95f-293b-4d4c-84aa-8326f0693583\">Pipeline</label><div class=\"sk-toggleable__content\"><pre>Pipeline(steps=[('pipeline',\n",
       "                 Pipeline(steps=[('functiontransformer-1',\n",
       "                                  FunctionTransformer(func=<function col_adder_dropper at 0x000001BE5CC4F438>)),\n",
       "                                 ('functiontransformer-2',\n",
       "                                  FunctionTransformer(func=<function col_condition_trans at 0x000001BE60311B88>)),\n",
       "                                 ('columntransformer',\n",
       "                                  ColumnTransformer(transformers=[('simpleimputer-1',\n",
       "                                                                   SimpleImputer(),\n",
       "                                                                   ['Month',\n",
       "                                                                    'Day',\n",
       "                                                                    'Tempmax',\n",
       "                                                                    'Tempmin',\n",
       "                                                                    'Temp',\n",
       "                                                                    'Dew',\n",
       "                                                                    'Humidity',\n",
       "                                                                    'Windspeed',\n",
       "                                                                    'Winddir',\n",
       "                                                                    'Pressure',\n",
       "                                                                    'Cloudcover',\n",
       "                                                                    'Visibility']),\n",
       "                                                                  ('simpleimputer-2',\n",
       "                                                                   SimpleImputer(strategy='most_frequent'),\n",
       "                                                                   ['Conditions'])])),\n",
       "                                 ('standardscaler', StandardScaler())])),\n",
       "                ('mlpregressor',\n",
       "                 MLPRegressor(activation='tanh', alpha=1000,\n",
       "                              hidden_layer_sizes=30, max_iter=4000,\n",
       "                              random_state=0, solver='lbfgs'))])</pre></div></div></div><div class=\"sk-serial\"><div class=\"sk-item\"><div class=\"sk-label-container\"><div class=\"sk-label sk-toggleable\"><input class=\"sk-toggleable__control sk-hidden--visually\" id=\"b9b50ade-0f9a-452c-a67f-7df355fbdd4a\" type=\"checkbox\" ><label class=\"sk-toggleable__label\" for=\"b9b50ade-0f9a-452c-a67f-7df355fbdd4a\">pipeline: Pipeline</label><div class=\"sk-toggleable__content\"><pre>Pipeline(steps=[('functiontransformer-1',\n",
       "                 FunctionTransformer(func=<function col_adder_dropper at 0x000001BE5CC4F438>)),\n",
       "                ('functiontransformer-2',\n",
       "                 FunctionTransformer(func=<function col_condition_trans at 0x000001BE60311B88>)),\n",
       "                ('columntransformer',\n",
       "                 ColumnTransformer(transformers=[('simpleimputer-1',\n",
       "                                                  SimpleImputer(),\n",
       "                                                  ['Month', 'Day', 'Tempmax',\n",
       "                                                   'Tempmin', 'Temp', 'Dew',\n",
       "                                                   'Humidity', 'Windspeed',\n",
       "                                                   'Winddir', 'Pressure',\n",
       "                                                   'Cloudcover',\n",
       "                                                   'Visibility']),\n",
       "                                                 ('simpleimputer-2',\n",
       "                                                  SimpleImputer(strategy='most_frequent'),\n",
       "                                                  ['Conditions'])])),\n",
       "                ('standardscaler', StandardScaler())])</pre></div></div></div><div class=\"sk-serial\"><div class=\"sk-item\"><div class=\"sk-estimator sk-toggleable\"><input class=\"sk-toggleable__control sk-hidden--visually\" id=\"998cee8a-cfb7-4bb7-8993-6ad447662782\" type=\"checkbox\" ><label class=\"sk-toggleable__label\" for=\"998cee8a-cfb7-4bb7-8993-6ad447662782\">FunctionTransformer</label><div class=\"sk-toggleable__content\"><pre>FunctionTransformer(func=<function col_adder_dropper at 0x000001BE5CC4F438>)</pre></div></div></div><div class=\"sk-item\"><div class=\"sk-estimator sk-toggleable\"><input class=\"sk-toggleable__control sk-hidden--visually\" id=\"2417998d-964c-4040-adad-caf6d2f421f3\" type=\"checkbox\" ><label class=\"sk-toggleable__label\" for=\"2417998d-964c-4040-adad-caf6d2f421f3\">FunctionTransformer</label><div class=\"sk-toggleable__content\"><pre>FunctionTransformer(func=<function col_condition_trans at 0x000001BE60311B88>)</pre></div></div></div><div class=\"sk-item sk-dashed-wrapped\"><div class=\"sk-label-container\"><div class=\"sk-label sk-toggleable\"><input class=\"sk-toggleable__control sk-hidden--visually\" id=\"0780bbf4-c081-4880-875b-ddb67ecbd1ac\" type=\"checkbox\" ><label class=\"sk-toggleable__label\" for=\"0780bbf4-c081-4880-875b-ddb67ecbd1ac\">columntransformer: ColumnTransformer</label><div class=\"sk-toggleable__content\"><pre>ColumnTransformer(transformers=[('simpleimputer-1', SimpleImputer(),\n",
       "                                 ['Month', 'Day', 'Tempmax', 'Tempmin', 'Temp',\n",
       "                                  'Dew', 'Humidity', 'Windspeed', 'Winddir',\n",
       "                                  'Pressure', 'Cloudcover', 'Visibility']),\n",
       "                                ('simpleimputer-2',\n",
       "                                 SimpleImputer(strategy='most_frequent'),\n",
       "                                 ['Conditions'])])</pre></div></div></div><div class=\"sk-parallel\"><div class=\"sk-parallel-item\"><div class=\"sk-item\"><div class=\"sk-label-container\"><div class=\"sk-label sk-toggleable\"><input class=\"sk-toggleable__control sk-hidden--visually\" id=\"2d4e7032-8479-44bd-bf0e-f771eb96bc53\" type=\"checkbox\" ><label class=\"sk-toggleable__label\" for=\"2d4e7032-8479-44bd-bf0e-f771eb96bc53\">simpleimputer-1</label><div class=\"sk-toggleable__content\"><pre>['Month', 'Day', 'Tempmax', 'Tempmin', 'Temp', 'Dew', 'Humidity', 'Windspeed', 'Winddir', 'Pressure', 'Cloudcover', 'Visibility']</pre></div></div></div><div class=\"sk-serial\"><div class=\"sk-item\"><div class=\"sk-estimator sk-toggleable\"><input class=\"sk-toggleable__control sk-hidden--visually\" id=\"923df87c-e060-4ee0-9933-cd355588a4c7\" type=\"checkbox\" ><label class=\"sk-toggleable__label\" for=\"923df87c-e060-4ee0-9933-cd355588a4c7\">SimpleImputer</label><div class=\"sk-toggleable__content\"><pre>SimpleImputer()</pre></div></div></div></div></div></div><div class=\"sk-parallel-item\"><div class=\"sk-item\"><div class=\"sk-label-container\"><div class=\"sk-label sk-toggleable\"><input class=\"sk-toggleable__control sk-hidden--visually\" id=\"55053692-c739-485f-bdb1-7643b720c5f7\" type=\"checkbox\" ><label class=\"sk-toggleable__label\" for=\"55053692-c739-485f-bdb1-7643b720c5f7\">simpleimputer-2</label><div class=\"sk-toggleable__content\"><pre>['Conditions']</pre></div></div></div><div class=\"sk-serial\"><div class=\"sk-item\"><div class=\"sk-estimator sk-toggleable\"><input class=\"sk-toggleable__control sk-hidden--visually\" id=\"e7e6eaea-5fe0-4822-86ad-3046aa6800b1\" type=\"checkbox\" ><label class=\"sk-toggleable__label\" for=\"e7e6eaea-5fe0-4822-86ad-3046aa6800b1\">SimpleImputer</label><div class=\"sk-toggleable__content\"><pre>SimpleImputer(strategy='most_frequent')</pre></div></div></div></div></div></div></div></div><div class=\"sk-item\"><div class=\"sk-estimator sk-toggleable\"><input class=\"sk-toggleable__control sk-hidden--visually\" id=\"2123aed9-897e-45ed-9ba9-5b9482c36e4a\" type=\"checkbox\" ><label class=\"sk-toggleable__label\" for=\"2123aed9-897e-45ed-9ba9-5b9482c36e4a\">StandardScaler</label><div class=\"sk-toggleable__content\"><pre>StandardScaler()</pre></div></div></div></div></div><div class=\"sk-item\"><div class=\"sk-estimator sk-toggleable\"><input class=\"sk-toggleable__control sk-hidden--visually\" id=\"c4e45c58-c096-4406-8feb-fd8477400d56\" type=\"checkbox\" ><label class=\"sk-toggleable__label\" for=\"c4e45c58-c096-4406-8feb-fd8477400d56\">MLPRegressor</label><div class=\"sk-toggleable__content\"><pre>MLPRegressor(activation='tanh', alpha=1000, hidden_layer_sizes=30,\n",
       "             max_iter=4000, random_state=0, solver='lbfgs')</pre></div></div></div></div></div></div></div>"
      ],
      "text/plain": [
       "Pipeline(steps=[('pipeline',\n",
       "                 Pipeline(steps=[('functiontransformer-1',\n",
       "                                  FunctionTransformer(func=<function col_adder_dropper at 0x000001BE5CC4F438>)),\n",
       "                                 ('functiontransformer-2',\n",
       "                                  FunctionTransformer(func=<function col_condition_trans at 0x000001BE60311B88>)),\n",
       "                                 ('columntransformer',\n",
       "                                  ColumnTransformer(transformers=[('simpleimputer-1',\n",
       "                                                                   SimpleImputer(),\n",
       "                                                                   ['Month',\n",
       "                                                                    'Day',\n",
       "                                                                    'Tempmax',\n",
       "                                                                    'Tempmin',\n",
       "                                                                    'Temp',\n",
       "                                                                    'Dew',\n",
       "                                                                    'Humidity',\n",
       "                                                                    'Windspeed',\n",
       "                                                                    'Winddir',\n",
       "                                                                    'Pressure',\n",
       "                                                                    'Cloudcover',\n",
       "                                                                    'Visibility']),\n",
       "                                                                  ('simpleimputer-2',\n",
       "                                                                   SimpleImputer(strategy='most_frequent'),\n",
       "                                                                   ['Conditions'])])),\n",
       "                                 ('standardscaler', StandardScaler())])),\n",
       "                ('mlpregressor',\n",
       "                 MLPRegressor(activation='tanh', alpha=1000,\n",
       "                              hidden_layer_sizes=30, max_iter=4000,\n",
       "                              random_state=0, solver='lbfgs'))])"
      ]
     },
     "execution_count": 254,
     "metadata": {},
     "output_type": "execute_result"
    }
   ],
   "source": [
    "full_pipeline.set_params(\n",
    "            mlpregressor__alpha=best_alpha,\n",
    "            mlpregressor__max_iter=best_max_iter\n",
    "        )\n",
    "full_pipeline.fit(train_X_df, train_y_sr)"
   ]
  },
  {
   "cell_type": "code",
   "execution_count": 255,
   "metadata": {},
   "outputs": [
    {
     "data": {
      "text/plain": [
       "0.2309801896239725"
      ]
     },
     "execution_count": 255,
     "metadata": {},
     "output_type": "execute_result"
    }
   ],
   "source": [
    "full_pipeline.score(train_X_df, train_y_sr)"
   ]
  },
  {
   "cell_type": "markdown",
   "metadata": {},
   "source": [
    "### Nháp"
   ]
  },
  {
   "cell_type": "code",
   "execution_count": 260,
   "metadata": {},
   "outputs": [],
   "source": [
    "# Tính độ đo r^2 trên tập huấn luyện\n",
    "def compute_mse(y, preds):\n",
    "    return ((y - preds) ** 2).mean()\n",
    "def compute_rr(y, preds, baseline_preds):\n",
    "    return 1 - compute_mse(y, preds) / compute_mse(y, baseline_preds)"
   ]
  },
  {
   "cell_type": "code",
   "execution_count": 273,
   "metadata": {},
   "outputs": [],
   "source": [
    "full_pipeline = make_pipeline(\n",
    "    preprocess_pipeline,\n",
    "    MLPRegressor(hidden_layer_sizes=(30), activation='relu', solver='lbfgs', random_state=0, max_iter=7500)\n",
    ")"
   ]
  },
  {
   "cell_type": "code",
   "execution_count": 274,
   "metadata": {},
   "outputs": [
    {
     "data": {
      "text/html": [
       "<style>div.sk-top-container {color: black;background-color: white;}div.sk-toggleable {background-color: white;}label.sk-toggleable__label {cursor: pointer;display: block;width: 100%;margin-bottom: 0;padding: 0.2em 0.3em;box-sizing: border-box;text-align: center;}div.sk-toggleable__content {max-height: 0;max-width: 0;overflow: hidden;text-align: left;background-color: #f0f8ff;}div.sk-toggleable__content pre {margin: 0.2em;color: black;border-radius: 0.25em;background-color: #f0f8ff;}input.sk-toggleable__control:checked~div.sk-toggleable__content {max-height: 200px;max-width: 100%;overflow: auto;}div.sk-estimator input.sk-toggleable__control:checked~label.sk-toggleable__label {background-color: #d4ebff;}div.sk-label input.sk-toggleable__control:checked~label.sk-toggleable__label {background-color: #d4ebff;}input.sk-hidden--visually {border: 0;clip: rect(1px 1px 1px 1px);clip: rect(1px, 1px, 1px, 1px);height: 1px;margin: -1px;overflow: hidden;padding: 0;position: absolute;width: 1px;}div.sk-estimator {font-family: monospace;background-color: #f0f8ff;margin: 0.25em 0.25em;border: 1px dotted black;border-radius: 0.25em;box-sizing: border-box;}div.sk-estimator:hover {background-color: #d4ebff;}div.sk-parallel-item::after {content: \"\";width: 100%;border-bottom: 1px solid gray;flex-grow: 1;}div.sk-label:hover label.sk-toggleable__label {background-color: #d4ebff;}div.sk-serial::before {content: \"\";position: absolute;border-left: 1px solid gray;box-sizing: border-box;top: 2em;bottom: 0;left: 50%;}div.sk-serial {display: flex;flex-direction: column;align-items: center;background-color: white;}div.sk-item {z-index: 1;}div.sk-parallel {display: flex;align-items: stretch;justify-content: center;background-color: white;}div.sk-parallel-item {display: flex;flex-direction: column;position: relative;background-color: white;}div.sk-parallel-item:first-child::after {align-self: flex-end;width: 50%;}div.sk-parallel-item:last-child::after {align-self: flex-start;width: 50%;}div.sk-parallel-item:only-child::after {width: 0;}div.sk-dashed-wrapped {border: 1px dashed gray;margin: 0.2em;box-sizing: border-box;padding-bottom: 0.1em;background-color: white;position: relative;}div.sk-label label {font-family: monospace;font-weight: bold;background-color: white;display: inline-block;line-height: 1.2em;}div.sk-label-container {position: relative;z-index: 2;text-align: center;}div.sk-container {display: inline-block;position: relative;}</style><div class=\"sk-top-container\"><div class=\"sk-container\"><div class=\"sk-item sk-dashed-wrapped\"><div class=\"sk-label-container\"><div class=\"sk-label sk-toggleable\"><input class=\"sk-toggleable__control sk-hidden--visually\" id=\"e5d03d3a-b977-4abe-aedd-6b62cbfec300\" type=\"checkbox\" ><label class=\"sk-toggleable__label\" for=\"e5d03d3a-b977-4abe-aedd-6b62cbfec300\">Pipeline</label><div class=\"sk-toggleable__content\"><pre>Pipeline(steps=[('pipeline',\n",
       "                 Pipeline(steps=[('functiontransformer-1',\n",
       "                                  FunctionTransformer(func=<function col_adder_dropper at 0x000001BE5CC4F438>)),\n",
       "                                 ('functiontransformer-2',\n",
       "                                  FunctionTransformer(func=<function col_condition_trans at 0x000001BE60311B88>)),\n",
       "                                 ('columntransformer',\n",
       "                                  ColumnTransformer(transformers=[('simpleimputer-1',\n",
       "                                                                   SimpleImputer(),\n",
       "                                                                   ['Month',\n",
       "                                                                    'Day',\n",
       "                                                                    'Tempmax',\n",
       "                                                                    'Tempmin',\n",
       "                                                                    'Temp',\n",
       "                                                                    'Dew',\n",
       "                                                                    'Humidity',\n",
       "                                                                    'Windspeed',\n",
       "                                                                    'Winddir',\n",
       "                                                                    'Pressure',\n",
       "                                                                    'Cloudcover',\n",
       "                                                                    'Visibility']),\n",
       "                                                                  ('simpleimputer-2',\n",
       "                                                                   SimpleImputer(strategy='most_frequent'),\n",
       "                                                                   ['Conditions'])])),\n",
       "                                 ('standardscaler', StandardScaler())])),\n",
       "                ('mlpregressor',\n",
       "                 MLPRegressor(hidden_layer_sizes=30, max_iter=7500,\n",
       "                              random_state=0, solver='lbfgs'))])</pre></div></div></div><div class=\"sk-serial\"><div class=\"sk-item\"><div class=\"sk-label-container\"><div class=\"sk-label sk-toggleable\"><input class=\"sk-toggleable__control sk-hidden--visually\" id=\"0becee0a-b55c-427c-a6c5-41f36dfa05bf\" type=\"checkbox\" ><label class=\"sk-toggleable__label\" for=\"0becee0a-b55c-427c-a6c5-41f36dfa05bf\">pipeline: Pipeline</label><div class=\"sk-toggleable__content\"><pre>Pipeline(steps=[('functiontransformer-1',\n",
       "                 FunctionTransformer(func=<function col_adder_dropper at 0x000001BE5CC4F438>)),\n",
       "                ('functiontransformer-2',\n",
       "                 FunctionTransformer(func=<function col_condition_trans at 0x000001BE60311B88>)),\n",
       "                ('columntransformer',\n",
       "                 ColumnTransformer(transformers=[('simpleimputer-1',\n",
       "                                                  SimpleImputer(),\n",
       "                                                  ['Month', 'Day', 'Tempmax',\n",
       "                                                   'Tempmin', 'Temp', 'Dew',\n",
       "                                                   'Humidity', 'Windspeed',\n",
       "                                                   'Winddir', 'Pressure',\n",
       "                                                   'Cloudcover',\n",
       "                                                   'Visibility']),\n",
       "                                                 ('simpleimputer-2',\n",
       "                                                  SimpleImputer(strategy='most_frequent'),\n",
       "                                                  ['Conditions'])])),\n",
       "                ('standardscaler', StandardScaler())])</pre></div></div></div><div class=\"sk-serial\"><div class=\"sk-item\"><div class=\"sk-estimator sk-toggleable\"><input class=\"sk-toggleable__control sk-hidden--visually\" id=\"a9dd4ee0-1430-4fa8-996f-aea4424eb9ce\" type=\"checkbox\" ><label class=\"sk-toggleable__label\" for=\"a9dd4ee0-1430-4fa8-996f-aea4424eb9ce\">FunctionTransformer</label><div class=\"sk-toggleable__content\"><pre>FunctionTransformer(func=<function col_adder_dropper at 0x000001BE5CC4F438>)</pre></div></div></div><div class=\"sk-item\"><div class=\"sk-estimator sk-toggleable\"><input class=\"sk-toggleable__control sk-hidden--visually\" id=\"37d0eb1b-3e52-4de6-ba99-fe9f4728709a\" type=\"checkbox\" ><label class=\"sk-toggleable__label\" for=\"37d0eb1b-3e52-4de6-ba99-fe9f4728709a\">FunctionTransformer</label><div class=\"sk-toggleable__content\"><pre>FunctionTransformer(func=<function col_condition_trans at 0x000001BE60311B88>)</pre></div></div></div><div class=\"sk-item sk-dashed-wrapped\"><div class=\"sk-label-container\"><div class=\"sk-label sk-toggleable\"><input class=\"sk-toggleable__control sk-hidden--visually\" id=\"c5d7b5bc-acdd-4da5-bf36-19b617677bc4\" type=\"checkbox\" ><label class=\"sk-toggleable__label\" for=\"c5d7b5bc-acdd-4da5-bf36-19b617677bc4\">columntransformer: ColumnTransformer</label><div class=\"sk-toggleable__content\"><pre>ColumnTransformer(transformers=[('simpleimputer-1', SimpleImputer(),\n",
       "                                 ['Month', 'Day', 'Tempmax', 'Tempmin', 'Temp',\n",
       "                                  'Dew', 'Humidity', 'Windspeed', 'Winddir',\n",
       "                                  'Pressure', 'Cloudcover', 'Visibility']),\n",
       "                                ('simpleimputer-2',\n",
       "                                 SimpleImputer(strategy='most_frequent'),\n",
       "                                 ['Conditions'])])</pre></div></div></div><div class=\"sk-parallel\"><div class=\"sk-parallel-item\"><div class=\"sk-item\"><div class=\"sk-label-container\"><div class=\"sk-label sk-toggleable\"><input class=\"sk-toggleable__control sk-hidden--visually\" id=\"b5ed838e-32a5-4c27-a3a9-c5ddbafadc62\" type=\"checkbox\" ><label class=\"sk-toggleable__label\" for=\"b5ed838e-32a5-4c27-a3a9-c5ddbafadc62\">simpleimputer-1</label><div class=\"sk-toggleable__content\"><pre>['Month', 'Day', 'Tempmax', 'Tempmin', 'Temp', 'Dew', 'Humidity', 'Windspeed', 'Winddir', 'Pressure', 'Cloudcover', 'Visibility']</pre></div></div></div><div class=\"sk-serial\"><div class=\"sk-item\"><div class=\"sk-estimator sk-toggleable\"><input class=\"sk-toggleable__control sk-hidden--visually\" id=\"1146b1f8-1c47-4155-a8ac-963404b28fa5\" type=\"checkbox\" ><label class=\"sk-toggleable__label\" for=\"1146b1f8-1c47-4155-a8ac-963404b28fa5\">SimpleImputer</label><div class=\"sk-toggleable__content\"><pre>SimpleImputer()</pre></div></div></div></div></div></div><div class=\"sk-parallel-item\"><div class=\"sk-item\"><div class=\"sk-label-container\"><div class=\"sk-label sk-toggleable\"><input class=\"sk-toggleable__control sk-hidden--visually\" id=\"1211a765-bf71-4e07-9d83-103b4988242a\" type=\"checkbox\" ><label class=\"sk-toggleable__label\" for=\"1211a765-bf71-4e07-9d83-103b4988242a\">simpleimputer-2</label><div class=\"sk-toggleable__content\"><pre>['Conditions']</pre></div></div></div><div class=\"sk-serial\"><div class=\"sk-item\"><div class=\"sk-estimator sk-toggleable\"><input class=\"sk-toggleable__control sk-hidden--visually\" id=\"7a921081-d7ee-4947-8da7-627be0c998de\" type=\"checkbox\" ><label class=\"sk-toggleable__label\" for=\"7a921081-d7ee-4947-8da7-627be0c998de\">SimpleImputer</label><div class=\"sk-toggleable__content\"><pre>SimpleImputer(strategy='most_frequent')</pre></div></div></div></div></div></div></div></div><div class=\"sk-item\"><div class=\"sk-estimator sk-toggleable\"><input class=\"sk-toggleable__control sk-hidden--visually\" id=\"be86a8d3-303a-42f9-ab4b-684bed5c27d0\" type=\"checkbox\" ><label class=\"sk-toggleable__label\" for=\"be86a8d3-303a-42f9-ab4b-684bed5c27d0\">StandardScaler</label><div class=\"sk-toggleable__content\"><pre>StandardScaler()</pre></div></div></div></div></div><div class=\"sk-item\"><div class=\"sk-estimator sk-toggleable\"><input class=\"sk-toggleable__control sk-hidden--visually\" id=\"d418c352-c4eb-4256-bdb9-8b16746965fd\" type=\"checkbox\" ><label class=\"sk-toggleable__label\" for=\"d418c352-c4eb-4256-bdb9-8b16746965fd\">MLPRegressor</label><div class=\"sk-toggleable__content\"><pre>MLPRegressor(hidden_layer_sizes=30, max_iter=7500, random_state=0,\n",
       "             solver='lbfgs')</pre></div></div></div></div></div></div></div>"
      ],
      "text/plain": [
       "Pipeline(steps=[('pipeline',\n",
       "                 Pipeline(steps=[('functiontransformer-1',\n",
       "                                  FunctionTransformer(func=<function col_adder_dropper at 0x000001BE5CC4F438>)),\n",
       "                                 ('functiontransformer-2',\n",
       "                                  FunctionTransformer(func=<function col_condition_trans at 0x000001BE60311B88>)),\n",
       "                                 ('columntransformer',\n",
       "                                  ColumnTransformer(transformers=[('simpleimputer-1',\n",
       "                                                                   SimpleImputer(),\n",
       "                                                                   ['Month',\n",
       "                                                                    'Day',\n",
       "                                                                    'Tempmax',\n",
       "                                                                    'Tempmin',\n",
       "                                                                    'Temp',\n",
       "                                                                    'Dew',\n",
       "                                                                    'Humidity',\n",
       "                                                                    'Windspeed',\n",
       "                                                                    'Winddir',\n",
       "                                                                    'Pressure',\n",
       "                                                                    'Cloudcover',\n",
       "                                                                    'Visibility']),\n",
       "                                                                  ('simpleimputer-2',\n",
       "                                                                   SimpleImputer(strategy='most_frequent'),\n",
       "                                                                   ['Conditions'])])),\n",
       "                                 ('standardscaler', StandardScaler())])),\n",
       "                ('mlpregressor',\n",
       "                 MLPRegressor(hidden_layer_sizes=30, max_iter=7500,\n",
       "                              random_state=0, solver='lbfgs'))])"
      ]
     },
     "execution_count": 274,
     "metadata": {},
     "output_type": "execute_result"
    }
   ],
   "source": [
    "full_pipeline.fit(train_X_df, train_y_sr)"
   ]
  },
  {
   "cell_type": "markdown",
   "metadata": {},
   "source": [
    "Độ chính xác trên tập huấn luyện"
   ]
  },
  {
   "cell_type": "code",
   "execution_count": 275,
   "metadata": {},
   "outputs": [
    {
     "data": {
      "text/plain": [
       "0.942238566562785"
      ]
     },
     "execution_count": 275,
     "metadata": {},
     "output_type": "execute_result"
    }
   ],
   "source": [
    "compute_rr(train_y_sr, full_pipeline.predict(train_X_df), train_y_sr.mean())"
   ]
  },
  {
   "cell_type": "code",
   "execution_count": 276,
   "metadata": {},
   "outputs": [
    {
     "data": {
      "text/plain": [
       "0.9422385665627846"
      ]
     },
     "execution_count": 276,
     "metadata": {},
     "output_type": "execute_result"
    }
   ],
   "source": [
    "full_pipeline.score(train_X_df, train_y_sr)"
   ]
  },
  {
   "cell_type": "markdown",
   "metadata": {},
   "source": [
    "Độ chính xác trên tập validation"
   ]
  },
  {
   "cell_type": "code",
   "execution_count": 277,
   "metadata": {},
   "outputs": [
    {
     "data": {
      "text/plain": [
       "-0.47328470840232084"
      ]
     },
     "execution_count": 277,
     "metadata": {},
     "output_type": "execute_result"
    }
   ],
   "source": [
    "compute_rr(val_y_sr, full_pipeline.predict(val_X_df), train_y_sr.mean())"
   ]
  },
  {
   "cell_type": "code",
   "execution_count": 278,
   "metadata": {},
   "outputs": [
    {
     "data": {
      "text/plain": [
       "-0.4734360465984979"
      ]
     },
     "execution_count": 278,
     "metadata": {},
     "output_type": "execute_result"
    }
   ],
   "source": [
    "full_pipeline.score(val_X_df, val_y_sr)"
   ]
  },
  {
   "cell_type": "code",
   "execution_count": 199,
   "metadata": {},
   "outputs": [
    {
     "data": {
      "text/plain": [
       "0.9449171850558643"
      ]
     },
     "execution_count": 199,
     "metadata": {},
     "output_type": "execute_result"
    }
   ],
   "source": [
    "full_pipeline.score(train_X_df, train_y_sr)"
   ]
  },
  {
   "cell_type": "code",
   "execution_count": 209,
   "metadata": {},
   "outputs": [
    {
     "data": {
      "text/plain": [
       "0.9448176494980373"
      ]
     },
     "execution_count": 209,
     "metadata": {},
     "output_type": "execute_result"
    }
   ],
   "source": [
    "full_pipeline.score(train_X_df, train_y_sr)"
   ]
  }
 ],
 "metadata": {
  "kernelspec": {
   "display_name": "Python 3",
   "language": "python",
   "name": "python3"
  },
  "language_info": {
   "codemirror_mode": {
    "name": "ipython",
    "version": 3
   },
   "file_extension": ".py",
   "mimetype": "text/x-python",
   "name": "python",
   "nbconvert_exporter": "python",
   "pygments_lexer": "ipython3",
   "version": "3.7.6"
  }
 },
 "nbformat": 4,
 "nbformat_minor": 4
}
