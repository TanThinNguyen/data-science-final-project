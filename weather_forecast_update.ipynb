{
 "cells": [
  {
   "cell_type": "markdown",
   "metadata": {},
   "source": [
    "## Đồ Án Cuối Kì Nhập Môn Khoa Học Dữ Liệu"
   ]
  },
  {
   "cell_type": "markdown",
   "metadata": {},
   "source": [
    "### Đề tài: Dự báo lượng mưa từ những thông số thời tiết khác như nhiệt độ, độ ẩm, áp suất không khí, ..."
   ]
  },
  {
   "cell_type": "markdown",
   "metadata": {},
   "source": [
    "Thông tin nhóm\n",
    "1. Nguyễn Văn Hậu - 18120359\n",
    "2. Nguyễn Tấn Thìn - 18120085"
   ]
  },
  {
   "cell_type": "markdown",
   "metadata": {},
   "source": [
    "## 1. Thu thập data"
   ]
  },
  {
   "cell_type": "markdown",
   "metadata": {},
   "source": [
    "#### Tổng quan về Visual Crossing Timeline Weather API\n",
    "- Website: `https://www.visualcrossing.com/weather-api`\n",
    "- Documents: `https://www.visualcrossing.com/resources/documentation/weather-api/weather-api-documentation/#timeline`\n",
    "- API cung cấp thông tin về thời tiết trong quá khứ, giữa 2 khoảng thời gian cho trước tại một địa điểm xác định và có thể có thêm thông tin dự báo thời tiết (nhưng ta sẽ không lấy thông tin này)\n",
    "- Cần tạo một tài khoản để được cung cấp API key\n",
    "- Mỗi API key miễn phí bị giới hạn chỉ được thu thập tối đa 1000 kết quả trả về trong một ngày"
   ]
  },
  {
   "cell_type": "markdown",
   "metadata": {},
   "source": [
    "#### Cú pháp API\n",
    "`https://weather.visualcrossing.com/VisualCrossingWebServices/rest/services/timeline/[location]/[date1]/[date2]?key=YOUR_API_KEY`\n",
    "với:\n",
    "- `location` là địa điểm cần lấy thông tin thời tiết\n",
    "- `date1` là thời gian bắt đầu\n",
    "- `date2` là thời gian kết thúc\n",
    "- `YOUR_API_KEY` là api key cung cấp cho mỗi tài khoản đăng kí"
   ]
  },
  {
   "cell_type": "markdown",
   "metadata": {},
   "source": [
    "#### Cách thu thập data\n",
    "- Chúng ta tiến hành thu thập dữ liệu thời tiết trong quá khứ theo từng ngày trong thời gian từ năm 2017 đến năm 2020, cụ thể là từ **1/1/2017** đến **31/12/2020**\n",
    "- Vì giới hạn mỗi API key chỉ được thu thập **tối đa 1000** kết quả một ngày nên ta sẽ dùng 2 API key, mỗi API key tương ứng thu thập dữ liệu năm 2017-2018 và năm 2019-2020"
   ]
  },
  {
   "cell_type": "markdown",
   "metadata": {},
   "source": [
    "### Import"
   ]
  },
  {
   "cell_type": "code",
   "execution_count": 1,
   "metadata": {},
   "outputs": [],
   "source": [
    "%matplotlib inline\n",
    "import requests\n",
    "import json\n",
    "import datetime as dt\n",
    "\n",
    "import numpy as np\n",
    "import pandas as pd\n",
    "import matplotlib.pyplot as plt\n",
    "import seaborn as sns\n",
    "\n",
    "from sklearn.model_selection import train_test_split\n",
    "from sklearn.preprocessing import OneHotEncoder, StandardScaler\n",
    "from sklearn.impute import SimpleImputer\n",
    "from sklearn.base import BaseEstimator, TransformerMixin\n",
    "from sklearn.pipeline import Pipeline, make_pipeline\n",
    "from sklearn.compose import ColumnTransformer, make_column_transformer\n",
    "from sklearn.preprocessing import FunctionTransformer\n",
    "from sklearn.neural_network import MLPClassifier\n",
    "from sklearn.neural_network import MLPRegressor\n",
    "from sklearn import set_config\n",
    "set_config(display='diagram') # Để trực quan hóa pipeline"
   ]
  },
  {
   "cell_type": "markdown",
   "metadata": {},
   "source": [
    "### Chuẩn bị các hàm cần thiết"
   ]
  },
  {
   "cell_type": "markdown",
   "metadata": {},
   "source": [
    "Hàm thu thập data giữa 2 ngày"
   ]
  },
  {
   "cell_type": "markdown",
   "metadata": {},
   "source": [
    "def collect_data(start_date, end_date, api_key):\n",
    "    url = f'https://weather.visualcrossing.com/VisualCrossingWebServices/rest/services/timeline/Ho%20Chi%20Minh/{start_date}/{end_date}?unitGroup=metric&key={api_key}&include=obs'\n",
    "    weather_data = []\n",
    "    success = False\n",
    "    while success == False:\n",
    "        print(f\"GET: {url}\")\n",
    "        r = requests.get(url)\n",
    "        if r.ok == True:\n",
    "            # lấy kết quả json\n",
    "            pydata = json.loads(r.text)\n",
    "            weather_data.extend(pydata[\"days\"])\n",
    "            print(\"Successful! Remaining cost:\", pydata['remainingCost'])\n",
    "            print()\n",
    "\n",
    "            success = True\n",
    "        else:\n",
    "            print(\"Fail! Try again. Remaining cost:\", pydata['remainingCost'])\n",
    "            time.sleep(5)\n",
    "        \n",
    "    return weather_data"
   ]
  },
  {
   "cell_type": "markdown",
   "metadata": {},
   "source": [
    "Hàm thu thập toàn bộ data"
   ]
  },
  {
   "cell_type": "markdown",
   "metadata": {},
   "source": [
    "def collect_all_data(start_year, end_year, api_key):\n",
    "    years = list(range(start_year, end_year + 1))\n",
    "    print('List years:', years)\n",
    "    month_days = [\n",
    "        ((1, 1), (3, 31)), \n",
    "        ((4, 1), (6, 30)),\n",
    "        ((7, 1), (9, 30)),\n",
    "        ((10, 1), (12, 31))\n",
    "    ]\n",
    "    all_weather_data = []\n",
    "    \n",
    "    for year in years:\n",
    "        for month_day in month_days:\n",
    "            start_date = f'{year}-{month_day[0][0]}-{month_day[0][1]}'\n",
    "            end_date = f'{year}-{month_day[1][0]}-{month_day[1][1]}'\n",
    "            print(f'({start_date} -> {end_date})', end='\\n')\n",
    "#             print(url)\n",
    "            weather_data = collect_data(start_date, end_date, api_key)\n",
    "            all_weather_data.extend(weather_data)\n",
    "        print()\n",
    "        \n",
    "    return all_weather_data"
   ]
  },
  {
   "cell_type": "markdown",
   "metadata": {},
   "source": [
    "### Tiến hành thu thập data"
   ]
  },
  {
   "cell_type": "markdown",
   "metadata": {},
   "source": [
    "api_key1 = 'A29UZSNHSG8P8EPR6A4CM2UC6'\n",
    "api_key2 = 'YXRHHRS6QX82D58S867TW6YBF'\n",
    "all_weather_data = []\n",
    "\n",
    "# Thu thập lần 1\n",
    "start_year = 2017\n",
    "end_year = 2018\n",
    "weather_data = collect_all_data(start_year, end_year, api_key1)\n",
    "all_weather_data.extend(weather_data)\n",
    "\n",
    "# Thu thập lần 2\n",
    "start_year = 2019\n",
    "end_year = 2020\n",
    "weather_data = collect_all_data(start_year, end_year, api_key2)\n",
    "all_weather_data.extend(weather_data)\n",
    "\n",
    "print('Number of data:', len(all_weather_data))"
   ]
  },
  {
   "cell_type": "markdown",
   "metadata": {},
   "source": [
    "### Lưu data xuống file csv"
   ]
  },
  {
   "cell_type": "markdown",
   "metadata": {},
   "source": [
    "Tạo dataframe và lưu dữ liệu xuống file `historical_weather_data.csv`"
   ]
  },
  {
   "cell_type": "markdown",
   "metadata": {},
   "source": [
    "data_df = pd.DataFrame(all_weather_data)\n",
    "data_df.rename(lambda name: name[0].upper() + name[1:], axis='columns', inplace=True)\n",
    "data_df.to_csv('historical_weather_data.csv', index=False)\n",
    "data_df.head()"
   ]
  },
  {
   "cell_type": "markdown",
   "metadata": {},
   "source": [
    "## 2. Khám phá dữ liệu (để đưa ra câu hỏi)"
   ]
  },
  {
   "cell_type": "markdown",
   "metadata": {},
   "source": [
    "Dữ liệu thời tiết thu thập được ở bước trước là dữ liệu tại vị trí quận 1 của Thành phố Hồ Chí Minh.  "
   ]
  },
  {
   "cell_type": "markdown",
   "metadata": {},
   "source": [
    "Load dữ liệu từ file `historical_weather_data.csv`"
   ]
  },
  {
   "cell_type": "code",
   "execution_count": 2,
   "metadata": {},
   "outputs": [
    {
     "data": {
      "text/html": [
       "<div>\n",
       "<style scoped>\n",
       "    .dataframe tbody tr th:only-of-type {\n",
       "        vertical-align: middle;\n",
       "    }\n",
       "\n",
       "    .dataframe tbody tr th {\n",
       "        vertical-align: top;\n",
       "    }\n",
       "\n",
       "    .dataframe thead th {\n",
       "        text-align: right;\n",
       "    }\n",
       "</style>\n",
       "<table border=\"1\" class=\"dataframe\">\n",
       "  <thead>\n",
       "    <tr style=\"text-align: right;\">\n",
       "      <th></th>\n",
       "      <th>Datetime</th>\n",
       "      <th>DatetimeEpoch</th>\n",
       "      <th>Tempmax</th>\n",
       "      <th>Tempmin</th>\n",
       "      <th>Temp</th>\n",
       "      <th>Feelslikemax</th>\n",
       "      <th>Feelslikemin</th>\n",
       "      <th>Feelslike</th>\n",
       "      <th>Dew</th>\n",
       "      <th>Humidity</th>\n",
       "      <th>...</th>\n",
       "      <th>Solarenergy</th>\n",
       "      <th>Sunrise</th>\n",
       "      <th>SunriseEpoch</th>\n",
       "      <th>Sunset</th>\n",
       "      <th>SunsetEpoch</th>\n",
       "      <th>Moonphase</th>\n",
       "      <th>Conditions</th>\n",
       "      <th>Icon</th>\n",
       "      <th>Stations</th>\n",
       "      <th>Source</th>\n",
       "    </tr>\n",
       "  </thead>\n",
       "  <tbody>\n",
       "    <tr>\n",
       "      <th>0</th>\n",
       "      <td>2017-01-01</td>\n",
       "      <td>1483203600</td>\n",
       "      <td>34.0</td>\n",
       "      <td>23.0</td>\n",
       "      <td>27.9</td>\n",
       "      <td>35.7</td>\n",
       "      <td>23.0</td>\n",
       "      <td>29.4</td>\n",
       "      <td>22.2</td>\n",
       "      <td>74.98</td>\n",
       "      <td>...</td>\n",
       "      <td>NaN</td>\n",
       "      <td>06:11:33</td>\n",
       "      <td>1483225893</td>\n",
       "      <td>17:41:54</td>\n",
       "      <td>1483267314</td>\n",
       "      <td>0.05</td>\n",
       "      <td>Rain, Partially cloudy</td>\n",
       "      <td>cloudy</td>\n",
       "      <td>['48894099999', '48900099999', 'VVTS']</td>\n",
       "      <td>obs</td>\n",
       "    </tr>\n",
       "    <tr>\n",
       "      <th>1</th>\n",
       "      <td>2017-01-02</td>\n",
       "      <td>1483290000</td>\n",
       "      <td>33.0</td>\n",
       "      <td>23.0</td>\n",
       "      <td>28.4</td>\n",
       "      <td>36.1</td>\n",
       "      <td>23.0</td>\n",
       "      <td>30.1</td>\n",
       "      <td>21.3</td>\n",
       "      <td>67.16</td>\n",
       "      <td>...</td>\n",
       "      <td>NaN</td>\n",
       "      <td>06:11:57</td>\n",
       "      <td>1483312317</td>\n",
       "      <td>17:42:27</td>\n",
       "      <td>1483353747</td>\n",
       "      <td>0.09</td>\n",
       "      <td>Partially cloudy</td>\n",
       "      <td>partly-cloudy-day</td>\n",
       "      <td>['48894099999', '48900099999', 'VVTS']</td>\n",
       "      <td>obs</td>\n",
       "    </tr>\n",
       "    <tr>\n",
       "      <th>2</th>\n",
       "      <td>2017-01-03</td>\n",
       "      <td>1483376400</td>\n",
       "      <td>33.8</td>\n",
       "      <td>24.1</td>\n",
       "      <td>28.2</td>\n",
       "      <td>35.7</td>\n",
       "      <td>24.1</td>\n",
       "      <td>29.8</td>\n",
       "      <td>21.7</td>\n",
       "      <td>69.77</td>\n",
       "      <td>...</td>\n",
       "      <td>NaN</td>\n",
       "      <td>06:12:20</td>\n",
       "      <td>1483398740</td>\n",
       "      <td>17:43:00</td>\n",
       "      <td>1483440180</td>\n",
       "      <td>0.13</td>\n",
       "      <td>Partially cloudy</td>\n",
       "      <td>partly-cloudy-day</td>\n",
       "      <td>['48894099999', '48900099999', 'VVTS']</td>\n",
       "      <td>obs</td>\n",
       "    </tr>\n",
       "    <tr>\n",
       "      <th>3</th>\n",
       "      <td>2017-01-04</td>\n",
       "      <td>1483462800</td>\n",
       "      <td>32.8</td>\n",
       "      <td>24.0</td>\n",
       "      <td>27.8</td>\n",
       "      <td>35.2</td>\n",
       "      <td>24.0</td>\n",
       "      <td>29.5</td>\n",
       "      <td>21.6</td>\n",
       "      <td>70.70</td>\n",
       "      <td>...</td>\n",
       "      <td>NaN</td>\n",
       "      <td>06:12:42</td>\n",
       "      <td>1483485162</td>\n",
       "      <td>17:43:33</td>\n",
       "      <td>1483526613</td>\n",
       "      <td>0.18</td>\n",
       "      <td>Partially cloudy</td>\n",
       "      <td>partly-cloudy-day</td>\n",
       "      <td>['48894099999', '48900099999', 'VVTS']</td>\n",
       "      <td>obs</td>\n",
       "    </tr>\n",
       "    <tr>\n",
       "      <th>4</th>\n",
       "      <td>2017-01-05</td>\n",
       "      <td>1483549200</td>\n",
       "      <td>32.0</td>\n",
       "      <td>25.0</td>\n",
       "      <td>28.5</td>\n",
       "      <td>34.9</td>\n",
       "      <td>25.0</td>\n",
       "      <td>30.4</td>\n",
       "      <td>22.3</td>\n",
       "      <td>71.11</td>\n",
       "      <td>...</td>\n",
       "      <td>NaN</td>\n",
       "      <td>06:13:03</td>\n",
       "      <td>1483571583</td>\n",
       "      <td>17:44:05</td>\n",
       "      <td>1483613045</td>\n",
       "      <td>0.23</td>\n",
       "      <td>Partially cloudy</td>\n",
       "      <td>partly-cloudy-day</td>\n",
       "      <td>['48894099999', '48900099999', 'VVTS']</td>\n",
       "      <td>obs</td>\n",
       "    </tr>\n",
       "  </tbody>\n",
       "</table>\n",
       "<p>5 rows × 32 columns</p>\n",
       "</div>"
      ],
      "text/plain": [
       "     Datetime  DatetimeEpoch  Tempmax  Tempmin  Temp  Feelslikemax  \\\n",
       "0  2017-01-01     1483203600     34.0     23.0  27.9          35.7   \n",
       "1  2017-01-02     1483290000     33.0     23.0  28.4          36.1   \n",
       "2  2017-01-03     1483376400     33.8     24.1  28.2          35.7   \n",
       "3  2017-01-04     1483462800     32.8     24.0  27.8          35.2   \n",
       "4  2017-01-05     1483549200     32.0     25.0  28.5          34.9   \n",
       "\n",
       "   Feelslikemin  Feelslike   Dew  Humidity  ...  Solarenergy   Sunrise  \\\n",
       "0          23.0       29.4  22.2     74.98  ...          NaN  06:11:33   \n",
       "1          23.0       30.1  21.3     67.16  ...          NaN  06:11:57   \n",
       "2          24.1       29.8  21.7     69.77  ...          NaN  06:12:20   \n",
       "3          24.0       29.5  21.6     70.70  ...          NaN  06:12:42   \n",
       "4          25.0       30.4  22.3     71.11  ...          NaN  06:13:03   \n",
       "\n",
       "   SunriseEpoch    Sunset  SunsetEpoch  Moonphase              Conditions  \\\n",
       "0    1483225893  17:41:54   1483267314       0.05  Rain, Partially cloudy   \n",
       "1    1483312317  17:42:27   1483353747       0.09        Partially cloudy   \n",
       "2    1483398740  17:43:00   1483440180       0.13        Partially cloudy   \n",
       "3    1483485162  17:43:33   1483526613       0.18        Partially cloudy   \n",
       "4    1483571583  17:44:05   1483613045       0.23        Partially cloudy   \n",
       "\n",
       "                Icon                                Stations  Source  \n",
       "0             cloudy  ['48894099999', '48900099999', 'VVTS']     obs  \n",
       "1  partly-cloudy-day  ['48894099999', '48900099999', 'VVTS']     obs  \n",
       "2  partly-cloudy-day  ['48894099999', '48900099999', 'VVTS']     obs  \n",
       "3  partly-cloudy-day  ['48894099999', '48900099999', 'VVTS']     obs  \n",
       "4  partly-cloudy-day  ['48894099999', '48900099999', 'VVTS']     obs  \n",
       "\n",
       "[5 rows x 32 columns]"
      ]
     },
     "execution_count": 2,
     "metadata": {},
     "output_type": "execute_result"
    }
   ],
   "source": [
    "data_df = pd.read_csv('historical_weather_data.csv')\n",
    "data_df.head()"
   ]
  },
  {
   "cell_type": "markdown",
   "metadata": {},
   "source": [
    "### Số dòng và số cột của dữ liệu"
   ]
  },
  {
   "cell_type": "code",
   "execution_count": 3,
   "metadata": {},
   "outputs": [
    {
     "data": {
      "text/plain": [
       "(1461, 32)"
      ]
     },
     "execution_count": 3,
     "metadata": {},
     "output_type": "execute_result"
    }
   ],
   "source": [
    "data_df.shape"
   ]
  },
  {
   "cell_type": "markdown",
   "metadata": {},
   "source": [
    "### Ý nghĩa của mỗi dòng"
   ]
  },
  {
   "cell_type": "markdown",
   "metadata": {},
   "source": [
    "Mỗi dòng là thông tin thời tiết ghi nhận được của một ngày trong năm"
   ]
  },
  {
   "cell_type": "markdown",
   "metadata": {},
   "source": [
    "### Ý nghĩa của mỗi cột"
   ]
  },
  {
   "cell_type": "markdown",
   "metadata": {},
   "source": [
    "Dữ liệu có rất nhiều cột nhưng chúng ta chỉ quan tâm một số cột quan trọng:\n",
    "- `Datetime`: ngày ghi nhận thông tin (yyyy-m-d)\n",
    "- `Tempmax`: nhiệt độ cao nhất trong ngày (Celsius)\n",
    "- `Tempmin`: nhiệt độ thấp nhất trong ngày (Celsius)\n",
    "- `Temp`: nhiệt độ trung bình trong ngày (Celsius)\n",
    "- `Dew`: điểm sương, là nhiệt độ mà tại đó hơi nước trong khối không khí ngưng đọng thành nước lỏng, độ ẩm tương đối của khối không khí đạt 100% (Celsius)\n",
    "- `Humidity`: độ ẩm tương đối (%)\n",
    "- `Precip`: lượng mưa (mm)\n",
    "- `Precipcover`: tỉ lệ thời gian mưa trong ngày (%)\n",
    "- `Windgust`: tốc độ cơn gió mạnh (tốc độ tối đa của gió thổi trong khoảng thời gian ngắn và phải trên một mức nào đó mới được ghi nhận) (kph)\n",
    "- `Windspeed`: tốc độ gió trung bình (kph)\n",
    "- `Winddir`: hướng gió đo so với hướng Bắc (degrees)\n",
    "- `Pressure`: áp suất không khí (millibars)\n",
    "- `Cloudcover`: tỉ lệ mây bao phủ bầu trời (%)\n",
    "- `Visibility`: tầm nhìn xa ban ngày (km)\n",
    "- `Conditions`: hiện tượng thời tiết ghi nhận được như sấm sét, mưa, ..."
   ]
  },
  {
   "cell_type": "markdown",
   "metadata": {},
   "source": [
    "Chi tiết cụ thể hơn về thông tin các cột có tại `https://www.visualcrossing.com/resources/documentation/weather-data/weather-data-documentation/`"
   ]
  },
  {
   "cell_type": "markdown",
   "metadata": {},
   "source": [
    "### Kiểm tra các dòng có bị lặp không"
   ]
  },
  {
   "cell_type": "code",
   "execution_count": 4,
   "metadata": {},
   "outputs": [
    {
     "data": {
      "text/plain": [
       "0"
      ]
     },
     "execution_count": 4,
     "metadata": {},
     "output_type": "execute_result"
    }
   ],
   "source": [
    "data_df.index.duplicated().sum()"
   ]
  },
  {
   "cell_type": "markdown",
   "metadata": {},
   "source": [
    "### Đặt câu hỏi"
   ]
  },
  {
   "cell_type": "markdown",
   "metadata": {},
   "source": [
    "**Câu hỏi:** *Output* - độ ẩm tương đối (Humidity) được tính từ *input* - các thông số khác (nhiệt độ, điểm sương, tốc độ gió, áp suất, ...) như thế nào?  \n",
    "  \n",
    "**Ý nghĩa:** Khi độ ẩm tương đối quá cao (> 90%) thì con người sẽ tăng nguy cơ mắc các bệnh khớp, ho, hen suyễn hay đau đầu, ngoài ra độ ẩm tương đối quá cao cũng là điều kiện cho các loại vi khuẩn và nấm mốc phát triển. Ngược lại, khi độ ẩm tương đối quá thấp (< 30%), con người dễ bị các triệu chứng như chảy máu cam hay bị virus cảm lạnh rhinovirus xâm nhập. Do đó, dự đoán được độ ẩm tương đối sẽ hữu ích trong việc quyết định có sử dụng máy điều khiển độ ẩm để tăng giảm độ ẩm hay không. "
   ]
  },
  {
   "cell_type": "markdown",
   "metadata": {},
   "source": [
    "## 3. Tách tập, tiền xử lí và khám phá dữ liệu"
   ]
  },
  {
   "cell_type": "markdown",
   "metadata": {},
   "source": [
    "### Khám phá dữ liệu cột output (để tách tập)"
   ]
  },
  {
   "cell_type": "markdown",
   "metadata": {},
   "source": [
    "Kiểu dữ liệu của cột output"
   ]
  },
  {
   "cell_type": "code",
   "execution_count": 5,
   "metadata": {},
   "outputs": [
    {
     "data": {
      "text/plain": [
       "dtype('float64')"
      ]
     },
     "execution_count": 5,
     "metadata": {},
     "output_type": "execute_result"
    }
   ],
   "source": [
    "data_df['Humidity'].dtype"
   ]
  },
  {
   "cell_type": "markdown",
   "metadata": {},
   "source": [
    "Kiếm tra cột output có giá trị thiếu không"
   ]
  },
  {
   "cell_type": "code",
   "execution_count": 6,
   "metadata": {},
   "outputs": [
    {
     "data": {
      "text/plain": [
       "0"
      ]
     },
     "execution_count": 6,
     "metadata": {},
     "output_type": "execute_result"
    }
   ],
   "source": [
    "data_df['Humidity'].isna().sum()"
   ]
  },
  {
   "cell_type": "markdown",
   "metadata": {},
   "source": [
    "Phân bố của cột output"
   ]
  },
  {
   "cell_type": "code",
   "execution_count": 7,
   "metadata": {},
   "outputs": [
    {
     "data": {
      "text/plain": [
       "count    1461.000000\n",
       "mean       77.909014\n",
       "std         9.372152\n",
       "min        50.170000\n",
       "25%        71.540000\n",
       "50%        78.990000\n",
       "75%        85.070000\n",
       "max        98.190000\n",
       "Name: Humidity, dtype: float64"
      ]
     },
     "execution_count": 7,
     "metadata": {},
     "output_type": "execute_result"
    }
   ],
   "source": [
    "data_df['Humidity'].describe()"
   ]
  },
  {
   "cell_type": "markdown",
   "metadata": {},
   "source": [
    "Nhận xét: Giá trị ở cột output dao động từ 50% đến 98%, tức là tại TP HCM trong vài năm qua không có tình trạng độ ẩm xuống quá thấp nhưng đôi lúc xảy ra tình trạng độ ẩm tăng cao (> 90%). "
   ]
  },
  {
   "cell_type": "code",
   "execution_count": 8,
   "metadata": {},
   "outputs": [
    {
     "data": {
      "text/plain": [
       "112"
      ]
     },
     "execution_count": 8,
     "metadata": {},
     "output_type": "execute_result"
    }
   ],
   "source": [
    "(data_df['Humidity'] > 90).sum()"
   ]
  },
  {
   "cell_type": "markdown",
   "metadata": {},
   "source": [
    "### Tiền xử lí (tách các tập)"
   ]
  },
  {
   "cell_type": "markdown",
   "metadata": {},
   "source": [
    "Tiến hành tách tập data thu được thành 3 tập huấn luyện, validation và tập kiểm tra"
   ]
  },
  {
   "cell_type": "code",
   "execution_count": 9,
   "metadata": {},
   "outputs": [],
   "source": [
    "# Tách X và y\n",
    "y_sr = data_df[\"Humidity\"]\n",
    "X_df = data_df.drop(\"Humidity\", axis = 1)"
   ]
  },
  {
   "cell_type": "code",
   "execution_count": 10,
   "metadata": {},
   "outputs": [],
   "source": [
    "# Tách tập kiểm tra với tỉ lệ 30%\n",
    "train_valid_X_df, test_X_df, train_valid_y_sr, test_y_sr = train_test_split(X_df, y_sr, test_size = 0.3, random_state = 0)"
   ]
  },
  {
   "cell_type": "code",
   "execution_count": 11,
   "metadata": {},
   "outputs": [],
   "source": [
    "# Tách tập validation từ tập còn lại với tỉ lệ 30%\n",
    "train_X_df, val_X_df, train_y_sr, val_y_sr = train_test_split(train_valid_X_df, train_valid_y_sr, test_size = 0.3, \n",
    "                                                              random_state = 0)"
   ]
  },
  {
   "cell_type": "markdown",
   "metadata": {},
   "source": [
    "Tập kiểm tra"
   ]
  },
  {
   "cell_type": "code",
   "execution_count": 12,
   "metadata": {},
   "outputs": [
    {
     "data": {
      "text/plain": [
       "(439, 31)"
      ]
     },
     "execution_count": 12,
     "metadata": {},
     "output_type": "execute_result"
    }
   ],
   "source": [
    "test_X_df.shape"
   ]
  },
  {
   "cell_type": "code",
   "execution_count": 13,
   "metadata": {},
   "outputs": [
    {
     "data": {
      "text/plain": [
       "(439,)"
      ]
     },
     "execution_count": 13,
     "metadata": {},
     "output_type": "execute_result"
    }
   ],
   "source": [
    "test_y_sr.shape"
   ]
  },
  {
   "cell_type": "markdown",
   "metadata": {},
   "source": [
    "Tập validation"
   ]
  },
  {
   "cell_type": "code",
   "execution_count": 14,
   "metadata": {},
   "outputs": [
    {
     "data": {
      "text/plain": [
       "(307, 31)"
      ]
     },
     "execution_count": 14,
     "metadata": {},
     "output_type": "execute_result"
    }
   ],
   "source": [
    "val_X_df.shape"
   ]
  },
  {
   "cell_type": "code",
   "execution_count": 15,
   "metadata": {},
   "outputs": [
    {
     "data": {
      "text/plain": [
       "(307,)"
      ]
     },
     "execution_count": 15,
     "metadata": {},
     "output_type": "execute_result"
    }
   ],
   "source": [
    "val_y_sr.shape"
   ]
  },
  {
   "cell_type": "markdown",
   "metadata": {},
   "source": [
    "Tập huấn luyện"
   ]
  },
  {
   "cell_type": "code",
   "execution_count": 16,
   "metadata": {},
   "outputs": [
    {
     "data": {
      "text/plain": [
       "Int64Index([1216, 926, 609, 183, 473], dtype='int64')"
      ]
     },
     "execution_count": 16,
     "metadata": {},
     "output_type": "execute_result"
    }
   ],
   "source": [
    "train_X_df.head().index"
   ]
  },
  {
   "cell_type": "markdown",
   "metadata": {},
   "source": [
    "### Khám phá dữ liệu (tập huấn luyện)"
   ]
  },
  {
   "cell_type": "markdown",
   "metadata": {},
   "source": [
    "#### Kiểu dữ liệu hiện tại của mỗi cột"
   ]
  },
  {
   "cell_type": "code",
   "execution_count": 17,
   "metadata": {},
   "outputs": [
    {
     "data": {
      "text/plain": [
       "Datetime           object\n",
       "DatetimeEpoch       int64\n",
       "Tempmax           float64\n",
       "Tempmin           float64\n",
       "Temp              float64\n",
       "Feelslikemax      float64\n",
       "Feelslikemin      float64\n",
       "Feelslike         float64\n",
       "Dew               float64\n",
       "Precip            float64\n",
       "Precipprob        float64\n",
       "Precipcover       float64\n",
       "Snow              float64\n",
       "Snowdepth         float64\n",
       "Windgust          float64\n",
       "Windspeed         float64\n",
       "Winddir           float64\n",
       "Pressure          float64\n",
       "Cloudcover        float64\n",
       "Visibility        float64\n",
       "Solarradiation    float64\n",
       "Solarenergy       float64\n",
       "Sunrise            object\n",
       "SunriseEpoch        int64\n",
       "Sunset             object\n",
       "SunsetEpoch         int64\n",
       "Moonphase         float64\n",
       "Conditions         object\n",
       "Icon               object\n",
       "Stations           object\n",
       "Source             object\n",
       "dtype: object"
      ]
     },
     "execution_count": 17,
     "metadata": {},
     "output_type": "execute_result"
    }
   ],
   "source": [
    "train_X_df.dtypes"
   ]
  },
  {
   "cell_type": "markdown",
   "metadata": {},
   "source": [
    "Nhận xét: Phần lớn cột trong dữ liệu input là ở dạng số"
   ]
  },
  {
   "cell_type": "markdown",
   "metadata": {},
   "source": [
    "#### Phân bố của các cột dữ liệu dạng số"
   ]
  },
  {
   "cell_type": "code",
   "execution_count": 18,
   "metadata": {},
   "outputs": [
    {
     "data": {
      "text/plain": [
       "['Tempmax',\n",
       " 'Tempmin',\n",
       " 'Temp',\n",
       " 'Feelslikemax',\n",
       " 'Feelslikemin',\n",
       " 'Feelslike',\n",
       " 'Dew',\n",
       " 'Precip',\n",
       " 'Precipprob',\n",
       " 'Precipcover',\n",
       " 'Snow',\n",
       " 'Snowdepth',\n",
       " 'Windgust',\n",
       " 'Windspeed',\n",
       " 'Winddir',\n",
       " 'Pressure',\n",
       " 'Cloudcover',\n",
       " 'Visibility',\n",
       " 'Solarradiation',\n",
       " 'Solarenergy',\n",
       " 'Moonphase']"
      ]
     },
     "execution_count": 18,
     "metadata": {},
     "output_type": "execute_result"
    }
   ],
   "source": [
    "num_cols = list(train_X_df.dtypes[train_X_df.dtypes == float].index)\n",
    "num_cols"
   ]
  },
  {
   "cell_type": "code",
   "execution_count": 19,
   "metadata": {},
   "outputs": [
    {
     "data": {
      "text/html": [
       "<div>\n",
       "<style scoped>\n",
       "    .dataframe tbody tr th:only-of-type {\n",
       "        vertical-align: middle;\n",
       "    }\n",
       "\n",
       "    .dataframe tbody tr th {\n",
       "        vertical-align: top;\n",
       "    }\n",
       "\n",
       "    .dataframe thead th {\n",
       "        text-align: right;\n",
       "    }\n",
       "</style>\n",
       "<table border=\"1\" class=\"dataframe\">\n",
       "  <thead>\n",
       "    <tr style=\"text-align: right;\">\n",
       "      <th></th>\n",
       "      <th>Tempmax</th>\n",
       "      <th>Tempmin</th>\n",
       "      <th>Temp</th>\n",
       "      <th>Feelslikemax</th>\n",
       "      <th>Feelslikemin</th>\n",
       "      <th>Feelslike</th>\n",
       "      <th>Dew</th>\n",
       "      <th>Precip</th>\n",
       "      <th>Precipprob</th>\n",
       "      <th>Precipcover</th>\n",
       "      <th>...</th>\n",
       "      <th>Snowdepth</th>\n",
       "      <th>Windgust</th>\n",
       "      <th>Windspeed</th>\n",
       "      <th>Winddir</th>\n",
       "      <th>Pressure</th>\n",
       "      <th>Cloudcover</th>\n",
       "      <th>Visibility</th>\n",
       "      <th>Solarradiation</th>\n",
       "      <th>Solarenergy</th>\n",
       "      <th>Moonphase</th>\n",
       "    </tr>\n",
       "  </thead>\n",
       "  <tbody>\n",
       "    <tr>\n",
       "      <th>missing_ratio</th>\n",
       "      <td>0.0</td>\n",
       "      <td>0.0</td>\n",
       "      <td>0.0</td>\n",
       "      <td>0.0</td>\n",
       "      <td>0.0</td>\n",
       "      <td>0.1</td>\n",
       "      <td>0.0</td>\n",
       "      <td>0.0</td>\n",
       "      <td>100.0</td>\n",
       "      <td>0.00</td>\n",
       "      <td>...</td>\n",
       "      <td>100.0</td>\n",
       "      <td>83.6</td>\n",
       "      <td>0.0</td>\n",
       "      <td>0.0</td>\n",
       "      <td>1.0</td>\n",
       "      <td>0.0</td>\n",
       "      <td>0.0</td>\n",
       "      <td>100.0</td>\n",
       "      <td>100.0</td>\n",
       "      <td>0.0</td>\n",
       "    </tr>\n",
       "    <tr>\n",
       "      <th>min</th>\n",
       "      <td>24.6</td>\n",
       "      <td>20.0</td>\n",
       "      <td>22.8</td>\n",
       "      <td>0.0</td>\n",
       "      <td>0.0</td>\n",
       "      <td>22.8</td>\n",
       "      <td>15.2</td>\n",
       "      <td>0.0</td>\n",
       "      <td>NaN</td>\n",
       "      <td>0.00</td>\n",
       "      <td>...</td>\n",
       "      <td>NaN</td>\n",
       "      <td>25.9</td>\n",
       "      <td>8.1</td>\n",
       "      <td>54.8</td>\n",
       "      <td>1004.4</td>\n",
       "      <td>22.5</td>\n",
       "      <td>6.2</td>\n",
       "      <td>NaN</td>\n",
       "      <td>NaN</td>\n",
       "      <td>0.0</td>\n",
       "    </tr>\n",
       "    <tr>\n",
       "      <th>lower_quartile</th>\n",
       "      <td>32.0</td>\n",
       "      <td>24.0</td>\n",
       "      <td>27.4</td>\n",
       "      <td>36.2</td>\n",
       "      <td>24.0</td>\n",
       "      <td>29.5</td>\n",
       "      <td>22.5</td>\n",
       "      <td>0.0</td>\n",
       "      <td>NaN</td>\n",
       "      <td>0.00</td>\n",
       "      <td>...</td>\n",
       "      <td>NaN</td>\n",
       "      <td>33.5</td>\n",
       "      <td>15.2</td>\n",
       "      <td>143.2</td>\n",
       "      <td>1008.5</td>\n",
       "      <td>44.4</td>\n",
       "      <td>9.0</td>\n",
       "      <td>NaN</td>\n",
       "      <td>NaN</td>\n",
       "      <td>0.2</td>\n",
       "    </tr>\n",
       "    <tr>\n",
       "      <th>median</th>\n",
       "      <td>33.0</td>\n",
       "      <td>25.0</td>\n",
       "      <td>28.3</td>\n",
       "      <td>38.6</td>\n",
       "      <td>25.0</td>\n",
       "      <td>31.2</td>\n",
       "      <td>24.4</td>\n",
       "      <td>0.0</td>\n",
       "      <td>NaN</td>\n",
       "      <td>0.00</td>\n",
       "      <td>...</td>\n",
       "      <td>NaN</td>\n",
       "      <td>40.7</td>\n",
       "      <td>18.4</td>\n",
       "      <td>182.1</td>\n",
       "      <td>1009.8</td>\n",
       "      <td>52.6</td>\n",
       "      <td>9.6</td>\n",
       "      <td>NaN</td>\n",
       "      <td>NaN</td>\n",
       "      <td>0.5</td>\n",
       "    </tr>\n",
       "    <tr>\n",
       "      <th>upper_quartile</th>\n",
       "      <td>34.0</td>\n",
       "      <td>26.0</td>\n",
       "      <td>29.0</td>\n",
       "      <td>40.6</td>\n",
       "      <td>26.0</td>\n",
       "      <td>33.0</td>\n",
       "      <td>25.2</td>\n",
       "      <td>1.0</td>\n",
       "      <td>NaN</td>\n",
       "      <td>4.20</td>\n",
       "      <td>...</td>\n",
       "      <td>NaN</td>\n",
       "      <td>48.2</td>\n",
       "      <td>21.3</td>\n",
       "      <td>236.8</td>\n",
       "      <td>1011.3</td>\n",
       "      <td>60.0</td>\n",
       "      <td>10.1</td>\n",
       "      <td>NaN</td>\n",
       "      <td>NaN</td>\n",
       "      <td>0.8</td>\n",
       "    </tr>\n",
       "    <tr>\n",
       "      <th>max</th>\n",
       "      <td>37.0</td>\n",
       "      <td>29.0</td>\n",
       "      <td>32.1</td>\n",
       "      <td>48.5</td>\n",
       "      <td>35.6</td>\n",
       "      <td>39.3</td>\n",
       "      <td>26.9</td>\n",
       "      <td>88.5</td>\n",
       "      <td>NaN</td>\n",
       "      <td>16.67</td>\n",
       "      <td>...</td>\n",
       "      <td>NaN</td>\n",
       "      <td>74.2</td>\n",
       "      <td>40.7</td>\n",
       "      <td>316.2</td>\n",
       "      <td>1015.7</td>\n",
       "      <td>99.6</td>\n",
       "      <td>10.7</td>\n",
       "      <td>NaN</td>\n",
       "      <td>NaN</td>\n",
       "      <td>1.0</td>\n",
       "    </tr>\n",
       "  </tbody>\n",
       "</table>\n",
       "<p>6 rows × 21 columns</p>\n",
       "</div>"
      ],
      "text/plain": [
       "                Tempmax  Tempmin  Temp  Feelslikemax  Feelslikemin  Feelslike  \\\n",
       "missing_ratio       0.0      0.0   0.0           0.0           0.0        0.1   \n",
       "min                24.6     20.0  22.8           0.0           0.0       22.8   \n",
       "lower_quartile     32.0     24.0  27.4          36.2          24.0       29.5   \n",
       "median             33.0     25.0  28.3          38.6          25.0       31.2   \n",
       "upper_quartile     34.0     26.0  29.0          40.6          26.0       33.0   \n",
       "max                37.0     29.0  32.1          48.5          35.6       39.3   \n",
       "\n",
       "                 Dew  Precip  Precipprob  Precipcover  ...  Snowdepth  \\\n",
       "missing_ratio    0.0     0.0       100.0         0.00  ...      100.0   \n",
       "min             15.2     0.0         NaN         0.00  ...        NaN   \n",
       "lower_quartile  22.5     0.0         NaN         0.00  ...        NaN   \n",
       "median          24.4     0.0         NaN         0.00  ...        NaN   \n",
       "upper_quartile  25.2     1.0         NaN         4.20  ...        NaN   \n",
       "max             26.9    88.5         NaN        16.67  ...        NaN   \n",
       "\n",
       "                Windgust  Windspeed  Winddir  Pressure  Cloudcover  \\\n",
       "missing_ratio       83.6        0.0      0.0       1.0         0.0   \n",
       "min                 25.9        8.1     54.8    1004.4        22.5   \n",
       "lower_quartile      33.5       15.2    143.2    1008.5        44.4   \n",
       "median              40.7       18.4    182.1    1009.8        52.6   \n",
       "upper_quartile      48.2       21.3    236.8    1011.3        60.0   \n",
       "max                 74.2       40.7    316.2    1015.7        99.6   \n",
       "\n",
       "                Visibility  Solarradiation  Solarenergy  Moonphase  \n",
       "missing_ratio          0.0           100.0        100.0        0.0  \n",
       "min                    6.2             NaN          NaN        0.0  \n",
       "lower_quartile         9.0             NaN          NaN        0.2  \n",
       "median                 9.6             NaN          NaN        0.5  \n",
       "upper_quartile        10.1             NaN          NaN        0.8  \n",
       "max                   10.7             NaN          NaN        1.0  \n",
       "\n",
       "[6 rows x 21 columns]"
      ]
     },
     "execution_count": 19,
     "metadata": {},
     "output_type": "execute_result"
    }
   ],
   "source": [
    "df = train_X_df[num_cols]\n",
    "\n",
    "def missing_ratio(df):\n",
    "    return (df.isna().mean() * 100).round(1)\n",
    "def lower_quartile(df):\n",
    "    return df.quantile(0.25).round(1)\n",
    "def median(df):\n",
    "    return df.quantile(0.5).round(1)\n",
    "def upper_quartile(df):\n",
    "    return df.quantile(0.75).round(1)\n",
    "\n",
    "df.agg([missing_ratio, 'min', lower_quartile, median, upper_quartile, 'max'])"
   ]
  },
  {
   "cell_type": "markdown",
   "metadata": {},
   "source": [
    "#### Phân bố của các cột dữ liệu không phải dạng số"
   ]
  },
  {
   "cell_type": "code",
   "execution_count": 20,
   "metadata": {},
   "outputs": [
    {
     "data": {
      "text/html": [
       "<div>\n",
       "<style scoped>\n",
       "    .dataframe tbody tr th:only-of-type {\n",
       "        vertical-align: middle;\n",
       "    }\n",
       "\n",
       "    .dataframe tbody tr th {\n",
       "        vertical-align: top;\n",
       "    }\n",
       "\n",
       "    .dataframe thead th {\n",
       "        text-align: right;\n",
       "    }\n",
       "</style>\n",
       "<table border=\"1\" class=\"dataframe\">\n",
       "  <thead>\n",
       "    <tr style=\"text-align: right;\">\n",
       "      <th></th>\n",
       "      <th>Datetime</th>\n",
       "      <th>Sunrise</th>\n",
       "      <th>Sunset</th>\n",
       "      <th>Conditions</th>\n",
       "      <th>Icon</th>\n",
       "    </tr>\n",
       "  </thead>\n",
       "  <tbody>\n",
       "    <tr>\n",
       "      <th>missing_ratio</th>\n",
       "      <td>0</td>\n",
       "      <td>0</td>\n",
       "      <td>0</td>\n",
       "      <td>0</td>\n",
       "      <td>0</td>\n",
       "    </tr>\n",
       "    <tr>\n",
       "      <th>num_values</th>\n",
       "      <td>715</td>\n",
       "      <td>579</td>\n",
       "      <td>589</td>\n",
       "      <td>5</td>\n",
       "      <td>5</td>\n",
       "    </tr>\n",
       "    <tr>\n",
       "      <th>value_ratios</th>\n",
       "      <td>{'2017-09-01': 0.1, '2020-06-06': 0.1, '2020-06-21': 0.1, '2018-04-03': 0.1, '2020-01-19': 0.1, '2018-10-08': 0.1, '2019-06-04': 0.1, '2017-10-22': 0.1, '2020-01-07': 0.1, '2018-08-12': 0.1, '2018...</td>\n",
       "      <td>{'05:41:51': 1.1, '05:41:50': 1.0, '05:43:32': 1.0, '05:43:21': 0.7, '05:43:33': 0.6, '05:43:24': 0.6, '06:16:54': 0.6, '05:43:26': 0.6, '05:43:34': 0.6, '05:43:14': 0.4, '05:41:59': 0.4, '05:43:0...</td>\n",
       "      <td>{'18:04:04': 3.6, '18:04:03': 1.5, '18:04:05': 1.3, '17:26:37': 0.7, '18:20:02': 0.7, '18:03:59': 0.6, '18:20:00': 0.6, '18:20:04': 0.6, '17:26:38': 0.6, '17:26:48': 0.4, '18:04:24': 0.4, '17:26:4...</td>\n",
       "      <td>{'Partially cloudy': 68.0, 'Rain': 27.3, 'Overcast': 4.1, 'Clear': 0.6}</td>\n",
       "      <td>{'partly-cloudy-day': 59.9, 'rain': 26.2, 'cloudy': 11.5, 'wind': 1.7, 'clear-day': 0.8}</td>\n",
       "    </tr>\n",
       "  </tbody>\n",
       "</table>\n",
       "</div>"
      ],
      "text/plain": [
       "                                                                                                                                                                                                              Datetime  \\\n",
       "missing_ratio                                                                                                                                                                                                        0   \n",
       "num_values                                                                                                                                                                                                         715   \n",
       "value_ratios   {'2017-09-01': 0.1, '2020-06-06': 0.1, '2020-06-21': 0.1, '2018-04-03': 0.1, '2020-01-19': 0.1, '2018-10-08': 0.1, '2019-06-04': 0.1, '2017-10-22': 0.1, '2020-01-07': 0.1, '2018-08-12': 0.1, '2018...   \n",
       "\n",
       "                                                                                                                                                                                                               Sunrise  \\\n",
       "missing_ratio                                                                                                                                                                                                        0   \n",
       "num_values                                                                                                                                                                                                         579   \n",
       "value_ratios   {'05:41:51': 1.1, '05:41:50': 1.0, '05:43:32': 1.0, '05:43:21': 0.7, '05:43:33': 0.6, '05:43:24': 0.6, '06:16:54': 0.6, '05:43:26': 0.6, '05:43:34': 0.6, '05:43:14': 0.4, '05:41:59': 0.4, '05:43:0...   \n",
       "\n",
       "                                                                                                                                                                                                                Sunset  \\\n",
       "missing_ratio                                                                                                                                                                                                        0   \n",
       "num_values                                                                                                                                                                                                         589   \n",
       "value_ratios   {'18:04:04': 3.6, '18:04:03': 1.5, '18:04:05': 1.3, '17:26:37': 0.7, '18:20:02': 0.7, '18:03:59': 0.6, '18:20:00': 0.6, '18:20:04': 0.6, '17:26:38': 0.6, '17:26:48': 0.4, '18:04:24': 0.4, '17:26:4...   \n",
       "\n",
       "                                                                            Conditions  \\\n",
       "missing_ratio                                                                        0   \n",
       "num_values                                                                           5   \n",
       "value_ratios   {'Partially cloudy': 68.0, 'Rain': 27.3, 'Overcast': 4.1, 'Clear': 0.6}   \n",
       "\n",
       "                                                                                                   Icon  \n",
       "missing_ratio                                                                                         0  \n",
       "num_values                                                                                            5  \n",
       "value_ratios   {'partly-cloudy-day': 59.9, 'rain': 26.2, 'cloudy': 11.5, 'wind': 1.7, 'clear-day': 0.8}  "
      ]
     },
     "execution_count": 20,
     "metadata": {},
     "output_type": "execute_result"
    }
   ],
   "source": [
    "pd.set_option('display.max_colwidth', 200) # Để nhìn rõ hơn\n",
    "cat_cols = ['Datetime', 'Sunrise', 'Sunset', 'Conditions', 'Icon']\n",
    "cat_multi_cols = ['Conditions']\n",
    "df = train_X_df[cat_cols]\n",
    "\n",
    "def missing_ratio(df):\n",
    "    return (df.isna().mean() * 100).round(1)\n",
    "def num_values(df):\n",
    "    return df.nunique()\n",
    "def value_ratios(c):\n",
    "    if c.name in cat_multi_cols:\n",
    "        s = c.str.split(', ').explode().value_counts(normalize=True)\n",
    "        return dict((s * 100).round(1))\n",
    "    else:\n",
    "        return dict((c.value_counts(normalize=True) * 100).round(1))\n",
    "    \n",
    "df.agg([missing_ratio, num_values, value_ratios])"
   ]
  },
  {
   "cell_type": "code",
   "execution_count": 21,
   "metadata": {},
   "outputs": [
    {
     "data": {
      "text/plain": [
       "Partially cloudy    0.666337\n",
       "Rain                0.276733\n",
       "Overcast            0.047030\n",
       "Clear               0.009901\n",
       "Name: Conditions, dtype: float64"
      ]
     },
     "execution_count": 21,
     "metadata": {},
     "output_type": "execute_result"
    }
   ],
   "source": [
    "data_df['Conditions'].str.split(', ').explode().value_counts(normalize=True)"
   ]
  },
  {
   "cell_type": "markdown",
   "metadata": {},
   "source": [
    "## 4. Tiền xử lí và mô hình hóa dữ liệu"
   ]
  },
  {
   "cell_type": "markdown",
   "metadata": {},
   "source": [
    "Dữ liệu của ta có khá nhiều cột nhưng nhận thấy chỉ một số cột (có thể) ảnh hưởng đến kết quả độ ẩm tương đối. Đó là các cột:\n",
    "- Nhiệt độ (Temp)\n",
    "- Nhiệt độ cao nhất (Tempmax)\n",
    "- Nhiệt độ thấp nhất (Tempmin)\n",
    "- Độ sương (Dew)\n",
    "- Tốc độ gió (Windspeed)\n",
    "- Hướng gió (Winddir)\n",
    "- Áp suất (Pressure)\n",
    "- Độ bao phủ của mây (Cloudcover)\n",
    "- Tầm nhìn (Visibility)\n",
    "- Icon"
   ]
  },
  {
   "cell_type": "markdown",
   "metadata": {},
   "source": [
    "### Tiền xử lí tập huấn luyện"
   ]
  },
  {
   "cell_type": "markdown",
   "metadata": {},
   "source": [
    "Đầu tiên, ta xử lí thêm bớt một số cột như sau:\n",
    "- Tạo thêm 2 cột là Day và Month lấy thông tin ngày, tháng từ cột Datetime. Sau đó bỏ cột Datetime.\n",
    "- Bỏ các cột DatetimeEpoch, Feelslikemax, Feelslikemin, Feelslike, Precip, Precipprob, Precipcover, Sunrise, SunriseEpoch, Sunset, SunsetEpoch, Moonphase, Stations, Source vì các cột này không mang lại nhiều thông tin hữu ích.\n",
    "- Bỏ các cột Snow, Snowdepth, Windgust, Solarradiation, Solarenergy vì chứa nhiều giá trị trống (NaN).\n",
    "- Bỏ cột Conditions vì nhìn qua thì cột Conditions và cột Icon khá tương quan với nhau nên ta chỉ lấy cột Icon.\n",
    "\n",
    "Với các cột dữ liệu dạng số ta sẽ điền giá trị thiếu bằng mean của cột bằng cách sử dụng `SimpleImputer`"
   ]
  },
  {
   "cell_type": "code",
   "execution_count": 22,
   "metadata": {},
   "outputs": [],
   "source": [
    "class ColAdderDropper(BaseEstimator, TransformerMixin):\n",
    "    def fit(self, X_df, y = None):\n",
    "        return self\n",
    "    def transform(self, X_df, y = None):\n",
    "        # YOUR CODE HERE\n",
    "        df = X_df.copy()\n",
    "        month_sr = df['Datetime'].str.split('-').apply(lambda x: x[1])\n",
    "        day_sr = df['Datetime'].str.split('-').apply(lambda x: x[2])\n",
    "        df.insert(0, 'Day', day_sr)\n",
    "        df.insert(0, 'Month', month_sr)\n",
    "        df.drop(['Datetime', 'DatetimeEpoch', 'Feelslikemax', 'Feelslikemin', 'Feelslike', 'Precip', 'Precipprob',\n",
    "                 'Precipcover', 'Sunrise', 'SunriseEpoch', 'Sunset', 'SunsetEpoch', 'Moonphase', 'Stations', 'Source', 'Snow',\n",
    "                 'Snowdepth', 'Windgust', 'Solarradiation', 'Solarenergy', 'Conditions'], axis = 1, inplace = True)\n",
    "        return df"
   ]
  },
  {
   "cell_type": "code",
   "execution_count": 23,
   "metadata": {},
   "outputs": [
    {
     "data": {
      "text/html": [
       "<div>\n",
       "<style scoped>\n",
       "    .dataframe tbody tr th:only-of-type {\n",
       "        vertical-align: middle;\n",
       "    }\n",
       "\n",
       "    .dataframe tbody tr th {\n",
       "        vertical-align: top;\n",
       "    }\n",
       "\n",
       "    .dataframe thead th {\n",
       "        text-align: right;\n",
       "    }\n",
       "</style>\n",
       "<table border=\"1\" class=\"dataframe\">\n",
       "  <thead>\n",
       "    <tr style=\"text-align: right;\">\n",
       "      <th></th>\n",
       "      <th>Month</th>\n",
       "      <th>Day</th>\n",
       "      <th>Tempmax</th>\n",
       "      <th>Tempmin</th>\n",
       "      <th>Temp</th>\n",
       "      <th>Dew</th>\n",
       "      <th>Windspeed</th>\n",
       "      <th>Winddir</th>\n",
       "      <th>Pressure</th>\n",
       "      <th>Cloudcover</th>\n",
       "      <th>Visibility</th>\n",
       "      <th>Icon</th>\n",
       "    </tr>\n",
       "  </thead>\n",
       "  <tbody>\n",
       "    <tr>\n",
       "      <th>1216</th>\n",
       "      <td>05</td>\n",
       "      <td>01</td>\n",
       "      <td>36.2</td>\n",
       "      <td>27.0</td>\n",
       "      <td>30.8</td>\n",
       "      <td>21.9</td>\n",
       "      <td>22.3</td>\n",
       "      <td>132.5</td>\n",
       "      <td>1009.2</td>\n",
       "      <td>34.5</td>\n",
       "      <td>10.4</td>\n",
       "      <td>partly-cloudy-day</td>\n",
       "    </tr>\n",
       "    <tr>\n",
       "      <th>926</th>\n",
       "      <td>07</td>\n",
       "      <td>16</td>\n",
       "      <td>33.1</td>\n",
       "      <td>24.0</td>\n",
       "      <td>28.1</td>\n",
       "      <td>25.3</td>\n",
       "      <td>23.8</td>\n",
       "      <td>252.4</td>\n",
       "      <td>1006.3</td>\n",
       "      <td>61.7</td>\n",
       "      <td>9.0</td>\n",
       "      <td>rain</td>\n",
       "    </tr>\n",
       "    <tr>\n",
       "      <th>609</th>\n",
       "      <td>09</td>\n",
       "      <td>02</td>\n",
       "      <td>34.0</td>\n",
       "      <td>25.4</td>\n",
       "      <td>29.4</td>\n",
       "      <td>25.5</td>\n",
       "      <td>20.5</td>\n",
       "      <td>266.7</td>\n",
       "      <td>1007.9</td>\n",
       "      <td>64.5</td>\n",
       "      <td>9.4</td>\n",
       "      <td>cloudy</td>\n",
       "    </tr>\n",
       "    <tr>\n",
       "      <th>183</th>\n",
       "      <td>07</td>\n",
       "      <td>03</td>\n",
       "      <td>33.0</td>\n",
       "      <td>25.0</td>\n",
       "      <td>28.6</td>\n",
       "      <td>24.5</td>\n",
       "      <td>18.4</td>\n",
       "      <td>233.0</td>\n",
       "      <td>1008.6</td>\n",
       "      <td>53.2</td>\n",
       "      <td>10.2</td>\n",
       "      <td>partly-cloudy-day</td>\n",
       "    </tr>\n",
       "    <tr>\n",
       "      <th>473</th>\n",
       "      <td>04</td>\n",
       "      <td>19</td>\n",
       "      <td>34.0</td>\n",
       "      <td>27.0</td>\n",
       "      <td>29.9</td>\n",
       "      <td>23.4</td>\n",
       "      <td>18.0</td>\n",
       "      <td>140.4</td>\n",
       "      <td>1009.8</td>\n",
       "      <td>51.8</td>\n",
       "      <td>10.3</td>\n",
       "      <td>partly-cloudy-day</td>\n",
       "    </tr>\n",
       "  </tbody>\n",
       "</table>\n",
       "</div>"
      ],
      "text/plain": [
       "     Month Day  Tempmax  Tempmin  Temp   Dew  Windspeed  Winddir  Pressure  \\\n",
       "1216    05  01     36.2     27.0  30.8  21.9       22.3    132.5    1009.2   \n",
       "926     07  16     33.1     24.0  28.1  25.3       23.8    252.4    1006.3   \n",
       "609     09  02     34.0     25.4  29.4  25.5       20.5    266.7    1007.9   \n",
       "183     07  03     33.0     25.0  28.6  24.5       18.4    233.0    1008.6   \n",
       "473     04  19     34.0     27.0  29.9  23.4       18.0    140.4    1009.8   \n",
       "\n",
       "      Cloudcover  Visibility               Icon  \n",
       "1216        34.5        10.4  partly-cloudy-day  \n",
       "926         61.7         9.0               rain  \n",
       "609         64.5         9.4             cloudy  \n",
       "183         53.2        10.2  partly-cloudy-day  \n",
       "473         51.8        10.3  partly-cloudy-day  "
      ]
     },
     "execution_count": 23,
     "metadata": {},
     "output_type": "execute_result"
    }
   ],
   "source": [
    "# TEST TRANSFORM METHOD\n",
    "col_adderdropper = ColAdderDropper()\n",
    "fewer_cols_train_X_df = col_adderdropper.transform(train_X_df)\n",
    "fewer_cols_train_X_df.head()"
   ]
  },
  {
   "cell_type": "markdown",
   "metadata": {},
   "source": [
    "Đến đây, các cột dạng số (numerical) gồm: \"Month\", \"Day\", \"Tempmax\", \"Tempmin\", \"Temp\", \"Dew\", \"Windspeed\", \"Winddir\", \"Pressure\", \"Cloudcover\", \"Visibility\"; cột duy nhất không phải dạng số (categorical) và không có thứ tự là cột \"Icon\"; không có cột không phải dạng số và có thứ tự. Các bước tiền xử lý tiếp theo như sau:\n",
    "- Với các cột dạng số, ta sẽ điền giá trị thiếu bằng giá trị mean của cột. Với *tất cả* các cột dạng số trong tập huấn luyện, ta đều cần tính mean, vì ta không biết được cột nào sẽ bị thiếu giá trị khi dự đoán với các véc-tơ input mới. \n",
    "- Với các cột không phải dạng số và không có thứ tự:\n",
    "    - Ta sẽ điền giá trị thiếu bằng giá trị mode (giá trị xuất hiện nhiều nhất) của cột. Với *tất cả* các cột không có dạng số và không có thứ tự, ta đều cần tính mode, vì ta không biết được cột nào sẽ bị thiếu giá trị khi dự đoán với các véc-tơ input mới.\n",
    "    - Sau đó, ta sẽ chuyển sang dạng số bằng phương pháp mã hóa one-hot.\n",
    "- Cuối cùng, khi tất cả các cột đã được điền giá trị thiếu và đã có dạng số, ta sẽ tiến hành chuẩn hóa bằng cách trừ đi mean và chia cho độ lệch chuẩn của cột để giúp cho các thuật toán cực tiểu hóa như Gradient Descent, LBFGS, ... hội tụ nhanh hơn."
   ]
  },
  {
   "cell_type": "code",
   "execution_count": 24,
   "metadata": {},
   "outputs": [
    {
     "data": {
      "text/html": [
       "<style>div.sk-top-container {color: black;background-color: white;}div.sk-toggleable {background-color: white;}label.sk-toggleable__label {cursor: pointer;display: block;width: 100%;margin-bottom: 0;padding: 0.2em 0.3em;box-sizing: border-box;text-align: center;}div.sk-toggleable__content {max-height: 0;max-width: 0;overflow: hidden;text-align: left;background-color: #f0f8ff;}div.sk-toggleable__content pre {margin: 0.2em;color: black;border-radius: 0.25em;background-color: #f0f8ff;}input.sk-toggleable__control:checked~div.sk-toggleable__content {max-height: 200px;max-width: 100%;overflow: auto;}div.sk-estimator input.sk-toggleable__control:checked~label.sk-toggleable__label {background-color: #d4ebff;}div.sk-label input.sk-toggleable__control:checked~label.sk-toggleable__label {background-color: #d4ebff;}input.sk-hidden--visually {border: 0;clip: rect(1px 1px 1px 1px);clip: rect(1px, 1px, 1px, 1px);height: 1px;margin: -1px;overflow: hidden;padding: 0;position: absolute;width: 1px;}div.sk-estimator {font-family: monospace;background-color: #f0f8ff;margin: 0.25em 0.25em;border: 1px dotted black;border-radius: 0.25em;box-sizing: border-box;}div.sk-estimator:hover {background-color: #d4ebff;}div.sk-parallel-item::after {content: \"\";width: 100%;border-bottom: 1px solid gray;flex-grow: 1;}div.sk-label:hover label.sk-toggleable__label {background-color: #d4ebff;}div.sk-serial::before {content: \"\";position: absolute;border-left: 1px solid gray;box-sizing: border-box;top: 2em;bottom: 0;left: 50%;}div.sk-serial {display: flex;flex-direction: column;align-items: center;background-color: white;}div.sk-item {z-index: 1;}div.sk-parallel {display: flex;align-items: stretch;justify-content: center;background-color: white;}div.sk-parallel-item {display: flex;flex-direction: column;position: relative;background-color: white;}div.sk-parallel-item:first-child::after {align-self: flex-end;width: 50%;}div.sk-parallel-item:last-child::after {align-self: flex-start;width: 50%;}div.sk-parallel-item:only-child::after {width: 0;}div.sk-dashed-wrapped {border: 1px dashed gray;margin: 0.2em;box-sizing: border-box;padding-bottom: 0.1em;background-color: white;position: relative;}div.sk-label label {font-family: monospace;font-weight: bold;background-color: white;display: inline-block;line-height: 1.2em;}div.sk-label-container {position: relative;z-index: 2;text-align: center;}div.sk-container {display: inline-block;position: relative;}</style><div class=\"sk-top-container\"><div class=\"sk-container\"><div class=\"sk-item sk-dashed-wrapped\"><div class=\"sk-label-container\"><div class=\"sk-label sk-toggleable\"><input class=\"sk-toggleable__control sk-hidden--visually\" id=\"c910ef73-1631-470b-a805-f4a217af5e51\" type=\"checkbox\" ><label class=\"sk-toggleable__label\" for=\"c910ef73-1631-470b-a805-f4a217af5e51\">Pipeline</label><div class=\"sk-toggleable__content\"><pre>Pipeline(steps=[('col_adderdropper', ColAdderDropper()),\n",
       "                ('transformer',\n",
       "                 ColumnTransformer(transformers=[('nume',\n",
       "                                                  Pipeline(steps=[('imputer',\n",
       "                                                                   SimpleImputer())]),\n",
       "                                                  ['Month', 'Day', 'Tempmax',\n",
       "                                                   'Tempmin', 'Temp', 'Dew',\n",
       "                                                   'Windspeed', 'Winddir',\n",
       "                                                   'Pressure', 'Cloudcover',\n",
       "                                                   'Visibility']),\n",
       "                                                 ('unorder_cate',\n",
       "                                                  Pipeline(steps=[('imputer',\n",
       "                                                                   SimpleImputer(strategy='most_frequent')),\n",
       "                                                                  ('encoder',\n",
       "                                                                   OneHotEncoder(handle_unknown='ignore'))]),\n",
       "                                                  ['Icon'])])),\n",
       "                ('scaler', StandardScaler())])</pre></div></div></div><div class=\"sk-serial\"><div class=\"sk-item\"><div class=\"sk-estimator sk-toggleable\"><input class=\"sk-toggleable__control sk-hidden--visually\" id=\"e4fd6fd6-5e19-4f95-9be1-95f08ab93d22\" type=\"checkbox\" ><label class=\"sk-toggleable__label\" for=\"e4fd6fd6-5e19-4f95-9be1-95f08ab93d22\">ColAdderDropper</label><div class=\"sk-toggleable__content\"><pre>ColAdderDropper()</pre></div></div></div><div class=\"sk-item sk-dashed-wrapped\"><div class=\"sk-label-container\"><div class=\"sk-label sk-toggleable\"><input class=\"sk-toggleable__control sk-hidden--visually\" id=\"d8a2f483-d16e-4f8d-8360-9ad544da6576\" type=\"checkbox\" ><label class=\"sk-toggleable__label\" for=\"d8a2f483-d16e-4f8d-8360-9ad544da6576\">transformer: ColumnTransformer</label><div class=\"sk-toggleable__content\"><pre>ColumnTransformer(transformers=[('nume',\n",
       "                                 Pipeline(steps=[('imputer', SimpleImputer())]),\n",
       "                                 ['Month', 'Day', 'Tempmax', 'Tempmin', 'Temp',\n",
       "                                  'Dew', 'Windspeed', 'Winddir', 'Pressure',\n",
       "                                  'Cloudcover', 'Visibility']),\n",
       "                                ('unorder_cate',\n",
       "                                 Pipeline(steps=[('imputer',\n",
       "                                                  SimpleImputer(strategy='most_frequent')),\n",
       "                                                 ('encoder',\n",
       "                                                  OneHotEncoder(handle_unknown='ignore'))]),\n",
       "                                 ['Icon'])])</pre></div></div></div><div class=\"sk-parallel\"><div class=\"sk-parallel-item\"><div class=\"sk-item\"><div class=\"sk-label-container\"><div class=\"sk-label sk-toggleable\"><input class=\"sk-toggleable__control sk-hidden--visually\" id=\"9ce13384-675f-491a-ac11-f829d6661fdd\" type=\"checkbox\" ><label class=\"sk-toggleable__label\" for=\"9ce13384-675f-491a-ac11-f829d6661fdd\">nume</label><div class=\"sk-toggleable__content\"><pre>['Month', 'Day', 'Tempmax', 'Tempmin', 'Temp', 'Dew', 'Windspeed', 'Winddir', 'Pressure', 'Cloudcover', 'Visibility']</pre></div></div></div><div class=\"sk-serial\"><div class=\"sk-item\"><div class=\"sk-serial\"><div class=\"sk-item\"><div class=\"sk-estimator sk-toggleable\"><input class=\"sk-toggleable__control sk-hidden--visually\" id=\"d8da74d6-9612-481e-9553-bcdc6edb3ae9\" type=\"checkbox\" ><label class=\"sk-toggleable__label\" for=\"d8da74d6-9612-481e-9553-bcdc6edb3ae9\">SimpleImputer</label><div class=\"sk-toggleable__content\"><pre>SimpleImputer()</pre></div></div></div></div></div></div></div></div><div class=\"sk-parallel-item\"><div class=\"sk-item\"><div class=\"sk-label-container\"><div class=\"sk-label sk-toggleable\"><input class=\"sk-toggleable__control sk-hidden--visually\" id=\"92c95918-663a-4e56-9620-e6767bc46ab7\" type=\"checkbox\" ><label class=\"sk-toggleable__label\" for=\"92c95918-663a-4e56-9620-e6767bc46ab7\">unorder_cate</label><div class=\"sk-toggleable__content\"><pre>['Icon']</pre></div></div></div><div class=\"sk-serial\"><div class=\"sk-item\"><div class=\"sk-serial\"><div class=\"sk-item\"><div class=\"sk-estimator sk-toggleable\"><input class=\"sk-toggleable__control sk-hidden--visually\" id=\"47ea8833-2fea-454d-ae5e-e484bda62fde\" type=\"checkbox\" ><label class=\"sk-toggleable__label\" for=\"47ea8833-2fea-454d-ae5e-e484bda62fde\">SimpleImputer</label><div class=\"sk-toggleable__content\"><pre>SimpleImputer(strategy='most_frequent')</pre></div></div></div><div class=\"sk-item\"><div class=\"sk-estimator sk-toggleable\"><input class=\"sk-toggleable__control sk-hidden--visually\" id=\"22c9fa59-3aee-47a6-904a-63d84ef5f542\" type=\"checkbox\" ><label class=\"sk-toggleable__label\" for=\"22c9fa59-3aee-47a6-904a-63d84ef5f542\">OneHotEncoder</label><div class=\"sk-toggleable__content\"><pre>OneHotEncoder(handle_unknown='ignore')</pre></div></div></div></div></div></div></div></div></div></div><div class=\"sk-item\"><div class=\"sk-estimator sk-toggleable\"><input class=\"sk-toggleable__control sk-hidden--visually\" id=\"b513af9f-0877-4b6e-8dd3-ac16172ae966\" type=\"checkbox\" ><label class=\"sk-toggleable__label\" for=\"b513af9f-0877-4b6e-8dd3-ac16172ae966\">StandardScaler</label><div class=\"sk-toggleable__content\"><pre>StandardScaler()</pre></div></div></div></div></div></div></div>"
      ],
      "text/plain": [
       "Pipeline(steps=[('col_adderdropper', ColAdderDropper()),\n",
       "                ('transformer',\n",
       "                 ColumnTransformer(transformers=[('nume',\n",
       "                                                  Pipeline(steps=[('imputer',\n",
       "                                                                   SimpleImputer())]),\n",
       "                                                  ['Month', 'Day', 'Tempmax',\n",
       "                                                   'Tempmin', 'Temp', 'Dew',\n",
       "                                                   'Windspeed', 'Winddir',\n",
       "                                                   'Pressure', 'Cloudcover',\n",
       "                                                   'Visibility']),\n",
       "                                                 ('unorder_cate',\n",
       "                                                  Pipeline(steps=[('imputer',\n",
       "                                                                   SimpleImputer(strategy='most_frequent')),\n",
       "                                                                  ('encoder',\n",
       "                                                                   OneHotEncoder(handle_unknown='ignore'))]),\n",
       "                                                  ['Icon'])])),\n",
       "                ('scaler', StandardScaler())])"
      ]
     },
     "execution_count": 24,
     "metadata": {},
     "output_type": "execute_result"
    }
   ],
   "source": [
    "nume_cols = ['Month', 'Day', 'Tempmax', 'Tempmin', 'Temp', 'Dew', 'Windspeed', 'Winddir', 'Pressure', 'Cloudcover',\n",
    "             'Visibility']\n",
    "unorder_cate_cols = ['Icon']\n",
    "\n",
    "nume_imputer = [('imputer', SimpleImputer(missing_values = np.nan, strategy = 'mean'))]\n",
    "unorder_cate_imputer = [('imputer', SimpleImputer(missing_values = np.nan, strategy = 'most_frequent')), \n",
    "                        ('encoder', OneHotEncoder(handle_unknown = \"ignore\"))]\n",
    "\n",
    "nume_transform = Pipeline(nume_imputer)\n",
    "unorder_cate_transform = Pipeline(unorder_cate_imputer)\n",
    "\n",
    "col_transform = [('nume', nume_transform, nume_cols), ('unorder_cate', unorder_cate_transform, unorder_cate_cols)]\n",
    "transformer = ColumnTransformer(col_transform)\n",
    "\n",
    "preprocess_pipeline = Pipeline(steps = [('col_adderdropper', ColAdderDropper()), ('transformer', transformer),\n",
    "                                        ('scaler', StandardScaler())])\n",
    "preprocessed_train_X = preprocess_pipeline.fit_transform(train_X_df)\n",
    "# TEST\n",
    "preprocess_pipeline"
   ]
  },
  {
   "cell_type": "markdown",
   "metadata": {},
   "source": [
    "### Tiền xử lí tập validation"
   ]
  },
  {
   "cell_type": "code",
   "execution_count": 25,
   "metadata": {},
   "outputs": [],
   "source": [
    "preprocessed_val_X = preprocess_pipeline.transform(val_X_df)"
   ]
  },
  {
   "cell_type": "markdown",
   "metadata": {},
   "source": [
    "### Kết hợp tiền xử lí và mô hình hóa"
   ]
  },
  {
   "cell_type": "markdown",
   "metadata": {},
   "source": [
    "Ta sẽ sử dụng mô hình Neural Net để phân lớp. Bạn sẽ tạo ra một pipeline từ đầu đến cuối bao gồm: các bước tiền xử lý ở trên + Neural Net (với các siêu tham số `hidden_layer_sizes=(20), activation='tanh', solver='lbfgs', random_state=0, max_iter=2500`) và đặt tên cho pipeline này là full_pipeline. \n",
    "Sau khi đã có được pipeline từ đầu đến cuối này, ta sẽ thử nghiệm:\n",
    "- Siêu tham số `alpha` (mức độ L2 regularization hay weight decay) của `MLPRegressor` với 10 giá trị khác nhau: 0.0001, 0.001, 0.01 0.1, 1, 10, 100, 1000, 10000, 100000.\n",
    "Để gán lại giá trị `alpha` cho `full_pipeline`, ta sẽ dùng phương thức `set_params`: \n",
    "`full_pipeline.set_params(mlpregressor__alpha=...)`\n",
    "Như vậy, tổng cộng ta sẽ thử nghiệm 10 mô hình khác nhau, với mỗi mô hình ta sẽ: huấn luyện trên tập huấn luyện, tính độ lỗi trên tập huấn luyện và tập validation rồi `append` độ lỗi vào 2 list tương ứng là `train_errs` và `var_errs` (để dễ nhìn, ta tính độ lỗi theo đơn vị %, nghĩa là có giá trị từ 0-100). Sau đó lưu lại độ lỗi nhỏ nhất trên tập validation và giá trị `alpha` tương ứng lần lượt vào biến `best_val_err` và `best_alpha`."
   ]
  },
  {
   "cell_type": "code",
   "execution_count": 26,
   "metadata": {},
   "outputs": [
    {
     "name": "stderr",
     "output_type": "stream",
     "text": [
      "c:\\users\\pc\\appdata\\local\\programs\\python\\python37\\lib\\site-packages\\sklearn\\neural_network\\_multilayer_perceptron.py:471: ConvergenceWarning: lbfgs failed to converge (status=1):\n",
      "STOP: TOTAL NO. of ITERATIONS REACHED LIMIT.\n",
      "\n",
      "Increase the number of iterations (max_iter) or scale the data as shown in:\n",
      "    https://scikit-learn.org/stable/modules/preprocessing.html\n",
      "  self.n_iter_ = _check_optimize_result(\"lbfgs\", opt_res, self.max_iter)\n",
      "c:\\users\\pc\\appdata\\local\\programs\\python\\python37\\lib\\site-packages\\sklearn\\neural_network\\_multilayer_perceptron.py:471: ConvergenceWarning: lbfgs failed to converge (status=1):\n",
      "STOP: TOTAL NO. of ITERATIONS REACHED LIMIT.\n",
      "\n",
      "Increase the number of iterations (max_iter) or scale the data as shown in:\n",
      "    https://scikit-learn.org/stable/modules/preprocessing.html\n",
      "  self.n_iter_ = _check_optimize_result(\"lbfgs\", opt_res, self.max_iter)\n",
      "c:\\users\\pc\\appdata\\local\\programs\\python\\python37\\lib\\site-packages\\sklearn\\neural_network\\_multilayer_perceptron.py:471: ConvergenceWarning: lbfgs failed to converge (status=1):\n",
      "STOP: TOTAL NO. of ITERATIONS REACHED LIMIT.\n",
      "\n",
      "Increase the number of iterations (max_iter) or scale the data as shown in:\n",
      "    https://scikit-learn.org/stable/modules/preprocessing.html\n",
      "  self.n_iter_ = _check_optimize_result(\"lbfgs\", opt_res, self.max_iter)\n",
      "c:\\users\\pc\\appdata\\local\\programs\\python\\python37\\lib\\site-packages\\sklearn\\neural_network\\_multilayer_perceptron.py:471: ConvergenceWarning: lbfgs failed to converge (status=1):\n",
      "STOP: TOTAL NO. of ITERATIONS REACHED LIMIT.\n",
      "\n",
      "Increase the number of iterations (max_iter) or scale the data as shown in:\n",
      "    https://scikit-learn.org/stable/modules/preprocessing.html\n",
      "  self.n_iter_ = _check_optimize_result(\"lbfgs\", opt_res, self.max_iter)\n",
      "c:\\users\\pc\\appdata\\local\\programs\\python\\python37\\lib\\site-packages\\sklearn\\neural_network\\_multilayer_perceptron.py:471: ConvergenceWarning: lbfgs failed to converge (status=1):\n",
      "STOP: TOTAL NO. of ITERATIONS REACHED LIMIT.\n",
      "\n",
      "Increase the number of iterations (max_iter) or scale the data as shown in:\n",
      "    https://scikit-learn.org/stable/modules/preprocessing.html\n",
      "  self.n_iter_ = _check_optimize_result(\"lbfgs\", opt_res, self.max_iter)\n"
     ]
    },
    {
     "data": {
      "text/plain": [
       "'Finish!'"
      ]
     },
     "execution_count": 26,
     "metadata": {},
     "output_type": "execute_result"
    }
   ],
   "source": [
    "# Tạo full_pipeline\n",
    "nume_cols = ['Month', 'Day', 'Tempmax', 'Tempmin', 'Temp', 'Dew', 'Windspeed', 'Winddir', 'Pressure', 'Cloudcover',\n",
    "             'Visibility']\n",
    "unorder_cate_cols = ['Icon']\n",
    "full_pipeline = Pipeline(steps = [('col_adderdropper', ColAdderDropper()), ('transformer', transformer),\n",
    "                                  ('scaler', StandardScaler()), ('mlpregressor', MLPRegressor(hidden_layer_sizes = (20), \n",
    "                                                                                              activation = 'tanh', \n",
    "                                                                                              solver = 'lbfgs', \n",
    "                                                                                              random_state = 0, \n",
    "                                                                                              max_iter = 2500))])\n",
    "\n",
    "# Thử nghiệm với nhiều giá trị khác nhau của siêu tham số\n",
    "#mlpregressor__alpha, mlpregressor__max_iter, mlpregressor__hidden_layer_sizes\n",
    "train_errs = []\n",
    "val_errs = []\n",
    "alphas = [0.0001, 0.001, 0.01, 0.1, 1.0, 10, 100, 1000, 10000, 100000]\n",
    "best_val_err = float('inf'); best_alpha = None;\n",
    "\n",
    "for alpha in alphas:\n",
    "    full_pipeline.set_params(mlpregressor__alpha = alpha)\n",
    "    full_pipeline.fit(train_X_df, train_y_sr)\n",
    "    train_err = (1 - full_pipeline.score(train_X_df, train_y_sr)) * 100\n",
    "    train_errs.append(train_err)\n",
    "    val_err = (1 - full_pipeline.score(val_X_df, val_y_sr)) * 100\n",
    "    val_errs.append(val_err)\n",
    "        \n",
    "    # Lưu thông tin mô hình tốt nhất\n",
    "    if val_err < best_val_err:\n",
    "        best_val_err = val_err\n",
    "        best_alpha = alpha\n",
    "'Finish!'"
   ]
  },
  {
   "cell_type": "code",
   "execution_count": 27,
   "metadata": {},
   "outputs": [
    {
     "data": {
      "text/html": [
       "<style>div.sk-top-container {color: black;background-color: white;}div.sk-toggleable {background-color: white;}label.sk-toggleable__label {cursor: pointer;display: block;width: 100%;margin-bottom: 0;padding: 0.2em 0.3em;box-sizing: border-box;text-align: center;}div.sk-toggleable__content {max-height: 0;max-width: 0;overflow: hidden;text-align: left;background-color: #f0f8ff;}div.sk-toggleable__content pre {margin: 0.2em;color: black;border-radius: 0.25em;background-color: #f0f8ff;}input.sk-toggleable__control:checked~div.sk-toggleable__content {max-height: 200px;max-width: 100%;overflow: auto;}div.sk-estimator input.sk-toggleable__control:checked~label.sk-toggleable__label {background-color: #d4ebff;}div.sk-label input.sk-toggleable__control:checked~label.sk-toggleable__label {background-color: #d4ebff;}input.sk-hidden--visually {border: 0;clip: rect(1px 1px 1px 1px);clip: rect(1px, 1px, 1px, 1px);height: 1px;margin: -1px;overflow: hidden;padding: 0;position: absolute;width: 1px;}div.sk-estimator {font-family: monospace;background-color: #f0f8ff;margin: 0.25em 0.25em;border: 1px dotted black;border-radius: 0.25em;box-sizing: border-box;}div.sk-estimator:hover {background-color: #d4ebff;}div.sk-parallel-item::after {content: \"\";width: 100%;border-bottom: 1px solid gray;flex-grow: 1;}div.sk-label:hover label.sk-toggleable__label {background-color: #d4ebff;}div.sk-serial::before {content: \"\";position: absolute;border-left: 1px solid gray;box-sizing: border-box;top: 2em;bottom: 0;left: 50%;}div.sk-serial {display: flex;flex-direction: column;align-items: center;background-color: white;}div.sk-item {z-index: 1;}div.sk-parallel {display: flex;align-items: stretch;justify-content: center;background-color: white;}div.sk-parallel-item {display: flex;flex-direction: column;position: relative;background-color: white;}div.sk-parallel-item:first-child::after {align-self: flex-end;width: 50%;}div.sk-parallel-item:last-child::after {align-self: flex-start;width: 50%;}div.sk-parallel-item:only-child::after {width: 0;}div.sk-dashed-wrapped {border: 1px dashed gray;margin: 0.2em;box-sizing: border-box;padding-bottom: 0.1em;background-color: white;position: relative;}div.sk-label label {font-family: monospace;font-weight: bold;background-color: white;display: inline-block;line-height: 1.2em;}div.sk-label-container {position: relative;z-index: 2;text-align: center;}div.sk-container {display: inline-block;position: relative;}</style><div class=\"sk-top-container\"><div class=\"sk-container\"><div class=\"sk-item sk-dashed-wrapped\"><div class=\"sk-label-container\"><div class=\"sk-label sk-toggleable\"><input class=\"sk-toggleable__control sk-hidden--visually\" id=\"c24639ea-e185-434d-ad8e-383648740e99\" type=\"checkbox\" ><label class=\"sk-toggleable__label\" for=\"c24639ea-e185-434d-ad8e-383648740e99\">Pipeline</label><div class=\"sk-toggleable__content\"><pre>Pipeline(steps=[('col_adderdropper', ColAdderDropper()),\n",
       "                ('transformer',\n",
       "                 ColumnTransformer(transformers=[('nume',\n",
       "                                                  Pipeline(steps=[('imputer',\n",
       "                                                                   SimpleImputer())]),\n",
       "                                                  ['Month', 'Day', 'Tempmax',\n",
       "                                                   'Tempmin', 'Temp', 'Dew',\n",
       "                                                   'Windspeed', 'Winddir',\n",
       "                                                   'Pressure', 'Cloudcover',\n",
       "                                                   'Visibility']),\n",
       "                                                 ('unorder_cate',\n",
       "                                                  Pipeline(steps=[('imputer',\n",
       "                                                                   SimpleImputer(strategy='most_frequent')),\n",
       "                                                                  ('encoder',\n",
       "                                                                   OneHotEncoder(handle_unknown='ignore'))]),\n",
       "                                                  ['Icon'])])),\n",
       "                ('scaler', StandardScaler()),\n",
       "                ('mlpregressor',\n",
       "                 MLPRegressor(activation='tanh', alpha=100000,\n",
       "                              hidden_layer_sizes=20, max_iter=2500,\n",
       "                              random_state=0, solver='lbfgs'))])</pre></div></div></div><div class=\"sk-serial\"><div class=\"sk-item\"><div class=\"sk-estimator sk-toggleable\"><input class=\"sk-toggleable__control sk-hidden--visually\" id=\"7b108012-b5a7-4256-965b-de8edec9c58b\" type=\"checkbox\" ><label class=\"sk-toggleable__label\" for=\"7b108012-b5a7-4256-965b-de8edec9c58b\">ColAdderDropper</label><div class=\"sk-toggleable__content\"><pre>ColAdderDropper()</pre></div></div></div><div class=\"sk-item sk-dashed-wrapped\"><div class=\"sk-label-container\"><div class=\"sk-label sk-toggleable\"><input class=\"sk-toggleable__control sk-hidden--visually\" id=\"321ca3f9-a1f3-489b-a2c9-ccaf8d69ef6c\" type=\"checkbox\" ><label class=\"sk-toggleable__label\" for=\"321ca3f9-a1f3-489b-a2c9-ccaf8d69ef6c\">transformer: ColumnTransformer</label><div class=\"sk-toggleable__content\"><pre>ColumnTransformer(transformers=[('nume',\n",
       "                                 Pipeline(steps=[('imputer', SimpleImputer())]),\n",
       "                                 ['Month', 'Day', 'Tempmax', 'Tempmin', 'Temp',\n",
       "                                  'Dew', 'Windspeed', 'Winddir', 'Pressure',\n",
       "                                  'Cloudcover', 'Visibility']),\n",
       "                                ('unorder_cate',\n",
       "                                 Pipeline(steps=[('imputer',\n",
       "                                                  SimpleImputer(strategy='most_frequent')),\n",
       "                                                 ('encoder',\n",
       "                                                  OneHotEncoder(handle_unknown='ignore'))]),\n",
       "                                 ['Icon'])])</pre></div></div></div><div class=\"sk-parallel\"><div class=\"sk-parallel-item\"><div class=\"sk-item\"><div class=\"sk-label-container\"><div class=\"sk-label sk-toggleable\"><input class=\"sk-toggleable__control sk-hidden--visually\" id=\"975f48d4-6618-485d-bdbf-1dc89dd6f3d0\" type=\"checkbox\" ><label class=\"sk-toggleable__label\" for=\"975f48d4-6618-485d-bdbf-1dc89dd6f3d0\">nume</label><div class=\"sk-toggleable__content\"><pre>['Month', 'Day', 'Tempmax', 'Tempmin', 'Temp', 'Dew', 'Windspeed', 'Winddir', 'Pressure', 'Cloudcover', 'Visibility']</pre></div></div></div><div class=\"sk-serial\"><div class=\"sk-item\"><div class=\"sk-serial\"><div class=\"sk-item\"><div class=\"sk-estimator sk-toggleable\"><input class=\"sk-toggleable__control sk-hidden--visually\" id=\"774913d9-0f0e-41a1-811f-a4e3adabd8b3\" type=\"checkbox\" ><label class=\"sk-toggleable__label\" for=\"774913d9-0f0e-41a1-811f-a4e3adabd8b3\">SimpleImputer</label><div class=\"sk-toggleable__content\"><pre>SimpleImputer()</pre></div></div></div></div></div></div></div></div><div class=\"sk-parallel-item\"><div class=\"sk-item\"><div class=\"sk-label-container\"><div class=\"sk-label sk-toggleable\"><input class=\"sk-toggleable__control sk-hidden--visually\" id=\"79f92db8-5d57-4f92-b060-bc0a966d4ea6\" type=\"checkbox\" ><label class=\"sk-toggleable__label\" for=\"79f92db8-5d57-4f92-b060-bc0a966d4ea6\">unorder_cate</label><div class=\"sk-toggleable__content\"><pre>['Icon']</pre></div></div></div><div class=\"sk-serial\"><div class=\"sk-item\"><div class=\"sk-serial\"><div class=\"sk-item\"><div class=\"sk-estimator sk-toggleable\"><input class=\"sk-toggleable__control sk-hidden--visually\" id=\"3a36742e-c0c2-4cfe-b6c4-d319e0b2f2d5\" type=\"checkbox\" ><label class=\"sk-toggleable__label\" for=\"3a36742e-c0c2-4cfe-b6c4-d319e0b2f2d5\">SimpleImputer</label><div class=\"sk-toggleable__content\"><pre>SimpleImputer(strategy='most_frequent')</pre></div></div></div><div class=\"sk-item\"><div class=\"sk-estimator sk-toggleable\"><input class=\"sk-toggleable__control sk-hidden--visually\" id=\"a5798f42-6a9e-4426-9063-0fe6c4f48c49\" type=\"checkbox\" ><label class=\"sk-toggleable__label\" for=\"a5798f42-6a9e-4426-9063-0fe6c4f48c49\">OneHotEncoder</label><div class=\"sk-toggleable__content\"><pre>OneHotEncoder(handle_unknown='ignore')</pre></div></div></div></div></div></div></div></div></div></div><div class=\"sk-item\"><div class=\"sk-estimator sk-toggleable\"><input class=\"sk-toggleable__control sk-hidden--visually\" id=\"afed2d99-f0b9-43ee-b4d2-feaf634e70da\" type=\"checkbox\" ><label class=\"sk-toggleable__label\" for=\"afed2d99-f0b9-43ee-b4d2-feaf634e70da\">StandardScaler</label><div class=\"sk-toggleable__content\"><pre>StandardScaler()</pre></div></div></div><div class=\"sk-item\"><div class=\"sk-estimator sk-toggleable\"><input class=\"sk-toggleable__control sk-hidden--visually\" id=\"66f94d49-4322-47af-b119-4c60ad6bf456\" type=\"checkbox\" ><label class=\"sk-toggleable__label\" for=\"66f94d49-4322-47af-b119-4c60ad6bf456\">MLPRegressor</label><div class=\"sk-toggleable__content\"><pre>MLPRegressor(activation='tanh', alpha=100000, hidden_layer_sizes=20,\n",
       "             max_iter=2500, random_state=0, solver='lbfgs')</pre></div></div></div></div></div></div></div>"
      ],
      "text/plain": [
       "Pipeline(steps=[('col_adderdropper', ColAdderDropper()),\n",
       "                ('transformer',\n",
       "                 ColumnTransformer(transformers=[('nume',\n",
       "                                                  Pipeline(steps=[('imputer',\n",
       "                                                                   SimpleImputer())]),\n",
       "                                                  ['Month', 'Day', 'Tempmax',\n",
       "                                                   'Tempmin', 'Temp', 'Dew',\n",
       "                                                   'Windspeed', 'Winddir',\n",
       "                                                   'Pressure', 'Cloudcover',\n",
       "                                                   'Visibility']),\n",
       "                                                 ('unorder_cate',\n",
       "                                                  Pipeline(steps=[('imputer',\n",
       "                                                                   SimpleImputer(strategy='most_frequent')),\n",
       "                                                                  ('encoder',\n",
       "                                                                   OneHotEncoder(handle_unknown='ignore'))]),\n",
       "                                                  ['Icon'])])),\n",
       "                ('scaler', StandardScaler()),\n",
       "                ('mlpregressor',\n",
       "                 MLPRegressor(activation='tanh', alpha=100000,\n",
       "                              hidden_layer_sizes=20, max_iter=2500,\n",
       "                              random_state=0, solver='lbfgs'))])"
      ]
     },
     "execution_count": 27,
     "metadata": {},
     "output_type": "execute_result"
    }
   ],
   "source": [
    "# Test\n",
    "full_pipeline"
   ]
  },
  {
   "cell_type": "code",
   "execution_count": 28,
   "metadata": {
    "scrolled": true
   },
   "outputs": [
    {
     "data": {
      "image/png": "[encoded data removed]",
      "text/plain": [
       "<Figure size 720x360 with 2 Axes>"
      ]
     },
     "metadata": {
      "needs_background": "light"
     },
     "output_type": "display_data"
    }
   ],
   "source": [
    "# Trực quan hóa kết quả\n",
    "train_errs_df = pd.DataFrame(data = np.array(train_errs).reshape(len(alphas), -1), index = alphas)\n",
    "val_errs_df = pd.DataFrame(data = np.array(val_errs).reshape(len(alphas), -1), index = alphas)\n",
    "min_err = min(min(train_errs), min(val_errs))\n",
    "max_err = max(max(train_errs), max(val_errs))\n",
    "plt.figure(figsize = (10, 5))\n",
    "plt.subplot(1, 2, 1)\n",
    "sns.heatmap(train_errs_df, vmin = min_err, vmax = max_err, square = True, annot = True, cbar = False, fmt = '.1f',\n",
    "            cmap = 'Reds')\n",
    "plt.title('Train errors'); plt.ylabel('alpha')\n",
    "plt.subplot(1, 2, 2)\n",
    "sns.heatmap(val_errs_df, vmin = min_err, vmax = max_err, square = True, annot = True, cbar = False, fmt = '.1f', cmap = 'Reds')\n",
    "plt.title('Validation errors'); plt.ylabel('alpha');"
   ]
  },
  {
   "cell_type": "markdown",
   "metadata": {},
   "source": [
    "#### Huấn luyện lại mô hình với kết quả siêu tham số tốt nhất"
   ]
  },
  {
   "cell_type": "code",
   "execution_count": 29,
   "metadata": {},
   "outputs": [
    {
     "data": {
      "text/html": [
       "<style>div.sk-top-container {color: black;background-color: white;}div.sk-toggleable {background-color: white;}label.sk-toggleable__label {cursor: pointer;display: block;width: 100%;margin-bottom: 0;padding: 0.2em 0.3em;box-sizing: border-box;text-align: center;}div.sk-toggleable__content {max-height: 0;max-width: 0;overflow: hidden;text-align: left;background-color: #f0f8ff;}div.sk-toggleable__content pre {margin: 0.2em;color: black;border-radius: 0.25em;background-color: #f0f8ff;}input.sk-toggleable__control:checked~div.sk-toggleable__content {max-height: 200px;max-width: 100%;overflow: auto;}div.sk-estimator input.sk-toggleable__control:checked~label.sk-toggleable__label {background-color: #d4ebff;}div.sk-label input.sk-toggleable__control:checked~label.sk-toggleable__label {background-color: #d4ebff;}input.sk-hidden--visually {border: 0;clip: rect(1px 1px 1px 1px);clip: rect(1px, 1px, 1px, 1px);height: 1px;margin: -1px;overflow: hidden;padding: 0;position: absolute;width: 1px;}div.sk-estimator {font-family: monospace;background-color: #f0f8ff;margin: 0.25em 0.25em;border: 1px dotted black;border-radius: 0.25em;box-sizing: border-box;}div.sk-estimator:hover {background-color: #d4ebff;}div.sk-parallel-item::after {content: \"\";width: 100%;border-bottom: 1px solid gray;flex-grow: 1;}div.sk-label:hover label.sk-toggleable__label {background-color: #d4ebff;}div.sk-serial::before {content: \"\";position: absolute;border-left: 1px solid gray;box-sizing: border-box;top: 2em;bottom: 0;left: 50%;}div.sk-serial {display: flex;flex-direction: column;align-items: center;background-color: white;}div.sk-item {z-index: 1;}div.sk-parallel {display: flex;align-items: stretch;justify-content: center;background-color: white;}div.sk-parallel-item {display: flex;flex-direction: column;position: relative;background-color: white;}div.sk-parallel-item:first-child::after {align-self: flex-end;width: 50%;}div.sk-parallel-item:last-child::after {align-self: flex-start;width: 50%;}div.sk-parallel-item:only-child::after {width: 0;}div.sk-dashed-wrapped {border: 1px dashed gray;margin: 0.2em;box-sizing: border-box;padding-bottom: 0.1em;background-color: white;position: relative;}div.sk-label label {font-family: monospace;font-weight: bold;background-color: white;display: inline-block;line-height: 1.2em;}div.sk-label-container {position: relative;z-index: 2;text-align: center;}div.sk-container {display: inline-block;position: relative;}</style><div class=\"sk-top-container\"><div class=\"sk-container\"><div class=\"sk-item sk-dashed-wrapped\"><div class=\"sk-label-container\"><div class=\"sk-label sk-toggleable\"><input class=\"sk-toggleable__control sk-hidden--visually\" id=\"917a4a16-1d62-4d54-85b2-aa08a415fa1f\" type=\"checkbox\" ><label class=\"sk-toggleable__label\" for=\"917a4a16-1d62-4d54-85b2-aa08a415fa1f\">Pipeline</label><div class=\"sk-toggleable__content\"><pre>Pipeline(steps=[('col_adderdropper', ColAdderDropper()),\n",
       "                ('transformer',\n",
       "                 ColumnTransformer(transformers=[('nume',\n",
       "                                                  Pipeline(steps=[('imputer',\n",
       "                                                                   SimpleImputer())]),\n",
       "                                                  ['Month', 'Day', 'Tempmax',\n",
       "                                                   'Tempmin', 'Temp', 'Dew',\n",
       "                                                   'Windspeed', 'Winddir',\n",
       "                                                   'Pressure', 'Cloudcover',\n",
       "                                                   'Visibility']),\n",
       "                                                 ('unorder_cate',\n",
       "                                                  Pipeline(steps=[('imputer',\n",
       "                                                                   SimpleImputer(strategy='most_frequent')),\n",
       "                                                                  ('encoder',\n",
       "                                                                   OneHotEncoder(handle_unknown='ignore'))]),\n",
       "                                                  ['Icon'])])),\n",
       "                ('scaler', StandardScaler()),\n",
       "                ('mlpregressor',\n",
       "                 MLPRegressor(activation='tanh', alpha=10,\n",
       "                              hidden_layer_sizes=20, max_iter=2500,\n",
       "                              random_state=0, solver='lbfgs'))])</pre></div></div></div><div class=\"sk-serial\"><div class=\"sk-item\"><div class=\"sk-estimator sk-toggleable\"><input class=\"sk-toggleable__control sk-hidden--visually\" id=\"e4ba0b43-b09e-40c2-9e1a-06a6b517d244\" type=\"checkbox\" ><label class=\"sk-toggleable__label\" for=\"e4ba0b43-b09e-40c2-9e1a-06a6b517d244\">ColAdderDropper</label><div class=\"sk-toggleable__content\"><pre>ColAdderDropper()</pre></div></div></div><div class=\"sk-item sk-dashed-wrapped\"><div class=\"sk-label-container\"><div class=\"sk-label sk-toggleable\"><input class=\"sk-toggleable__control sk-hidden--visually\" id=\"e6d07b60-7abd-4cdd-a4f9-c861062645f0\" type=\"checkbox\" ><label class=\"sk-toggleable__label\" for=\"e6d07b60-7abd-4cdd-a4f9-c861062645f0\">transformer: ColumnTransformer</label><div class=\"sk-toggleable__content\"><pre>ColumnTransformer(transformers=[('nume',\n",
       "                                 Pipeline(steps=[('imputer', SimpleImputer())]),\n",
       "                                 ['Month', 'Day', 'Tempmax', 'Tempmin', 'Temp',\n",
       "                                  'Dew', 'Windspeed', 'Winddir', 'Pressure',\n",
       "                                  'Cloudcover', 'Visibility']),\n",
       "                                ('unorder_cate',\n",
       "                                 Pipeline(steps=[('imputer',\n",
       "                                                  SimpleImputer(strategy='most_frequent')),\n",
       "                                                 ('encoder',\n",
       "                                                  OneHotEncoder(handle_unknown='ignore'))]),\n",
       "                                 ['Icon'])])</pre></div></div></div><div class=\"sk-parallel\"><div class=\"sk-parallel-item\"><div class=\"sk-item\"><div class=\"sk-label-container\"><div class=\"sk-label sk-toggleable\"><input class=\"sk-toggleable__control sk-hidden--visually\" id=\"edcca865-54ff-43fd-8808-1995c105c545\" type=\"checkbox\" ><label class=\"sk-toggleable__label\" for=\"edcca865-54ff-43fd-8808-1995c105c545\">nume</label><div class=\"sk-toggleable__content\"><pre>['Month', 'Day', 'Tempmax', 'Tempmin', 'Temp', 'Dew', 'Windspeed', 'Winddir', 'Pressure', 'Cloudcover', 'Visibility']</pre></div></div></div><div class=\"sk-serial\"><div class=\"sk-item\"><div class=\"sk-serial\"><div class=\"sk-item\"><div class=\"sk-estimator sk-toggleable\"><input class=\"sk-toggleable__control sk-hidden--visually\" id=\"20c93a1f-966c-4e13-aeae-1f9e093662db\" type=\"checkbox\" ><label class=\"sk-toggleable__label\" for=\"20c93a1f-966c-4e13-aeae-1f9e093662db\">SimpleImputer</label><div class=\"sk-toggleable__content\"><pre>SimpleImputer()</pre></div></div></div></div></div></div></div></div><div class=\"sk-parallel-item\"><div class=\"sk-item\"><div class=\"sk-label-container\"><div class=\"sk-label sk-toggleable\"><input class=\"sk-toggleable__control sk-hidden--visually\" id=\"6fb7f7d5-8445-449c-a717-d9bafa274f45\" type=\"checkbox\" ><label class=\"sk-toggleable__label\" for=\"6fb7f7d5-8445-449c-a717-d9bafa274f45\">unorder_cate</label><div class=\"sk-toggleable__content\"><pre>['Icon']</pre></div></div></div><div class=\"sk-serial\"><div class=\"sk-item\"><div class=\"sk-serial\"><div class=\"sk-item\"><div class=\"sk-estimator sk-toggleable\"><input class=\"sk-toggleable__control sk-hidden--visually\" id=\"a1f912bb-d149-44ec-8165-65669608ece2\" type=\"checkbox\" ><label class=\"sk-toggleable__label\" for=\"a1f912bb-d149-44ec-8165-65669608ece2\">SimpleImputer</label><div class=\"sk-toggleable__content\"><pre>SimpleImputer(strategy='most_frequent')</pre></div></div></div><div class=\"sk-item\"><div class=\"sk-estimator sk-toggleable\"><input class=\"sk-toggleable__control sk-hidden--visually\" id=\"49b0446c-96cf-45de-946c-bc140d245c06\" type=\"checkbox\" ><label class=\"sk-toggleable__label\" for=\"49b0446c-96cf-45de-946c-bc140d245c06\">OneHotEncoder</label><div class=\"sk-toggleable__content\"><pre>OneHotEncoder(handle_unknown='ignore')</pre></div></div></div></div></div></div></div></div></div></div><div class=\"sk-item\"><div class=\"sk-estimator sk-toggleable\"><input class=\"sk-toggleable__control sk-hidden--visually\" id=\"3aabe0fa-a2ec-4f5b-8f91-14b7515b134a\" type=\"checkbox\" ><label class=\"sk-toggleable__label\" for=\"3aabe0fa-a2ec-4f5b-8f91-14b7515b134a\">StandardScaler</label><div class=\"sk-toggleable__content\"><pre>StandardScaler()</pre></div></div></div><div class=\"sk-item\"><div class=\"sk-estimator sk-toggleable\"><input class=\"sk-toggleable__control sk-hidden--visually\" id=\"1affa11f-b42b-4e77-9b6b-385beab366af\" type=\"checkbox\" ><label class=\"sk-toggleable__label\" for=\"1affa11f-b42b-4e77-9b6b-385beab366af\">MLPRegressor</label><div class=\"sk-toggleable__content\"><pre>MLPRegressor(activation='tanh', alpha=10, hidden_layer_sizes=20, max_iter=2500,\n",
       "             random_state=0, solver='lbfgs')</pre></div></div></div></div></div></div></div>"
      ],
      "text/plain": [
       "Pipeline(steps=[('col_adderdropper', ColAdderDropper()),\n",
       "                ('transformer',\n",
       "                 ColumnTransformer(transformers=[('nume',\n",
       "                                                  Pipeline(steps=[('imputer',\n",
       "                                                                   SimpleImputer())]),\n",
       "                                                  ['Month', 'Day', 'Tempmax',\n",
       "                                                   'Tempmin', 'Temp', 'Dew',\n",
       "                                                   'Windspeed', 'Winddir',\n",
       "                                                   'Pressure', 'Cloudcover',\n",
       "                                                   'Visibility']),\n",
       "                                                 ('unorder_cate',\n",
       "                                                  Pipeline(steps=[('imputer',\n",
       "                                                                   SimpleImputer(strategy='most_frequent')),\n",
       "                                                                  ('encoder',\n",
       "                                                                   OneHotEncoder(handle_unknown='ignore'))]),\n",
       "                                                  ['Icon'])])),\n",
       "                ('scaler', StandardScaler()),\n",
       "                ('mlpregressor',\n",
       "                 MLPRegressor(activation='tanh', alpha=10,\n",
       "                              hidden_layer_sizes=20, max_iter=2500,\n",
       "                              random_state=0, solver='lbfgs'))])"
      ]
     },
     "execution_count": 29,
     "metadata": {},
     "output_type": "execute_result"
    }
   ],
   "source": [
    "full_pipeline.set_params(mlpregressor__alpha = best_alpha)\n",
    "full_pipeline.fit(train_X_df, train_y_sr)"
   ]
  },
  {
   "cell_type": "markdown",
   "metadata": {},
   "source": [
    "### Đánh giá mô hình tìm được"
   ]
  },
  {
   "cell_type": "markdown",
   "metadata": {},
   "source": [
    "**Độ chính xác trên tập huấn luyện**"
   ]
  },
  {
   "cell_type": "code",
   "execution_count": 30,
   "metadata": {},
   "outputs": [
    {
     "data": {
      "text/plain": [
       "0.9979036360900754"
      ]
     },
     "execution_count": 30,
     "metadata": {},
     "output_type": "execute_result"
    }
   ],
   "source": [
    "full_pipeline.score(train_X_df, train_y_sr)"
   ]
  },
  {
   "cell_type": "markdown",
   "metadata": {},
   "source": [
    "**Độ chính xác trên tập validation**"
   ]
  },
  {
   "cell_type": "code",
   "execution_count": 31,
   "metadata": {},
   "outputs": [
    {
     "data": {
      "text/plain": [
       "0.9960978904467569"
      ]
     },
     "execution_count": 31,
     "metadata": {},
     "output_type": "execute_result"
    }
   ],
   "source": [
    "full_pipeline.score(val_X_df, val_y_sr)"
   ]
  }
 ],
 "metadata": {
  "kernelspec": {
   "display_name": "Python 3",
   "language": "python",
   "name": "python3"
  },
  "language_info": {
   "codemirror_mode": {
    "name": "ipython",
    "version": 3
   },
   "file_extension": ".py",
   "mimetype": "text/x-python",
   "name": "python",
   "nbconvert_exporter": "python",
   "pygments_lexer": "ipython3",
   "version": "3.7.9"
  }
 },
 "nbformat": 4,
 "nbformat_minor": 4
}
